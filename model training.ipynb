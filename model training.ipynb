{
 "cells": [
  {
   "attachments": {},
   "cell_type": "markdown",
   "metadata": {},
   "source": [
    "## Creating a PyTorch CNN ADT model"
   ]
  },
  {
   "attachments": {},
   "cell_type": "markdown",
   "metadata": {},
   "source": [
    "## Loading and preprocessing the data"
   ]
  },
  {
   "cell_type": "code",
   "execution_count": 155,
   "metadata": {},
   "outputs": [],
   "source": [
    "import torch\n",
    "import torch.nn as nn\n",
    "import torch.optim as optim\n",
    "import torchaudio\n",
    "import torchvision\n",
    "import torch_audiomentations\n",
    "from torch.utils.data import DataLoader\n",
    "from torch.utils.data.dataset import Dataset\n",
    "from sklearn.metrics import ConfusionMatrixDisplay, multilabel_confusion_matrix\n",
    "import pandas as pd\n",
    "import numpy as np\n",
    "import matplotlib.pyplot as plt\n",
    "from tqdm import tqdm\n",
    "import librosa\n",
    "import os\n",
    "import csv\n",
    "import random"
   ]
  },
  {
   "attachments": {},
   "cell_type": "markdown",
   "metadata": {},
   "source": [
    "The `n_fft` variable affects the n_fft parameter used in generating melspectrograms and MFCC features used in training and validation. I found the value of `1024` works best, but `2048` can also work well."
   ]
  },
  {
   "cell_type": "code",
   "execution_count": 156,
   "metadata": {},
   "outputs": [
    {
     "data": {
      "text/html": [
       "<div>\n",
       "<style scoped>\n",
       "    .dataframe tbody tr th:only-of-type {\n",
       "        vertical-align: middle;\n",
       "    }\n",
       "\n",
       "    .dataframe tbody tr th {\n",
       "        vertical-align: top;\n",
       "    }\n",
       "\n",
       "    .dataframe thead th {\n",
       "        text-align: right;\n",
       "    }\n",
       "</style>\n",
       "<table border=\"1\" class=\"dataframe\">\n",
       "  <thead>\n",
       "    <tr style=\"text-align: right;\">\n",
       "      <th></th>\n",
       "      <th>onset_time</th>\n",
       "      <th>kick</th>\n",
       "      <th>snare</th>\n",
       "      <th>hihat</th>\n",
       "      <th>tom</th>\n",
       "      <th>crash</th>\n",
       "      <th>ride</th>\n",
       "      <th>other</th>\n",
       "      <th>name</th>\n",
       "      <th>changed</th>\n",
       "      <th>split</th>\n",
       "      <th>Unnamed: 0</th>\n",
       "      <th>click</th>\n",
       "      <th>uncertain</th>\n",
       "    </tr>\n",
       "  </thead>\n",
       "  <tbody>\n",
       "    <tr>\n",
       "      <th>0</th>\n",
       "      <td>0.766259</td>\n",
       "      <td>True</td>\n",
       "      <td>False</td>\n",
       "      <td>True</td>\n",
       "      <td>False</td>\n",
       "      <td>False</td>\n",
       "      <td>False</td>\n",
       "      <td>False</td>\n",
       "      <td>Atsushi Kitajoh - I'll Face Myself (-Battle-)</td>\n",
       "      <td>True</td>\n",
       "      <td>training</td>\n",
       "      <td>NaN</td>\n",
       "      <td>NaN</td>\n",
       "      <td>NaN</td>\n",
       "    </tr>\n",
       "    <tr>\n",
       "      <th>1</th>\n",
       "      <td>0.963628</td>\n",
       "      <td>False</td>\n",
       "      <td>False</td>\n",
       "      <td>True</td>\n",
       "      <td>False</td>\n",
       "      <td>False</td>\n",
       "      <td>False</td>\n",
       "      <td>False</td>\n",
       "      <td>Atsushi Kitajoh - I'll Face Myself (-Battle-)</td>\n",
       "      <td>True</td>\n",
       "      <td>training</td>\n",
       "      <td>NaN</td>\n",
       "      <td>NaN</td>\n",
       "      <td>NaN</td>\n",
       "    </tr>\n",
       "    <tr>\n",
       "      <th>2</th>\n",
       "      <td>1.149388</td>\n",
       "      <td>False</td>\n",
       "      <td>False</td>\n",
       "      <td>True</td>\n",
       "      <td>False</td>\n",
       "      <td>False</td>\n",
       "      <td>False</td>\n",
       "      <td>False</td>\n",
       "      <td>Atsushi Kitajoh - I'll Face Myself (-Battle-)</td>\n",
       "      <td>True</td>\n",
       "      <td>training</td>\n",
       "      <td>NaN</td>\n",
       "      <td>NaN</td>\n",
       "      <td>NaN</td>\n",
       "    </tr>\n",
       "    <tr>\n",
       "      <th>3</th>\n",
       "      <td>1.335147</td>\n",
       "      <td>True</td>\n",
       "      <td>False</td>\n",
       "      <td>True</td>\n",
       "      <td>False</td>\n",
       "      <td>False</td>\n",
       "      <td>False</td>\n",
       "      <td>False</td>\n",
       "      <td>Atsushi Kitajoh - I'll Face Myself (-Battle-)</td>\n",
       "      <td>True</td>\n",
       "      <td>training</td>\n",
       "      <td>NaN</td>\n",
       "      <td>NaN</td>\n",
       "      <td>NaN</td>\n",
       "    </tr>\n",
       "    <tr>\n",
       "      <th>4</th>\n",
       "      <td>1.532517</td>\n",
       "      <td>False</td>\n",
       "      <td>True</td>\n",
       "      <td>True</td>\n",
       "      <td>False</td>\n",
       "      <td>False</td>\n",
       "      <td>False</td>\n",
       "      <td>False</td>\n",
       "      <td>Atsushi Kitajoh - I'll Face Myself (-Battle-)</td>\n",
       "      <td>True</td>\n",
       "      <td>training</td>\n",
       "      <td>NaN</td>\n",
       "      <td>NaN</td>\n",
       "      <td>NaN</td>\n",
       "    </tr>\n",
       "    <tr>\n",
       "      <th>...</th>\n",
       "      <td>...</td>\n",
       "      <td>...</td>\n",
       "      <td>...</td>\n",
       "      <td>...</td>\n",
       "      <td>...</td>\n",
       "      <td>...</td>\n",
       "      <td>...</td>\n",
       "      <td>...</td>\n",
       "      <td>...</td>\n",
       "      <td>...</td>\n",
       "      <td>...</td>\n",
       "      <td>...</td>\n",
       "      <td>...</td>\n",
       "      <td>...</td>\n",
       "    </tr>\n",
       "    <tr>\n",
       "      <th>5908</th>\n",
       "      <td>209.142132</td>\n",
       "      <td>False</td>\n",
       "      <td>False</td>\n",
       "      <td>False</td>\n",
       "      <td>True</td>\n",
       "      <td>False</td>\n",
       "      <td>False</td>\n",
       "      <td>False</td>\n",
       "      <td>Toehider - To Hide Her</td>\n",
       "      <td>True</td>\n",
       "      <td>training</td>\n",
       "      <td>858.0</td>\n",
       "      <td>NaN</td>\n",
       "      <td>NaN</td>\n",
       "    </tr>\n",
       "    <tr>\n",
       "      <th>5909</th>\n",
       "      <td>209.235011</td>\n",
       "      <td>False</td>\n",
       "      <td>False</td>\n",
       "      <td>False</td>\n",
       "      <td>True</td>\n",
       "      <td>False</td>\n",
       "      <td>False</td>\n",
       "      <td>False</td>\n",
       "      <td>Toehider - To Hide Her</td>\n",
       "      <td>True</td>\n",
       "      <td>training</td>\n",
       "      <td>859.0</td>\n",
       "      <td>NaN</td>\n",
       "      <td>NaN</td>\n",
       "    </tr>\n",
       "    <tr>\n",
       "      <th>5910</th>\n",
       "      <td>209.304671</td>\n",
       "      <td>False</td>\n",
       "      <td>False</td>\n",
       "      <td>False</td>\n",
       "      <td>True</td>\n",
       "      <td>False</td>\n",
       "      <td>False</td>\n",
       "      <td>False</td>\n",
       "      <td>Toehider - To Hide Her</td>\n",
       "      <td>True</td>\n",
       "      <td>training</td>\n",
       "      <td>860.0</td>\n",
       "      <td>NaN</td>\n",
       "      <td>NaN</td>\n",
       "    </tr>\n",
       "    <tr>\n",
       "      <th>5911</th>\n",
       "      <td>209.397551</td>\n",
       "      <td>True</td>\n",
       "      <td>False</td>\n",
       "      <td>False</td>\n",
       "      <td>False</td>\n",
       "      <td>True</td>\n",
       "      <td>False</td>\n",
       "      <td>False</td>\n",
       "      <td>Toehider - To Hide Her</td>\n",
       "      <td>True</td>\n",
       "      <td>training</td>\n",
       "      <td>861.0</td>\n",
       "      <td>NaN</td>\n",
       "      <td>NaN</td>\n",
       "    </tr>\n",
       "    <tr>\n",
       "      <th>5912</th>\n",
       "      <td>209.885170</td>\n",
       "      <td>True</td>\n",
       "      <td>True</td>\n",
       "      <td>False</td>\n",
       "      <td>False</td>\n",
       "      <td>True</td>\n",
       "      <td>False</td>\n",
       "      <td>False</td>\n",
       "      <td>Toehider - To Hide Her</td>\n",
       "      <td>True</td>\n",
       "      <td>training</td>\n",
       "      <td>862.0</td>\n",
       "      <td>NaN</td>\n",
       "      <td>NaN</td>\n",
       "    </tr>\n",
       "  </tbody>\n",
       "</table>\n",
       "<p>5913 rows × 14 columns</p>\n",
       "</div>"
      ],
      "text/plain": [
       "      onset_time   kick  snare  hihat    tom  crash   ride  other  \\\n",
       "0       0.766259   True  False   True  False  False  False  False   \n",
       "1       0.963628  False  False   True  False  False  False  False   \n",
       "2       1.149388  False  False   True  False  False  False  False   \n",
       "3       1.335147   True  False   True  False  False  False  False   \n",
       "4       1.532517  False   True   True  False  False  False  False   \n",
       "...          ...    ...    ...    ...    ...    ...    ...    ...   \n",
       "5908  209.142132  False  False  False   True  False  False  False   \n",
       "5909  209.235011  False  False  False   True  False  False  False   \n",
       "5910  209.304671  False  False  False   True  False  False  False   \n",
       "5911  209.397551   True  False  False  False   True  False  False   \n",
       "5912  209.885170   True   True  False  False   True  False  False   \n",
       "\n",
       "                                               name  changed     split  \\\n",
       "0     Atsushi Kitajoh - I'll Face Myself (-Battle-)     True  training   \n",
       "1     Atsushi Kitajoh - I'll Face Myself (-Battle-)     True  training   \n",
       "2     Atsushi Kitajoh - I'll Face Myself (-Battle-)     True  training   \n",
       "3     Atsushi Kitajoh - I'll Face Myself (-Battle-)     True  training   \n",
       "4     Atsushi Kitajoh - I'll Face Myself (-Battle-)     True  training   \n",
       "...                                             ...      ...       ...   \n",
       "5908                         Toehider - To Hide Her     True  training   \n",
       "5909                         Toehider - To Hide Her     True  training   \n",
       "5910                         Toehider - To Hide Her     True  training   \n",
       "5911                         Toehider - To Hide Her     True  training   \n",
       "5912                         Toehider - To Hide Her     True  training   \n",
       "\n",
       "      Unnamed: 0 click uncertain  \n",
       "0            NaN   NaN       NaN  \n",
       "1            NaN   NaN       NaN  \n",
       "2            NaN   NaN       NaN  \n",
       "3            NaN   NaN       NaN  \n",
       "4            NaN   NaN       NaN  \n",
       "...          ...   ...       ...  \n",
       "5908       858.0   NaN       NaN  \n",
       "5909       859.0   NaN       NaN  \n",
       "5910       860.0   NaN       NaN  \n",
       "5911       861.0   NaN       NaN  \n",
       "5912       862.0   NaN       NaN  \n",
       "\n",
       "[5913 rows x 14 columns]"
      ]
     },
     "execution_count": 156,
     "metadata": {},
     "output_type": "execute_result"
    }
   ],
   "source": [
    "dataset_name = \"HeartsOnFireDS-v.1.0.4\"\n",
    "n_fft = 1024\n",
    "\n",
    "df = pd.read_csv(os.path.join(dataset_name, \"master.csv\"))\n",
    "train_df = pd.DataFrame()\n",
    "valid_df = pd.DataFrame()\n",
    "\n",
    "for idx, row in df.iterrows():\n",
    "    onsets_path = row['onsets']\n",
    "    onsets_df = pd.read_csv(onsets_path)\n",
    "    train_onsets = onsets_df[onsets_df['split'] == 'training']\n",
    "    valid_onsets = onsets_df[onsets_df['split'] == 'validation']\n",
    "    \n",
    "    # Append to respective dataframes\n",
    "    train_df = pd.concat([train_df, train_onsets], ignore_index=True)\n",
    "    valid_df = pd.concat([valid_df, valid_onsets], ignore_index=True)\n",
    "\n",
    "train_df"
   ]
  },
  {
   "attachments": {},
   "cell_type": "markdown",
   "metadata": {},
   "source": [
    "### Setting custom weights based on the amount of classes in dataset"
   ]
  },
  {
   "attachments": {},
   "cell_type": "markdown",
   "metadata": {},
   "source": [
    "Also possible to alter the weight of the cymbal classes to force the model to be more accurate at classifying them."
   ]
  },
  {
   "cell_type": "code",
   "execution_count": 157,
   "metadata": {},
   "outputs": [
    {
     "data": {
      "text/plain": [
       "tensor([0.4530, 0.7197, 0.6041, 3.6896, 2.6700, 9.8029])"
      ]
     },
     "execution_count": 157,
     "metadata": {},
     "output_type": "execute_result"
    }
   ],
   "source": [
    "counts = train_df.select_dtypes(include=bool).sum(axis=0)\n",
    "counts = counts.drop(['other', 'changed'])\n",
    "weights = counts.sum() / (counts * len(counts))\n",
    "weights_tensor = torch.Tensor(list(weights.values))\n",
    "#weights_tensor[2] = 1.0 # giving extra weight to the hihat class\n",
    "weights_tensor"
   ]
  },
  {
   "attachments": {},
   "cell_type": "markdown",
   "metadata": {},
   "source": [
    "### Defining the dataset class with a custom transform pipeline"
   ]
  },
  {
   "attachments": {},
   "cell_type": "markdown",
   "metadata": {},
   "source": [
    "Note the `torch_audiomentations` transforms are implemented differently than the rest of the transforms, requiring the input tensors to be 4D: `[batch, num_channels, freq, time]`. Since we only have a 2D tensor of `[freq, time]`, we will add the extra dimensions and then remove them after we added the necessary data augmentation transforms. \n",
    "\n",
    "Bit of a cheaty solution, but I found this method performs the fastest if performed within the transform pipeline."
   ]
  },
  {
   "cell_type": "code",
   "execution_count": 214,
   "metadata": {},
   "outputs": [],
   "source": [
    "train_transform_mfccs = torchvision.transforms.Compose([\n",
    "    torchvision.transforms.Lambda(lambda x: x.to(\"cuda\")),\n",
    "    torchvision.transforms.Lambda(lambda x: x.unsqueeze(0).unsqueeze(0)),\n",
    "    torch_audiomentations.AddColoredNoise(\n",
    "                min_snr_in_db=3,\n",
    "                max_snr_in_db=12,\n",
    "                sample_rate=44100,\n",
    "                p=0.5,\n",
    "                output_type='tensor'\n",
    "            ).to(\"cuda\"),\n",
    "    # torch_audiomentations.Shift(\n",
    "    #         min_shift=-0.15,\n",
    "    #         max_shift=0.15,\n",
    "    #         rollover=False,\n",
    "    #         p=0.5,\n",
    "    #         sample_rate=44100,\n",
    "    #         output_type='tensor'\n",
    "    #     ).to(\"cuda\"),\n",
    "    torch_audiomentations.PitchShift(\n",
    "            min_transpose_semitones=-1,\n",
    "            max_transpose_semitones=1,\n",
    "            p=0.25,\n",
    "            sample_rate=44100,\n",
    "            output_type='tensor'\n",
    "        ).to(\"cuda\"),\n",
    "    torch_audiomentations.Gain(min_gain_in_db=-6, p=0.5, output_type='tensor').to(\"cuda\"),\n",
    "    torchvision.transforms.Lambda(lambda x: x.squeeze(0).squeeze(0)),\n",
    "    torchvision.transforms.Lambda(lambda x: torch.stack([\n",
    "            torchaudio.transforms.MelSpectrogram(\n",
    "                n_fft=n_fft,\n",
    "                hop_length=64,\n",
    "                n_mels=128\n",
    "            ).to(\"cuda\")(x),\n",
    "            torchaudio.transforms.MFCC(\n",
    "                n_mfcc=128,\n",
    "                melkwargs={'n_fft': n_fft, 'hop_length': 64, 'n_mels': 128}\n",
    "            ).to(\"cuda\")(x)\n",
    "            ], dim=0).to(\"cuda\")),\n",
    "    torchvision.transforms.Lambda(lambda x: torch.stack([\n",
    "            torchaudio.transforms.AmplitudeToDB().to(\"cuda\")(x[0]),\n",
    "            x[0],\n",
    "            x[1]\n",
    "        ], dim=0).to(\"cuda\")),\n",
    "    torchvision.transforms.Lambda(lambda x: x.to(\"cpu\")),\n",
    "])\n",
    "\n",
    "valid_transform_mfccs = torchvision.transforms.Compose([\n",
    "    torchvision.transforms.Lambda(lambda x: x.to(\"cuda\")),\n",
    "    torchvision.transforms.Lambda(lambda x: torch.stack([\n",
    "            torchaudio.transforms.MelSpectrogram(\n",
    "                n_fft=n_fft,\n",
    "                hop_length=64,\n",
    "                n_mels=128\n",
    "            ).to(\"cuda\")(x),\n",
    "            torchaudio.transforms.MFCC(\n",
    "                n_mfcc=128,\n",
    "                melkwargs={'n_fft': n_fft, 'hop_length': 64, 'n_mels': 128}\n",
    "            ).to(\"cuda\")(x)\n",
    "            ], dim=0).to(\"cuda\")),\n",
    "    torchvision.transforms.Lambda(lambda x: torch.stack([\n",
    "            torchaudio.transforms.AmplitudeToDB().to(\"cuda\")(x[0]),\n",
    "            x[0],\n",
    "            x[1]\n",
    "        ], dim=0).to(\"cuda\")),\n",
    "    torchvision.transforms.Lambda(lambda x: x.to(\"cpu\"))\n",
    "])\n",
    "\n",
    "fast_transform = torchvision.transforms.Compose([\n",
    "    torchvision.transforms.Lambda(lambda x: x.to(\"cuda\")),\n",
    "    torchvision.transforms.Lambda(lambda x: torch.stack([\n",
    "            torchaudio.transforms.MelSpectrogram(\n",
    "                n_fft=n_fft,\n",
    "                hop_length=64,\n",
    "                n_mels=128\n",
    "            ).to(\"cuda\")(x)\n",
    "        ], dim=0).to(\"cuda\")),\n",
    "    torchvision.transforms.Lambda(lambda x: torch.stack([\n",
    "            torchaudio.transforms.AmplitudeToDB().to(\"cuda\")(x[0]),\n",
    "            x[0],\n",
    "        ], dim=0).to(\"cuda\")),\n",
    "    torchvision.transforms.Lambda(lambda x: x.to(\"cpu\"))\n",
    "])"
   ]
  },
  {
   "cell_type": "code",
   "execution_count": 221,
   "metadata": {},
   "outputs": [],
   "source": [
    "drum_labels = ['kick', 'snare', 'hihat', 'tom', 'crash', 'ride']\n",
    "\n",
    "class DrumDataset(Dataset):\n",
    "    def __init__(self, df, master_csv_path, transform, window_size=8192):\n",
    "        self.df = df\n",
    "        self.master_df = pd.read_csv(master_csv_path)\n",
    "        self.window_size = window_size\n",
    "        self.transform = transform\n",
    "        self.audio_cache = {}\n",
    "\n",
    "        for i, row in self.master_df.iterrows():\n",
    "            audio_path = row['drums']\n",
    "            audio, sr = torchaudio.load(audio_path, format=\"mp3\")\n",
    "            if audio.shape[0] == 2:\n",
    "                audio = torch.mean(audio, dim=0, keepdim=True)\n",
    "            self.audio_cache[row['name']] = (audio, sr)\n",
    "        \n",
    "    def __len__(self):\n",
    "        return len(self.df)\n",
    "    \n",
    "    def __getitem__(self, idx):\n",
    "        # Load the onset time, label, and track name for the given index\n",
    "        row = self.df.iloc[idx]\n",
    "        onset_time = row['onset_time']\n",
    "        labels = row[drum_labels].astype(int).values.flatten()\n",
    "        labels = torch.tensor(labels).float()\n",
    "        track_name = row['name']\n",
    "        #print(track_name, onset_time)\n",
    "\n",
    "        audio = self.audio_cache[track_name][0]\n",
    "        sr = self.audio_cache[track_name][1]\n",
    "\n",
    "        onset_window = audio[:, int(onset_time*sr)-self.window_size//2:int(onset_time*sr)+self.window_size//2]\n",
    "        spec = self.transform(onset_window[0])\n",
    "        return spec, labels\n",
    "\n",
    "valid_dataset = DrumDataset(valid_df, os.path.join(dataset_name, \"master.csv\"), valid_transform_mfccs)\n",
    "train_dataset = DrumDataset(train_df, os.path.join(dataset_name, \"master.csv\"), valid_transform_mfccs)"
   ]
  },
  {
   "attachments": {},
   "cell_type": "markdown",
   "metadata": {},
   "source": [
    "### Getting a random onset and displaying the melspectrogram"
   ]
  },
  {
   "cell_type": "code",
   "execution_count": 222,
   "metadata": {},
   "outputs": [
    {
     "name": "stdout",
     "output_type": "stream",
     "text": [
      "1813 tensor([1., 0., 1., 0., 0., 0.])\n"
     ]
    },
    {
     "data": {
      "image/png": "[encoded data removed]",
      "text/plain": [
       "<Figure size 1000x400 with 2 Axes>"
      ]
     },
     "metadata": {},
     "output_type": "display_data"
    }
   ],
   "source": [
    "rand = random.randint(1, len(train_df))\n",
    "a, x = train_dataset.__getitem__(rand)\n",
    "specgram = a[1].detach().squeeze(0).numpy()\n",
    "print(rand, x)\n",
    "\n",
    "plt.figure(figsize=(10, 4))\n",
    "plt.imshow(specgram, cmap='Spectral_r', origin='lower')\n",
    "plt.xlabel('Time')\n",
    "plt.ylabel('Frequency')\n",
    "plt.colorbar()\n",
    "plt.show()"
   ]
  },
  {
   "attachments": {},
   "cell_type": "markdown",
   "metadata": {},
   "source": [
    "## Defining the model architecture"
   ]
  },
  {
   "attachments": {},
   "cell_type": "markdown",
   "metadata": {},
   "source": [
    "### Model A"
   ]
  },
  {
   "attachments": {},
   "cell_type": "markdown",
   "metadata": {},
   "source": [
    "**Initial filter size:** `16`"
   ]
  },
  {
   "cell_type": "code",
   "execution_count": 223,
   "metadata": {},
   "outputs": [],
   "source": [
    "# Define the neural network architecture\n",
    "class DrumCNN(nn.Module):\n",
    "    def __init__(self):\n",
    "        super(DrumCNN, self).__init__()\n",
    "        \n",
    "        # Convolutional Layers\n",
    "        self.conv1 = nn.Conv2d(3, 16, kernel_size=3, stride=1, padding=1) # input channels\n",
    "        self.bn1 = nn.BatchNorm2d(16)\n",
    "        self.relu1 = nn.ReLU()\n",
    "        self.pool1 = nn.MaxPool2d(kernel_size=2, stride=2)\n",
    "        \n",
    "        self.conv2 = nn.Conv2d(16, 32, kernel_size=3, stride=1, padding=1)\n",
    "        self.bn2 = nn.BatchNorm2d(32)\n",
    "        self.relu2 = nn.ReLU()\n",
    "        self.pool2 = nn.MaxPool2d(kernel_size=2, stride=2)\n",
    "        \n",
    "        self.conv3 = nn.Conv2d(32, 64, kernel_size=3, stride=1, padding=1)\n",
    "        self.bn3 = nn.BatchNorm2d(64)\n",
    "        self.relu3 = nn.ReLU()\n",
    "        self.pool3 = nn.MaxPool2d(kernel_size=2, stride=2)\n",
    "        \n",
    "        self.conv4 = nn.Conv2d(64, 128, kernel_size=3, stride=1, padding=1)\n",
    "        self.bn4 = nn.BatchNorm2d(128)\n",
    "        self.relu4 = nn.ReLU()\n",
    "        self.pool4 = nn.MaxPool2d(kernel_size=2, stride=2)\n",
    "\n",
    "        # Fully Connected Layers\n",
    "        self.fc1 = nn.Linear(128 * 8 * 8, 512)\n",
    "        self.bn5 = nn.BatchNorm1d(512)\n",
    "        self.relu5 = nn.ReLU()\n",
    "        self.dropout1 = nn.Dropout(p=0.5)\n",
    "        \n",
    "        self.fc2 = nn.Linear(512, 256)\n",
    "        self.bn6 = nn.BatchNorm1d(256)\n",
    "        self.relu6 = nn.ReLU()\n",
    "        self.dropout2 = nn.Dropout(p=0.5)\n",
    "        \n",
    "        self.fc3 = nn.Linear(256, len(drum_labels))\n",
    "    \n",
    "    def forward(self, x):\n",
    "        # Convolutional Layers\n",
    "        x = self.conv1(x)\n",
    "        x = self.bn1(x)\n",
    "        x = self.relu1(x)\n",
    "        x = self.pool1(x)\n",
    "        \n",
    "        x = self.conv2(x)\n",
    "        x = self.bn2(x)\n",
    "        x = self.relu2(x)\n",
    "        x = self.pool2(x)\n",
    "        \n",
    "        x = self.conv3(x)\n",
    "        x = self.bn3(x)\n",
    "        x = self.relu3(x)\n",
    "        x = self.pool3(x)\n",
    "        \n",
    "        x = self.conv4(x)\n",
    "        x = self.bn4(x)\n",
    "        x = self.relu4(x)\n",
    "        x = self.pool4(x)\n",
    "        \n",
    "        # Flatten\n",
    "        x = x.view(x.size(0), -1)\n",
    "        \n",
    "        # Fully Connected Layers\n",
    "        x = self.fc1(x)\n",
    "        x = self.bn5(x)\n",
    "        x = self.relu5(x)\n",
    "        x = self.dropout1(x)\n",
    "        \n",
    "        x = self.fc2(x)\n",
    "        x = self.bn6(x)\n",
    "        x = self.relu6(x)\n",
    "        x = self.dropout2(x)\n",
    "        \n",
    "        x = self.fc3(x)\n",
    "        \n",
    "        return x\n",
    "\n",
    "device = torch.device('cuda')"
   ]
  },
  {
   "attachments": {},
   "cell_type": "markdown",
   "metadata": {},
   "source": [
    "### Model B"
   ]
  },
  {
   "attachments": {},
   "cell_type": "markdown",
   "metadata": {},
   "source": [
    "**Initial filter size:** `32`\n",
    "\n",
    "Thought about increasing the initial filter size to help with identifying hi-hats, performance is worse by 2-4% compared to Model A. Only run the following cell if you want to override Model A."
   ]
  },
  {
   "cell_type": "code",
   "execution_count": 5,
   "metadata": {},
   "outputs": [],
   "source": [
    "class DrumCNN(nn.Module):\n",
    "    def __init__(self):\n",
    "        super(DrumCNN, self).__init__()\n",
    "        \n",
    "        # Convolutional Layers\n",
    "        self.conv1 = nn.Conv2d(3, 32, kernel_size=3, stride=1, padding=1)\n",
    "        self.bn1 = nn.BatchNorm2d(32)\n",
    "        self.relu1 = nn.ReLU()\n",
    "        self.pool1 = nn.MaxPool2d(kernel_size=2, stride=2)\n",
    "        \n",
    "        self.conv2 = nn.Conv2d(32, 64, kernel_size=3, stride=1, padding=1)\n",
    "        self.bn2 = nn.BatchNorm2d(64)\n",
    "        self.relu2 = nn.ReLU()\n",
    "        self.pool2 = nn.MaxPool2d(kernel_size=2, stride=2)\n",
    "        \n",
    "        self.conv3 = nn.Conv2d(64, 128, kernel_size=3, stride=1, padding=1)\n",
    "        self.bn3 = nn.BatchNorm2d(128)\n",
    "        self.relu3 = nn.ReLU()\n",
    "        self.pool3 = nn.MaxPool2d(kernel_size=2, stride=2)\n",
    "        \n",
    "        self.conv4 = nn.Conv2d(128, 256, kernel_size=3, stride=1, padding=1)\n",
    "        self.bn4 = nn.BatchNorm2d(256)\n",
    "        self.relu4 = nn.ReLU()\n",
    "        self.pool4 = nn.MaxPool2d(kernel_size=2, stride=2)\n",
    "\n",
    "        # Fully Connected Layers\n",
    "        self.fc1 = nn.Linear(256 * 8 * 8, 512)\n",
    "        self.bn5 = nn.BatchNorm1d(512)\n",
    "        self.relu5 = nn.ReLU()\n",
    "        self.dropout1 = nn.Dropout(p=0.5)\n",
    "        \n",
    "        self.fc2 = nn.Linear(512, 256)\n",
    "        self.bn6 = nn.BatchNorm1d(256)\n",
    "        self.relu6 = nn.ReLU()\n",
    "        self.dropout2 = nn.Dropout(p=0.4)\n",
    "        \n",
    "        self.fc3 = nn.Linear(256, len(drum_labels))\n",
    "    \n",
    "    def forward(self, x):\n",
    "        # Convolutional Layers\n",
    "        x = self.conv1(x)\n",
    "        x = self.bn1(x)\n",
    "        x = self.relu1(x)\n",
    "        x = self.pool1(x)\n",
    "        \n",
    "        x = self.conv2(x)\n",
    "        x = self.bn2(x)\n",
    "        x = self.relu2(x)\n",
    "        x = self.pool2(x)\n",
    "        \n",
    "        x = self.conv3(x)\n",
    "        x = self.bn3(x)\n",
    "        x = self.relu3(x)\n",
    "        x = self.pool3(x)\n",
    "        \n",
    "        x = self.conv4(x)\n",
    "        x = self.bn4(x)\n",
    "        x = self.relu4(x)\n",
    "        x = self.pool4(x)\n",
    "        \n",
    "        # Flatten\n",
    "        x = x.view(x.size(0), -1)\n",
    "        \n",
    "        # Fully Connected Layers\n",
    "        x = self.fc1(x)\n",
    "        x = self.bn5(x)\n",
    "        x = self.relu5(x)\n",
    "        x = self.dropout1(x)\n",
    "        \n",
    "        x = self.fc2(x)\n",
    "        x = self.bn6(x)\n",
    "        x = self.relu6(x)\n",
    "        x = self.dropout2(x)\n",
    "        \n",
    "        x = self.fc3(x)\n",
    "        \n",
    "        return x"
   ]
  },
  {
   "attachments": {},
   "cell_type": "markdown",
   "metadata": {},
   "source": [
    "## Training"
   ]
  },
  {
   "attachments": {},
   "cell_type": "markdown",
   "metadata": {},
   "source": [
    "### Hyperparameters"
   ]
  },
  {
   "cell_type": "code",
   "execution_count": 224,
   "metadata": {},
   "outputs": [],
   "source": [
    "n_epochs = 50\n",
    "learning_rate = 0.001\n",
    "batch_size = 32"
   ]
  },
  {
   "attachments": {},
   "cell_type": "markdown",
   "metadata": {},
   "source": [
    "### Loss function, optimizer, scheduler"
   ]
  },
  {
   "cell_type": "code",
   "execution_count": 225,
   "metadata": {},
   "outputs": [],
   "source": [
    "def accuracy(outputs, labels, threshold=0.0):\n",
    "    with torch.no_grad():\n",
    "        preds = (outputs > threshold).float()\n",
    "        correct = (preds == labels).sum(dim=1).eq(labels.shape[1]).sum().item()\n",
    "        total = labels.shape[0]\n",
    "        return 100 * correct / total\n",
    "\n",
    "# Create data loaders for training and validation sets\n",
    "train_loader = DataLoader(train_dataset, batch_size=batch_size, shuffle=True)\n",
    "valid_loader = DataLoader(valid_dataset, batch_size=batch_size, shuffle=False)\n",
    "\n",
    "# Initialize the neural network and optimizer\n",
    "model = DrumCNN().to(device)\n",
    "optimizer = optim.Adam(model.parameters(), lr=learning_rate)\n",
    "scheduler = optim.lr_scheduler.ReduceLROnPlateau(optimizer, mode='min', patience=2, factor=0.1)\n",
    "start_epoch = 0\n",
    "valid_loss = 0.0\n",
    "\n",
    "# Define the loss function\n",
    "criterion = nn.BCEWithLogitsLoss(weight=weights_tensor.to(device))"
   ]
  },
  {
   "attachments": {},
   "cell_type": "markdown",
   "metadata": {},
   "source": [
    "### Loading previous checkpoint to continue training"
   ]
  },
  {
   "cell_type": "code",
   "execution_count": 152,
   "metadata": {},
   "outputs": [],
   "source": [
    "saved_model_dict = torch.load('models/HeartsOnFire-v.1.0.4_nfft1024_91.58.pth', map_location=device)\n",
    "model.load_state_dict(saved_model_dict['model'])\n",
    "scheduler.load_state_dict(saved_model_dict['scheduler'])\n",
    "optimizer.load_state_dict(saved_model_dict['optimizer'])\n",
    "start_epoch = saved_model_dict['epoch']\n",
    "n_epochs += start_epoch+1"
   ]
  },
  {
   "attachments": {},
   "cell_type": "markdown",
   "metadata": {},
   "source": [
    "### Main loop"
   ]
  },
  {
   "cell_type": "code",
   "execution_count": 226,
   "metadata": {},
   "outputs": [
    {
     "name": "stderr",
     "output_type": "stream",
     "text": [
      "Epoch 1/50 Training: 100%|██████████| 185/185 [01:01<00:00,  2.99batch/s]\n",
      "Epoch 1/50 Validation: 100%|██████████| 47/47 [00:15<00:00,  3.02batch/s]\n"
     ]
    },
    {
     "name": "stdout",
     "output_type": "stream",
     "text": [
      "Epoch 1/50, Train Loss: 0.5508, Train Acc: 47.29%, Valid Loss: 0.2768, Valid Acc: 72.32%\n"
     ]
    },
    {
     "name": "stderr",
     "output_type": "stream",
     "text": [
      "Epoch 2/50 Training: 100%|██████████| 185/185 [01:00<00:00,  3.04batch/s]\n",
      "Epoch 2/50 Validation: 100%|██████████| 47/47 [00:14<00:00,  3.15batch/s]\n"
     ]
    },
    {
     "name": "stdout",
     "output_type": "stream",
     "text": [
      "Epoch 2/50, Train Loss: 0.2576, Train Acc: 70.12%, Valid Loss: 0.2117, Valid Acc: 74.21%\n"
     ]
    },
    {
     "name": "stderr",
     "output_type": "stream",
     "text": [
      "Epoch 3/50 Training: 100%|██████████| 185/185 [00:59<00:00,  3.09batch/s]\n",
      "Epoch 3/50 Validation: 100%|██████████| 47/47 [00:15<00:00,  3.05batch/s]\n"
     ]
    },
    {
     "name": "stdout",
     "output_type": "stream",
     "text": [
      "Epoch 3/50, Train Loss: 0.2049, Train Acc: 74.26%, Valid Loss: 0.1667, Valid Acc: 80.88%\n"
     ]
    },
    {
     "name": "stderr",
     "output_type": "stream",
     "text": [
      "Epoch 4/50 Training: 100%|██████████| 185/185 [01:00<00:00,  3.06batch/s]\n",
      "Epoch 4/50 Validation: 100%|██████████| 47/47 [00:14<00:00,  3.14batch/s]\n"
     ]
    },
    {
     "name": "stdout",
     "output_type": "stream",
     "text": [
      "Epoch 4/50, Train Loss: 0.1734, Train Acc: 75.75%, Valid Loss: 0.1668, Valid Acc: 80.74%\n"
     ]
    },
    {
     "name": "stderr",
     "output_type": "stream",
     "text": [
      "Epoch 5/50 Training: 100%|██████████| 185/185 [01:01<00:00,  3.01batch/s]\n",
      "Epoch 5/50 Validation: 100%|██████████| 47/47 [00:14<00:00,  3.14batch/s]\n"
     ]
    },
    {
     "name": "stdout",
     "output_type": "stream",
     "text": [
      "Epoch 5/50, Train Loss: 0.1504, Train Acc: 78.72%, Valid Loss: 0.1402, Valid Acc: 85.05%\n"
     ]
    },
    {
     "name": "stderr",
     "output_type": "stream",
     "text": [
      "Epoch 6/50 Training: 100%|██████████| 185/185 [01:00<00:00,  3.03batch/s]\n",
      "Epoch 6/50 Validation: 100%|██████████| 47/47 [00:15<00:00,  3.08batch/s]\n"
     ]
    },
    {
     "name": "stdout",
     "output_type": "stream",
     "text": [
      "Epoch 6/50, Train Loss: 0.1381, Train Acc: 80.11%, Valid Loss: 0.1307, Valid Acc: 83.91%\n"
     ]
    },
    {
     "name": "stderr",
     "output_type": "stream",
     "text": [
      "Epoch 7/50 Training: 100%|██████████| 185/185 [01:00<00:00,  3.06batch/s]\n",
      "Epoch 7/50 Validation: 100%|██████████| 47/47 [00:15<00:00,  2.99batch/s]\n"
     ]
    },
    {
     "name": "stdout",
     "output_type": "stream",
     "text": [
      "Epoch 7/50, Train Loss: 0.1186, Train Acc: 81.87%, Valid Loss: 0.1247, Valid Acc: 85.45%\n"
     ]
    },
    {
     "name": "stderr",
     "output_type": "stream",
     "text": [
      "Epoch 8/50 Training: 100%|██████████| 185/185 [01:01<00:00,  3.00batch/s]\n",
      "Epoch 8/50 Validation: 100%|██████████| 47/47 [00:15<00:00,  3.05batch/s]\n"
     ]
    },
    {
     "name": "stdout",
     "output_type": "stream",
     "text": [
      "Epoch 8/50, Train Loss: 0.1146, Train Acc: 82.34%, Valid Loss: 0.1381, Valid Acc: 84.78%\n"
     ]
    },
    {
     "name": "stderr",
     "output_type": "stream",
     "text": [
      "Epoch 9/50 Training: 100%|██████████| 185/185 [00:59<00:00,  3.09batch/s]\n",
      "Epoch 9/50 Validation: 100%|██████████| 47/47 [00:15<00:00,  3.06batch/s]\n"
     ]
    },
    {
     "name": "stdout",
     "output_type": "stream",
     "text": [
      "Epoch 9/50, Train Loss: 0.0972, Train Acc: 84.10%, Valid Loss: 0.1274, Valid Acc: 84.98%\n"
     ]
    },
    {
     "name": "stderr",
     "output_type": "stream",
     "text": [
      "Epoch 10/50 Training: 100%|██████████| 185/185 [01:02<00:00,  2.97batch/s]\n",
      "Epoch 10/50 Validation: 100%|██████████| 47/47 [00:15<00:00,  3.07batch/s]\n"
     ]
    },
    {
     "name": "stdout",
     "output_type": "stream",
     "text": [
      "Epoch 10/50, Train Loss: 0.0889, Train Acc: 84.39%, Valid Loss: 0.1372, Valid Acc: 85.25%\n"
     ]
    },
    {
     "name": "stderr",
     "output_type": "stream",
     "text": [
      "Epoch 11/50 Training: 100%|██████████| 185/185 [01:01<00:00,  3.02batch/s]\n",
      "Epoch 11/50 Validation: 100%|██████████| 47/47 [00:14<00:00,  3.22batch/s]\n"
     ]
    },
    {
     "name": "stdout",
     "output_type": "stream",
     "text": [
      "Epoch 11/50, Train Loss: 0.0721, Train Acc: 86.76%, Valid Loss: 0.1173, Valid Acc: 87.88%\n"
     ]
    },
    {
     "name": "stderr",
     "output_type": "stream",
     "text": [
      "Epoch 12/50 Training: 100%|██████████| 185/185 [01:02<00:00,  2.97batch/s]\n",
      "Epoch 12/50 Validation: 100%|██████████| 47/47 [00:16<00:00,  2.86batch/s]\n"
     ]
    },
    {
     "name": "stdout",
     "output_type": "stream",
     "text": [
      "Epoch 12/50, Train Loss: 0.0616, Train Acc: 88.08%, Valid Loss: 0.1140, Valid Acc: 87.95%\n"
     ]
    },
    {
     "name": "stderr",
     "output_type": "stream",
     "text": [
      "Epoch 13/50 Training: 100%|██████████| 185/185 [01:03<00:00,  2.91batch/s]\n",
      "Epoch 13/50 Validation: 100%|██████████| 47/47 [00:15<00:00,  3.12batch/s]\n"
     ]
    },
    {
     "name": "stdout",
     "output_type": "stream",
     "text": [
      "Epoch 13/50, Train Loss: 0.0559, Train Acc: 88.47%, Valid Loss: 0.1124, Valid Acc: 88.35%\n"
     ]
    },
    {
     "name": "stderr",
     "output_type": "stream",
     "text": [
      "Epoch 14/50 Training: 100%|██████████| 185/185 [01:02<00:00,  2.98batch/s]\n",
      "Epoch 14/50 Validation: 100%|██████████| 47/47 [00:15<00:00,  3.05batch/s]\n"
     ]
    },
    {
     "name": "stdout",
     "output_type": "stream",
     "text": [
      "Epoch 14/50, Train Loss: 0.0538, Train Acc: 88.45%, Valid Loss: 0.1113, Valid Acc: 88.08%\n"
     ]
    },
    {
     "name": "stderr",
     "output_type": "stream",
     "text": [
      "Epoch 15/50 Training: 100%|██████████| 185/185 [01:01<00:00,  2.98batch/s]\n",
      "Epoch 15/50 Validation: 100%|██████████| 47/47 [00:15<00:00,  3.09batch/s]\n"
     ]
    },
    {
     "name": "stdout",
     "output_type": "stream",
     "text": [
      "Epoch 15/50, Train Loss: 0.0500, Train Acc: 89.82%, Valid Loss: 0.1116, Valid Acc: 88.42%\n"
     ]
    },
    {
     "name": "stderr",
     "output_type": "stream",
     "text": [
      "Epoch 16/50 Training: 100%|██████████| 185/185 [01:04<00:00,  2.87batch/s]\n",
      "Epoch 16/50 Validation: 100%|██████████| 47/47 [00:16<00:00,  2.86batch/s]\n"
     ]
    },
    {
     "name": "stdout",
     "output_type": "stream",
     "text": [
      "Epoch 16/50, Train Loss: 0.0483, Train Acc: 89.90%, Valid Loss: 0.1154, Valid Acc: 87.74%\n"
     ]
    },
    {
     "name": "stderr",
     "output_type": "stream",
     "text": [
      "Epoch 17/50 Training: 100%|██████████| 185/185 [01:02<00:00,  2.94batch/s]\n",
      "Epoch 17/50 Validation: 100%|██████████| 47/47 [00:16<00:00,  2.87batch/s]\n"
     ]
    },
    {
     "name": "stdout",
     "output_type": "stream",
     "text": [
      "Epoch 17/50, Train Loss: 0.0466, Train Acc: 89.75%, Valid Loss: 0.1183, Valid Acc: 88.22%\n"
     ]
    },
    {
     "name": "stderr",
     "output_type": "stream",
     "text": [
      "Epoch 18/50 Training: 100%|██████████| 185/185 [01:01<00:00,  3.02batch/s]\n",
      "Epoch 18/50 Validation: 100%|██████████| 47/47 [00:15<00:00,  3.12batch/s]\n"
     ]
    },
    {
     "name": "stdout",
     "output_type": "stream",
     "text": [
      "Epoch 18/50, Train Loss: 0.0462, Train Acc: 89.90%, Valid Loss: 0.1148, Valid Acc: 88.22%\n"
     ]
    },
    {
     "name": "stderr",
     "output_type": "stream",
     "text": [
      "Epoch 19/50 Training: 100%|██████████| 185/185 [01:02<00:00,  2.96batch/s]\n",
      "Epoch 19/50 Validation: 100%|██████████| 47/47 [00:14<00:00,  3.18batch/s]\n"
     ]
    },
    {
     "name": "stdout",
     "output_type": "stream",
     "text": [
      "Epoch 19/50, Train Loss: 0.0425, Train Acc: 90.77%, Valid Loss: 0.1136, Valid Acc: 88.08%\n"
     ]
    },
    {
     "name": "stderr",
     "output_type": "stream",
     "text": [
      "Epoch 20/50 Training: 100%|██████████| 185/185 [00:59<00:00,  3.13batch/s]\n",
      "Epoch 20/50 Validation: 100%|██████████| 47/47 [00:14<00:00,  3.16batch/s]\n"
     ]
    },
    {
     "name": "stdout",
     "output_type": "stream",
     "text": [
      "Epoch 20/50, Train Loss: 0.0445, Train Acc: 90.58%, Valid Loss: 0.1127, Valid Acc: 88.28%\n"
     ]
    },
    {
     "name": "stderr",
     "output_type": "stream",
     "text": [
      "Epoch 21/50 Training: 100%|██████████| 185/185 [00:58<00:00,  3.14batch/s]\n",
      "Epoch 21/50 Validation: 100%|██████████| 47/47 [00:14<00:00,  3.28batch/s]\n"
     ]
    },
    {
     "name": "stdout",
     "output_type": "stream",
     "text": [
      "Epoch 21/50, Train Loss: 0.0428, Train Acc: 90.73%, Valid Loss: 0.1145, Valid Acc: 88.48%\n"
     ]
    },
    {
     "name": "stderr",
     "output_type": "stream",
     "text": [
      "Epoch 22/50 Training: 100%|██████████| 185/185 [01:01<00:00,  3.00batch/s]\n",
      "Epoch 22/50 Validation: 100%|██████████| 47/47 [00:15<00:00,  3.09batch/s]\n"
     ]
    },
    {
     "name": "stdout",
     "output_type": "stream",
     "text": [
      "Epoch 22/50, Train Loss: 0.0435, Train Acc: 90.38%, Valid Loss: 0.1143, Valid Acc: 88.35%\n"
     ]
    },
    {
     "name": "stderr",
     "output_type": "stream",
     "text": [
      "Epoch 23/50 Training: 100%|██████████| 185/185 [00:59<00:00,  3.12batch/s]\n",
      "Epoch 23/50 Validation: 100%|██████████| 47/47 [00:14<00:00,  3.27batch/s]\n"
     ]
    },
    {
     "name": "stdout",
     "output_type": "stream",
     "text": [
      "Epoch 23/50, Train Loss: 0.0429, Train Acc: 90.56%, Valid Loss: 0.1128, Valid Acc: 88.62%\n"
     ]
    },
    {
     "name": "stderr",
     "output_type": "stream",
     "text": [
      "Epoch 24/50 Training: 100%|██████████| 185/185 [01:00<00:00,  3.04batch/s]\n",
      "Epoch 24/50 Validation: 100%|██████████| 47/47 [00:15<00:00,  3.11batch/s]\n"
     ]
    },
    {
     "name": "stdout",
     "output_type": "stream",
     "text": [
      "Epoch 24/50, Train Loss: 0.0444, Train Acc: 90.60%, Valid Loss: 0.1114, Valid Acc: 88.48%\n"
     ]
    },
    {
     "name": "stderr",
     "output_type": "stream",
     "text": [
      "Epoch 25/50 Training: 100%|██████████| 185/185 [01:00<00:00,  3.07batch/s]\n",
      "Epoch 25/50 Validation: 100%|██████████| 47/47 [00:14<00:00,  3.35batch/s]\n"
     ]
    },
    {
     "name": "stdout",
     "output_type": "stream",
     "text": [
      "Epoch 25/50, Train Loss: 0.0409, Train Acc: 90.51%, Valid Loss: 0.1112, Valid Acc: 88.48%\n"
     ]
    },
    {
     "name": "stderr",
     "output_type": "stream",
     "text": [
      "Epoch 26/50 Training: 100%|██████████| 185/185 [00:57<00:00,  3.19batch/s]\n",
      "Epoch 26/50 Validation: 100%|██████████| 47/47 [00:14<00:00,  3.16batch/s]\n"
     ]
    },
    {
     "name": "stdout",
     "output_type": "stream",
     "text": [
      "Epoch 26/50, Train Loss: 0.0433, Train Acc: 90.41%, Valid Loss: 0.1136, Valid Acc: 88.69%\n"
     ]
    },
    {
     "name": "stderr",
     "output_type": "stream",
     "text": [
      "Epoch 27/50 Training: 100%|██████████| 185/185 [00:58<00:00,  3.16batch/s]\n",
      "Epoch 27/50 Validation: 100%|██████████| 47/47 [00:14<00:00,  3.28batch/s]\n"
     ]
    },
    {
     "name": "stdout",
     "output_type": "stream",
     "text": [
      "Epoch 27/50, Train Loss: 0.0423, Train Acc: 90.94%, Valid Loss: 0.1121, Valid Acc: 88.08%\n"
     ]
    },
    {
     "name": "stderr",
     "output_type": "stream",
     "text": [
      "Epoch 28/50 Training: 100%|██████████| 185/185 [00:58<00:00,  3.15batch/s]\n",
      "Epoch 28/50 Validation: 100%|██████████| 47/47 [00:13<00:00,  3.41batch/s]\n"
     ]
    },
    {
     "name": "stdout",
     "output_type": "stream",
     "text": [
      "Epoch 28/50, Train Loss: 0.0439, Train Acc: 90.11%, Valid Loss: 0.1139, Valid Acc: 88.15%\n"
     ]
    },
    {
     "name": "stderr",
     "output_type": "stream",
     "text": [
      "Epoch 29/50 Training: 100%|██████████| 185/185 [01:00<00:00,  3.07batch/s]\n",
      "Epoch 29/50 Validation: 100%|██████████| 47/47 [00:14<00:00,  3.30batch/s]\n"
     ]
    },
    {
     "name": "stdout",
     "output_type": "stream",
     "text": [
      "Epoch 29/50, Train Loss: 0.0409, Train Acc: 90.92%, Valid Loss: 0.1111, Valid Acc: 88.42%\n"
     ]
    },
    {
     "name": "stderr",
     "output_type": "stream",
     "text": [
      "Epoch 30/50 Training: 100%|██████████| 185/185 [00:58<00:00,  3.18batch/s]\n",
      "Epoch 30/50 Validation: 100%|██████████| 47/47 [00:14<00:00,  3.24batch/s]\n"
     ]
    },
    {
     "name": "stdout",
     "output_type": "stream",
     "text": [
      "Epoch 30/50, Train Loss: 0.0403, Train Acc: 90.80%, Valid Loss: 0.1138, Valid Acc: 88.08%\n"
     ]
    },
    {
     "name": "stderr",
     "output_type": "stream",
     "text": [
      "Epoch 31/50 Training: 100%|██████████| 185/185 [01:00<00:00,  3.06batch/s]\n",
      "Epoch 31/50 Validation: 100%|██████████| 47/47 [00:14<00:00,  3.17batch/s]\n"
     ]
    },
    {
     "name": "stdout",
     "output_type": "stream",
     "text": [
      "Epoch 31/50, Train Loss: 0.0434, Train Acc: 90.07%, Valid Loss: 0.1150, Valid Acc: 88.42%\n"
     ]
    },
    {
     "name": "stderr",
     "output_type": "stream",
     "text": [
      "Epoch 32/50 Training: 100%|██████████| 185/185 [00:59<00:00,  3.10batch/s]\n",
      "Epoch 32/50 Validation: 100%|██████████| 47/47 [00:14<00:00,  3.16batch/s]\n"
     ]
    },
    {
     "name": "stdout",
     "output_type": "stream",
     "text": [
      "Epoch 32/50, Train Loss: 0.0434, Train Acc: 90.85%, Valid Loss: 0.1103, Valid Acc: 88.35%\n"
     ]
    },
    {
     "name": "stderr",
     "output_type": "stream",
     "text": [
      "Epoch 33/50 Training: 100%|██████████| 185/185 [00:59<00:00,  3.12batch/s]\n",
      "Epoch 33/50 Validation: 100%|██████████| 47/47 [00:14<00:00,  3.24batch/s]\n"
     ]
    },
    {
     "name": "stdout",
     "output_type": "stream",
     "text": [
      "Epoch 33/50, Train Loss: 0.0437, Train Acc: 90.51%, Valid Loss: 0.1119, Valid Acc: 88.48%\n"
     ]
    },
    {
     "name": "stderr",
     "output_type": "stream",
     "text": [
      "Epoch 34/50 Training: 100%|██████████| 185/185 [00:59<00:00,  3.09batch/s]\n",
      "Epoch 34/50 Validation: 100%|██████████| 47/47 [00:14<00:00,  3.16batch/s]\n"
     ]
    },
    {
     "name": "stdout",
     "output_type": "stream",
     "text": [
      "Epoch 34/50, Train Loss: 0.0421, Train Acc: 90.99%, Valid Loss: 0.1133, Valid Acc: 88.28%\n"
     ]
    },
    {
     "name": "stderr",
     "output_type": "stream",
     "text": [
      "Epoch 35/50 Training: 100%|██████████| 185/185 [01:00<00:00,  3.03batch/s]\n",
      "Epoch 35/50 Validation: 100%|██████████| 47/47 [00:14<00:00,  3.18batch/s]\n"
     ]
    },
    {
     "name": "stdout",
     "output_type": "stream",
     "text": [
      "Epoch 35/50, Train Loss: 0.0444, Train Acc: 90.68%, Valid Loss: 0.1134, Valid Acc: 88.15%\n"
     ]
    },
    {
     "name": "stderr",
     "output_type": "stream",
     "text": [
      "Epoch 36/50 Training: 100%|██████████| 185/185 [01:01<00:00,  3.02batch/s]\n",
      "Epoch 36/50 Validation: 100%|██████████| 47/47 [00:15<00:00,  3.03batch/s]\n"
     ]
    },
    {
     "name": "stdout",
     "output_type": "stream",
     "text": [
      "Epoch 36/50, Train Loss: 0.0414, Train Acc: 90.80%, Valid Loss: 0.1144, Valid Acc: 88.62%\n"
     ]
    },
    {
     "name": "stderr",
     "output_type": "stream",
     "text": [
      "Epoch 37/50 Training: 100%|██████████| 185/185 [00:59<00:00,  3.08batch/s]\n",
      "Epoch 37/50 Validation: 100%|██████████| 47/47 [00:14<00:00,  3.19batch/s]\n"
     ]
    },
    {
     "name": "stdout",
     "output_type": "stream",
     "text": [
      "Epoch 37/50, Train Loss: 0.0432, Train Acc: 90.19%, Valid Loss: 0.1134, Valid Acc: 88.62%\n"
     ]
    },
    {
     "name": "stderr",
     "output_type": "stream",
     "text": [
      "Epoch 38/50 Training: 100%|██████████| 185/185 [00:59<00:00,  3.10batch/s]\n",
      "Epoch 38/50 Validation: 100%|██████████| 47/47 [00:14<00:00,  3.27batch/s]\n"
     ]
    },
    {
     "name": "stdout",
     "output_type": "stream",
     "text": [
      "Epoch 38/50, Train Loss: 0.0441, Train Acc: 90.43%, Valid Loss: 0.1122, Valid Acc: 88.01%\n"
     ]
    },
    {
     "name": "stderr",
     "output_type": "stream",
     "text": [
      "Epoch 39/50 Training: 100%|██████████| 185/185 [01:00<00:00,  3.05batch/s]\n",
      "Epoch 39/50 Validation: 100%|██████████| 47/47 [00:14<00:00,  3.18batch/s]\n"
     ]
    },
    {
     "name": "stdout",
     "output_type": "stream",
     "text": [
      "Epoch 39/50, Train Loss: 0.0430, Train Acc: 90.55%, Valid Loss: 0.1145, Valid Acc: 88.42%\n"
     ]
    },
    {
     "name": "stderr",
     "output_type": "stream",
     "text": [
      "Epoch 40/50 Training: 100%|██████████| 185/185 [00:59<00:00,  3.11batch/s]\n",
      "Epoch 40/50 Validation: 100%|██████████| 47/47 [00:14<00:00,  3.16batch/s]\n"
     ]
    },
    {
     "name": "stdout",
     "output_type": "stream",
     "text": [
      "Epoch 40/50, Train Loss: 0.0433, Train Acc: 90.46%, Valid Loss: 0.1130, Valid Acc: 88.28%\n"
     ]
    },
    {
     "name": "stderr",
     "output_type": "stream",
     "text": [
      "Epoch 41/50 Training: 100%|██████████| 185/185 [01:02<00:00,  2.97batch/s]\n",
      "Epoch 41/50 Validation: 100%|██████████| 47/47 [00:15<00:00,  3.04batch/s]\n"
     ]
    },
    {
     "name": "stdout",
     "output_type": "stream",
     "text": [
      "Epoch 41/50, Train Loss: 0.0432, Train Acc: 90.41%, Valid Loss: 0.1146, Valid Acc: 88.35%\n"
     ]
    },
    {
     "name": "stderr",
     "output_type": "stream",
     "text": [
      "Epoch 42/50 Training: 100%|██████████| 185/185 [01:01<00:00,  3.03batch/s]\n",
      "Epoch 42/50 Validation: 100%|██████████| 47/47 [00:14<00:00,  3.24batch/s]\n"
     ]
    },
    {
     "name": "stdout",
     "output_type": "stream",
     "text": [
      "Epoch 42/50, Train Loss: 0.0427, Train Acc: 90.29%, Valid Loss: 0.1145, Valid Acc: 88.48%\n"
     ]
    },
    {
     "name": "stderr",
     "output_type": "stream",
     "text": [
      "Epoch 43/50 Training: 100%|██████████| 185/185 [01:00<00:00,  3.04batch/s]\n",
      "Epoch 43/50 Validation: 100%|██████████| 47/47 [00:14<00:00,  3.17batch/s]\n"
     ]
    },
    {
     "name": "stdout",
     "output_type": "stream",
     "text": [
      "Epoch 43/50, Train Loss: 0.0436, Train Acc: 90.94%, Valid Loss: 0.1149, Valid Acc: 88.42%\n"
     ]
    },
    {
     "name": "stderr",
     "output_type": "stream",
     "text": [
      "Epoch 44/50 Training: 100%|██████████| 185/185 [01:00<00:00,  3.08batch/s]\n",
      "Epoch 44/50 Validation: 100%|██████████| 47/47 [00:14<00:00,  3.20batch/s]\n"
     ]
    },
    {
     "name": "stdout",
     "output_type": "stream",
     "text": [
      "Epoch 44/50, Train Loss: 0.0413, Train Acc: 91.39%, Valid Loss: 0.1160, Valid Acc: 88.82%\n"
     ]
    },
    {
     "name": "stderr",
     "output_type": "stream",
     "text": [
      "Epoch 45/50 Training: 100%|██████████| 185/185 [01:00<00:00,  3.08batch/s]\n",
      "Epoch 45/50 Validation: 100%|██████████| 47/47 [00:14<00:00,  3.28batch/s]\n"
     ]
    },
    {
     "name": "stdout",
     "output_type": "stream",
     "text": [
      "Epoch 45/50, Train Loss: 0.0419, Train Acc: 90.68%, Valid Loss: 0.1137, Valid Acc: 88.55%\n"
     ]
    },
    {
     "name": "stderr",
     "output_type": "stream",
     "text": [
      "Epoch 46/50 Training: 100%|██████████| 185/185 [00:59<00:00,  3.09batch/s]\n",
      "Epoch 46/50 Validation: 100%|██████████| 47/47 [00:15<00:00,  3.12batch/s]\n"
     ]
    },
    {
     "name": "stdout",
     "output_type": "stream",
     "text": [
      "Epoch 46/50, Train Loss: 0.0421, Train Acc: 90.51%, Valid Loss: 0.1144, Valid Acc: 88.35%\n"
     ]
    },
    {
     "name": "stderr",
     "output_type": "stream",
     "text": [
      "Epoch 47/50 Training: 100%|██████████| 185/185 [00:59<00:00,  3.11batch/s]\n",
      "Epoch 47/50 Validation: 100%|██████████| 47/47 [00:14<00:00,  3.15batch/s]\n"
     ]
    },
    {
     "name": "stdout",
     "output_type": "stream",
     "text": [
      "Epoch 47/50, Train Loss: 0.0443, Train Acc: 90.24%, Valid Loss: 0.1156, Valid Acc: 88.62%\n"
     ]
    },
    {
     "name": "stderr",
     "output_type": "stream",
     "text": [
      "Epoch 48/50 Training: 100%|██████████| 185/185 [01:01<00:00,  3.02batch/s]\n",
      "Epoch 48/50 Validation: 100%|██████████| 47/47 [00:15<00:00,  3.03batch/s]\n"
     ]
    },
    {
     "name": "stdout",
     "output_type": "stream",
     "text": [
      "Epoch 48/50, Train Loss: 0.0424, Train Acc: 90.85%, Valid Loss: 0.1122, Valid Acc: 88.48%\n"
     ]
    },
    {
     "name": "stderr",
     "output_type": "stream",
     "text": [
      "Epoch 49/50 Training: 100%|██████████| 185/185 [01:00<00:00,  3.06batch/s]\n",
      "Epoch 49/50 Validation: 100%|██████████| 47/47 [00:14<00:00,  3.22batch/s]\n"
     ]
    },
    {
     "name": "stdout",
     "output_type": "stream",
     "text": [
      "Epoch 49/50, Train Loss: 0.0433, Train Acc: 90.73%, Valid Loss: 0.1121, Valid Acc: 88.42%\n"
     ]
    },
    {
     "name": "stderr",
     "output_type": "stream",
     "text": [
      "Epoch 50/50 Training: 100%|██████████| 185/185 [01:00<00:00,  3.08batch/s]\n",
      "Epoch 50/50 Validation: 100%|██████████| 47/47 [00:14<00:00,  3.21batch/s]\n"
     ]
    },
    {
     "name": "stdout",
     "output_type": "stream",
     "text": [
      "Epoch 50/50, Train Loss: 0.0434, Train Acc: 90.83%, Valid Loss: 0.1141, Valid Acc: 88.42%\n"
     ]
    }
   ],
   "source": [
    "max_acc = 89.00\n",
    "\n",
    "for epoch in range(start_epoch, n_epochs):\n",
    "    train_loss = 0.0\n",
    "    train_acc = 0.0\n",
    "    valid_acc = 0.0\n",
    "\n",
    "    model.train()\n",
    "    for i, (inputs, labels) in enumerate(tqdm(train_loader, total=len(train_loader), unit='batch', desc=f\"Epoch {epoch+1}/{n_epochs} Training\")):\n",
    "        inputs = inputs.to(device)\n",
    "        labels = labels.to(device)\n",
    "        optimizer.zero_grad()\n",
    "        outputs = model(inputs)\n",
    "        loss = criterion(outputs, labels)\n",
    "        loss.backward()\n",
    "        optimizer.step()\n",
    "        train_loss += loss.item() * inputs.size(0)\n",
    "        train_acc += accuracy(outputs, labels) * inputs.size(0)\n",
    "    train_loss /= len(train_loader.dataset)\n",
    "    train_acc /= len(train_loader.dataset)\n",
    "    # Evaluate the model on the validation set\n",
    "    true_labels = []\n",
    "    predicted_labels = []\n",
    "    model.eval()\n",
    "    with torch.no_grad():\n",
    "        for i, (inputs, labels) in enumerate(tqdm(valid_loader, total=len(valid_loader), unit='batch', desc=f\"Epoch {epoch+1}/{n_epochs} Validation\")):\n",
    "            inputs = inputs.to(device)\n",
    "            labels = labels.to(device).float()\n",
    "            outputs = model(inputs)\n",
    "            loss = criterion(outputs, labels)\n",
    "            valid_loss += loss.item() * inputs.size(0)\n",
    "            valid_acc += accuracy(outputs, labels) * inputs.size(0)\n",
    "            true_labels.extend(labels.cpu().numpy().tolist())\n",
    "            predicted_labels.extend((outputs.cpu() > 0.0).float().numpy().tolist())\n",
    "        valid_loss /= len(valid_loader.dataset)\n",
    "        valid_acc /= len(valid_loader.dataset)\n",
    "\n",
    "        cm = multilabel_confusion_matrix(true_labels, predicted_labels)\n",
    "        f, axes = plt.subplots(1, 6, figsize=(25, 6))\n",
    "        axes = axes.ravel()\n",
    "        for i in range(len(drum_labels)):\n",
    "            disp = ConfusionMatrixDisplay(cm[i], display_labels=[0, 1])\n",
    "            disp.plot(ax=axes[i], values_format='.4g')\n",
    "            disp.ax_.set_title(drum_labels[i])\n",
    "            disp.im_.colorbar.remove()\n",
    "\n",
    "        plt.subplots_adjust(wspace=0.10, hspace=0.1)\n",
    "        f.colorbar(disp.im_, ax=axes)\n",
    "        plt.savefig(f'cm_e{epoch+1}.png')\n",
    "        plt.close()\n",
    "    \n",
    "    # Update the learning rate based on the validation loss\n",
    "    scheduler.step(valid_loss)\n",
    "    \n",
    "    # Print the training and validation loss and accuracy\n",
    "    tqdm.write(f'Epoch {epoch+1}/{n_epochs}, Train Loss: {train_loss:.4f}, Train Acc: {train_acc:.2f}%, Valid Loss: {valid_loss:.4f}, Valid Acc: {valid_acc:.2f}%')\n",
    "\n",
    "    if valid_acc > max_acc:\n",
    "        checkpoint = {\n",
    "            'model': model.state_dict(),\n",
    "            'optimizer': optimizer.state_dict(),\n",
    "            'scheduler': scheduler.state_dict(),\n",
    "            'epoch': epoch\n",
    "        }\n",
    "        max_acc = valid_acc\n",
    "        torch.save(checkpoint, f'models/{dataset_name}_nfft1024_{valid_acc:.2f}.pth')"
   ]
  },
  {
   "attachments": {},
   "cell_type": "markdown",
   "metadata": {},
   "source": [
    "### Saving the model"
   ]
  },
  {
   "cell_type": "code",
   "execution_count": 220,
   "metadata": {},
   "outputs": [],
   "source": [
    "checkpoint = {\n",
    "    'model': model.state_dict(),\n",
    "    'optimizer': optimizer.state_dict(),\n",
    "    'scheduler': scheduler.state_dict(),\n",
    "    'epoch': epoch\n",
    "}\n",
    "torch.save(checkpoint, f'models/{dataset_name}_nfft1024_{valid_acc:.2f}.pth')"
   ]
  },
  {
   "attachments": {},
   "cell_type": "markdown",
   "metadata": {},
   "source": [
    "## Labeling a dataset song with the model"
   ]
  },
  {
   "attachments": {},
   "cell_type": "markdown",
   "metadata": {},
   "source": [
    "I use this section to iteratively improve my dataset and model."
   ]
  },
  {
   "attachments": {},
   "cell_type": "markdown",
   "metadata": {},
   "source": [
    "### Get onset times from dataset"
   ]
  },
  {
   "cell_type": "code",
   "execution_count": 20,
   "metadata": {},
   "outputs": [
    {
     "data": {
      "text/html": [
       "<div>\n",
       "<style scoped>\n",
       "    .dataframe tbody tr th:only-of-type {\n",
       "        vertical-align: middle;\n",
       "    }\n",
       "\n",
       "    .dataframe tbody tr th {\n",
       "        vertical-align: top;\n",
       "    }\n",
       "\n",
       "    .dataframe thead th {\n",
       "        text-align: right;\n",
       "    }\n",
       "</style>\n",
       "<table border=\"1\" class=\"dataframe\">\n",
       "  <thead>\n",
       "    <tr style=\"text-align: right;\">\n",
       "      <th></th>\n",
       "      <th>onset_time</th>\n",
       "      <th>kick</th>\n",
       "      <th>snare</th>\n",
       "      <th>hihat</th>\n",
       "      <th>tom</th>\n",
       "      <th>crash</th>\n",
       "      <th>ride</th>\n",
       "      <th>other</th>\n",
       "      <th>name</th>\n",
       "    </tr>\n",
       "  </thead>\n",
       "  <tbody>\n",
       "    <tr>\n",
       "      <th>0</th>\n",
       "      <td>0.162540</td>\n",
       "      <td>False</td>\n",
       "      <td>False</td>\n",
       "      <td>False</td>\n",
       "      <td>False</td>\n",
       "      <td>False</td>\n",
       "      <td>False</td>\n",
       "      <td>False</td>\n",
       "      <td>Pendulum - Crush (Devin Townsend Remix)</td>\n",
       "    </tr>\n",
       "    <tr>\n",
       "      <th>1</th>\n",
       "      <td>0.255420</td>\n",
       "      <td>False</td>\n",
       "      <td>False</td>\n",
       "      <td>False</td>\n",
       "      <td>False</td>\n",
       "      <td>False</td>\n",
       "      <td>False</td>\n",
       "      <td>False</td>\n",
       "      <td>Pendulum - Crush (Devin Townsend Remix)</td>\n",
       "    </tr>\n",
       "    <tr>\n",
       "      <th>2</th>\n",
       "      <td>0.336689</td>\n",
       "      <td>False</td>\n",
       "      <td>False</td>\n",
       "      <td>False</td>\n",
       "      <td>False</td>\n",
       "      <td>False</td>\n",
       "      <td>False</td>\n",
       "      <td>False</td>\n",
       "      <td>Pendulum - Crush (Devin Townsend Remix)</td>\n",
       "    </tr>\n",
       "    <tr>\n",
       "      <th>3</th>\n",
       "      <td>0.417959</td>\n",
       "      <td>False</td>\n",
       "      <td>False</td>\n",
       "      <td>False</td>\n",
       "      <td>False</td>\n",
       "      <td>False</td>\n",
       "      <td>False</td>\n",
       "      <td>False</td>\n",
       "      <td>Pendulum - Crush (Devin Townsend Remix)</td>\n",
       "    </tr>\n",
       "    <tr>\n",
       "      <th>4</th>\n",
       "      <td>0.510839</td>\n",
       "      <td>False</td>\n",
       "      <td>False</td>\n",
       "      <td>False</td>\n",
       "      <td>False</td>\n",
       "      <td>False</td>\n",
       "      <td>False</td>\n",
       "      <td>False</td>\n",
       "      <td>Pendulum - Crush (Devin Townsend Remix)</td>\n",
       "    </tr>\n",
       "    <tr>\n",
       "      <th>...</th>\n",
       "      <td>...</td>\n",
       "      <td>...</td>\n",
       "      <td>...</td>\n",
       "      <td>...</td>\n",
       "      <td>...</td>\n",
       "      <td>...</td>\n",
       "      <td>...</td>\n",
       "      <td>...</td>\n",
       "      <td>...</td>\n",
       "    </tr>\n",
       "    <tr>\n",
       "      <th>913</th>\n",
       "      <td>204.289161</td>\n",
       "      <td>False</td>\n",
       "      <td>False</td>\n",
       "      <td>False</td>\n",
       "      <td>False</td>\n",
       "      <td>False</td>\n",
       "      <td>False</td>\n",
       "      <td>False</td>\n",
       "      <td>Pendulum - Crush (Devin Townsend Remix)</td>\n",
       "    </tr>\n",
       "    <tr>\n",
       "      <th>914</th>\n",
       "      <td>205.589478</td>\n",
       "      <td>False</td>\n",
       "      <td>False</td>\n",
       "      <td>False</td>\n",
       "      <td>False</td>\n",
       "      <td>False</td>\n",
       "      <td>False</td>\n",
       "      <td>False</td>\n",
       "      <td>Pendulum - Crush (Devin Townsend Remix)</td>\n",
       "    </tr>\n",
       "    <tr>\n",
       "      <th>915</th>\n",
       "      <td>206.913016</td>\n",
       "      <td>False</td>\n",
       "      <td>False</td>\n",
       "      <td>False</td>\n",
       "      <td>False</td>\n",
       "      <td>False</td>\n",
       "      <td>False</td>\n",
       "      <td>False</td>\n",
       "      <td>Pendulum - Crush (Devin Townsend Remix)</td>\n",
       "    </tr>\n",
       "    <tr>\n",
       "      <th>916</th>\n",
       "      <td>222.145306</td>\n",
       "      <td>False</td>\n",
       "      <td>False</td>\n",
       "      <td>False</td>\n",
       "      <td>False</td>\n",
       "      <td>False</td>\n",
       "      <td>False</td>\n",
       "      <td>False</td>\n",
       "      <td>Pendulum - Crush (Devin Townsend Remix)</td>\n",
       "    </tr>\n",
       "    <tr>\n",
       "      <th>917</th>\n",
       "      <td>222.238186</td>\n",
       "      <td>False</td>\n",
       "      <td>False</td>\n",
       "      <td>False</td>\n",
       "      <td>False</td>\n",
       "      <td>False</td>\n",
       "      <td>False</td>\n",
       "      <td>False</td>\n",
       "      <td>Pendulum - Crush (Devin Townsend Remix)</td>\n",
       "    </tr>\n",
       "  </tbody>\n",
       "</table>\n",
       "<p>918 rows × 9 columns</p>\n",
       "</div>"
      ],
      "text/plain": [
       "     onset_time   kick  snare  hihat    tom  crash   ride  other  \\\n",
       "0      0.162540  False  False  False  False  False  False  False   \n",
       "1      0.255420  False  False  False  False  False  False  False   \n",
       "2      0.336689  False  False  False  False  False  False  False   \n",
       "3      0.417959  False  False  False  False  False  False  False   \n",
       "4      0.510839  False  False  False  False  False  False  False   \n",
       "..          ...    ...    ...    ...    ...    ...    ...    ...   \n",
       "913  204.289161  False  False  False  False  False  False  False   \n",
       "914  205.589478  False  False  False  False  False  False  False   \n",
       "915  206.913016  False  False  False  False  False  False  False   \n",
       "916  222.145306  False  False  False  False  False  False  False   \n",
       "917  222.238186  False  False  False  False  False  False  False   \n",
       "\n",
       "                                        name  \n",
       "0    Pendulum - Crush (Devin Townsend Remix)  \n",
       "1    Pendulum - Crush (Devin Townsend Remix)  \n",
       "2    Pendulum - Crush (Devin Townsend Remix)  \n",
       "3    Pendulum - Crush (Devin Townsend Remix)  \n",
       "4    Pendulum - Crush (Devin Townsend Remix)  \n",
       "..                                       ...  \n",
       "913  Pendulum - Crush (Devin Townsend Remix)  \n",
       "914  Pendulum - Crush (Devin Townsend Remix)  \n",
       "915  Pendulum - Crush (Devin Townsend Remix)  \n",
       "916  Pendulum - Crush (Devin Townsend Remix)  \n",
       "917  Pendulum - Crush (Devin Townsend Remix)  \n",
       "\n",
       "[918 rows x 9 columns]"
      ]
     },
     "execution_count": 20,
     "metadata": {},
     "output_type": "execute_result"
    }
   ],
   "source": [
    "name = \"Pendulum - Crush (Devin Townsend Remix)\"\n",
    "label_onset_path = f\"{dataset_name}/{name}/onsets.csv\"\n",
    "label_df = pd.read_csv(label_onset_path)\n",
    "label_df[\"name\"] = name\n",
    "# label_df = label_df.iloc[1:]\n",
    "# label_df = label_df.reset_index(drop=True)\n",
    "label_df"
   ]
  },
  {
   "attachments": {},
   "cell_type": "markdown",
   "metadata": {},
   "source": [
    "### Load model checkpoint"
   ]
  },
  {
   "cell_type": "code",
   "execution_count": 14,
   "metadata": {},
   "outputs": [
    {
     "data": {
      "text/plain": [
       "<All keys matched successfully>"
      ]
     },
     "execution_count": 14,
     "metadata": {},
     "output_type": "execute_result"
    }
   ],
   "source": [
    "checkpoint = torch.load('models/HeartsOnFire-v.1.0.3_nfft1024_89.76.pth')\n",
    "model = DrumCNN().to(device)\n",
    "model.load_state_dict(checkpoint['model'])"
   ]
  },
  {
   "attachments": {},
   "cell_type": "markdown",
   "metadata": {},
   "source": [
    "### Load the onset times and label them with the model"
   ]
  },
  {
   "cell_type": "code",
   "execution_count": 21,
   "metadata": {},
   "outputs": [
    {
     "name": "stderr",
     "output_type": "stream",
     "text": [
      "Labeling: 100%|██████████| 58/58 [00:05<00:00, 10.39batch/s]\n"
     ]
    }
   ],
   "source": [
    "labeling_dataset = DrumDataset(label_df, f\"{dataset_name}/master.csv\", fast_transform)\n",
    "labeling_loader = DataLoader(labeling_dataset, batch_size=16, shuffle=False)\n",
    "\n",
    "model.eval()\n",
    "predicted_labels=[]\n",
    "with torch.no_grad():\n",
    "    for i, (inputs, labels) in enumerate(tqdm(labeling_loader, total=len(labeling_loader), unit='batch', desc=f\"Labeling\")):\n",
    "        inputs = inputs.to(device)\n",
    "        outputs = model(inputs)\n",
    "        predicted_labels.extend((outputs>0.0).cpu().numpy().tolist())"
   ]
  },
  {
   "cell_type": "code",
   "execution_count": 22,
   "metadata": {},
   "outputs": [
    {
     "data": {
      "text/html": [
       "<div>\n",
       "<style scoped>\n",
       "    .dataframe tbody tr th:only-of-type {\n",
       "        vertical-align: middle;\n",
       "    }\n",
       "\n",
       "    .dataframe tbody tr th {\n",
       "        vertical-align: top;\n",
       "    }\n",
       "\n",
       "    .dataframe thead th {\n",
       "        text-align: right;\n",
       "    }\n",
       "</style>\n",
       "<table border=\"1\" class=\"dataframe\">\n",
       "  <thead>\n",
       "    <tr style=\"text-align: right;\">\n",
       "      <th></th>\n",
       "      <th>onset_time</th>\n",
       "      <th>kick</th>\n",
       "      <th>snare</th>\n",
       "      <th>hihat</th>\n",
       "      <th>tom</th>\n",
       "      <th>crash</th>\n",
       "      <th>ride</th>\n",
       "      <th>other</th>\n",
       "      <th>name</th>\n",
       "    </tr>\n",
       "  </thead>\n",
       "  <tbody>\n",
       "    <tr>\n",
       "      <th>0</th>\n",
       "      <td>0.162540</td>\n",
       "      <td>False</td>\n",
       "      <td>False</td>\n",
       "      <td>False</td>\n",
       "      <td>False</td>\n",
       "      <td>False</td>\n",
       "      <td>False</td>\n",
       "      <td>False</td>\n",
       "      <td>Pendulum - Crush (Devin Townsend Remix)</td>\n",
       "    </tr>\n",
       "    <tr>\n",
       "      <th>1</th>\n",
       "      <td>0.255420</td>\n",
       "      <td>True</td>\n",
       "      <td>False</td>\n",
       "      <td>False</td>\n",
       "      <td>False</td>\n",
       "      <td>False</td>\n",
       "      <td>False</td>\n",
       "      <td>False</td>\n",
       "      <td>Pendulum - Crush (Devin Townsend Remix)</td>\n",
       "    </tr>\n",
       "    <tr>\n",
       "      <th>2</th>\n",
       "      <td>0.336689</td>\n",
       "      <td>False</td>\n",
       "      <td>False</td>\n",
       "      <td>False</td>\n",
       "      <td>False</td>\n",
       "      <td>False</td>\n",
       "      <td>False</td>\n",
       "      <td>False</td>\n",
       "      <td>Pendulum - Crush (Devin Townsend Remix)</td>\n",
       "    </tr>\n",
       "    <tr>\n",
       "      <th>3</th>\n",
       "      <td>0.417959</td>\n",
       "      <td>False</td>\n",
       "      <td>True</td>\n",
       "      <td>False</td>\n",
       "      <td>False</td>\n",
       "      <td>False</td>\n",
       "      <td>False</td>\n",
       "      <td>False</td>\n",
       "      <td>Pendulum - Crush (Devin Townsend Remix)</td>\n",
       "    </tr>\n",
       "    <tr>\n",
       "      <th>4</th>\n",
       "      <td>0.510839</td>\n",
       "      <td>False</td>\n",
       "      <td>False</td>\n",
       "      <td>False</td>\n",
       "      <td>False</td>\n",
       "      <td>False</td>\n",
       "      <td>False</td>\n",
       "      <td>False</td>\n",
       "      <td>Pendulum - Crush (Devin Townsend Remix)</td>\n",
       "    </tr>\n",
       "    <tr>\n",
       "      <th>...</th>\n",
       "      <td>...</td>\n",
       "      <td>...</td>\n",
       "      <td>...</td>\n",
       "      <td>...</td>\n",
       "      <td>...</td>\n",
       "      <td>...</td>\n",
       "      <td>...</td>\n",
       "      <td>...</td>\n",
       "      <td>...</td>\n",
       "    </tr>\n",
       "    <tr>\n",
       "      <th>913</th>\n",
       "      <td>204.289161</td>\n",
       "      <td>False</td>\n",
       "      <td>True</td>\n",
       "      <td>False</td>\n",
       "      <td>False</td>\n",
       "      <td>False</td>\n",
       "      <td>False</td>\n",
       "      <td>False</td>\n",
       "      <td>Pendulum - Crush (Devin Townsend Remix)</td>\n",
       "    </tr>\n",
       "    <tr>\n",
       "      <th>914</th>\n",
       "      <td>205.589478</td>\n",
       "      <td>True</td>\n",
       "      <td>False</td>\n",
       "      <td>False</td>\n",
       "      <td>False</td>\n",
       "      <td>False</td>\n",
       "      <td>False</td>\n",
       "      <td>False</td>\n",
       "      <td>Pendulum - Crush (Devin Townsend Remix)</td>\n",
       "    </tr>\n",
       "    <tr>\n",
       "      <th>915</th>\n",
       "      <td>206.913016</td>\n",
       "      <td>False</td>\n",
       "      <td>False</td>\n",
       "      <td>False</td>\n",
       "      <td>False</td>\n",
       "      <td>False</td>\n",
       "      <td>False</td>\n",
       "      <td>False</td>\n",
       "      <td>Pendulum - Crush (Devin Townsend Remix)</td>\n",
       "    </tr>\n",
       "    <tr>\n",
       "      <th>916</th>\n",
       "      <td>222.145306</td>\n",
       "      <td>False</td>\n",
       "      <td>False</td>\n",
       "      <td>False</td>\n",
       "      <td>True</td>\n",
       "      <td>False</td>\n",
       "      <td>False</td>\n",
       "      <td>False</td>\n",
       "      <td>Pendulum - Crush (Devin Townsend Remix)</td>\n",
       "    </tr>\n",
       "    <tr>\n",
       "      <th>917</th>\n",
       "      <td>222.238186</td>\n",
       "      <td>False</td>\n",
       "      <td>False</td>\n",
       "      <td>False</td>\n",
       "      <td>False</td>\n",
       "      <td>False</td>\n",
       "      <td>False</td>\n",
       "      <td>False</td>\n",
       "      <td>Pendulum - Crush (Devin Townsend Remix)</td>\n",
       "    </tr>\n",
       "  </tbody>\n",
       "</table>\n",
       "<p>918 rows × 9 columns</p>\n",
       "</div>"
      ],
      "text/plain": [
       "     onset_time   kick  snare  hihat    tom  crash   ride  other  \\\n",
       "0      0.162540  False  False  False  False  False  False  False   \n",
       "1      0.255420   True  False  False  False  False  False  False   \n",
       "2      0.336689  False  False  False  False  False  False  False   \n",
       "3      0.417959  False   True  False  False  False  False  False   \n",
       "4      0.510839  False  False  False  False  False  False  False   \n",
       "..          ...    ...    ...    ...    ...    ...    ...    ...   \n",
       "913  204.289161  False   True  False  False  False  False  False   \n",
       "914  205.589478   True  False  False  False  False  False  False   \n",
       "915  206.913016  False  False  False  False  False  False  False   \n",
       "916  222.145306  False  False  False   True  False  False  False   \n",
       "917  222.238186  False  False  False  False  False  False  False   \n",
       "\n",
       "                                        name  \n",
       "0    Pendulum - Crush (Devin Townsend Remix)  \n",
       "1    Pendulum - Crush (Devin Townsend Remix)  \n",
       "2    Pendulum - Crush (Devin Townsend Remix)  \n",
       "3    Pendulum - Crush (Devin Townsend Remix)  \n",
       "4    Pendulum - Crush (Devin Townsend Remix)  \n",
       "..                                       ...  \n",
       "913  Pendulum - Crush (Devin Townsend Remix)  \n",
       "914  Pendulum - Crush (Devin Townsend Remix)  \n",
       "915  Pendulum - Crush (Devin Townsend Remix)  \n",
       "916  Pendulum - Crush (Devin Townsend Remix)  \n",
       "917  Pendulum - Crush (Devin Townsend Remix)  \n",
       "\n",
       "[918 rows x 9 columns]"
      ]
     },
     "execution_count": 22,
     "metadata": {},
     "output_type": "execute_result"
    }
   ],
   "source": [
    "label_df[drum_labels] = predicted_labels\n",
    "label_df"
   ]
  },
  {
   "attachments": {},
   "cell_type": "markdown",
   "metadata": {},
   "source": [
    "### Save the final result as an updated .csv file"
   ]
  },
  {
   "attachments": {},
   "cell_type": "markdown",
   "metadata": {},
   "source": [
    "The more the model improves, the less labeling I have to do. The minor corrections I DO have to perform, will be picked up on in the next iterations of the model."
   ]
  },
  {
   "cell_type": "code",
   "execution_count": 23,
   "metadata": {},
   "outputs": [],
   "source": [
    "label_df.to_csv(label_onset_path, index=False)"
   ]
  }
 ],
 "metadata": {
  "kernelspec": {
   "display_name": ".venv",
   "language": "python",
   "name": "python3"
  },
  "language_info": {
   "codemirror_mode": {
    "name": "ipython",
    "version": 3
   },
   "file_extension": ".py",
   "mimetype": "text/x-python",
   "name": "python",
   "nbconvert_exporter": "python",
   "pygments_lexer": "ipython3",
   "version": "3.10.4"
  },
  "orig_nbformat": 4
 },
 "nbformat": 4,
 "nbformat_minor": 2
}
