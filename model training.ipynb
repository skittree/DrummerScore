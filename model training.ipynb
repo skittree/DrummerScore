{
 "cells": [
  {
   "attachments": {},
   "cell_type": "markdown",
   "metadata": {},
   "source": [
    "## Creating a PyTorch CNN ADT model"
   ]
  },
  {
   "attachments": {},
   "cell_type": "markdown",
   "metadata": {},
   "source": [
    "## Loading and preprocessing the data"
   ]
  },
  {
   "cell_type": "code",
   "execution_count": 1,
   "metadata": {},
   "outputs": [],
   "source": [
    "import torch\n",
    "import torch.nn as nn\n",
    "import torch.optim as optim\n",
    "import torchaudio\n",
    "import torchvision\n",
    "import torch_audiomentations\n",
    "from torch.utils.data import DataLoader\n",
    "from torch.utils.data.dataset import Dataset\n",
    "from sklearn.metrics import ConfusionMatrixDisplay, multilabel_confusion_matrix\n",
    "import pandas as pd\n",
    "import numpy as np\n",
    "import matplotlib.pyplot as plt\n",
    "from tqdm import tqdm\n",
    "import librosa\n",
    "import os\n",
    "import csv\n",
    "import random"
   ]
  },
  {
   "attachments": {},
   "cell_type": "markdown",
   "metadata": {},
   "source": [
    "The `n_fft` variable affects the n_fft parameter used in generating melspectrograms and MFCC features used in training and validation. I found the value of `1024` works best, but `2048` can also work well."
   ]
  },
  {
   "cell_type": "code",
   "execution_count": 2,
   "metadata": {},
   "outputs": [
    {
     "data": {
      "text/html": [
       "<div>\n",
       "<style scoped>\n",
       "    .dataframe tbody tr th:only-of-type {\n",
       "        vertical-align: middle;\n",
       "    }\n",
       "\n",
       "    .dataframe tbody tr th {\n",
       "        vertical-align: top;\n",
       "    }\n",
       "\n",
       "    .dataframe thead th {\n",
       "        text-align: right;\n",
       "    }\n",
       "</style>\n",
       "<table border=\"1\" class=\"dataframe\">\n",
       "  <thead>\n",
       "    <tr style=\"text-align: right;\">\n",
       "      <th></th>\n",
       "      <th>Unnamed: 0</th>\n",
       "      <th>onset_time</th>\n",
       "      <th>kick</th>\n",
       "      <th>snare</th>\n",
       "      <th>hihat</th>\n",
       "      <th>tom</th>\n",
       "      <th>crash</th>\n",
       "      <th>ride</th>\n",
       "      <th>other</th>\n",
       "      <th>name</th>\n",
       "      <th>changed</th>\n",
       "      <th>split</th>\n",
       "      <th>click</th>\n",
       "      <th>uncertain</th>\n",
       "    </tr>\n",
       "  </thead>\n",
       "  <tbody>\n",
       "    <tr>\n",
       "      <th>0</th>\n",
       "      <td>0.0</td>\n",
       "      <td>45.429841</td>\n",
       "      <td>False</td>\n",
       "      <td>True</td>\n",
       "      <td>True</td>\n",
       "      <td>True</td>\n",
       "      <td>False</td>\n",
       "      <td>False</td>\n",
       "      <td>False</td>\n",
       "      <td>Crystallion - Eternia</td>\n",
       "      <td>True</td>\n",
       "      <td>training</td>\n",
       "      <td>NaN</td>\n",
       "      <td>NaN</td>\n",
       "    </tr>\n",
       "    <tr>\n",
       "      <th>1</th>\n",
       "      <td>1.0</td>\n",
       "      <td>45.615601</td>\n",
       "      <td>False</td>\n",
       "      <td>True</td>\n",
       "      <td>True</td>\n",
       "      <td>True</td>\n",
       "      <td>False</td>\n",
       "      <td>False</td>\n",
       "      <td>False</td>\n",
       "      <td>Crystallion - Eternia</td>\n",
       "      <td>True</td>\n",
       "      <td>training</td>\n",
       "      <td>NaN</td>\n",
       "      <td>NaN</td>\n",
       "    </tr>\n",
       "    <tr>\n",
       "      <th>2</th>\n",
       "      <td>3.0</td>\n",
       "      <td>45.952290</td>\n",
       "      <td>False</td>\n",
       "      <td>True</td>\n",
       "      <td>True</td>\n",
       "      <td>True</td>\n",
       "      <td>False</td>\n",
       "      <td>False</td>\n",
       "      <td>False</td>\n",
       "      <td>Crystallion - Eternia</td>\n",
       "      <td>True</td>\n",
       "      <td>training</td>\n",
       "      <td>NaN</td>\n",
       "      <td>NaN</td>\n",
       "    </tr>\n",
       "    <tr>\n",
       "      <th>3</th>\n",
       "      <td>4.0</td>\n",
       "      <td>46.114830</td>\n",
       "      <td>False</td>\n",
       "      <td>True</td>\n",
       "      <td>True</td>\n",
       "      <td>True</td>\n",
       "      <td>False</td>\n",
       "      <td>False</td>\n",
       "      <td>False</td>\n",
       "      <td>Crystallion - Eternia</td>\n",
       "      <td>True</td>\n",
       "      <td>training</td>\n",
       "      <td>NaN</td>\n",
       "      <td>NaN</td>\n",
       "    </tr>\n",
       "    <tr>\n",
       "      <th>4</th>\n",
       "      <td>5.0</td>\n",
       "      <td>46.288980</td>\n",
       "      <td>False</td>\n",
       "      <td>True</td>\n",
       "      <td>True</td>\n",
       "      <td>True</td>\n",
       "      <td>False</td>\n",
       "      <td>False</td>\n",
       "      <td>False</td>\n",
       "      <td>Crystallion - Eternia</td>\n",
       "      <td>True</td>\n",
       "      <td>training</td>\n",
       "      <td>NaN</td>\n",
       "      <td>NaN</td>\n",
       "    </tr>\n",
       "    <tr>\n",
       "      <th>...</th>\n",
       "      <td>...</td>\n",
       "      <td>...</td>\n",
       "      <td>...</td>\n",
       "      <td>...</td>\n",
       "      <td>...</td>\n",
       "      <td>...</td>\n",
       "      <td>...</td>\n",
       "      <td>...</td>\n",
       "      <td>...</td>\n",
       "      <td>...</td>\n",
       "      <td>...</td>\n",
       "      <td>...</td>\n",
       "      <td>...</td>\n",
       "      <td>...</td>\n",
       "    </tr>\n",
       "    <tr>\n",
       "      <th>5597</th>\n",
       "      <td>856.0</td>\n",
       "      <td>208.735782</td>\n",
       "      <td>False</td>\n",
       "      <td>False</td>\n",
       "      <td>False</td>\n",
       "      <td>True</td>\n",
       "      <td>False</td>\n",
       "      <td>False</td>\n",
       "      <td>False</td>\n",
       "      <td>Toehider - To Hide Her</td>\n",
       "      <td>True</td>\n",
       "      <td>training</td>\n",
       "      <td>NaN</td>\n",
       "      <td>NaN</td>\n",
       "    </tr>\n",
       "    <tr>\n",
       "      <th>5598</th>\n",
       "      <td>857.0</td>\n",
       "      <td>208.979592</td>\n",
       "      <td>False</td>\n",
       "      <td>False</td>\n",
       "      <td>False</td>\n",
       "      <td>True</td>\n",
       "      <td>False</td>\n",
       "      <td>False</td>\n",
       "      <td>False</td>\n",
       "      <td>Toehider - To Hide Her</td>\n",
       "      <td>True</td>\n",
       "      <td>training</td>\n",
       "      <td>NaN</td>\n",
       "      <td>NaN</td>\n",
       "    </tr>\n",
       "    <tr>\n",
       "      <th>5599</th>\n",
       "      <td>858.0</td>\n",
       "      <td>209.142132</td>\n",
       "      <td>False</td>\n",
       "      <td>False</td>\n",
       "      <td>False</td>\n",
       "      <td>True</td>\n",
       "      <td>False</td>\n",
       "      <td>False</td>\n",
       "      <td>False</td>\n",
       "      <td>Toehider - To Hide Her</td>\n",
       "      <td>True</td>\n",
       "      <td>training</td>\n",
       "      <td>NaN</td>\n",
       "      <td>NaN</td>\n",
       "    </tr>\n",
       "    <tr>\n",
       "      <th>5600</th>\n",
       "      <td>859.0</td>\n",
       "      <td>209.235011</td>\n",
       "      <td>False</td>\n",
       "      <td>False</td>\n",
       "      <td>False</td>\n",
       "      <td>True</td>\n",
       "      <td>False</td>\n",
       "      <td>False</td>\n",
       "      <td>False</td>\n",
       "      <td>Toehider - To Hide Her</td>\n",
       "      <td>True</td>\n",
       "      <td>training</td>\n",
       "      <td>NaN</td>\n",
       "      <td>NaN</td>\n",
       "    </tr>\n",
       "    <tr>\n",
       "      <th>5601</th>\n",
       "      <td>861.0</td>\n",
       "      <td>209.397551</td>\n",
       "      <td>True</td>\n",
       "      <td>False</td>\n",
       "      <td>False</td>\n",
       "      <td>False</td>\n",
       "      <td>True</td>\n",
       "      <td>False</td>\n",
       "      <td>False</td>\n",
       "      <td>Toehider - To Hide Her</td>\n",
       "      <td>True</td>\n",
       "      <td>training</td>\n",
       "      <td>NaN</td>\n",
       "      <td>NaN</td>\n",
       "    </tr>\n",
       "  </tbody>\n",
       "</table>\n",
       "<p>5602 rows × 14 columns</p>\n",
       "</div>"
      ],
      "text/plain": [
       "      Unnamed: 0  onset_time   kick  snare  hihat    tom  crash   ride  other  \\\n",
       "0            0.0   45.429841  False   True   True   True  False  False  False   \n",
       "1            1.0   45.615601  False   True   True   True  False  False  False   \n",
       "2            3.0   45.952290  False   True   True   True  False  False  False   \n",
       "3            4.0   46.114830  False   True   True   True  False  False  False   \n",
       "4            5.0   46.288980  False   True   True   True  False  False  False   \n",
       "...          ...         ...    ...    ...    ...    ...    ...    ...    ...   \n",
       "5597       856.0  208.735782  False  False  False   True  False  False  False   \n",
       "5598       857.0  208.979592  False  False  False   True  False  False  False   \n",
       "5599       858.0  209.142132  False  False  False   True  False  False  False   \n",
       "5600       859.0  209.235011  False  False  False   True  False  False  False   \n",
       "5601       861.0  209.397551   True  False  False  False   True  False  False   \n",
       "\n",
       "                        name  changed     split click uncertain  \n",
       "0      Crystallion - Eternia     True  training   NaN       NaN  \n",
       "1      Crystallion - Eternia     True  training   NaN       NaN  \n",
       "2      Crystallion - Eternia     True  training   NaN       NaN  \n",
       "3      Crystallion - Eternia     True  training   NaN       NaN  \n",
       "4      Crystallion - Eternia     True  training   NaN       NaN  \n",
       "...                      ...      ...       ...   ...       ...  \n",
       "5597  Toehider - To Hide Her     True  training   NaN       NaN  \n",
       "5598  Toehider - To Hide Her     True  training   NaN       NaN  \n",
       "5599  Toehider - To Hide Her     True  training   NaN       NaN  \n",
       "5600  Toehider - To Hide Her     True  training   NaN       NaN  \n",
       "5601  Toehider - To Hide Her     True  training   NaN       NaN  \n",
       "\n",
       "[5602 rows x 14 columns]"
      ]
     },
     "execution_count": 2,
     "metadata": {},
     "output_type": "execute_result"
    }
   ],
   "source": [
    "dataset_name = \"HeartsOnFireDS-v.1.0.3\"\n",
    "n_fft = 1024\n",
    "\n",
    "df = pd.read_csv(os.path.join(dataset_name, \"master.csv\"))\n",
    "train_df = pd.DataFrame()\n",
    "valid_df = pd.DataFrame()\n",
    "\n",
    "for idx, row in df.iterrows():\n",
    "    onsets_path = row['onsets']\n",
    "    onsets_df = pd.read_csv(onsets_path)\n",
    "    train_onsets = onsets_df[onsets_df['split'] == 'training']\n",
    "    valid_onsets = onsets_df[onsets_df['split'] == 'validation']\n",
    "    \n",
    "    # Append to respective dataframes\n",
    "    train_df = pd.concat([train_df, train_onsets], ignore_index=True)\n",
    "    valid_df = pd.concat([valid_df, valid_onsets], ignore_index=True)\n",
    "\n",
    "train_df"
   ]
  },
  {
   "attachments": {},
   "cell_type": "markdown",
   "metadata": {},
   "source": [
    "### Setting custom weights based on the amount of classes in dataset"
   ]
  },
  {
   "attachments": {},
   "cell_type": "markdown",
   "metadata": {},
   "source": [
    "Also possible to alter the weight of the cymbal classes to force the model to be more accurate at classifying them."
   ]
  },
  {
   "cell_type": "code",
   "execution_count": 3,
   "metadata": {},
   "outputs": [
    {
     "data": {
      "text/plain": [
       "tensor([0.4488, 0.7198, 0.6256, 3.3700, 2.6250, 9.4111])"
      ]
     },
     "execution_count": 3,
     "metadata": {},
     "output_type": "execute_result"
    }
   ],
   "source": [
    "counts = train_df.select_dtypes(include=bool).sum(axis=0)\n",
    "counts = counts.drop(['other', 'changed'])\n",
    "weights = counts.sum() / (counts * len(counts))\n",
    "weights_tensor = torch.Tensor(list(weights.values))\n",
    "#weights_tensor[2] = 1.0 # giving extra weight to the hihat class\n",
    "weights_tensor"
   ]
  },
  {
   "attachments": {},
   "cell_type": "markdown",
   "metadata": {},
   "source": [
    "### Defining the dataset class with a custom transform pipeline"
   ]
  },
  {
   "attachments": {},
   "cell_type": "markdown",
   "metadata": {},
   "source": [
    "Note the `torch_audiomentations` transforms are implemented differently than the rest of the transforms, requiring the input tensors to be 4D: `[batch, num_channels, freq, time]`. Since we only have a 2D tensor of `[freq, time]`, we will add the extra dimensions and then remove them after we added the necessary data augmentation transforms. \n",
    "\n",
    "Bit of a cheaty solution, but I found this method performs the fastest if performed within the transform pipeline."
   ]
  },
  {
   "cell_type": "code",
   "execution_count": 74,
   "metadata": {},
   "outputs": [],
   "source": [
    "train_transform_mfccs = torchvision.transforms.Compose([\n",
    "    torchvision.transforms.Lambda(lambda x: x.to(\"cuda\")),\n",
    "    # torchvision.transforms.Lambda(lambda x: x.unsqueeze(0).unsqueeze(0)),\n",
    "    # torch_audiomentations.AddColoredNoise(\n",
    "    #             min_snr_in_db=3,\n",
    "    #             max_snr_in_db=30,\n",
    "    #             sample_rate=44100,\n",
    "    #             p=0.5,\n",
    "    #             output_type='tensor'\n",
    "    #         ).to(\"cuda\"),\n",
    "    # torch_audiomentations.Shift(\n",
    "    #         min_shift=-0.15,\n",
    "    #         max_shift=0.15,\n",
    "    #         rollover=False,\n",
    "    #         p=0.5,\n",
    "    #         sample_rate=44100,\n",
    "    #         output_type='tensor'\n",
    "    #     ).to(\"cuda\"),\n",
    "    # torch_audiomentations.PitchShift(\n",
    "    #         min_transpose_semitones=-1,\n",
    "    #         max_transpose_semitones=1,\n",
    "    #         p=0.25,\n",
    "    #         sample_rate=44100,\n",
    "    #         output_type='tensor'\n",
    "    #     ).to(\"cuda\"),\n",
    "    # torch_audiomentations.Gain(p=0.5, output_type='tensor').to(\"cuda\"),\n",
    "    # torchvision.transforms.Lambda(lambda x: x.squeeze(0).squeeze(0)),\n",
    "    torchvision.transforms.Lambda(lambda x: torch.stack([\n",
    "            torchaudio.transforms.MelSpectrogram(\n",
    "                n_fft=n_fft,\n",
    "                hop_length=64,\n",
    "                n_mels=128\n",
    "            ).to(\"cuda\")(x),\n",
    "            torchaudio.transforms.MFCC(\n",
    "                n_mfcc=128,\n",
    "                melkwargs={'n_fft': n_fft, 'hop_length': 64, 'n_mels': 128}\n",
    "            ).to(\"cuda\")(x)\n",
    "            ], dim=0).to(\"cuda\")),\n",
    "    torchvision.transforms.Lambda(lambda x: torch.stack([\n",
    "            torchaudio.transforms.AmplitudeToDB().to(\"cuda\")(x[0]),\n",
    "            x[0],\n",
    "            x[1]\n",
    "        ], dim=0).to(\"cuda\")),\n",
    "    torchvision.transforms.Lambda(lambda x: x.to(\"cpu\")),\n",
    "])\n",
    "\n",
    "valid_transform_mfccs = torchvision.transforms.Compose([\n",
    "    torchvision.transforms.Lambda(lambda x: x.to(\"cuda\")),\n",
    "    torchvision.transforms.Lambda(lambda x: torch.stack([\n",
    "            torchaudio.transforms.MelSpectrogram(\n",
    "                n_fft=n_fft,\n",
    "                hop_length=64,\n",
    "                n_mels=128\n",
    "            ).to(\"cuda\")(x),\n",
    "    torchaudio.transforms.MFCC(\n",
    "                n_mfcc=128,\n",
    "                melkwargs={'n_fft': n_fft, 'hop_length': 64, 'n_mels': 128}).to(\"cuda\")(x)\n",
    "            ], dim=0).to(\"cuda\")),\n",
    "    torchvision.transforms.Lambda(lambda x: torch.stack([\n",
    "            torchaudio.transforms.AmplitudeToDB().to(\"cuda\")(x[0]),\n",
    "            x[0],\n",
    "            x[1]\n",
    "        ], dim=0).to(\"cuda\")),\n",
    "    torchvision.transforms.Lambda(lambda x: x.to(\"cpu\"))\n",
    "])\n",
    "\n",
    "fast_transform = torchvision.transforms.Compose([\n",
    "    torchvision.transforms.Lambda(lambda x: x.to(\"cuda\")),\n",
    "    torchvision.transforms.Lambda(lambda x: torch.stack([\n",
    "            torchaudio.transforms.MelSpectrogram(\n",
    "                n_fft=n_fft,\n",
    "                hop_length=64,\n",
    "                n_mels=128\n",
    "            ).to(\"cuda\")(x)\n",
    "        ], dim=0).to(\"cuda\")),\n",
    "    torchvision.transforms.Lambda(lambda x: torch.stack([\n",
    "            torchaudio.transforms.AmplitudeToDB().to(\"cuda\")(x[0]),\n",
    "            x[0],\n",
    "        ], dim=0).to(\"cuda\")),\n",
    "    torchvision.transforms.Lambda(lambda x: x.to(\"cpu\"))\n",
    "])"
   ]
  },
  {
   "cell_type": "code",
   "execution_count": 80,
   "metadata": {},
   "outputs": [],
   "source": [
    "drum_labels = ['kick', 'snare', 'hihat', 'tom', 'crash', 'ride']\n",
    "\n",
    "class DrumDataset(Dataset):\n",
    "    def __init__(self, df, master_csv_path, transform, window_size=8192):\n",
    "        self.df = df\n",
    "        self.master_df = pd.read_csv(master_csv_path)\n",
    "        self.window_size = window_size\n",
    "        self.transform = transform\n",
    "        self.audio_cache = {}\n",
    "\n",
    "        for i, row in self.master_df.iterrows():\n",
    "            audio_path = row['drums']\n",
    "            audio, sr = torchaudio.load(audio_path, format=\"mp3\")\n",
    "            if audio.shape[0] == 2:\n",
    "                audio = torch.mean(audio, dim=0, keepdim=True)\n",
    "            self.audio_cache[row['name']] = (audio, sr)\n",
    "        \n",
    "    def __len__(self):\n",
    "        return len(self.df)\n",
    "    \n",
    "    def __getitem__(self, idx):\n",
    "        # Load the onset time, label, and track name for the given index\n",
    "        row = self.df.iloc[idx]\n",
    "        onset_time = row['onset_time']\n",
    "        labels = row[drum_labels].astype(int).values.flatten()\n",
    "        labels = torch.tensor(labels).float()\n",
    "        track_name = row['name']\n",
    "        #print(track_name, onset_time)\n",
    "\n",
    "        audio = self.audio_cache[track_name][0]\n",
    "        sr = self.audio_cache[track_name][1]\n",
    "\n",
    "        onset_window = audio[:, int(onset_time*sr)-self.window_size//2:int(onset_time*sr)+self.window_size//2]\n",
    "        spec = self.transform(onset_window[0])\n",
    "        return spec, labels\n",
    "\n",
    "valid_dataset = DrumDataset(valid_df, os.path.join(dataset_name, \"master.csv\"), fast_transform)\n",
    "train_dataset = DrumDataset(train_df, os.path.join(dataset_name, \"master.csv\"), fast_transform)"
   ]
  },
  {
   "attachments": {},
   "cell_type": "markdown",
   "metadata": {},
   "source": [
    "### Getting a random onset and displaying the melspectrogram"
   ]
  },
  {
   "cell_type": "code",
   "execution_count": 81,
   "metadata": {},
   "outputs": [
    {
     "name": "stdout",
     "output_type": "stream",
     "text": [
      "4286 tensor([1., 0., 1., 0., 0., 0.])\n"
     ]
    },
    {
     "data": {
      "image/png": "[encoded data removed]",
      "text/plain": [
       "<Figure size 1000x400 with 2 Axes>"
      ]
     },
     "metadata": {},
     "output_type": "display_data"
    }
   ],
   "source": [
    "rand = random.randint(1, len(train_df))\n",
    "a, x = train_dataset.__getitem__(rand)\n",
    "specgram = a[1].detach().squeeze(0).numpy()\n",
    "print(rand, x)\n",
    "\n",
    "plt.figure(figsize=(10, 4))\n",
    "plt.imshow(specgram, cmap='Spectral_r', origin='lower')\n",
    "plt.xlabel('Time')\n",
    "plt.ylabel('Frequency')\n",
    "plt.colorbar()\n",
    "plt.show()\n",
    "#477 "
   ]
  },
  {
   "attachments": {},
   "cell_type": "markdown",
   "metadata": {},
   "source": [
    "## Defining the model architecture"
   ]
  },
  {
   "attachments": {},
   "cell_type": "markdown",
   "metadata": {},
   "source": [
    "### Model A"
   ]
  },
  {
   "attachments": {},
   "cell_type": "markdown",
   "metadata": {},
   "source": [
    "**Initial filter size:** `16`"
   ]
  },
  {
   "cell_type": "code",
   "execution_count": 82,
   "metadata": {},
   "outputs": [],
   "source": [
    "# Define the neural network architecture\n",
    "class DrumCNN(nn.Module):\n",
    "    def __init__(self):\n",
    "        super(DrumCNN, self).__init__()\n",
    "        \n",
    "        # Convolutional Layers\n",
    "        self.conv1 = nn.Conv2d(2, 16, kernel_size=3, stride=1, padding=1) # input channels\n",
    "        self.bn1 = nn.BatchNorm2d(16)\n",
    "        self.relu1 = nn.ReLU()\n",
    "        self.pool1 = nn.MaxPool2d(kernel_size=2, stride=2)\n",
    "        \n",
    "        self.conv2 = nn.Conv2d(16, 32, kernel_size=3, stride=1, padding=1)\n",
    "        self.bn2 = nn.BatchNorm2d(32)\n",
    "        self.relu2 = nn.ReLU()\n",
    "        self.pool2 = nn.MaxPool2d(kernel_size=2, stride=2)\n",
    "        \n",
    "        self.conv3 = nn.Conv2d(32, 64, kernel_size=3, stride=1, padding=1)\n",
    "        self.bn3 = nn.BatchNorm2d(64)\n",
    "        self.relu3 = nn.ReLU()\n",
    "        self.pool3 = nn.MaxPool2d(kernel_size=2, stride=2)\n",
    "        \n",
    "        self.conv4 = nn.Conv2d(64, 128, kernel_size=3, stride=1, padding=1)\n",
    "        self.bn4 = nn.BatchNorm2d(128)\n",
    "        self.relu4 = nn.ReLU()\n",
    "        self.pool4 = nn.MaxPool2d(kernel_size=2, stride=2)\n",
    "\n",
    "        # Fully Connected Layers\n",
    "        self.fc1 = nn.Linear(128 * 8 * 8, 512)\n",
    "        self.bn5 = nn.BatchNorm1d(512)\n",
    "        self.relu5 = nn.ReLU()\n",
    "        self.dropout1 = nn.Dropout(p=0.5)\n",
    "        \n",
    "        self.fc2 = nn.Linear(512, 256)\n",
    "        self.bn6 = nn.BatchNorm1d(256)\n",
    "        self.relu6 = nn.ReLU()\n",
    "        self.dropout2 = nn.Dropout(p=0.4)\n",
    "        \n",
    "        self.fc3 = nn.Linear(256, len(drum_labels))\n",
    "    \n",
    "    def forward(self, x):\n",
    "        # Convolutional Layers\n",
    "        x = self.conv1(x)\n",
    "        x = self.bn1(x)\n",
    "        x = self.relu1(x)\n",
    "        x = self.pool1(x)\n",
    "        \n",
    "        x = self.conv2(x)\n",
    "        x = self.bn2(x)\n",
    "        x = self.relu2(x)\n",
    "        x = self.pool2(x)\n",
    "        \n",
    "        x = self.conv3(x)\n",
    "        x = self.bn3(x)\n",
    "        x = self.relu3(x)\n",
    "        x = self.pool3(x)\n",
    "        \n",
    "        x = self.conv4(x)\n",
    "        x = self.bn4(x)\n",
    "        x = self.relu4(x)\n",
    "        x = self.pool4(x)\n",
    "        \n",
    "        # Flatten\n",
    "        x = x.view(x.size(0), -1)\n",
    "        \n",
    "        # Fully Connected Layers\n",
    "        x = self.fc1(x)\n",
    "        x = self.bn5(x)\n",
    "        x = self.relu5(x)\n",
    "        x = self.dropout1(x)\n",
    "        \n",
    "        x = self.fc2(x)\n",
    "        x = self.bn6(x)\n",
    "        x = self.relu6(x)\n",
    "        x = self.dropout2(x)\n",
    "        \n",
    "        x = self.fc3(x)\n",
    "        \n",
    "        return x\n",
    "\n",
    "device = torch.device('cuda')"
   ]
  },
  {
   "attachments": {},
   "cell_type": "markdown",
   "metadata": {},
   "source": [
    "### Model B"
   ]
  },
  {
   "attachments": {},
   "cell_type": "markdown",
   "metadata": {},
   "source": [
    "**Initial filter size:** `32`\n",
    "\n",
    "Thought about increasing the initial filter size to help with identifying hi-hats, performance is worse by 2-4% compared to Model A. Only run the following cell if you want to override Model A."
   ]
  },
  {
   "cell_type": "code",
   "execution_count": 5,
   "metadata": {},
   "outputs": [],
   "source": [
    "class DrumCNN(nn.Module):\n",
    "    def __init__(self):\n",
    "        super(DrumCNN, self).__init__()\n",
    "        \n",
    "        # Convolutional Layers\n",
    "        self.conv1 = nn.Conv2d(3, 32, kernel_size=3, stride=1, padding=1)\n",
    "        self.bn1 = nn.BatchNorm2d(32)\n",
    "        self.relu1 = nn.ReLU()\n",
    "        self.pool1 = nn.MaxPool2d(kernel_size=2, stride=2)\n",
    "        \n",
    "        self.conv2 = nn.Conv2d(32, 64, kernel_size=3, stride=1, padding=1)\n",
    "        self.bn2 = nn.BatchNorm2d(64)\n",
    "        self.relu2 = nn.ReLU()\n",
    "        self.pool2 = nn.MaxPool2d(kernel_size=2, stride=2)\n",
    "        \n",
    "        self.conv3 = nn.Conv2d(64, 128, kernel_size=3, stride=1, padding=1)\n",
    "        self.bn3 = nn.BatchNorm2d(128)\n",
    "        self.relu3 = nn.ReLU()\n",
    "        self.pool3 = nn.MaxPool2d(kernel_size=2, stride=2)\n",
    "        \n",
    "        self.conv4 = nn.Conv2d(128, 256, kernel_size=3, stride=1, padding=1)\n",
    "        self.bn4 = nn.BatchNorm2d(256)\n",
    "        self.relu4 = nn.ReLU()\n",
    "        self.pool4 = nn.MaxPool2d(kernel_size=2, stride=2)\n",
    "\n",
    "        # Fully Connected Layers\n",
    "        self.fc1 = nn.Linear(256 * 8 * 8, 512)\n",
    "        self.bn5 = nn.BatchNorm1d(512)\n",
    "        self.relu5 = nn.ReLU()\n",
    "        self.dropout1 = nn.Dropout(p=0.5)\n",
    "        \n",
    "        self.fc2 = nn.Linear(512, 256)\n",
    "        self.bn6 = nn.BatchNorm1d(256)\n",
    "        self.relu6 = nn.ReLU()\n",
    "        self.dropout2 = nn.Dropout(p=0.4)\n",
    "        \n",
    "        self.fc3 = nn.Linear(256, len(drum_labels))\n",
    "    \n",
    "    def forward(self, x):\n",
    "        # Convolutional Layers\n",
    "        x = self.conv1(x)\n",
    "        x = self.bn1(x)\n",
    "        x = self.relu1(x)\n",
    "        x = self.pool1(x)\n",
    "        \n",
    "        x = self.conv2(x)\n",
    "        x = self.bn2(x)\n",
    "        x = self.relu2(x)\n",
    "        x = self.pool2(x)\n",
    "        \n",
    "        x = self.conv3(x)\n",
    "        x = self.bn3(x)\n",
    "        x = self.relu3(x)\n",
    "        x = self.pool3(x)\n",
    "        \n",
    "        x = self.conv4(x)\n",
    "        x = self.bn4(x)\n",
    "        x = self.relu4(x)\n",
    "        x = self.pool4(x)\n",
    "        \n",
    "        # Flatten\n",
    "        x = x.view(x.size(0), -1)\n",
    "        \n",
    "        # Fully Connected Layers\n",
    "        x = self.fc1(x)\n",
    "        x = self.bn5(x)\n",
    "        x = self.relu5(x)\n",
    "        x = self.dropout1(x)\n",
    "        \n",
    "        x = self.fc2(x)\n",
    "        x = self.bn6(x)\n",
    "        x = self.relu6(x)\n",
    "        x = self.dropout2(x)\n",
    "        \n",
    "        x = self.fc3(x)\n",
    "        \n",
    "        return x"
   ]
  },
  {
   "attachments": {},
   "cell_type": "markdown",
   "metadata": {},
   "source": [
    "## Training"
   ]
  },
  {
   "attachments": {},
   "cell_type": "markdown",
   "metadata": {},
   "source": [
    "### Hyperparameters"
   ]
  },
  {
   "cell_type": "code",
   "execution_count": 96,
   "metadata": {},
   "outputs": [],
   "source": [
    "n_epochs = 800\n",
    "learning_rate = 0.001\n",
    "batch_size = 16"
   ]
  },
  {
   "attachments": {},
   "cell_type": "markdown",
   "metadata": {},
   "source": [
    "### Loss function, optimizer, scheduler"
   ]
  },
  {
   "cell_type": "code",
   "execution_count": 97,
   "metadata": {},
   "outputs": [],
   "source": [
    "def accuracy(outputs, labels, threshold=0.0):\n",
    "    with torch.no_grad():\n",
    "        preds = (outputs > threshold).float()\n",
    "        correct = (preds == labels).sum(dim=1).eq(labels.shape[1]).sum().item()\n",
    "        total = labels.shape[0]\n",
    "        return 100 * correct / total\n",
    "\n",
    "# Create data loaders for training and validation sets\n",
    "train_loader = DataLoader(train_dataset, batch_size=batch_size, shuffle=True)\n",
    "valid_loader = DataLoader(valid_dataset, batch_size=batch_size, shuffle=False)\n",
    "\n",
    "# Initialize the neural network and optimizer\n",
    "model = DrumCNN().to(device)\n",
    "optimizer = optim.Adam(model.parameters(), lr=learning_rate)\n",
    "scheduler = optim.lr_scheduler.ReduceLROnPlateau(optimizer, mode='min', patience=2, factor=0.1)\n",
    "start_epoch = 0\n",
    "valid_loss = 0.0\n",
    "\n",
    "# Define the loss function\n",
    "criterion = nn.BCEWithLogitsLoss(weight=weights_tensor.to(device))"
   ]
  },
  {
   "attachments": {},
   "cell_type": "markdown",
   "metadata": {},
   "source": [
    "### Loading previous checkpoint to continue training"
   ]
  },
  {
   "cell_type": "code",
   "execution_count": 99,
   "metadata": {},
   "outputs": [],
   "source": [
    "saved_model_dict = torch.load('models/HeartsOnFire-v.1.0.3_nfft1024_nomfcc_89.47.pth', map_location=device)\n",
    "model.load_state_dict(saved_model_dict['model'])\n",
    "scheduler.load_state_dict(saved_model_dict['scheduler'])\n",
    "optimizer.load_state_dict(saved_model_dict['optimizer'])\n",
    "start_epoch = saved_model_dict['epoch']\n",
    "n_epochs += start_epoch+1"
   ]
  },
  {
   "attachments": {},
   "cell_type": "markdown",
   "metadata": {},
   "source": [
    "### Main loop"
   ]
  },
  {
   "cell_type": "code",
   "execution_count": 100,
   "metadata": {},
   "outputs": [
    {
     "name": "stderr",
     "output_type": "stream",
     "text": [
      "Epoch 84/884 Training: 100%|██████████| 351/351 [00:39<00:00,  8.85batch/s]\n",
      "Epoch 84/884 Validation: 100%|██████████| 88/88 [00:10<00:00,  8.58batch/s]\n"
     ]
    },
    {
     "name": "stdout",
     "output_type": "stream",
     "text": [
      "Epoch 84/884, Train Loss: 0.0441, Train Acc: 89.47%, Valid Loss: 0.1110, Valid Acc: 88.26%\n"
     ]
    },
    {
     "name": "stderr",
     "output_type": "stream",
     "text": [
      "Epoch 85/884 Training: 100%|██████████| 351/351 [00:39<00:00,  8.82batch/s]\n",
      "Epoch 85/884 Validation: 100%|██████████| 88/88 [00:10<00:00,  8.75batch/s]\n"
     ]
    },
    {
     "name": "stdout",
     "output_type": "stream",
     "text": [
      "Epoch 85/884, Train Loss: 0.0476, Train Acc: 89.16%, Valid Loss: 0.1083, Valid Acc: 88.26%\n"
     ]
    },
    {
     "name": "stderr",
     "output_type": "stream",
     "text": [
      "Epoch 86/884 Training: 100%|██████████| 351/351 [00:41<00:00,  8.53batch/s]\n",
      "Epoch 86/884 Validation: 100%|██████████| 88/88 [00:09<00:00,  8.91batch/s]\n"
     ]
    },
    {
     "name": "stdout",
     "output_type": "stream",
     "text": [
      "Epoch 86/884, Train Loss: 0.0463, Train Acc: 89.38%, Valid Loss: 0.1129, Valid Acc: 88.05%\n"
     ]
    },
    {
     "name": "stderr",
     "output_type": "stream",
     "text": [
      "Epoch 87/884 Training: 100%|██████████| 351/351 [00:40<00:00,  8.71batch/s]\n",
      "Epoch 87/884 Validation: 100%|██████████| 88/88 [00:09<00:00,  8.96batch/s]\n"
     ]
    },
    {
     "name": "stdout",
     "output_type": "stream",
     "text": [
      "Epoch 87/884, Train Loss: 0.0448, Train Acc: 89.59%, Valid Loss: 0.1196, Valid Acc: 87.41%\n"
     ]
    },
    {
     "name": "stderr",
     "output_type": "stream",
     "text": [
      "Epoch 88/884 Training: 100%|██████████| 351/351 [00:39<00:00,  8.87batch/s]\n",
      "Epoch 88/884 Validation: 100%|██████████| 88/88 [00:10<00:00,  8.60batch/s]\n"
     ]
    },
    {
     "name": "stdout",
     "output_type": "stream",
     "text": [
      "Epoch 88/884, Train Loss: 0.0442, Train Acc: 89.40%, Valid Loss: 0.1103, Valid Acc: 88.48%\n"
     ]
    },
    {
     "name": "stderr",
     "output_type": "stream",
     "text": [
      "Epoch 89/884 Training: 100%|██████████| 351/351 [00:39<00:00,  8.96batch/s]\n",
      "Epoch 89/884 Validation: 100%|██████████| 88/88 [00:10<00:00,  8.78batch/s]\n"
     ]
    },
    {
     "name": "stdout",
     "output_type": "stream",
     "text": [
      "Epoch 89/884, Train Loss: 0.0463, Train Acc: 89.13%, Valid Loss: 0.1115, Valid Acc: 89.12%\n"
     ]
    },
    {
     "name": "stderr",
     "output_type": "stream",
     "text": [
      "Epoch 90/884 Training: 100%|██████████| 351/351 [00:39<00:00,  8.84batch/s]\n",
      "Epoch 90/884 Validation: 100%|██████████| 88/88 [00:10<00:00,  8.67batch/s]\n"
     ]
    },
    {
     "name": "stdout",
     "output_type": "stream",
     "text": [
      "Epoch 90/884, Train Loss: 0.0436, Train Acc: 90.09%, Valid Loss: 0.1069, Valid Acc: 89.26%\n"
     ]
    },
    {
     "name": "stderr",
     "output_type": "stream",
     "text": [
      "Epoch 91/884 Training: 100%|██████████| 351/351 [00:39<00:00,  8.82batch/s]\n",
      "Epoch 91/884 Validation: 100%|██████████| 88/88 [00:09<00:00,  8.80batch/s]\n"
     ]
    },
    {
     "name": "stdout",
     "output_type": "stream",
     "text": [
      "Epoch 91/884, Train Loss: 0.0449, Train Acc: 89.27%, Valid Loss: 0.1109, Valid Acc: 88.48%\n"
     ]
    },
    {
     "name": "stderr",
     "output_type": "stream",
     "text": [
      "Epoch 92/884 Training: 100%|██████████| 351/351 [00:39<00:00,  8.80batch/s]\n",
      "Epoch 92/884 Validation: 100%|██████████| 88/88 [00:09<00:00,  8.83batch/s]\n",
      "Exception ignored in: <function WeakMethod.__new__.<locals>._cb at 0x000001B00C403D00>\n",
      "Traceback (most recent call last):\n",
      "  File \"C:\\Users\\pdimo\\AppData\\Local\\Programs\\Python\\Python310\\lib\\weakref.py\", line 61, in _cb\n",
      "    callback(self)\n",
      "  File \"c:\\Work\\Final Project\\HeartsOnFire\\.venv\\lib\\site-packages\\matplotlib\\cbook\\__init__.py\", line 254, in _remove_proxy\n",
      "    del self.callbacks[signal][cid]\n",
      "KeyError: 'changed'\n"
     ]
    },
    {
     "name": "stdout",
     "output_type": "stream",
     "text": [
      "Epoch 92/884, Train Loss: 0.0464, Train Acc: 89.56%, Valid Loss: 0.1194, Valid Acc: 88.69%\n"
     ]
    },
    {
     "name": "stderr",
     "output_type": "stream",
     "text": [
      "Epoch 93/884 Training: 100%|██████████| 351/351 [00:39<00:00,  8.94batch/s]\n",
      "Epoch 93/884 Validation: 100%|██████████| 88/88 [00:10<00:00,  8.76batch/s]\n"
     ]
    },
    {
     "name": "stdout",
     "output_type": "stream",
     "text": [
      "Epoch 93/884, Train Loss: 0.0470, Train Acc: 88.91%, Valid Loss: 0.1108, Valid Acc: 88.83%\n"
     ]
    },
    {
     "name": "stderr",
     "output_type": "stream",
     "text": [
      "Epoch 94/884 Training: 100%|██████████| 351/351 [00:39<00:00,  8.83batch/s]\n",
      "Epoch 94/884 Validation: 100%|██████████| 88/88 [00:09<00:00,  9.02batch/s]\n"
     ]
    },
    {
     "name": "stdout",
     "output_type": "stream",
     "text": [
      "Epoch 94/884, Train Loss: 0.0470, Train Acc: 89.08%, Valid Loss: 0.1120, Valid Acc: 87.84%\n"
     ]
    },
    {
     "name": "stderr",
     "output_type": "stream",
     "text": [
      "Epoch 95/884 Training: 100%|██████████| 351/351 [00:39<00:00,  8.81batch/s]\n",
      "Epoch 95/884 Validation: 100%|██████████| 88/88 [00:10<00:00,  8.27batch/s]\n"
     ]
    },
    {
     "name": "stdout",
     "output_type": "stream",
     "text": [
      "Epoch 95/884, Train Loss: 0.0463, Train Acc: 89.29%, Valid Loss: 0.1159, Valid Acc: 88.90%\n"
     ]
    },
    {
     "name": "stderr",
     "output_type": "stream",
     "text": [
      "Epoch 96/884 Training: 100%|██████████| 351/351 [00:40<00:00,  8.66batch/s]\n",
      "Epoch 96/884 Validation: 100%|██████████| 88/88 [00:10<00:00,  8.76batch/s]\n"
     ]
    },
    {
     "name": "stdout",
     "output_type": "stream",
     "text": [
      "Epoch 96/884, Train Loss: 0.0452, Train Acc: 89.59%, Valid Loss: 0.1198, Valid Acc: 88.34%\n"
     ]
    },
    {
     "name": "stderr",
     "output_type": "stream",
     "text": [
      "Epoch 97/884 Training: 100%|██████████| 351/351 [00:39<00:00,  8.96batch/s]\n",
      "Epoch 97/884 Validation: 100%|██████████| 88/88 [00:10<00:00,  8.70batch/s]\n"
     ]
    },
    {
     "name": "stdout",
     "output_type": "stream",
     "text": [
      "Epoch 97/884, Train Loss: 0.0465, Train Acc: 89.31%, Valid Loss: 0.1119, Valid Acc: 88.12%\n"
     ]
    },
    {
     "name": "stderr",
     "output_type": "stream",
     "text": [
      "Epoch 98/884 Training: 100%|██████████| 351/351 [00:39<00:00,  8.91batch/s]\n",
      "Epoch 98/884 Validation: 100%|██████████| 88/88 [00:10<00:00,  8.79batch/s]\n"
     ]
    },
    {
     "name": "stdout",
     "output_type": "stream",
     "text": [
      "Epoch 98/884, Train Loss: 0.0470, Train Acc: 89.45%, Valid Loss: 0.1090, Valid Acc: 88.48%\n"
     ]
    },
    {
     "name": "stderr",
     "output_type": "stream",
     "text": [
      "Epoch 99/884 Training: 100%|██████████| 351/351 [00:39<00:00,  8.86batch/s]\n",
      "Epoch 99/884 Validation: 100%|██████████| 88/88 [00:09<00:00,  8.84batch/s]\n"
     ]
    },
    {
     "name": "stdout",
     "output_type": "stream",
     "text": [
      "Epoch 99/884, Train Loss: 0.0440, Train Acc: 89.59%, Valid Loss: 0.1078, Valid Acc: 89.19%\n"
     ]
    },
    {
     "name": "stderr",
     "output_type": "stream",
     "text": [
      "Epoch 100/884 Training: 100%|██████████| 351/351 [00:39<00:00,  8.85batch/s]\n",
      "Epoch 100/884 Validation: 100%|██████████| 88/88 [00:10<00:00,  8.70batch/s]\n"
     ]
    },
    {
     "name": "stdout",
     "output_type": "stream",
     "text": [
      "Epoch 100/884, Train Loss: 0.0463, Train Acc: 89.54%, Valid Loss: 0.1180, Valid Acc: 88.12%\n"
     ]
    },
    {
     "name": "stderr",
     "output_type": "stream",
     "text": [
      "Epoch 101/884 Training: 100%|██████████| 351/351 [00:39<00:00,  8.97batch/s]\n",
      "Epoch 101/884 Validation: 100%|██████████| 88/88 [00:10<00:00,  8.67batch/s]\n"
     ]
    },
    {
     "name": "stdout",
     "output_type": "stream",
     "text": [
      "Epoch 101/884, Train Loss: 0.0443, Train Acc: 90.02%, Valid Loss: 0.1100, Valid Acc: 89.12%\n"
     ]
    },
    {
     "name": "stderr",
     "output_type": "stream",
     "text": [
      "Epoch 102/884 Training: 100%|██████████| 351/351 [00:39<00:00,  8.96batch/s]\n",
      "Epoch 102/884 Validation: 100%|██████████| 88/88 [00:09<00:00,  8.98batch/s]\n"
     ]
    },
    {
     "name": "stdout",
     "output_type": "stream",
     "text": [
      "Epoch 102/884, Train Loss: 0.0475, Train Acc: 89.41%, Valid Loss: 0.1086, Valid Acc: 88.05%\n"
     ]
    },
    {
     "name": "stderr",
     "output_type": "stream",
     "text": [
      "Epoch 103/884 Training: 100%|██████████| 351/351 [00:40<00:00,  8.61batch/s]\n",
      "Epoch 103/884 Validation: 100%|██████████| 88/88 [00:09<00:00,  8.98batch/s]\n"
     ]
    },
    {
     "name": "stdout",
     "output_type": "stream",
     "text": [
      "Epoch 103/884, Train Loss: 0.0471, Train Acc: 89.70%, Valid Loss: 0.1075, Valid Acc: 89.26%\n"
     ]
    },
    {
     "name": "stderr",
     "output_type": "stream",
     "text": [
      "Epoch 104/884 Training: 100%|██████████| 351/351 [00:41<00:00,  8.38batch/s]\n",
      "Epoch 104/884 Validation: 100%|██████████| 88/88 [00:09<00:00,  8.94batch/s]\n"
     ]
    },
    {
     "name": "stdout",
     "output_type": "stream",
     "text": [
      "Epoch 104/884, Train Loss: 0.0499, Train Acc: 88.52%, Valid Loss: 0.1116, Valid Acc: 89.05%\n"
     ]
    },
    {
     "name": "stderr",
     "output_type": "stream",
     "text": [
      "Epoch 105/884 Training: 100%|██████████| 351/351 [00:40<00:00,  8.72batch/s]\n",
      "Epoch 105/884 Validation: 100%|██████████| 88/88 [00:10<00:00,  8.67batch/s]\n"
     ]
    },
    {
     "name": "stdout",
     "output_type": "stream",
     "text": [
      "Epoch 105/884, Train Loss: 0.0444, Train Acc: 89.75%, Valid Loss: 0.1113, Valid Acc: 89.12%\n"
     ]
    },
    {
     "name": "stderr",
     "output_type": "stream",
     "text": [
      "Epoch 106/884 Training: 100%|██████████| 351/351 [00:39<00:00,  9.00batch/s]\n",
      "Epoch 106/884 Validation: 100%|██████████| 88/88 [00:10<00:00,  8.66batch/s]\n"
     ]
    },
    {
     "name": "stdout",
     "output_type": "stream",
     "text": [
      "Epoch 106/884, Train Loss: 0.0485, Train Acc: 89.45%, Valid Loss: 0.1147, Valid Acc: 88.83%\n"
     ]
    },
    {
     "name": "stderr",
     "output_type": "stream",
     "text": [
      "Epoch 107/884 Training: 100%|██████████| 351/351 [00:39<00:00,  8.92batch/s]\n",
      "Epoch 107/884 Validation: 100%|██████████| 88/88 [00:10<00:00,  8.73batch/s]\n",
      "Exception ignored in: <function WeakMethod.__new__.<locals>._cb at 0x000001B098D45D80>\n",
      "Traceback (most recent call last):\n",
      "  File \"C:\\Users\\pdimo\\AppData\\Local\\Programs\\Python\\Python310\\lib\\weakref.py\", line 61, in _cb\n",
      "    callback(self)\n",
      "  File \"c:\\Work\\Final Project\\HeartsOnFire\\.venv\\lib\\site-packages\\matplotlib\\cbook\\__init__.py\", line 254, in _remove_proxy\n",
      "    del self.callbacks[signal][cid]\n",
      "KeyError: 'changed'\n"
     ]
    },
    {
     "name": "stdout",
     "output_type": "stream",
     "text": [
      "Epoch 107/884, Train Loss: 0.0452, Train Acc: 89.58%, Valid Loss: 0.1139, Valid Acc: 89.47%\n"
     ]
    },
    {
     "name": "stderr",
     "output_type": "stream",
     "text": [
      "Epoch 108/884 Training: 100%|██████████| 351/351 [00:39<00:00,  8.92batch/s]\n",
      "Epoch 108/884 Validation: 100%|██████████| 88/88 [00:09<00:00,  8.93batch/s]\n"
     ]
    },
    {
     "name": "stdout",
     "output_type": "stream",
     "text": [
      "Epoch 108/884, Train Loss: 0.0514, Train Acc: 89.22%, Valid Loss: 0.1092, Valid Acc: 89.05%\n"
     ]
    },
    {
     "name": "stderr",
     "output_type": "stream",
     "text": [
      "Epoch 109/884 Training: 100%|██████████| 351/351 [00:39<00:00,  8.97batch/s]\n",
      "Epoch 109/884 Validation: 100%|██████████| 88/88 [00:10<00:00,  8.70batch/s]\n"
     ]
    },
    {
     "name": "stdout",
     "output_type": "stream",
     "text": [
      "Epoch 109/884, Train Loss: 0.0440, Train Acc: 89.56%, Valid Loss: 0.1080, Valid Acc: 88.69%\n"
     ]
    },
    {
     "name": "stderr",
     "output_type": "stream",
     "text": [
      "Epoch 110/884 Training: 100%|██████████| 351/351 [00:40<00:00,  8.57batch/s]\n",
      "Epoch 110/884 Validation: 100%|██████████| 88/88 [00:10<00:00,  8.74batch/s]\n"
     ]
    },
    {
     "name": "stdout",
     "output_type": "stream",
     "text": [
      "Epoch 110/884, Train Loss: 0.0464, Train Acc: 89.40%, Valid Loss: 0.1067, Valid Acc: 88.41%\n"
     ]
    },
    {
     "name": "stderr",
     "output_type": "stream",
     "text": [
      "Epoch 111/884 Training: 100%|██████████| 351/351 [00:39<00:00,  8.78batch/s]\n",
      "Epoch 111/884 Validation: 100%|██████████| 88/88 [00:09<00:00,  8.96batch/s]\n"
     ]
    },
    {
     "name": "stdout",
     "output_type": "stream",
     "text": [
      "Epoch 111/884, Train Loss: 0.0467, Train Acc: 89.38%, Valid Loss: 0.1075, Valid Acc: 89.26%\n"
     ]
    },
    {
     "name": "stderr",
     "output_type": "stream",
     "text": [
      "Epoch 112/884 Training: 100%|██████████| 351/351 [00:39<00:00,  8.90batch/s]\n",
      "Epoch 112/884 Validation: 100%|██████████| 88/88 [00:10<00:00,  8.71batch/s]\n"
     ]
    },
    {
     "name": "stdout",
     "output_type": "stream",
     "text": [
      "Epoch 112/884, Train Loss: 0.0461, Train Acc: 89.95%, Valid Loss: 0.1151, Valid Acc: 89.26%\n"
     ]
    },
    {
     "name": "stderr",
     "output_type": "stream",
     "text": [
      "Epoch 113/884 Training: 100%|██████████| 351/351 [00:39<00:00,  8.93batch/s]\n",
      "Epoch 113/884 Validation: 100%|██████████| 88/88 [00:10<00:00,  8.76batch/s]\n"
     ]
    },
    {
     "name": "stdout",
     "output_type": "stream",
     "text": [
      "Epoch 113/884, Train Loss: 0.0445, Train Acc: 89.41%, Valid Loss: 0.1110, Valid Acc: 88.34%\n"
     ]
    },
    {
     "name": "stderr",
     "output_type": "stream",
     "text": [
      "Epoch 114/884 Training: 100%|██████████| 351/351 [00:39<00:00,  8.98batch/s]\n",
      "Epoch 114/884 Validation: 100%|██████████| 88/88 [00:10<00:00,  8.60batch/s]\n"
     ]
    },
    {
     "name": "stdout",
     "output_type": "stream",
     "text": [
      "Epoch 114/884, Train Loss: 0.0467, Train Acc: 89.25%, Valid Loss: 0.1138, Valid Acc: 88.19%\n"
     ]
    },
    {
     "name": "stderr",
     "output_type": "stream",
     "text": [
      "Epoch 115/884 Training: 100%|██████████| 351/351 [00:39<00:00,  8.96batch/s]\n",
      "Epoch 115/884 Validation: 100%|██████████| 88/88 [00:10<00:00,  8.66batch/s]\n"
     ]
    },
    {
     "name": "stdout",
     "output_type": "stream",
     "text": [
      "Epoch 115/884, Train Loss: 0.0489, Train Acc: 88.40%, Valid Loss: 0.1126, Valid Acc: 89.19%\n"
     ]
    },
    {
     "name": "stderr",
     "output_type": "stream",
     "text": [
      "Epoch 116/884 Training: 100%|██████████| 351/351 [00:39<00:00,  8.98batch/s]\n",
      "Epoch 116/884 Validation: 100%|██████████| 88/88 [00:10<00:00,  8.71batch/s]\n"
     ]
    },
    {
     "name": "stdout",
     "output_type": "stream",
     "text": [
      "Epoch 116/884, Train Loss: 0.0484, Train Acc: 88.72%, Valid Loss: 0.1098, Valid Acc: 88.55%\n"
     ]
    },
    {
     "name": "stderr",
     "output_type": "stream",
     "text": [
      "Epoch 117/884 Training: 100%|██████████| 351/351 [00:39<00:00,  8.88batch/s]\n",
      "Epoch 117/884 Validation: 100%|██████████| 88/88 [00:09<00:00,  8.95batch/s]\n"
     ]
    },
    {
     "name": "stdout",
     "output_type": "stream",
     "text": [
      "Epoch 117/884, Train Loss: 0.0441, Train Acc: 89.72%, Valid Loss: 0.1186, Valid Acc: 87.91%\n"
     ]
    },
    {
     "name": "stderr",
     "output_type": "stream",
     "text": [
      "Epoch 118/884 Training: 100%|██████████| 351/351 [00:39<00:00,  8.96batch/s]\n",
      "Epoch 118/884 Validation: 100%|██████████| 88/88 [00:09<00:00,  8.96batch/s]\n"
     ]
    },
    {
     "name": "stdout",
     "output_type": "stream",
     "text": [
      "Epoch 118/884, Train Loss: 0.0461, Train Acc: 89.61%, Valid Loss: 0.1118, Valid Acc: 88.69%\n"
     ]
    },
    {
     "name": "stderr",
     "output_type": "stream",
     "text": [
      "Epoch 119/884 Training: 100%|██████████| 351/351 [00:39<00:00,  9.00batch/s]\n",
      "Epoch 119/884 Validation: 100%|██████████| 88/88 [00:09<00:00,  9.04batch/s]\n"
     ]
    },
    {
     "name": "stdout",
     "output_type": "stream",
     "text": [
      "Epoch 119/884, Train Loss: 0.0463, Train Acc: 89.49%, Valid Loss: 0.1124, Valid Acc: 87.70%\n"
     ]
    },
    {
     "name": "stderr",
     "output_type": "stream",
     "text": [
      "Epoch 120/884 Training: 100%|██████████| 351/351 [00:39<00:00,  8.91batch/s]\n",
      "Epoch 120/884 Validation: 100%|██████████| 88/88 [00:09<00:00,  9.10batch/s]\n"
     ]
    },
    {
     "name": "stdout",
     "output_type": "stream",
     "text": [
      "Epoch 120/884, Train Loss: 0.0456, Train Acc: 88.88%, Valid Loss: 0.1131, Valid Acc: 88.98%\n"
     ]
    },
    {
     "name": "stderr",
     "output_type": "stream",
     "text": [
      "Epoch 121/884 Training: 100%|██████████| 351/351 [00:39<00:00,  8.99batch/s]\n",
      "Epoch 121/884 Validation: 100%|██████████| 88/88 [00:10<00:00,  8.79batch/s]\n"
     ]
    },
    {
     "name": "stdout",
     "output_type": "stream",
     "text": [
      "Epoch 121/884, Train Loss: 0.0474, Train Acc: 88.95%, Valid Loss: 0.1105, Valid Acc: 89.05%\n"
     ]
    },
    {
     "name": "stderr",
     "output_type": "stream",
     "text": [
      "Epoch 122/884 Training: 100%|██████████| 351/351 [00:41<00:00,  8.49batch/s]\n",
      "Epoch 122/884 Validation: 100%|██████████| 88/88 [00:09<00:00,  9.11batch/s]\n"
     ]
    },
    {
     "name": "stdout",
     "output_type": "stream",
     "text": [
      "Epoch 122/884, Train Loss: 0.0447, Train Acc: 89.83%, Valid Loss: 0.1114, Valid Acc: 88.55%\n"
     ]
    },
    {
     "name": "stderr",
     "output_type": "stream",
     "text": [
      "Epoch 123/884 Training: 100%|██████████| 351/351 [00:39<00:00,  8.78batch/s]\n",
      "Epoch 123/884 Validation: 100%|██████████| 88/88 [00:08<00:00, 10.60batch/s]\n"
     ]
    },
    {
     "name": "stdout",
     "output_type": "stream",
     "text": [
      "Epoch 123/884, Train Loss: 0.0451, Train Acc: 89.81%, Valid Loss: 0.1127, Valid Acc: 89.12%\n"
     ]
    },
    {
     "name": "stderr",
     "output_type": "stream",
     "text": [
      "Epoch 124/884 Training: 100%|██████████| 351/351 [00:40<00:00,  8.60batch/s]\n",
      "Epoch 124/884 Validation: 100%|██████████| 88/88 [00:08<00:00, 10.60batch/s]\n"
     ]
    },
    {
     "name": "stdout",
     "output_type": "stream",
     "text": [
      "Epoch 124/884, Train Loss: 0.0448, Train Acc: 89.81%, Valid Loss: 0.1156, Valid Acc: 88.26%\n"
     ]
    },
    {
     "name": "stderr",
     "output_type": "stream",
     "text": [
      "Epoch 125/884 Training: 100%|██████████| 351/351 [00:39<00:00,  8.80batch/s]\n",
      "Epoch 125/884 Validation: 100%|██████████| 88/88 [00:09<00:00,  9.61batch/s]\n"
     ]
    },
    {
     "name": "stdout",
     "output_type": "stream",
     "text": [
      "Epoch 125/884, Train Loss: 0.0459, Train Acc: 89.75%, Valid Loss: 0.1084, Valid Acc: 89.19%\n"
     ]
    },
    {
     "name": "stderr",
     "output_type": "stream",
     "text": [
      "Epoch 126/884 Training: 100%|██████████| 351/351 [00:39<00:00,  8.79batch/s]\n",
      "Epoch 126/884 Validation: 100%|██████████| 88/88 [00:09<00:00,  9.76batch/s]\n"
     ]
    },
    {
     "name": "stdout",
     "output_type": "stream",
     "text": [
      "Epoch 126/884, Train Loss: 0.0461, Train Acc: 89.27%, Valid Loss: 0.1123, Valid Acc: 88.55%\n"
     ]
    },
    {
     "name": "stderr",
     "output_type": "stream",
     "text": [
      "Epoch 127/884 Training: 100%|██████████| 351/351 [00:38<00:00,  9.03batch/s]\n",
      "Epoch 127/884 Validation: 100%|██████████| 88/88 [00:09<00:00,  9.33batch/s]\n"
     ]
    },
    {
     "name": "stdout",
     "output_type": "stream",
     "text": [
      "Epoch 127/884, Train Loss: 0.0486, Train Acc: 89.59%, Valid Loss: 0.1105, Valid Acc: 88.83%\n"
     ]
    },
    {
     "name": "stderr",
     "output_type": "stream",
     "text": [
      "Epoch 128/884 Training: 100%|██████████| 351/351 [00:39<00:00,  8.92batch/s]\n",
      "Epoch 128/884 Validation: 100%|██████████| 88/88 [00:07<00:00, 11.14batch/s]\n"
     ]
    },
    {
     "name": "stdout",
     "output_type": "stream",
     "text": [
      "Epoch 128/884, Train Loss: 0.0475, Train Acc: 89.22%, Valid Loss: 0.1104, Valid Acc: 88.26%\n"
     ]
    },
    {
     "name": "stderr",
     "output_type": "stream",
     "text": [
      "Epoch 129/884 Training: 100%|██████████| 351/351 [00:40<00:00,  8.64batch/s]\n",
      "Epoch 129/884 Validation: 100%|██████████| 88/88 [00:09<00:00,  9.69batch/s]\n"
     ]
    },
    {
     "name": "stdout",
     "output_type": "stream",
     "text": [
      "Epoch 129/884, Train Loss: 0.0443, Train Acc: 89.72%, Valid Loss: 0.1157, Valid Acc: 89.12%\n"
     ]
    },
    {
     "name": "stderr",
     "output_type": "stream",
     "text": [
      "Epoch 130/884 Training: 100%|██████████| 351/351 [00:39<00:00,  8.91batch/s]\n",
      "Epoch 130/884 Validation: 100%|██████████| 88/88 [00:09<00:00,  9.33batch/s]\n"
     ]
    },
    {
     "name": "stdout",
     "output_type": "stream",
     "text": [
      "Epoch 130/884, Train Loss: 0.0455, Train Acc: 89.77%, Valid Loss: 0.1105, Valid Acc: 88.69%\n"
     ]
    },
    {
     "name": "stderr",
     "output_type": "stream",
     "text": [
      "Epoch 131/884 Training: 100%|██████████| 351/351 [00:39<00:00,  8.91batch/s]\n",
      "Epoch 131/884 Validation: 100%|██████████| 88/88 [00:08<00:00, 10.25batch/s]\n"
     ]
    },
    {
     "name": "stdout",
     "output_type": "stream",
     "text": [
      "Epoch 131/884, Train Loss: 0.0435, Train Acc: 89.66%, Valid Loss: 0.1139, Valid Acc: 89.05%\n"
     ]
    },
    {
     "name": "stderr",
     "output_type": "stream",
     "text": [
      "Epoch 132/884 Training: 100%|██████████| 351/351 [00:39<00:00,  8.78batch/s]\n",
      "Epoch 132/884 Validation: 100%|██████████| 88/88 [00:08<00:00, 10.33batch/s]\n"
     ]
    },
    {
     "name": "stdout",
     "output_type": "stream",
     "text": [
      "Epoch 132/884, Train Loss: 0.0448, Train Acc: 89.40%, Valid Loss: 0.1054, Valid Acc: 88.98%\n"
     ]
    },
    {
     "name": "stderr",
     "output_type": "stream",
     "text": [
      "Epoch 133/884 Training: 100%|██████████| 351/351 [00:39<00:00,  8.81batch/s]\n",
      "Epoch 133/884 Validation: 100%|██████████| 88/88 [00:08<00:00, 10.31batch/s]\n"
     ]
    },
    {
     "name": "stdout",
     "output_type": "stream",
     "text": [
      "Epoch 133/884, Train Loss: 0.0431, Train Acc: 89.31%, Valid Loss: 0.1095, Valid Acc: 88.83%\n"
     ]
    },
    {
     "name": "stderr",
     "output_type": "stream",
     "text": [
      "Epoch 134/884 Training: 100%|██████████| 351/351 [00:39<00:00,  8.81batch/s]\n",
      "Epoch 134/884 Validation: 100%|██████████| 88/88 [00:08<00:00, 10.05batch/s]\n"
     ]
    },
    {
     "name": "stdout",
     "output_type": "stream",
     "text": [
      "Epoch 134/884, Train Loss: 0.0462, Train Acc: 89.81%, Valid Loss: 0.1208, Valid Acc: 87.84%\n"
     ]
    },
    {
     "name": "stderr",
     "output_type": "stream",
     "text": [
      "Epoch 135/884 Training: 100%|██████████| 351/351 [00:38<00:00,  9.18batch/s]\n",
      "Epoch 135/884 Validation: 100%|██████████| 88/88 [00:08<00:00,  9.78batch/s]\n"
     ]
    },
    {
     "name": "stdout",
     "output_type": "stream",
     "text": [
      "Epoch 135/884, Train Loss: 0.0486, Train Acc: 88.68%, Valid Loss: 0.1198, Valid Acc: 88.26%\n"
     ]
    },
    {
     "name": "stderr",
     "output_type": "stream",
     "text": [
      "Epoch 136/884 Training: 100%|██████████| 351/351 [00:39<00:00,  8.99batch/s]\n",
      "Epoch 136/884 Validation: 100%|██████████| 88/88 [00:08<00:00, 10.58batch/s]\n"
     ]
    },
    {
     "name": "stdout",
     "output_type": "stream",
     "text": [
      "Epoch 136/884, Train Loss: 0.0455, Train Acc: 89.29%, Valid Loss: 0.1077, Valid Acc: 89.33%\n"
     ]
    },
    {
     "name": "stderr",
     "output_type": "stream",
     "text": [
      "Epoch 137/884 Training: 100%|██████████| 351/351 [00:38<00:00,  9.07batch/s]\n",
      "Epoch 137/884 Validation: 100%|██████████| 88/88 [00:08<00:00, 10.31batch/s]\n"
     ]
    },
    {
     "name": "stdout",
     "output_type": "stream",
     "text": [
      "Epoch 137/884, Train Loss: 0.0465, Train Acc: 90.15%, Valid Loss: 0.1093, Valid Acc: 88.62%\n"
     ]
    },
    {
     "name": "stderr",
     "output_type": "stream",
     "text": [
      "Epoch 138/884 Training: 100%|██████████| 351/351 [00:40<00:00,  8.77batch/s]\n",
      "Epoch 138/884 Validation: 100%|██████████| 88/88 [00:09<00:00,  8.87batch/s]\n"
     ]
    },
    {
     "name": "stdout",
     "output_type": "stream",
     "text": [
      "Epoch 138/884, Train Loss: 0.0434, Train Acc: 90.40%, Valid Loss: 0.1082, Valid Acc: 88.83%\n"
     ]
    },
    {
     "name": "stderr",
     "output_type": "stream",
     "text": [
      "Epoch 139/884 Training: 100%|██████████| 351/351 [00:38<00:00,  9.23batch/s]\n",
      "Epoch 139/884 Validation: 100%|██████████| 88/88 [00:09<00:00,  9.68batch/s]\n"
     ]
    },
    {
     "name": "stdout",
     "output_type": "stream",
     "text": [
      "Epoch 139/884, Train Loss: 0.0473, Train Acc: 88.86%, Valid Loss: 0.1099, Valid Acc: 88.69%\n"
     ]
    },
    {
     "name": "stderr",
     "output_type": "stream",
     "text": [
      "Epoch 140/884 Training: 100%|██████████| 351/351 [00:40<00:00,  8.64batch/s]\n",
      "Epoch 140/884 Validation: 100%|██████████| 88/88 [00:09<00:00,  9.24batch/s]\n"
     ]
    },
    {
     "name": "stdout",
     "output_type": "stream",
     "text": [
      "Epoch 140/884, Train Loss: 0.0444, Train Acc: 89.33%, Valid Loss: 0.1145, Valid Acc: 88.62%\n"
     ]
    },
    {
     "name": "stderr",
     "output_type": "stream",
     "text": [
      "Epoch 141/884 Training: 100%|██████████| 351/351 [00:39<00:00,  8.78batch/s]\n",
      "Epoch 141/884 Validation: 100%|██████████| 88/88 [00:07<00:00, 11.38batch/s]\n"
     ]
    },
    {
     "name": "stdout",
     "output_type": "stream",
     "text": [
      "Epoch 141/884, Train Loss: 0.0480, Train Acc: 89.31%, Valid Loss: 0.1101, Valid Acc: 89.19%\n"
     ]
    },
    {
     "name": "stderr",
     "output_type": "stream",
     "text": [
      "Epoch 142/884 Training: 100%|██████████| 351/351 [00:39<00:00,  8.92batch/s]\n",
      "Epoch 142/884 Validation: 100%|██████████| 88/88 [00:08<00:00, 10.03batch/s]\n"
     ]
    },
    {
     "name": "stdout",
     "output_type": "stream",
     "text": [
      "Epoch 142/884, Train Loss: 0.0477, Train Acc: 89.18%, Valid Loss: 0.1084, Valid Acc: 89.47%\n"
     ]
    },
    {
     "name": "stderr",
     "output_type": "stream",
     "text": [
      "Epoch 143/884 Training: 100%|██████████| 351/351 [00:40<00:00,  8.71batch/s]\n",
      "Epoch 143/884 Validation: 100%|██████████| 88/88 [00:09<00:00,  9.20batch/s]\n"
     ]
    },
    {
     "name": "stdout",
     "output_type": "stream",
     "text": [
      "Epoch 143/884, Train Loss: 0.0438, Train Acc: 89.50%, Valid Loss: 0.1093, Valid Acc: 88.83%\n"
     ]
    },
    {
     "name": "stderr",
     "output_type": "stream",
     "text": [
      "Epoch 144/884 Training: 100%|██████████| 351/351 [00:39<00:00,  8.97batch/s]\n",
      "Epoch 144/884 Validation: 100%|██████████| 88/88 [00:09<00:00,  9.29batch/s]\n"
     ]
    },
    {
     "name": "stdout",
     "output_type": "stream",
     "text": [
      "Epoch 144/884, Train Loss: 0.0449, Train Acc: 88.95%, Valid Loss: 0.1090, Valid Acc: 88.26%\n"
     ]
    },
    {
     "name": "stderr",
     "output_type": "stream",
     "text": [
      "Epoch 145/884 Training: 100%|██████████| 351/351 [00:40<00:00,  8.73batch/s]\n",
      "Epoch 145/884 Validation: 100%|██████████| 88/88 [00:08<00:00, 10.93batch/s]\n"
     ]
    },
    {
     "name": "stdout",
     "output_type": "stream",
     "text": [
      "Epoch 145/884, Train Loss: 0.0498, Train Acc: 89.61%, Valid Loss: 0.1112, Valid Acc: 89.19%\n"
     ]
    },
    {
     "name": "stderr",
     "output_type": "stream",
     "text": [
      "Epoch 146/884 Training: 100%|██████████| 351/351 [00:38<00:00,  9.05batch/s]\n",
      "Epoch 146/884 Validation: 100%|██████████| 88/88 [00:09<00:00,  8.83batch/s]\n"
     ]
    },
    {
     "name": "stdout",
     "output_type": "stream",
     "text": [
      "Epoch 146/884, Train Loss: 0.0461, Train Acc: 89.97%, Valid Loss: 0.1099, Valid Acc: 88.26%\n"
     ]
    },
    {
     "name": "stderr",
     "output_type": "stream",
     "text": [
      "Epoch 147/884 Training: 100%|██████████| 351/351 [00:38<00:00,  9.04batch/s]\n",
      "Epoch 147/884 Validation: 100%|██████████| 88/88 [00:09<00:00,  9.37batch/s]\n"
     ]
    },
    {
     "name": "stdout",
     "output_type": "stream",
     "text": [
      "Epoch 147/884, Train Loss: 0.0481, Train Acc: 89.41%, Valid Loss: 0.1185, Valid Acc: 88.05%\n"
     ]
    },
    {
     "name": "stderr",
     "output_type": "stream",
     "text": [
      "Epoch 148/884 Training: 100%|██████████| 351/351 [00:39<00:00,  8.98batch/s]\n",
      "Epoch 148/884 Validation: 100%|██████████| 88/88 [00:09<00:00,  9.70batch/s]\n"
     ]
    },
    {
     "name": "stdout",
     "output_type": "stream",
     "text": [
      "Epoch 148/884, Train Loss: 0.0467, Train Acc: 89.11%, Valid Loss: 0.1153, Valid Acc: 88.34%\n"
     ]
    },
    {
     "name": "stderr",
     "output_type": "stream",
     "text": [
      "Epoch 149/884 Training: 100%|██████████| 351/351 [00:39<00:00,  8.90batch/s]\n",
      "Epoch 149/884 Validation: 100%|██████████| 88/88 [00:09<00:00,  9.36batch/s]\n"
     ]
    },
    {
     "name": "stdout",
     "output_type": "stream",
     "text": [
      "Epoch 149/884, Train Loss: 0.0461, Train Acc: 89.41%, Valid Loss: 0.1094, Valid Acc: 89.19%\n"
     ]
    },
    {
     "name": "stderr",
     "output_type": "stream",
     "text": [
      "Epoch 150/884 Training: 100%|██████████| 351/351 [00:39<00:00,  8.85batch/s]\n",
      "Epoch 150/884 Validation: 100%|██████████| 88/88 [00:09<00:00,  9.27batch/s]\n"
     ]
    },
    {
     "name": "stdout",
     "output_type": "stream",
     "text": [
      "Epoch 150/884, Train Loss: 0.0463, Train Acc: 89.75%, Valid Loss: 0.1097, Valid Acc: 89.19%\n"
     ]
    },
    {
     "name": "stderr",
     "output_type": "stream",
     "text": [
      "Epoch 151/884 Training: 100%|██████████| 351/351 [00:40<00:00,  8.75batch/s]\n",
      "Epoch 151/884 Validation: 100%|██████████| 88/88 [00:08<00:00, 10.25batch/s]\n"
     ]
    },
    {
     "name": "stdout",
     "output_type": "stream",
     "text": [
      "Epoch 151/884, Train Loss: 0.0460, Train Acc: 88.84%, Valid Loss: 0.1187, Valid Acc: 88.83%\n"
     ]
    },
    {
     "name": "stderr",
     "output_type": "stream",
     "text": [
      "Epoch 152/884 Training: 100%|██████████| 351/351 [00:39<00:00,  8.85batch/s]\n",
      "Epoch 152/884 Validation: 100%|██████████| 88/88 [00:09<00:00,  9.47batch/s]\n"
     ]
    },
    {
     "name": "stdout",
     "output_type": "stream",
     "text": [
      "Epoch 152/884, Train Loss: 0.0433, Train Acc: 89.90%, Valid Loss: 0.1137, Valid Acc: 88.69%\n"
     ]
    },
    {
     "name": "stderr",
     "output_type": "stream",
     "text": [
      "Epoch 153/884 Training: 100%|██████████| 351/351 [00:39<00:00,  8.88batch/s]\n",
      "Epoch 153/884 Validation: 100%|██████████| 88/88 [00:09<00:00,  9.26batch/s]\n"
     ]
    },
    {
     "name": "stdout",
     "output_type": "stream",
     "text": [
      "Epoch 153/884, Train Loss: 0.0443, Train Acc: 89.65%, Valid Loss: 0.1138, Valid Acc: 89.12%\n"
     ]
    },
    {
     "name": "stderr",
     "output_type": "stream",
     "text": [
      "Epoch 154/884 Training: 100%|██████████| 351/351 [00:39<00:00,  8.80batch/s]\n",
      "Epoch 154/884 Validation: 100%|██████████| 88/88 [00:09<00:00,  9.60batch/s]\n"
     ]
    },
    {
     "name": "stdout",
     "output_type": "stream",
     "text": [
      "Epoch 154/884, Train Loss: 0.0451, Train Acc: 89.52%, Valid Loss: 0.1082, Valid Acc: 88.41%\n"
     ]
    },
    {
     "name": "stderr",
     "output_type": "stream",
     "text": [
      "Epoch 155/884 Training: 100%|██████████| 351/351 [00:39<00:00,  8.92batch/s]\n",
      "Epoch 155/884 Validation: 100%|██████████| 88/88 [00:09<00:00,  8.81batch/s]\n"
     ]
    },
    {
     "name": "stdout",
     "output_type": "stream",
     "text": [
      "Epoch 155/884, Train Loss: 0.0453, Train Acc: 89.79%, Valid Loss: 0.1126, Valid Acc: 88.90%\n"
     ]
    },
    {
     "name": "stderr",
     "output_type": "stream",
     "text": [
      "Epoch 156/884 Training: 100%|██████████| 351/351 [00:38<00:00,  9.01batch/s]\n",
      "Epoch 156/884 Validation: 100%|██████████| 88/88 [00:08<00:00, 10.43batch/s]\n"
     ]
    },
    {
     "name": "stdout",
     "output_type": "stream",
     "text": [
      "Epoch 156/884, Train Loss: 0.0446, Train Acc: 89.38%, Valid Loss: 0.1123, Valid Acc: 87.98%\n"
     ]
    },
    {
     "name": "stderr",
     "output_type": "stream",
     "text": [
      "Epoch 157/884 Training: 100%|██████████| 351/351 [00:40<00:00,  8.75batch/s]\n",
      "Epoch 157/884 Validation: 100%|██████████| 88/88 [00:07<00:00, 11.19batch/s]\n"
     ]
    },
    {
     "name": "stdout",
     "output_type": "stream",
     "text": [
      "Epoch 157/884, Train Loss: 0.0468, Train Acc: 89.52%, Valid Loss: 0.1093, Valid Acc: 88.62%\n"
     ]
    },
    {
     "name": "stderr",
     "output_type": "stream",
     "text": [
      "Epoch 158/884 Training: 100%|██████████| 351/351 [00:39<00:00,  8.83batch/s]\n",
      "Epoch 158/884 Validation: 100%|██████████| 88/88 [00:08<00:00, 10.14batch/s]\n"
     ]
    },
    {
     "name": "stdout",
     "output_type": "stream",
     "text": [
      "Epoch 158/884, Train Loss: 0.0444, Train Acc: 89.16%, Valid Loss: 0.1123, Valid Acc: 88.48%\n"
     ]
    },
    {
     "name": "stderr",
     "output_type": "stream",
     "text": [
      "Epoch 159/884 Training: 100%|██████████| 351/351 [00:39<00:00,  8.83batch/s]\n",
      "Epoch 159/884 Validation: 100%|██████████| 88/88 [00:09<00:00,  9.69batch/s]\n"
     ]
    },
    {
     "name": "stdout",
     "output_type": "stream",
     "text": [
      "Epoch 159/884, Train Loss: 0.0459, Train Acc: 89.08%, Valid Loss: 0.1121, Valid Acc: 88.69%\n"
     ]
    },
    {
     "name": "stderr",
     "output_type": "stream",
     "text": [
      "Epoch 160/884 Training: 100%|██████████| 351/351 [00:38<00:00,  9.05batch/s]\n",
      "Epoch 160/884 Validation: 100%|██████████| 88/88 [00:08<00:00,  9.94batch/s]\n"
     ]
    },
    {
     "name": "stdout",
     "output_type": "stream",
     "text": [
      "Epoch 160/884, Train Loss: 0.0471, Train Acc: 89.29%, Valid Loss: 0.1196, Valid Acc: 88.48%\n"
     ]
    },
    {
     "name": "stderr",
     "output_type": "stream",
     "text": [
      "Epoch 161/884 Training: 100%|██████████| 351/351 [00:39<00:00,  8.98batch/s]\n",
      "Epoch 161/884 Validation: 100%|██████████| 88/88 [00:08<00:00, 10.93batch/s]\n"
     ]
    },
    {
     "name": "stdout",
     "output_type": "stream",
     "text": [
      "Epoch 161/884, Train Loss: 0.0442, Train Acc: 89.81%, Valid Loss: 0.1080, Valid Acc: 88.83%\n"
     ]
    },
    {
     "name": "stderr",
     "output_type": "stream",
     "text": [
      "Epoch 162/884 Training: 100%|██████████| 351/351 [00:39<00:00,  8.96batch/s]\n",
      "Epoch 162/884 Validation: 100%|██████████| 88/88 [00:09<00:00,  8.98batch/s]\n"
     ]
    },
    {
     "name": "stdout",
     "output_type": "stream",
     "text": [
      "Epoch 162/884, Train Loss: 0.0454, Train Acc: 89.47%, Valid Loss: 0.1122, Valid Acc: 88.90%\n"
     ]
    },
    {
     "name": "stderr",
     "output_type": "stream",
     "text": [
      "Epoch 163/884 Training: 100%|██████████| 351/351 [00:38<00:00,  9.07batch/s]\n",
      "Epoch 163/884 Validation: 100%|██████████| 88/88 [00:08<00:00, 10.26batch/s]\n"
     ]
    },
    {
     "name": "stdout",
     "output_type": "stream",
     "text": [
      "Epoch 163/884, Train Loss: 0.0445, Train Acc: 89.43%, Valid Loss: 0.1142, Valid Acc: 87.84%\n"
     ]
    },
    {
     "name": "stderr",
     "output_type": "stream",
     "text": [
      "Epoch 164/884 Training: 100%|██████████| 351/351 [00:38<00:00,  9.03batch/s]\n",
      "Epoch 164/884 Validation: 100%|██████████| 88/88 [00:09<00:00,  9.70batch/s]\n"
     ]
    },
    {
     "name": "stdout",
     "output_type": "stream",
     "text": [
      "Epoch 164/884, Train Loss: 0.0465, Train Acc: 89.29%, Valid Loss: 0.1084, Valid Acc: 88.12%\n"
     ]
    },
    {
     "name": "stderr",
     "output_type": "stream",
     "text": [
      "Epoch 165/884 Training: 100%|██████████| 351/351 [00:40<00:00,  8.77batch/s]\n",
      "Epoch 165/884 Validation: 100%|██████████| 88/88 [00:08<00:00, 10.63batch/s]\n"
     ]
    },
    {
     "name": "stdout",
     "output_type": "stream",
     "text": [
      "Epoch 165/884, Train Loss: 0.0465, Train Acc: 89.25%, Valid Loss: 0.1130, Valid Acc: 88.62%\n"
     ]
    },
    {
     "name": "stderr",
     "output_type": "stream",
     "text": [
      "Epoch 166/884 Training: 100%|██████████| 351/351 [00:39<00:00,  8.82batch/s]\n",
      "Epoch 166/884 Validation: 100%|██████████| 88/88 [00:09<00:00,  9.08batch/s]\n"
     ]
    },
    {
     "name": "stdout",
     "output_type": "stream",
     "text": [
      "Epoch 166/884, Train Loss: 0.0482, Train Acc: 89.11%, Valid Loss: 0.1104, Valid Acc: 89.47%\n"
     ]
    },
    {
     "name": "stderr",
     "output_type": "stream",
     "text": [
      "Epoch 167/884 Training: 100%|██████████| 351/351 [00:39<00:00,  8.99batch/s]\n",
      "Epoch 167/884 Validation: 100%|██████████| 88/88 [00:09<00:00,  9.44batch/s]\n"
     ]
    },
    {
     "name": "stdout",
     "output_type": "stream",
     "text": [
      "Epoch 167/884, Train Loss: 0.0466, Train Acc: 89.36%, Valid Loss: 0.1235, Valid Acc: 87.27%\n"
     ]
    },
    {
     "name": "stderr",
     "output_type": "stream",
     "text": [
      "Epoch 168/884 Training: 100%|██████████| 351/351 [00:40<00:00,  8.77batch/s]\n",
      "Epoch 168/884 Validation: 100%|██████████| 88/88 [00:08<00:00,  9.87batch/s]\n"
     ]
    },
    {
     "name": "stdout",
     "output_type": "stream",
     "text": [
      "Epoch 168/884, Train Loss: 0.0449, Train Acc: 89.88%, Valid Loss: 0.1136, Valid Acc: 88.62%\n"
     ]
    },
    {
     "name": "stderr",
     "output_type": "stream",
     "text": [
      "Epoch 169/884 Training: 100%|██████████| 351/351 [00:39<00:00,  8.88batch/s]\n",
      "Epoch 169/884 Validation: 100%|██████████| 88/88 [00:09<00:00,  9.16batch/s]\n"
     ]
    },
    {
     "name": "stdout",
     "output_type": "stream",
     "text": [
      "Epoch 169/884, Train Loss: 0.0436, Train Acc: 89.38%, Valid Loss: 0.1128, Valid Acc: 88.48%\n"
     ]
    },
    {
     "name": "stderr",
     "output_type": "stream",
     "text": [
      "Epoch 170/884 Training: 100%|██████████| 351/351 [00:38<00:00,  9.01batch/s]\n",
      "Epoch 170/884 Validation: 100%|██████████| 88/88 [00:08<00:00, 10.16batch/s]\n"
     ]
    },
    {
     "name": "stdout",
     "output_type": "stream",
     "text": [
      "Epoch 170/884, Train Loss: 0.0457, Train Acc: 89.63%, Valid Loss: 0.1206, Valid Acc: 87.91%\n"
     ]
    },
    {
     "name": "stderr",
     "output_type": "stream",
     "text": [
      "Epoch 171/884 Training: 100%|██████████| 351/351 [00:38<00:00,  9.06batch/s]\n",
      "Epoch 171/884 Validation: 100%|██████████| 88/88 [00:09<00:00,  9.52batch/s]\n"
     ]
    },
    {
     "name": "stdout",
     "output_type": "stream",
     "text": [
      "Epoch 171/884, Train Loss: 0.0447, Train Acc: 89.99%, Valid Loss: 0.1098, Valid Acc: 87.62%\n"
     ]
    },
    {
     "name": "stderr",
     "output_type": "stream",
     "text": [
      "Epoch 172/884 Training: 100%|██████████| 351/351 [00:39<00:00,  8.78batch/s]\n",
      "Epoch 172/884 Validation: 100%|██████████| 88/88 [00:07<00:00, 11.03batch/s]\n"
     ]
    },
    {
     "name": "stdout",
     "output_type": "stream",
     "text": [
      "Epoch 172/884, Train Loss: 0.0455, Train Acc: 89.90%, Valid Loss: 0.1121, Valid Acc: 88.69%\n"
     ]
    },
    {
     "name": "stderr",
     "output_type": "stream",
     "text": [
      "Epoch 173/884 Training: 100%|██████████| 351/351 [00:41<00:00,  8.56batch/s]\n",
      "Epoch 173/884 Validation: 100%|██████████| 88/88 [00:09<00:00,  9.33batch/s]\n"
     ]
    },
    {
     "name": "stdout",
     "output_type": "stream",
     "text": [
      "Epoch 173/884, Train Loss: 0.0445, Train Acc: 89.50%, Valid Loss: 0.1167, Valid Acc: 88.41%\n"
     ]
    },
    {
     "name": "stderr",
     "output_type": "stream",
     "text": [
      "Epoch 174/884 Training: 100%|██████████| 351/351 [00:40<00:00,  8.69batch/s]\n",
      "Epoch 174/884 Validation: 100%|██████████| 88/88 [00:08<00:00, 10.70batch/s]\n"
     ]
    },
    {
     "name": "stdout",
     "output_type": "stream",
     "text": [
      "Epoch 174/884, Train Loss: 0.0439, Train Acc: 89.31%, Valid Loss: 0.1141, Valid Acc: 88.62%\n"
     ]
    },
    {
     "name": "stderr",
     "output_type": "stream",
     "text": [
      "Epoch 175/884 Training: 100%|██████████| 351/351 [00:39<00:00,  8.99batch/s]\n",
      "Epoch 175/884 Validation: 100%|██████████| 88/88 [00:07<00:00, 11.05batch/s]\n"
     ]
    },
    {
     "name": "stdout",
     "output_type": "stream",
     "text": [
      "Epoch 175/884, Train Loss: 0.0472, Train Acc: 90.15%, Valid Loss: 0.1099, Valid Acc: 88.26%\n"
     ]
    },
    {
     "name": "stderr",
     "output_type": "stream",
     "text": [
      "Epoch 176/884 Training: 100%|██████████| 351/351 [00:40<00:00,  8.71batch/s]\n",
      "Epoch 176/884 Validation: 100%|██████████| 88/88 [00:09<00:00,  9.07batch/s]\n"
     ]
    },
    {
     "name": "stdout",
     "output_type": "stream",
     "text": [
      "Epoch 176/884, Train Loss: 0.0452, Train Acc: 89.66%, Valid Loss: 0.1186, Valid Acc: 87.98%\n"
     ]
    },
    {
     "name": "stderr",
     "output_type": "stream",
     "text": [
      "Epoch 177/884 Training: 100%|██████████| 351/351 [00:40<00:00,  8.63batch/s]\n",
      "Epoch 177/884 Validation: 100%|██████████| 88/88 [00:07<00:00, 11.35batch/s]\n"
     ]
    },
    {
     "name": "stdout",
     "output_type": "stream",
     "text": [
      "Epoch 177/884, Train Loss: 0.0455, Train Acc: 90.07%, Valid Loss: 0.1124, Valid Acc: 88.48%\n"
     ]
    },
    {
     "name": "stderr",
     "output_type": "stream",
     "text": [
      "Epoch 178/884 Training: 100%|██████████| 351/351 [00:39<00:00,  8.88batch/s]\n",
      "Epoch 178/884 Validation: 100%|██████████| 88/88 [00:08<00:00, 10.68batch/s]\n"
     ]
    },
    {
     "name": "stdout",
     "output_type": "stream",
     "text": [
      "Epoch 178/884, Train Loss: 0.0475, Train Acc: 89.25%, Valid Loss: 0.1154, Valid Acc: 87.70%\n"
     ]
    },
    {
     "name": "stderr",
     "output_type": "stream",
     "text": [
      "Epoch 179/884 Training: 100%|██████████| 351/351 [00:38<00:00,  9.12batch/s]\n",
      "Epoch 179/884 Validation: 100%|██████████| 88/88 [00:09<00:00,  9.21batch/s]\n"
     ]
    },
    {
     "name": "stdout",
     "output_type": "stream",
     "text": [
      "Epoch 179/884, Train Loss: 0.0453, Train Acc: 89.72%, Valid Loss: 0.1088, Valid Acc: 89.19%\n"
     ]
    },
    {
     "name": "stderr",
     "output_type": "stream",
     "text": [
      "Epoch 180/884 Training: 100%|██████████| 351/351 [00:39<00:00,  8.92batch/s]\n",
      "Epoch 180/884 Validation: 100%|██████████| 88/88 [00:08<00:00, 10.25batch/s]\n"
     ]
    },
    {
     "name": "stdout",
     "output_type": "stream",
     "text": [
      "Epoch 180/884, Train Loss: 0.0443, Train Acc: 89.99%, Valid Loss: 0.1156, Valid Acc: 88.34%\n"
     ]
    },
    {
     "name": "stderr",
     "output_type": "stream",
     "text": [
      "Epoch 181/884 Training: 100%|██████████| 351/351 [00:39<00:00,  8.82batch/s]\n",
      "Epoch 181/884 Validation: 100%|██████████| 88/88 [00:09<00:00,  9.45batch/s]\n"
     ]
    },
    {
     "name": "stdout",
     "output_type": "stream",
     "text": [
      "Epoch 181/884, Train Loss: 0.0462, Train Acc: 89.25%, Valid Loss: 0.1077, Valid Acc: 89.05%\n"
     ]
    },
    {
     "name": "stderr",
     "output_type": "stream",
     "text": [
      "Epoch 182/884 Training: 100%|██████████| 351/351 [00:39<00:00,  8.78batch/s]\n",
      "Epoch 182/884 Validation: 100%|██████████| 88/88 [00:09<00:00,  8.97batch/s]\n"
     ]
    },
    {
     "name": "stdout",
     "output_type": "stream",
     "text": [
      "Epoch 182/884, Train Loss: 0.0467, Train Acc: 88.72%, Valid Loss: 0.1108, Valid Acc: 88.26%\n"
     ]
    },
    {
     "name": "stderr",
     "output_type": "stream",
     "text": [
      "Epoch 183/884 Training: 100%|██████████| 351/351 [00:39<00:00,  8.88batch/s]\n",
      "Epoch 183/884 Validation: 100%|██████████| 88/88 [00:09<00:00,  9.14batch/s]\n"
     ]
    },
    {
     "name": "stdout",
     "output_type": "stream",
     "text": [
      "Epoch 183/884, Train Loss: 0.0469, Train Acc: 89.08%, Valid Loss: 0.1125, Valid Acc: 87.70%\n"
     ]
    },
    {
     "name": "stderr",
     "output_type": "stream",
     "text": [
      "Epoch 184/884 Training: 100%|██████████| 351/351 [00:40<00:00,  8.77batch/s]\n",
      "Epoch 184/884 Validation: 100%|██████████| 88/88 [00:09<00:00,  9.61batch/s]\n"
     ]
    },
    {
     "name": "stdout",
     "output_type": "stream",
     "text": [
      "Epoch 184/884, Train Loss: 0.0443, Train Acc: 89.70%, Valid Loss: 0.1117, Valid Acc: 88.55%\n"
     ]
    },
    {
     "name": "stderr",
     "output_type": "stream",
     "text": [
      "Epoch 185/884 Training: 100%|██████████| 351/351 [00:40<00:00,  8.62batch/s]\n",
      "Epoch 185/884 Validation: 100%|██████████| 88/88 [00:08<00:00, 10.74batch/s]\n"
     ]
    },
    {
     "name": "stdout",
     "output_type": "stream",
     "text": [
      "Epoch 185/884, Train Loss: 0.0446, Train Acc: 89.54%, Valid Loss: 0.1173, Valid Acc: 89.19%\n"
     ]
    },
    {
     "name": "stderr",
     "output_type": "stream",
     "text": [
      "Epoch 186/884 Training: 100%|██████████| 351/351 [00:39<00:00,  8.87batch/s]\n",
      "Epoch 186/884 Validation: 100%|██████████| 88/88 [00:09<00:00,  9.02batch/s]\n"
     ]
    },
    {
     "name": "stdout",
     "output_type": "stream",
     "text": [
      "Epoch 186/884, Train Loss: 0.0439, Train Acc: 90.13%, Valid Loss: 0.1112, Valid Acc: 88.76%\n"
     ]
    },
    {
     "name": "stderr",
     "output_type": "stream",
     "text": [
      "Epoch 187/884 Training: 100%|██████████| 351/351 [00:38<00:00,  9.07batch/s]\n",
      "Epoch 187/884 Validation: 100%|██████████| 88/88 [00:09<00:00,  9.11batch/s]\n"
     ]
    },
    {
     "name": "stdout",
     "output_type": "stream",
     "text": [
      "Epoch 187/884, Train Loss: 0.0461, Train Acc: 89.38%, Valid Loss: 0.1100, Valid Acc: 87.27%\n"
     ]
    },
    {
     "name": "stderr",
     "output_type": "stream",
     "text": [
      "Epoch 188/884 Training: 100%|██████████| 351/351 [00:39<00:00,  8.99batch/s]\n",
      "Epoch 188/884 Validation: 100%|██████████| 88/88 [00:08<00:00, 10.80batch/s]\n"
     ]
    },
    {
     "name": "stdout",
     "output_type": "stream",
     "text": [
      "Epoch 188/884, Train Loss: 0.0442, Train Acc: 89.22%, Valid Loss: 0.1069, Valid Acc: 88.98%\n"
     ]
    },
    {
     "name": "stderr",
     "output_type": "stream",
     "text": [
      "Epoch 189/884 Training: 100%|██████████| 351/351 [00:39<00:00,  8.88batch/s]\n",
      "Epoch 189/884 Validation: 100%|██████████| 88/88 [00:07<00:00, 11.24batch/s]\n"
     ]
    },
    {
     "name": "stdout",
     "output_type": "stream",
     "text": [
      "Epoch 189/884, Train Loss: 0.0459, Train Acc: 89.27%, Valid Loss: 0.1055, Valid Acc: 88.98%\n"
     ]
    },
    {
     "name": "stderr",
     "output_type": "stream",
     "text": [
      "Epoch 190/884 Training: 100%|██████████| 351/351 [00:41<00:00,  8.55batch/s]\n",
      "Epoch 190/884 Validation: 100%|██████████| 88/88 [00:09<00:00,  9.13batch/s]\n"
     ]
    },
    {
     "name": "stdout",
     "output_type": "stream",
     "text": [
      "Epoch 190/884, Train Loss: 0.0446, Train Acc: 89.79%, Valid Loss: 0.1086, Valid Acc: 88.48%\n"
     ]
    },
    {
     "name": "stderr",
     "output_type": "stream",
     "text": [
      "Epoch 191/884 Training: 100%|██████████| 351/351 [00:39<00:00,  8.93batch/s]\n",
      "Epoch 191/884 Validation: 100%|██████████| 88/88 [00:09<00:00,  9.36batch/s]\n"
     ]
    },
    {
     "name": "stdout",
     "output_type": "stream",
     "text": [
      "Epoch 191/884, Train Loss: 0.0448, Train Acc: 89.43%, Valid Loss: 0.1095, Valid Acc: 88.83%\n"
     ]
    },
    {
     "name": "stderr",
     "output_type": "stream",
     "text": [
      "Epoch 192/884 Training: 100%|██████████| 351/351 [00:40<00:00,  8.77batch/s]\n",
      "Epoch 192/884 Validation: 100%|██████████| 88/88 [00:09<00:00,  9.69batch/s]\n"
     ]
    },
    {
     "name": "stdout",
     "output_type": "stream",
     "text": [
      "Epoch 192/884, Train Loss: 0.0482, Train Acc: 88.72%, Valid Loss: 0.1158, Valid Acc: 88.69%\n"
     ]
    },
    {
     "name": "stderr",
     "output_type": "stream",
     "text": [
      "Epoch 193/884 Training: 100%|██████████| 351/351 [00:39<00:00,  8.94batch/s]\n",
      "Epoch 193/884 Validation: 100%|██████████| 88/88 [00:07<00:00, 11.13batch/s]\n"
     ]
    },
    {
     "name": "stdout",
     "output_type": "stream",
     "text": [
      "Epoch 193/884, Train Loss: 0.0456, Train Acc: 89.41%, Valid Loss: 0.1108, Valid Acc: 88.90%\n"
     ]
    },
    {
     "name": "stderr",
     "output_type": "stream",
     "text": [
      "Epoch 194/884 Training: 100%|██████████| 351/351 [00:39<00:00,  8.80batch/s]\n",
      "Epoch 194/884 Validation: 100%|██████████| 88/88 [00:09<00:00,  8.88batch/s]\n"
     ]
    },
    {
     "name": "stdout",
     "output_type": "stream",
     "text": [
      "Epoch 194/884, Train Loss: 0.0441, Train Acc: 89.75%, Valid Loss: 0.1099, Valid Acc: 88.69%\n"
     ]
    },
    {
     "name": "stderr",
     "output_type": "stream",
     "text": [
      "Epoch 195/884 Training: 100%|██████████| 351/351 [00:40<00:00,  8.70batch/s]\n",
      "Epoch 195/884 Validation: 100%|██████████| 88/88 [00:08<00:00, 10.44batch/s]\n"
     ]
    },
    {
     "name": "stdout",
     "output_type": "stream",
     "text": [
      "Epoch 195/884, Train Loss: 0.0445, Train Acc: 90.06%, Valid Loss: 0.1125, Valid Acc: 88.98%\n"
     ]
    },
    {
     "name": "stderr",
     "output_type": "stream",
     "text": [
      "Epoch 196/884 Training: 100%|██████████| 351/351 [00:40<00:00,  8.70batch/s]\n",
      "Epoch 196/884 Validation: 100%|██████████| 88/88 [00:09<00:00,  9.32batch/s]\n"
     ]
    },
    {
     "name": "stdout",
     "output_type": "stream",
     "text": [
      "Epoch 196/884, Train Loss: 0.0443, Train Acc: 89.81%, Valid Loss: 0.1099, Valid Acc: 89.05%\n"
     ]
    },
    {
     "name": "stderr",
     "output_type": "stream",
     "text": [
      "Epoch 197/884 Training: 100%|██████████| 351/351 [00:40<00:00,  8.66batch/s]\n",
      "Epoch 197/884 Validation: 100%|██████████| 88/88 [00:09<00:00,  9.67batch/s]\n"
     ]
    },
    {
     "name": "stdout",
     "output_type": "stream",
     "text": [
      "Epoch 197/884, Train Loss: 0.0469, Train Acc: 89.41%, Valid Loss: 0.1102, Valid Acc: 88.83%\n"
     ]
    },
    {
     "name": "stderr",
     "output_type": "stream",
     "text": [
      "Epoch 198/884 Training: 100%|██████████| 351/351 [00:40<00:00,  8.72batch/s]\n",
      "Epoch 198/884 Validation: 100%|██████████| 88/88 [00:08<00:00, 10.25batch/s]\n"
     ]
    },
    {
     "name": "stdout",
     "output_type": "stream",
     "text": [
      "Epoch 198/884, Train Loss: 0.0472, Train Acc: 89.52%, Valid Loss: 0.1082, Valid Acc: 88.12%\n"
     ]
    },
    {
     "name": "stderr",
     "output_type": "stream",
     "text": [
      "Epoch 199/884 Training: 100%|██████████| 351/351 [00:39<00:00,  8.93batch/s]\n",
      "Epoch 199/884 Validation: 100%|██████████| 88/88 [00:09<00:00,  9.63batch/s]\n"
     ]
    },
    {
     "name": "stdout",
     "output_type": "stream",
     "text": [
      "Epoch 199/884, Train Loss: 0.0457, Train Acc: 88.95%, Valid Loss: 0.1082, Valid Acc: 88.62%\n"
     ]
    },
    {
     "name": "stderr",
     "output_type": "stream",
     "text": [
      "Epoch 200/884 Training: 100%|██████████| 351/351 [00:39<00:00,  8.91batch/s]\n",
      "Epoch 200/884 Validation: 100%|██████████| 88/88 [00:09<00:00,  9.27batch/s]\n"
     ]
    },
    {
     "name": "stdout",
     "output_type": "stream",
     "text": [
      "Epoch 200/884, Train Loss: 0.0475, Train Acc: 88.79%, Valid Loss: 0.1133, Valid Acc: 87.70%\n"
     ]
    },
    {
     "name": "stderr",
     "output_type": "stream",
     "text": [
      "Epoch 201/884 Training: 100%|██████████| 351/351 [00:40<00:00,  8.64batch/s]\n",
      "Epoch 201/884 Validation: 100%|██████████| 88/88 [00:08<00:00, 10.42batch/s]\n"
     ]
    },
    {
     "name": "stdout",
     "output_type": "stream",
     "text": [
      "Epoch 201/884, Train Loss: 0.0451, Train Acc: 89.65%, Valid Loss: 0.1091, Valid Acc: 88.55%\n"
     ]
    },
    {
     "name": "stderr",
     "output_type": "stream",
     "text": [
      "Epoch 202/884 Training: 100%|██████████| 351/351 [00:39<00:00,  8.80batch/s]\n",
      "Epoch 202/884 Validation: 100%|██████████| 88/88 [00:07<00:00, 11.04batch/s]\n"
     ]
    },
    {
     "name": "stdout",
     "output_type": "stream",
     "text": [
      "Epoch 202/884, Train Loss: 0.0454, Train Acc: 89.77%, Valid Loss: 0.1106, Valid Acc: 87.70%\n"
     ]
    },
    {
     "name": "stderr",
     "output_type": "stream",
     "text": [
      "Epoch 203/884 Training: 100%|██████████| 351/351 [00:39<00:00,  8.83batch/s]\n",
      "Epoch 203/884 Validation: 100%|██████████| 88/88 [00:08<00:00, 10.68batch/s]\n"
     ]
    },
    {
     "name": "stdout",
     "output_type": "stream",
     "text": [
      "Epoch 203/884, Train Loss: 0.0464, Train Acc: 89.15%, Valid Loss: 0.1100, Valid Acc: 88.62%\n"
     ]
    },
    {
     "name": "stderr",
     "output_type": "stream",
     "text": [
      "Epoch 204/884 Training: 100%|██████████| 351/351 [00:39<00:00,  8.91batch/s]\n",
      "Epoch 204/884 Validation: 100%|██████████| 88/88 [00:08<00:00, 10.84batch/s]\n"
     ]
    },
    {
     "name": "stdout",
     "output_type": "stream",
     "text": [
      "Epoch 204/884, Train Loss: 0.0456, Train Acc: 89.33%, Valid Loss: 0.1140, Valid Acc: 88.55%\n"
     ]
    },
    {
     "name": "stderr",
     "output_type": "stream",
     "text": [
      "Epoch 205/884 Training: 100%|██████████| 351/351 [00:40<00:00,  8.65batch/s]\n",
      "Epoch 205/884 Validation: 100%|██████████| 88/88 [00:09<00:00,  9.51batch/s]\n"
     ]
    },
    {
     "name": "stdout",
     "output_type": "stream",
     "text": [
      "Epoch 205/884, Train Loss: 0.0456, Train Acc: 88.95%, Valid Loss: 0.1074, Valid Acc: 88.26%\n"
     ]
    },
    {
     "name": "stderr",
     "output_type": "stream",
     "text": [
      "Epoch 206/884 Training: 100%|██████████| 351/351 [00:39<00:00,  8.89batch/s]\n",
      "Epoch 206/884 Validation: 100%|██████████| 88/88 [00:09<00:00,  9.17batch/s]\n"
     ]
    },
    {
     "name": "stdout",
     "output_type": "stream",
     "text": [
      "Epoch 206/884, Train Loss: 0.0460, Train Acc: 89.08%, Valid Loss: 0.1159, Valid Acc: 89.26%\n"
     ]
    },
    {
     "name": "stderr",
     "output_type": "stream",
     "text": [
      "Epoch 207/884 Training: 100%|██████████| 351/351 [00:39<00:00,  8.85batch/s]\n",
      "Epoch 207/884 Validation: 100%|██████████| 88/88 [00:09<00:00,  9.26batch/s]\n"
     ]
    },
    {
     "name": "stdout",
     "output_type": "stream",
     "text": [
      "Epoch 207/884, Train Loss: 0.0464, Train Acc: 89.15%, Valid Loss: 0.1184, Valid Acc: 87.70%\n"
     ]
    },
    {
     "name": "stderr",
     "output_type": "stream",
     "text": [
      "Epoch 208/884 Training: 100%|██████████| 351/351 [00:39<00:00,  8.83batch/s]\n",
      "Epoch 208/884 Validation: 100%|██████████| 88/88 [00:09<00:00,  9.24batch/s]\n"
     ]
    },
    {
     "name": "stdout",
     "output_type": "stream",
     "text": [
      "Epoch 208/884, Train Loss: 0.0456, Train Acc: 89.45%, Valid Loss: 0.1098, Valid Acc: 88.48%\n"
     ]
    },
    {
     "name": "stderr",
     "output_type": "stream",
     "text": [
      "Epoch 209/884 Training: 100%|██████████| 351/351 [00:40<00:00,  8.68batch/s]\n",
      "Epoch 209/884 Validation: 100%|██████████| 88/88 [00:09<00:00,  9.49batch/s]\n"
     ]
    },
    {
     "name": "stdout",
     "output_type": "stream",
     "text": [
      "Epoch 209/884, Train Loss: 0.0463, Train Acc: 88.91%, Valid Loss: 0.1081, Valid Acc: 89.33%\n"
     ]
    },
    {
     "name": "stderr",
     "output_type": "stream",
     "text": [
      "Epoch 210/884 Training: 100%|██████████| 351/351 [00:38<00:00,  9.04batch/s]\n",
      "Epoch 210/884 Validation: 100%|██████████| 88/88 [00:08<00:00, 10.92batch/s]\n"
     ]
    },
    {
     "name": "stdout",
     "output_type": "stream",
     "text": [
      "Epoch 210/884, Train Loss: 0.0446, Train Acc: 89.59%, Valid Loss: 0.1133, Valid Acc: 89.47%\n"
     ]
    },
    {
     "name": "stderr",
     "output_type": "stream",
     "text": [
      "Epoch 211/884 Training: 100%|██████████| 351/351 [00:41<00:00,  8.53batch/s]\n",
      "Epoch 211/884 Validation: 100%|██████████| 88/88 [00:09<00:00,  9.16batch/s]\n"
     ]
    },
    {
     "name": "stdout",
     "output_type": "stream",
     "text": [
      "Epoch 211/884, Train Loss: 0.0451, Train Acc: 89.36%, Valid Loss: 0.1136, Valid Acc: 88.48%\n"
     ]
    },
    {
     "name": "stderr",
     "output_type": "stream",
     "text": [
      "Epoch 212/884 Training: 100%|██████████| 351/351 [00:39<00:00,  8.80batch/s]\n",
      "Epoch 212/884 Validation: 100%|██████████| 88/88 [00:08<00:00, 10.12batch/s]\n"
     ]
    },
    {
     "name": "stdout",
     "output_type": "stream",
     "text": [
      "Epoch 212/884, Train Loss: 0.0459, Train Acc: 89.40%, Valid Loss: 0.1137, Valid Acc: 87.98%\n"
     ]
    },
    {
     "name": "stderr",
     "output_type": "stream",
     "text": [
      "Epoch 213/884 Training: 100%|██████████| 351/351 [00:40<00:00,  8.57batch/s]\n",
      "Epoch 213/884 Validation: 100%|██████████| 88/88 [00:08<00:00, 10.54batch/s]\n"
     ]
    },
    {
     "name": "stdout",
     "output_type": "stream",
     "text": [
      "Epoch 213/884, Train Loss: 0.0469, Train Acc: 90.00%, Valid Loss: 0.1088, Valid Acc: 88.48%\n"
     ]
    },
    {
     "name": "stderr",
     "output_type": "stream",
     "text": [
      "Epoch 214/884 Training: 100%|██████████| 351/351 [00:39<00:00,  8.80batch/s]\n",
      "Epoch 214/884 Validation: 100%|██████████| 88/88 [00:07<00:00, 11.01batch/s]\n"
     ]
    },
    {
     "name": "stdout",
     "output_type": "stream",
     "text": [
      "Epoch 214/884, Train Loss: 0.0457, Train Acc: 89.52%, Valid Loss: 0.1129, Valid Acc: 87.98%\n"
     ]
    },
    {
     "name": "stderr",
     "output_type": "stream",
     "text": [
      "Epoch 215/884 Training: 100%|██████████| 351/351 [00:39<00:00,  8.92batch/s]\n",
      "Epoch 215/884 Validation: 100%|██████████| 88/88 [00:09<00:00,  9.17batch/s]\n"
     ]
    },
    {
     "name": "stdout",
     "output_type": "stream",
     "text": [
      "Epoch 215/884, Train Loss: 0.0456, Train Acc: 89.77%, Valid Loss: 0.1107, Valid Acc: 87.84%\n"
     ]
    },
    {
     "name": "stderr",
     "output_type": "stream",
     "text": [
      "Epoch 216/884 Training: 100%|██████████| 351/351 [00:39<00:00,  8.96batch/s]\n",
      "Epoch 216/884 Validation: 100%|██████████| 88/88 [00:09<00:00,  9.59batch/s]\n"
     ]
    },
    {
     "name": "stdout",
     "output_type": "stream",
     "text": [
      "Epoch 216/884, Train Loss: 0.0440, Train Acc: 89.99%, Valid Loss: 0.1115, Valid Acc: 89.40%\n"
     ]
    },
    {
     "name": "stderr",
     "output_type": "stream",
     "text": [
      "Epoch 217/884 Training: 100%|██████████| 351/351 [00:41<00:00,  8.52batch/s]\n",
      "Epoch 217/884 Validation: 100%|██████████| 88/88 [00:08<00:00, 10.59batch/s]\n"
     ]
    },
    {
     "name": "stdout",
     "output_type": "stream",
     "text": [
      "Epoch 217/884, Train Loss: 0.0465, Train Acc: 89.56%, Valid Loss: 0.1111, Valid Acc: 88.41%\n"
     ]
    },
    {
     "name": "stderr",
     "output_type": "stream",
     "text": [
      "Epoch 218/884 Training: 100%|██████████| 351/351 [00:39<00:00,  8.79batch/s]\n",
      "Epoch 218/884 Validation: 100%|██████████| 88/88 [00:07<00:00, 11.44batch/s]\n"
     ]
    },
    {
     "name": "stdout",
     "output_type": "stream",
     "text": [
      "Epoch 218/884, Train Loss: 0.0448, Train Acc: 89.15%, Valid Loss: 0.1082, Valid Acc: 88.12%\n"
     ]
    },
    {
     "name": "stderr",
     "output_type": "stream",
     "text": [
      "Epoch 219/884 Training: 100%|██████████| 351/351 [00:39<00:00,  8.99batch/s]\n",
      "Epoch 219/884 Validation: 100%|██████████| 88/88 [00:09<00:00,  9.07batch/s]\n"
     ]
    },
    {
     "name": "stdout",
     "output_type": "stream",
     "text": [
      "Epoch 219/884, Train Loss: 0.0456, Train Acc: 89.11%, Valid Loss: 0.1183, Valid Acc: 88.41%\n"
     ]
    },
    {
     "name": "stderr",
     "output_type": "stream",
     "text": [
      "Epoch 220/884 Training: 100%|██████████| 351/351 [00:40<00:00,  8.76batch/s]\n",
      "Epoch 220/884 Validation: 100%|██████████| 88/88 [00:09<00:00,  9.29batch/s]\n"
     ]
    },
    {
     "name": "stdout",
     "output_type": "stream",
     "text": [
      "Epoch 220/884, Train Loss: 0.0454, Train Acc: 89.29%, Valid Loss: 0.1076, Valid Acc: 89.05%\n"
     ]
    },
    {
     "name": "stderr",
     "output_type": "stream",
     "text": [
      "Epoch 221/884 Training: 100%|██████████| 351/351 [00:41<00:00,  8.55batch/s]\n",
      "Epoch 221/884 Validation: 100%|██████████| 88/88 [00:09<00:00,  9.02batch/s]\n"
     ]
    },
    {
     "name": "stdout",
     "output_type": "stream",
     "text": [
      "Epoch 221/884, Train Loss: 0.0472, Train Acc: 89.18%, Valid Loss: 0.1135, Valid Acc: 88.55%\n"
     ]
    },
    {
     "name": "stderr",
     "output_type": "stream",
     "text": [
      "Epoch 222/884 Training: 100%|██████████| 351/351 [00:38<00:00,  9.13batch/s]\n",
      "Epoch 222/884 Validation: 100%|██████████| 88/88 [00:08<00:00, 10.79batch/s]\n"
     ]
    },
    {
     "name": "stdout",
     "output_type": "stream",
     "text": [
      "Epoch 222/884, Train Loss: 0.0454, Train Acc: 90.34%, Valid Loss: 0.1121, Valid Acc: 88.62%\n"
     ]
    },
    {
     "name": "stderr",
     "output_type": "stream",
     "text": [
      "Epoch 223/884 Training: 100%|██████████| 351/351 [00:40<00:00,  8.65batch/s]\n",
      "Epoch 223/884 Validation: 100%|██████████| 88/88 [00:09<00:00,  9.09batch/s]\n"
     ]
    },
    {
     "name": "stdout",
     "output_type": "stream",
     "text": [
      "Epoch 223/884, Train Loss: 0.0459, Train Acc: 89.75%, Valid Loss: 0.1214, Valid Acc: 87.77%\n"
     ]
    },
    {
     "name": "stderr",
     "output_type": "stream",
     "text": [
      "Epoch 224/884 Training: 100%|██████████| 351/351 [00:38<00:00,  9.05batch/s]\n",
      "Epoch 224/884 Validation: 100%|██████████| 88/88 [00:09<00:00,  9.49batch/s]\n"
     ]
    },
    {
     "name": "stdout",
     "output_type": "stream",
     "text": [
      "Epoch 224/884, Train Loss: 0.0459, Train Acc: 89.11%, Valid Loss: 0.1118, Valid Acc: 89.26%\n"
     ]
    },
    {
     "name": "stderr",
     "output_type": "stream",
     "text": [
      "Epoch 225/884 Training: 100%|██████████| 351/351 [00:40<00:00,  8.60batch/s]\n",
      "Epoch 225/884 Validation: 100%|██████████| 88/88 [00:07<00:00, 11.35batch/s]\n"
     ]
    },
    {
     "name": "stdout",
     "output_type": "stream",
     "text": [
      "Epoch 225/884, Train Loss: 0.0427, Train Acc: 89.18%, Valid Loss: 0.1102, Valid Acc: 88.19%\n"
     ]
    },
    {
     "name": "stderr",
     "output_type": "stream",
     "text": [
      "Epoch 226/884 Training: 100%|██████████| 351/351 [00:40<00:00,  8.59batch/s]\n",
      "Epoch 226/884 Validation: 100%|██████████| 88/88 [00:08<00:00, 10.98batch/s]\n"
     ]
    },
    {
     "name": "stdout",
     "output_type": "stream",
     "text": [
      "Epoch 226/884, Train Loss: 0.0454, Train Acc: 89.66%, Valid Loss: 0.1111, Valid Acc: 89.26%\n"
     ]
    },
    {
     "name": "stderr",
     "output_type": "stream",
     "text": [
      "Epoch 227/884 Training: 100%|██████████| 351/351 [00:38<00:00,  9.02batch/s]\n",
      "Epoch 227/884 Validation: 100%|██████████| 88/88 [00:09<00:00,  9.04batch/s]\n"
     ]
    },
    {
     "name": "stdout",
     "output_type": "stream",
     "text": [
      "Epoch 227/884, Train Loss: 0.0449, Train Acc: 89.06%, Valid Loss: 0.1105, Valid Acc: 88.62%\n"
     ]
    },
    {
     "name": "stderr",
     "output_type": "stream",
     "text": [
      "Epoch 228/884 Training: 100%|██████████| 351/351 [00:39<00:00,  8.83batch/s]\n",
      "Epoch 228/884 Validation: 100%|██████████| 88/88 [00:09<00:00,  9.48batch/s]\n"
     ]
    },
    {
     "name": "stdout",
     "output_type": "stream",
     "text": [
      "Epoch 228/884, Train Loss: 0.0441, Train Acc: 89.75%, Valid Loss: 0.1110, Valid Acc: 88.98%\n"
     ]
    },
    {
     "name": "stderr",
     "output_type": "stream",
     "text": [
      "Epoch 229/884 Training: 100%|██████████| 351/351 [00:40<00:00,  8.77batch/s]\n",
      "Epoch 229/884 Validation: 100%|██████████| 88/88 [00:09<00:00,  9.52batch/s]\n"
     ]
    },
    {
     "name": "stdout",
     "output_type": "stream",
     "text": [
      "Epoch 229/884, Train Loss: 0.0457, Train Acc: 89.38%, Valid Loss: 0.1106, Valid Acc: 88.41%\n"
     ]
    },
    {
     "name": "stderr",
     "output_type": "stream",
     "text": [
      "Epoch 230/884 Training: 100%|██████████| 351/351 [00:40<00:00,  8.64batch/s]\n",
      "Epoch 230/884 Validation: 100%|██████████| 88/88 [00:08<00:00, 10.83batch/s]\n"
     ]
    },
    {
     "name": "stdout",
     "output_type": "stream",
     "text": [
      "Epoch 230/884, Train Loss: 0.0463, Train Acc: 89.24%, Valid Loss: 0.1105, Valid Acc: 89.33%\n"
     ]
    },
    {
     "name": "stderr",
     "output_type": "stream",
     "text": [
      "Epoch 231/884 Training: 100%|██████████| 351/351 [00:41<00:00,  8.54batch/s]\n",
      "Epoch 231/884 Validation: 100%|██████████| 88/88 [00:08<00:00, 10.61batch/s]\n"
     ]
    },
    {
     "name": "stdout",
     "output_type": "stream",
     "text": [
      "Epoch 231/884, Train Loss: 0.0443, Train Acc: 89.90%, Valid Loss: 0.1072, Valid Acc: 88.83%\n"
     ]
    },
    {
     "name": "stderr",
     "output_type": "stream",
     "text": [
      "Epoch 232/884 Training: 100%|██████████| 351/351 [00:39<00:00,  8.84batch/s]\n",
      "Epoch 232/884 Validation: 100%|██████████| 88/88 [00:09<00:00,  9.31batch/s]\n"
     ]
    },
    {
     "name": "stdout",
     "output_type": "stream",
     "text": [
      "Epoch 232/884, Train Loss: 0.0451, Train Acc: 89.43%, Valid Loss: 0.1219, Valid Acc: 88.62%\n"
     ]
    },
    {
     "name": "stderr",
     "output_type": "stream",
     "text": [
      "Epoch 233/884 Training: 100%|██████████| 351/351 [00:40<00:00,  8.58batch/s]\n",
      "Epoch 233/884 Validation: 100%|██████████| 88/88 [00:08<00:00, 10.25batch/s]\n"
     ]
    },
    {
     "name": "stdout",
     "output_type": "stream",
     "text": [
      "Epoch 233/884, Train Loss: 0.0453, Train Acc: 89.08%, Valid Loss: 0.1091, Valid Acc: 87.91%\n"
     ]
    },
    {
     "name": "stderr",
     "output_type": "stream",
     "text": [
      "Epoch 234/884 Training: 100%|██████████| 351/351 [00:39<00:00,  8.93batch/s]\n",
      "Epoch 234/884 Validation: 100%|██████████| 88/88 [00:08<00:00, 10.02batch/s]\n"
     ]
    },
    {
     "name": "stdout",
     "output_type": "stream",
     "text": [
      "Epoch 234/884, Train Loss: 0.0449, Train Acc: 89.41%, Valid Loss: 0.1103, Valid Acc: 88.48%\n"
     ]
    },
    {
     "name": "stderr",
     "output_type": "stream",
     "text": [
      "Epoch 235/884 Training: 100%|██████████| 351/351 [00:39<00:00,  8.82batch/s]\n",
      "Epoch 235/884 Validation: 100%|██████████| 88/88 [00:09<00:00,  8.98batch/s]\n"
     ]
    },
    {
     "name": "stdout",
     "output_type": "stream",
     "text": [
      "Epoch 235/884, Train Loss: 0.0460, Train Acc: 89.68%, Valid Loss: 0.1134, Valid Acc: 87.62%\n"
     ]
    },
    {
     "name": "stderr",
     "output_type": "stream",
     "text": [
      "Epoch 236/884 Training: 100%|██████████| 351/351 [00:38<00:00,  9.00batch/s]\n",
      "Epoch 236/884 Validation: 100%|██████████| 88/88 [00:08<00:00,  9.85batch/s]\n"
     ]
    },
    {
     "name": "stdout",
     "output_type": "stream",
     "text": [
      "Epoch 236/884, Train Loss: 0.0441, Train Acc: 88.95%, Valid Loss: 0.1094, Valid Acc: 88.55%\n"
     ]
    },
    {
     "name": "stderr",
     "output_type": "stream",
     "text": [
      "Epoch 237/884 Training: 100%|██████████| 351/351 [00:40<00:00,  8.77batch/s]\n",
      "Epoch 237/884 Validation: 100%|██████████| 88/88 [00:09<00:00,  9.37batch/s]\n"
     ]
    },
    {
     "name": "stdout",
     "output_type": "stream",
     "text": [
      "Epoch 237/884, Train Loss: 0.0445, Train Acc: 89.47%, Valid Loss: 0.1102, Valid Acc: 88.90%\n"
     ]
    },
    {
     "name": "stderr",
     "output_type": "stream",
     "text": [
      "Epoch 238/884 Training: 100%|██████████| 351/351 [00:38<00:00,  9.03batch/s]\n",
      "Epoch 238/884 Validation: 100%|██████████| 88/88 [00:09<00:00,  9.11batch/s]\n"
     ]
    },
    {
     "name": "stdout",
     "output_type": "stream",
     "text": [
      "Epoch 238/884, Train Loss: 0.0453, Train Acc: 89.74%, Valid Loss: 0.1129, Valid Acc: 88.34%\n"
     ]
    },
    {
     "name": "stderr",
     "output_type": "stream",
     "text": [
      "Epoch 239/884 Training: 100%|██████████| 351/351 [00:37<00:00,  9.29batch/s]\n",
      "Epoch 239/884 Validation: 100%|██████████| 88/88 [00:09<00:00,  9.46batch/s]\n"
     ]
    },
    {
     "name": "stdout",
     "output_type": "stream",
     "text": [
      "Epoch 239/884, Train Loss: 0.0466, Train Acc: 89.66%, Valid Loss: 0.1175, Valid Acc: 88.55%\n"
     ]
    },
    {
     "name": "stderr",
     "output_type": "stream",
     "text": [
      "Epoch 240/884 Training: 100%|██████████| 351/351 [00:39<00:00,  8.78batch/s]\n",
      "Epoch 240/884 Validation: 100%|██████████| 88/88 [00:08<00:00, 10.06batch/s]\n"
     ]
    },
    {
     "name": "stdout",
     "output_type": "stream",
     "text": [
      "Epoch 240/884, Train Loss: 0.0453, Train Acc: 89.79%, Valid Loss: 0.1112, Valid Acc: 88.55%\n"
     ]
    },
    {
     "name": "stderr",
     "output_type": "stream",
     "text": [
      "Epoch 241/884 Training: 100%|██████████| 351/351 [00:41<00:00,  8.53batch/s]\n",
      "Epoch 241/884 Validation: 100%|██████████| 88/88 [00:09<00:00,  9.14batch/s]\n"
     ]
    },
    {
     "name": "stdout",
     "output_type": "stream",
     "text": [
      "Epoch 241/884, Train Loss: 0.0455, Train Acc: 89.59%, Valid Loss: 0.1086, Valid Acc: 88.76%\n"
     ]
    },
    {
     "name": "stderr",
     "output_type": "stream",
     "text": [
      "Epoch 242/884 Training: 100%|██████████| 351/351 [00:39<00:00,  9.00batch/s]\n",
      "Epoch 242/884 Validation: 100%|██████████| 88/88 [00:08<00:00, 10.32batch/s]\n"
     ]
    },
    {
     "name": "stdout",
     "output_type": "stream",
     "text": [
      "Epoch 242/884, Train Loss: 0.0459, Train Acc: 88.61%, Valid Loss: 0.1141, Valid Acc: 89.19%\n"
     ]
    },
    {
     "name": "stderr",
     "output_type": "stream",
     "text": [
      "Epoch 243/884 Training: 100%|██████████| 351/351 [00:40<00:00,  8.66batch/s]\n",
      "Epoch 243/884 Validation: 100%|██████████| 88/88 [00:08<00:00,  9.91batch/s]\n"
     ]
    },
    {
     "name": "stdout",
     "output_type": "stream",
     "text": [
      "Epoch 243/884, Train Loss: 0.0484, Train Acc: 88.84%, Valid Loss: 0.1093, Valid Acc: 88.90%\n"
     ]
    },
    {
     "name": "stderr",
     "output_type": "stream",
     "text": [
      "Epoch 244/884 Training: 100%|██████████| 351/351 [00:40<00:00,  8.68batch/s]\n",
      "Epoch 244/884 Validation: 100%|██████████| 88/88 [00:08<00:00, 10.73batch/s]\n"
     ]
    },
    {
     "name": "stdout",
     "output_type": "stream",
     "text": [
      "Epoch 244/884, Train Loss: 0.0469, Train Acc: 89.00%, Valid Loss: 0.1123, Valid Acc: 87.91%\n"
     ]
    },
    {
     "name": "stderr",
     "output_type": "stream",
     "text": [
      "Epoch 245/884 Training: 100%|██████████| 351/351 [00:40<00:00,  8.76batch/s]\n",
      "Epoch 245/884 Validation: 100%|██████████| 88/88 [00:09<00:00,  9.07batch/s]\n"
     ]
    },
    {
     "name": "stdout",
     "output_type": "stream",
     "text": [
      "Epoch 245/884, Train Loss: 0.0455, Train Acc: 89.41%, Valid Loss: 0.1074, Valid Acc: 89.69%\n"
     ]
    },
    {
     "name": "stderr",
     "output_type": "stream",
     "text": [
      "Epoch 246/884 Training: 100%|██████████| 351/351 [00:41<00:00,  8.50batch/s]\n",
      "Epoch 246/884 Validation: 100%|██████████| 88/88 [00:08<00:00, 10.53batch/s]\n"
     ]
    },
    {
     "name": "stdout",
     "output_type": "stream",
     "text": [
      "Epoch 246/884, Train Loss: 0.0453, Train Acc: 89.79%, Valid Loss: 0.1136, Valid Acc: 88.62%\n"
     ]
    },
    {
     "name": "stderr",
     "output_type": "stream",
     "text": [
      "Epoch 247/884 Training: 100%|██████████| 351/351 [00:39<00:00,  8.80batch/s]\n",
      "Epoch 247/884 Validation: 100%|██████████| 88/88 [00:09<00:00,  9.33batch/s]\n"
     ]
    },
    {
     "name": "stdout",
     "output_type": "stream",
     "text": [
      "Epoch 247/884, Train Loss: 0.0460, Train Acc: 89.65%, Valid Loss: 0.1084, Valid Acc: 88.69%\n"
     ]
    },
    {
     "name": "stderr",
     "output_type": "stream",
     "text": [
      "Epoch 248/884 Training: 100%|██████████| 351/351 [00:39<00:00,  8.80batch/s]\n",
      "Epoch 248/884 Validation: 100%|██████████| 88/88 [00:07<00:00, 11.05batch/s]\n"
     ]
    },
    {
     "name": "stdout",
     "output_type": "stream",
     "text": [
      "Epoch 248/884, Train Loss: 0.0469, Train Acc: 89.66%, Valid Loss: 0.1257, Valid Acc: 87.62%\n"
     ]
    },
    {
     "name": "stderr",
     "output_type": "stream",
     "text": [
      "Epoch 249/884 Training: 100%|██████████| 351/351 [00:40<00:00,  8.72batch/s]\n",
      "Epoch 249/884 Validation: 100%|██████████| 88/88 [00:08<00:00, 10.48batch/s]\n"
     ]
    },
    {
     "name": "stdout",
     "output_type": "stream",
     "text": [
      "Epoch 249/884, Train Loss: 0.0474, Train Acc: 88.74%, Valid Loss: 0.1099, Valid Acc: 88.62%\n"
     ]
    },
    {
     "name": "stderr",
     "output_type": "stream",
     "text": [
      "Epoch 250/884 Training: 100%|██████████| 351/351 [00:40<00:00,  8.67batch/s]\n",
      "Epoch 250/884 Validation: 100%|██████████| 88/88 [00:09<00:00,  9.25batch/s]\n"
     ]
    },
    {
     "name": "stdout",
     "output_type": "stream",
     "text": [
      "Epoch 250/884, Train Loss: 0.0455, Train Acc: 89.31%, Valid Loss: 0.1129, Valid Acc: 88.12%\n"
     ]
    },
    {
     "name": "stderr",
     "output_type": "stream",
     "text": [
      "Epoch 251/884 Training: 100%|██████████| 351/351 [00:39<00:00,  8.80batch/s]\n",
      "Epoch 251/884 Validation: 100%|██████████| 88/88 [00:09<00:00,  9.43batch/s]\n"
     ]
    },
    {
     "name": "stdout",
     "output_type": "stream",
     "text": [
      "Epoch 251/884, Train Loss: 0.0466, Train Acc: 89.86%, Valid Loss: 0.1201, Valid Acc: 88.19%\n"
     ]
    },
    {
     "name": "stderr",
     "output_type": "stream",
     "text": [
      "Epoch 252/884 Training: 100%|██████████| 351/351 [00:39<00:00,  8.89batch/s]\n",
      "Epoch 252/884 Validation: 100%|██████████| 88/88 [00:09<00:00,  9.11batch/s]\n"
     ]
    },
    {
     "name": "stdout",
     "output_type": "stream",
     "text": [
      "Epoch 252/884, Train Loss: 0.0444, Train Acc: 89.38%, Valid Loss: 0.1224, Valid Acc: 86.98%\n"
     ]
    },
    {
     "name": "stderr",
     "output_type": "stream",
     "text": [
      "Epoch 253/884 Training: 100%|██████████| 351/351 [00:39<00:00,  8.94batch/s]\n",
      "Epoch 253/884 Validation: 100%|██████████| 88/88 [00:09<00:00,  9.11batch/s]\n"
     ]
    },
    {
     "name": "stdout",
     "output_type": "stream",
     "text": [
      "Epoch 253/884, Train Loss: 0.0453, Train Acc: 89.65%, Valid Loss: 0.1146, Valid Acc: 87.77%\n"
     ]
    },
    {
     "name": "stderr",
     "output_type": "stream",
     "text": [
      "Epoch 254/884 Training: 100%|██████████| 351/351 [00:39<00:00,  8.83batch/s]\n",
      "Epoch 254/884 Validation: 100%|██████████| 88/88 [00:09<00:00,  9.50batch/s]\n"
     ]
    },
    {
     "name": "stdout",
     "output_type": "stream",
     "text": [
      "Epoch 254/884, Train Loss: 0.0468, Train Acc: 90.06%, Valid Loss: 0.1279, Valid Acc: 88.12%\n"
     ]
    },
    {
     "name": "stderr",
     "output_type": "stream",
     "text": [
      "Epoch 255/884 Training: 100%|██████████| 351/351 [00:39<00:00,  8.89batch/s]\n",
      "Epoch 255/884 Validation: 100%|██████████| 88/88 [00:09<00:00,  9.13batch/s]\n"
     ]
    },
    {
     "name": "stdout",
     "output_type": "stream",
     "text": [
      "Epoch 255/884, Train Loss: 0.0439, Train Acc: 90.31%, Valid Loss: 0.1121, Valid Acc: 88.19%\n"
     ]
    },
    {
     "name": "stderr",
     "output_type": "stream",
     "text": [
      "Epoch 256/884 Training: 100%|██████████| 351/351 [00:40<00:00,  8.63batch/s]\n",
      "Epoch 256/884 Validation: 100%|██████████| 88/88 [00:09<00:00,  9.70batch/s]\n"
     ]
    },
    {
     "name": "stdout",
     "output_type": "stream",
     "text": [
      "Epoch 256/884, Train Loss: 0.0440, Train Acc: 89.72%, Valid Loss: 0.1156, Valid Acc: 88.76%\n"
     ]
    },
    {
     "name": "stderr",
     "output_type": "stream",
     "text": [
      "Epoch 257/884 Training: 100%|██████████| 351/351 [00:40<00:00,  8.75batch/s]\n",
      "Epoch 257/884 Validation: 100%|██████████| 88/88 [00:08<00:00, 10.05batch/s]\n"
     ]
    },
    {
     "name": "stdout",
     "output_type": "stream",
     "text": [
      "Epoch 257/884, Train Loss: 0.0453, Train Acc: 89.45%, Valid Loss: 0.1107, Valid Acc: 88.12%\n"
     ]
    },
    {
     "name": "stderr",
     "output_type": "stream",
     "text": [
      "Epoch 258/884 Training: 100%|██████████| 351/351 [00:39<00:00,  8.80batch/s]\n",
      "Epoch 258/884 Validation: 100%|██████████| 88/88 [00:08<00:00, 10.85batch/s]\n"
     ]
    },
    {
     "name": "stdout",
     "output_type": "stream",
     "text": [
      "Epoch 258/884, Train Loss: 0.0455, Train Acc: 90.07%, Valid Loss: 0.1115, Valid Acc: 88.62%\n"
     ]
    },
    {
     "name": "stderr",
     "output_type": "stream",
     "text": [
      "Epoch 259/884 Training: 100%|██████████| 351/351 [00:40<00:00,  8.61batch/s]\n",
      "Epoch 259/884 Validation: 100%|██████████| 88/88 [00:07<00:00, 11.54batch/s]\n"
     ]
    },
    {
     "name": "stdout",
     "output_type": "stream",
     "text": [
      "Epoch 259/884, Train Loss: 0.0474, Train Acc: 89.70%, Valid Loss: 0.1101, Valid Acc: 88.98%\n"
     ]
    },
    {
     "name": "stderr",
     "output_type": "stream",
     "text": [
      "Epoch 260/884 Training: 100%|██████████| 351/351 [00:40<00:00,  8.68batch/s]\n",
      "Epoch 260/884 Validation: 100%|██████████| 88/88 [00:08<00:00, 10.27batch/s]\n"
     ]
    },
    {
     "name": "stdout",
     "output_type": "stream",
     "text": [
      "Epoch 260/884, Train Loss: 0.0441, Train Acc: 89.11%, Valid Loss: 0.1103, Valid Acc: 88.69%\n"
     ]
    },
    {
     "name": "stderr",
     "output_type": "stream",
     "text": [
      "Epoch 261/884 Training: 100%|██████████| 351/351 [00:38<00:00,  9.08batch/s]\n",
      "Epoch 261/884 Validation: 100%|██████████| 88/88 [00:09<00:00,  9.64batch/s]\n"
     ]
    },
    {
     "name": "stdout",
     "output_type": "stream",
     "text": [
      "Epoch 261/884, Train Loss: 0.0443, Train Acc: 89.79%, Valid Loss: 0.1093, Valid Acc: 88.34%\n"
     ]
    },
    {
     "name": "stderr",
     "output_type": "stream",
     "text": [
      "Epoch 262/884 Training: 100%|██████████| 351/351 [00:39<00:00,  8.90batch/s]\n",
      "Epoch 262/884 Validation: 100%|██████████| 88/88 [00:08<00:00,  9.89batch/s]\n"
     ]
    },
    {
     "name": "stdout",
     "output_type": "stream",
     "text": [
      "Epoch 262/884, Train Loss: 0.0444, Train Acc: 90.34%, Valid Loss: 0.1104, Valid Acc: 87.98%\n"
     ]
    },
    {
     "name": "stderr",
     "output_type": "stream",
     "text": [
      "Epoch 263/884 Training: 100%|██████████| 351/351 [00:41<00:00,  8.49batch/s]\n",
      "Epoch 263/884 Validation: 100%|██████████| 88/88 [00:09<00:00,  9.00batch/s]\n"
     ]
    },
    {
     "name": "stdout",
     "output_type": "stream",
     "text": [
      "Epoch 263/884, Train Loss: 0.0464, Train Acc: 89.45%, Valid Loss: 0.1148, Valid Acc: 88.55%\n"
     ]
    },
    {
     "name": "stderr",
     "output_type": "stream",
     "text": [
      "Epoch 264/884 Training: 100%|██████████| 351/351 [00:39<00:00,  8.86batch/s]\n",
      "Epoch 264/884 Validation: 100%|██████████| 88/88 [00:09<00:00,  9.40batch/s]\n"
     ]
    },
    {
     "name": "stdout",
     "output_type": "stream",
     "text": [
      "Epoch 264/884, Train Loss: 0.0467, Train Acc: 89.36%, Valid Loss: 0.1281, Valid Acc: 88.55%\n"
     ]
    },
    {
     "name": "stderr",
     "output_type": "stream",
     "text": [
      "Epoch 265/884 Training: 100%|██████████| 351/351 [00:39<00:00,  8.83batch/s]\n",
      "Epoch 265/884 Validation: 100%|██████████| 88/88 [00:09<00:00,  9.18batch/s]\n"
     ]
    },
    {
     "name": "stdout",
     "output_type": "stream",
     "text": [
      "Epoch 265/884, Train Loss: 0.0457, Train Acc: 89.77%, Valid Loss: 0.1139, Valid Acc: 88.90%\n"
     ]
    },
    {
     "name": "stderr",
     "output_type": "stream",
     "text": [
      "Epoch 266/884 Training: 100%|██████████| 351/351 [00:39<00:00,  8.81batch/s]\n",
      "Epoch 266/884 Validation: 100%|██████████| 88/88 [00:09<00:00,  9.53batch/s]\n"
     ]
    },
    {
     "name": "stdout",
     "output_type": "stream",
     "text": [
      "Epoch 266/884, Train Loss: 0.0476, Train Acc: 89.33%, Valid Loss: 0.1165, Valid Acc: 88.90%\n"
     ]
    },
    {
     "name": "stderr",
     "output_type": "stream",
     "text": [
      "Epoch 267/884 Training: 100%|██████████| 351/351 [00:41<00:00,  8.41batch/s]\n",
      "Epoch 267/884 Validation: 100%|██████████| 88/88 [00:09<00:00,  9.49batch/s]\n"
     ]
    },
    {
     "name": "stdout",
     "output_type": "stream",
     "text": [
      "Epoch 267/884, Train Loss: 0.0488, Train Acc: 89.38%, Valid Loss: 0.1180, Valid Acc: 89.12%\n"
     ]
    },
    {
     "name": "stderr",
     "output_type": "stream",
     "text": [
      "Epoch 268/884 Training: 100%|██████████| 351/351 [00:39<00:00,  8.95batch/s]\n",
      "Epoch 268/884 Validation: 100%|██████████| 88/88 [00:08<00:00,  9.96batch/s]\n"
     ]
    },
    {
     "name": "stdout",
     "output_type": "stream",
     "text": [
      "Epoch 268/884, Train Loss: 0.0476, Train Acc: 89.33%, Valid Loss: 0.1084, Valid Acc: 88.05%\n"
     ]
    },
    {
     "name": "stderr",
     "output_type": "stream",
     "text": [
      "Epoch 269/884 Training: 100%|██████████| 351/351 [00:40<00:00,  8.67batch/s]\n",
      "Epoch 269/884 Validation: 100%|██████████| 88/88 [00:09<00:00,  9.44batch/s]\n"
     ]
    },
    {
     "name": "stdout",
     "output_type": "stream",
     "text": [
      "Epoch 269/884, Train Loss: 0.0468, Train Acc: 89.38%, Valid Loss: 0.1100, Valid Acc: 88.69%\n"
     ]
    },
    {
     "name": "stderr",
     "output_type": "stream",
     "text": [
      "Epoch 270/884 Training: 100%|██████████| 351/351 [00:40<00:00,  8.73batch/s]\n",
      "Epoch 270/884 Validation: 100%|██████████| 88/88 [00:09<00:00,  9.30batch/s]\n"
     ]
    },
    {
     "name": "stdout",
     "output_type": "stream",
     "text": [
      "Epoch 270/884, Train Loss: 0.0446, Train Acc: 89.38%, Valid Loss: 0.1147, Valid Acc: 87.84%\n"
     ]
    },
    {
     "name": "stderr",
     "output_type": "stream",
     "text": [
      "Epoch 271/884 Training: 100%|██████████| 351/351 [00:38<00:00,  9.07batch/s]\n",
      "Epoch 271/884 Validation: 100%|██████████| 88/88 [00:09<00:00,  9.78batch/s]\n"
     ]
    },
    {
     "name": "stdout",
     "output_type": "stream",
     "text": [
      "Epoch 271/884, Train Loss: 0.0460, Train Acc: 88.99%, Valid Loss: 0.1196, Valid Acc: 88.41%\n"
     ]
    },
    {
     "name": "stderr",
     "output_type": "stream",
     "text": [
      "Epoch 272/884 Training: 100%|██████████| 351/351 [00:40<00:00,  8.66batch/s]\n",
      "Epoch 272/884 Validation: 100%|██████████| 88/88 [00:08<00:00,  9.92batch/s]\n"
     ]
    },
    {
     "name": "stdout",
     "output_type": "stream",
     "text": [
      "Epoch 272/884, Train Loss: 0.0473, Train Acc: 89.61%, Valid Loss: 0.1125, Valid Acc: 89.05%\n"
     ]
    },
    {
     "name": "stderr",
     "output_type": "stream",
     "text": [
      "Epoch 273/884 Training: 100%|██████████| 351/351 [00:40<00:00,  8.66batch/s]\n",
      "Epoch 273/884 Validation: 100%|██████████| 88/88 [00:09<00:00,  9.35batch/s]\n"
     ]
    },
    {
     "name": "stdout",
     "output_type": "stream",
     "text": [
      "Epoch 273/884, Train Loss: 0.0466, Train Acc: 88.97%, Valid Loss: 0.1107, Valid Acc: 88.98%\n"
     ]
    },
    {
     "name": "stderr",
     "output_type": "stream",
     "text": [
      "Epoch 274/884 Training: 100%|██████████| 351/351 [00:39<00:00,  8.79batch/s]\n",
      "Epoch 274/884 Validation: 100%|██████████| 88/88 [00:08<00:00, 10.84batch/s]\n"
     ]
    },
    {
     "name": "stdout",
     "output_type": "stream",
     "text": [
      "Epoch 274/884, Train Loss: 0.0472, Train Acc: 89.22%, Valid Loss: 0.1112, Valid Acc: 88.19%\n"
     ]
    },
    {
     "name": "stderr",
     "output_type": "stream",
     "text": [
      "Epoch 275/884 Training: 100%|██████████| 351/351 [00:38<00:00,  9.03batch/s]\n",
      "Epoch 275/884 Validation: 100%|██████████| 88/88 [00:09<00:00,  9.18batch/s]\n"
     ]
    },
    {
     "name": "stdout",
     "output_type": "stream",
     "text": [
      "Epoch 275/884, Train Loss: 0.0495, Train Acc: 89.75%, Valid Loss: 0.1319, Valid Acc: 88.05%\n"
     ]
    },
    {
     "name": "stderr",
     "output_type": "stream",
     "text": [
      "Epoch 276/884 Training: 100%|██████████| 351/351 [00:40<00:00,  8.75batch/s]\n",
      "Epoch 276/884 Validation: 100%|██████████| 88/88 [00:10<00:00,  8.66batch/s]\n"
     ]
    },
    {
     "name": "stdout",
     "output_type": "stream",
     "text": [
      "Epoch 276/884, Train Loss: 0.0467, Train Acc: 88.56%, Valid Loss: 0.1096, Valid Acc: 89.33%\n"
     ]
    },
    {
     "name": "stderr",
     "output_type": "stream",
     "text": [
      "Epoch 277/884 Training: 100%|██████████| 351/351 [00:39<00:00,  8.78batch/s]\n",
      "Epoch 277/884 Validation: 100%|██████████| 88/88 [00:09<00:00,  9.65batch/s]\n"
     ]
    },
    {
     "name": "stdout",
     "output_type": "stream",
     "text": [
      "Epoch 277/884, Train Loss: 0.0436, Train Acc: 89.91%, Valid Loss: 0.1116, Valid Acc: 88.90%\n"
     ]
    },
    {
     "name": "stderr",
     "output_type": "stream",
     "text": [
      "Epoch 278/884 Training: 100%|██████████| 351/351 [00:40<00:00,  8.66batch/s]\n",
      "Epoch 278/884 Validation: 100%|██████████| 88/88 [00:07<00:00, 11.39batch/s]\n"
     ]
    },
    {
     "name": "stdout",
     "output_type": "stream",
     "text": [
      "Epoch 278/884, Train Loss: 0.0457, Train Acc: 89.59%, Valid Loss: 0.1078, Valid Acc: 89.05%\n"
     ]
    },
    {
     "name": "stderr",
     "output_type": "stream",
     "text": [
      "Epoch 279/884 Training: 100%|██████████| 351/351 [00:40<00:00,  8.67batch/s]\n",
      "Epoch 279/884 Validation: 100%|██████████| 88/88 [00:09<00:00,  9.21batch/s]\n"
     ]
    },
    {
     "name": "stdout",
     "output_type": "stream",
     "text": [
      "Epoch 279/884, Train Loss: 0.0451, Train Acc: 88.88%, Valid Loss: 0.1096, Valid Acc: 89.69%\n"
     ]
    },
    {
     "name": "stderr",
     "output_type": "stream",
     "text": [
      "Epoch 280/884 Training: 100%|██████████| 351/351 [00:39<00:00,  8.86batch/s]\n",
      "Epoch 280/884 Validation: 100%|██████████| 88/88 [00:09<00:00,  9.21batch/s]\n"
     ]
    },
    {
     "name": "stdout",
     "output_type": "stream",
     "text": [
      "Epoch 280/884, Train Loss: 0.0442, Train Acc: 89.63%, Valid Loss: 0.1097, Valid Acc: 89.40%\n"
     ]
    },
    {
     "name": "stderr",
     "output_type": "stream",
     "text": [
      "Epoch 281/884 Training: 100%|██████████| 351/351 [00:39<00:00,  8.96batch/s]\n",
      "Epoch 281/884 Validation: 100%|██████████| 88/88 [00:08<00:00, 10.97batch/s]\n"
     ]
    },
    {
     "name": "stdout",
     "output_type": "stream",
     "text": [
      "Epoch 281/884, Train Loss: 0.0467, Train Acc: 89.34%, Valid Loss: 0.1096, Valid Acc: 88.76%\n"
     ]
    },
    {
     "name": "stderr",
     "output_type": "stream",
     "text": [
      "Epoch 282/884 Training: 100%|██████████| 351/351 [00:39<00:00,  8.82batch/s]\n",
      "Epoch 282/884 Validation: 100%|██████████| 88/88 [00:08<00:00, 10.47batch/s]\n"
     ]
    },
    {
     "name": "stdout",
     "output_type": "stream",
     "text": [
      "Epoch 282/884, Train Loss: 0.0443, Train Acc: 90.04%, Valid Loss: 0.1108, Valid Acc: 87.98%\n"
     ]
    },
    {
     "name": "stderr",
     "output_type": "stream",
     "text": [
      "Epoch 283/884 Training: 100%|██████████| 351/351 [00:39<00:00,  8.98batch/s]\n",
      "Epoch 283/884 Validation: 100%|██████████| 88/88 [00:08<00:00, 10.47batch/s]\n"
     ]
    },
    {
     "name": "stdout",
     "output_type": "stream",
     "text": [
      "Epoch 283/884, Train Loss: 0.0457, Train Acc: 89.38%, Valid Loss: 0.1109, Valid Acc: 88.41%\n"
     ]
    },
    {
     "name": "stderr",
     "output_type": "stream",
     "text": [
      "Epoch 284/884 Training: 100%|██████████| 351/351 [00:39<00:00,  8.85batch/s]\n",
      "Epoch 284/884 Validation: 100%|██████████| 88/88 [00:08<00:00, 10.48batch/s]\n"
     ]
    },
    {
     "name": "stdout",
     "output_type": "stream",
     "text": [
      "Epoch 284/884, Train Loss: 0.0451, Train Acc: 89.13%, Valid Loss: 0.1138, Valid Acc: 88.90%\n"
     ]
    },
    {
     "name": "stderr",
     "output_type": "stream",
     "text": [
      "Epoch 285/884 Training: 100%|██████████| 351/351 [00:39<00:00,  8.83batch/s]\n",
      "Epoch 285/884 Validation: 100%|██████████| 88/88 [00:09<00:00,  9.31batch/s]\n"
     ]
    },
    {
     "name": "stdout",
     "output_type": "stream",
     "text": [
      "Epoch 285/884, Train Loss: 0.0471, Train Acc: 89.99%, Valid Loss: 0.1113, Valid Acc: 88.76%\n"
     ]
    },
    {
     "name": "stderr",
     "output_type": "stream",
     "text": [
      "Epoch 286/884 Training: 100%|██████████| 351/351 [00:40<00:00,  8.67batch/s]\n",
      "Epoch 286/884 Validation: 100%|██████████| 88/88 [00:08<00:00, 10.06batch/s]\n"
     ]
    },
    {
     "name": "stdout",
     "output_type": "stream",
     "text": [
      "Epoch 286/884, Train Loss: 0.0435, Train Acc: 90.18%, Valid Loss: 0.1158, Valid Acc: 88.62%\n"
     ]
    },
    {
     "name": "stderr",
     "output_type": "stream",
     "text": [
      "Epoch 287/884 Training: 100%|██████████| 351/351 [00:38<00:00,  9.04batch/s]\n",
      "Epoch 287/884 Validation: 100%|██████████| 88/88 [00:09<00:00,  9.19batch/s]\n"
     ]
    },
    {
     "name": "stdout",
     "output_type": "stream",
     "text": [
      "Epoch 287/884, Train Loss: 0.0436, Train Acc: 89.58%, Valid Loss: 0.1111, Valid Acc: 88.26%\n"
     ]
    },
    {
     "name": "stderr",
     "output_type": "stream",
     "text": [
      "Epoch 288/884 Training: 100%|██████████| 351/351 [00:40<00:00,  8.74batch/s]\n",
      "Epoch 288/884 Validation: 100%|██████████| 88/88 [00:08<00:00,  9.96batch/s]\n"
     ]
    },
    {
     "name": "stdout",
     "output_type": "stream",
     "text": [
      "Epoch 288/884, Train Loss: 0.0432, Train Acc: 89.50%, Valid Loss: 0.1178, Valid Acc: 88.62%\n"
     ]
    },
    {
     "name": "stderr",
     "output_type": "stream",
     "text": [
      "Epoch 289/884 Training: 100%|██████████| 351/351 [00:39<00:00,  8.92batch/s]\n",
      "Epoch 289/884 Validation: 100%|██████████| 88/88 [00:08<00:00,  9.98batch/s]\n"
     ]
    },
    {
     "name": "stdout",
     "output_type": "stream",
     "text": [
      "Epoch 289/884, Train Loss: 0.0476, Train Acc: 88.95%, Valid Loss: 0.1114, Valid Acc: 88.55%\n"
     ]
    },
    {
     "name": "stderr",
     "output_type": "stream",
     "text": [
      "Epoch 290/884 Training: 100%|██████████| 351/351 [00:40<00:00,  8.69batch/s]\n",
      "Epoch 290/884 Validation: 100%|██████████| 88/88 [00:09<00:00,  9.20batch/s]\n"
     ]
    },
    {
     "name": "stdout",
     "output_type": "stream",
     "text": [
      "Epoch 290/884, Train Loss: 0.0444, Train Acc: 89.99%, Valid Loss: 0.1057, Valid Acc: 89.12%\n"
     ]
    },
    {
     "name": "stderr",
     "output_type": "stream",
     "text": [
      "Epoch 291/884 Training: 100%|██████████| 351/351 [00:41<00:00,  8.55batch/s]\n",
      "Epoch 291/884 Validation: 100%|██████████| 88/88 [00:08<00:00, 10.51batch/s]\n"
     ]
    },
    {
     "name": "stdout",
     "output_type": "stream",
     "text": [
      "Epoch 291/884, Train Loss: 0.0460, Train Acc: 89.93%, Valid Loss: 0.1095, Valid Acc: 88.98%\n"
     ]
    },
    {
     "name": "stderr",
     "output_type": "stream",
     "text": [
      "Epoch 292/884 Training: 100%|██████████| 351/351 [00:39<00:00,  8.93batch/s]\n",
      "Epoch 292/884 Validation: 100%|██████████| 88/88 [00:09<00:00,  9.28batch/s]\n"
     ]
    },
    {
     "name": "stdout",
     "output_type": "stream",
     "text": [
      "Epoch 292/884, Train Loss: 0.0459, Train Acc: 89.36%, Valid Loss: 0.1126, Valid Acc: 88.90%\n"
     ]
    },
    {
     "name": "stderr",
     "output_type": "stream",
     "text": [
      "Epoch 293/884 Training: 100%|██████████| 351/351 [00:39<00:00,  8.87batch/s]\n",
      "Epoch 293/884 Validation: 100%|██████████| 88/88 [00:08<00:00,  9.91batch/s]\n"
     ]
    },
    {
     "name": "stdout",
     "output_type": "stream",
     "text": [
      "Epoch 293/884, Train Loss: 0.0450, Train Acc: 88.83%, Valid Loss: 0.1182, Valid Acc: 88.62%\n"
     ]
    },
    {
     "name": "stderr",
     "output_type": "stream",
     "text": [
      "Epoch 294/884 Training: 100%|██████████| 351/351 [00:40<00:00,  8.63batch/s]\n",
      "Epoch 294/884 Validation: 100%|██████████| 88/88 [00:08<00:00, 10.55batch/s]\n"
     ]
    },
    {
     "name": "stdout",
     "output_type": "stream",
     "text": [
      "Epoch 294/884, Train Loss: 0.0482, Train Acc: 89.04%, Valid Loss: 0.1237, Valid Acc: 88.19%\n"
     ]
    },
    {
     "name": "stderr",
     "output_type": "stream",
     "text": [
      "Epoch 295/884 Training: 100%|██████████| 351/351 [00:39<00:00,  9.00batch/s]\n",
      "Epoch 295/884 Validation: 100%|██████████| 88/88 [00:07<00:00, 11.08batch/s]\n"
     ]
    },
    {
     "name": "stdout",
     "output_type": "stream",
     "text": [
      "Epoch 295/884, Train Loss: 0.0475, Train Acc: 89.65%, Valid Loss: 0.1115, Valid Acc: 88.41%\n"
     ]
    },
    {
     "name": "stderr",
     "output_type": "stream",
     "text": [
      "Epoch 296/884 Training: 100%|██████████| 351/351 [00:39<00:00,  8.79batch/s]\n",
      "Epoch 296/884 Validation: 100%|██████████| 88/88 [00:08<00:00,  9.98batch/s]\n"
     ]
    },
    {
     "name": "stdout",
     "output_type": "stream",
     "text": [
      "Epoch 296/884, Train Loss: 0.0431, Train Acc: 90.13%, Valid Loss: 0.1089, Valid Acc: 88.48%\n"
     ]
    },
    {
     "name": "stderr",
     "output_type": "stream",
     "text": [
      "Epoch 297/884 Training: 100%|██████████| 351/351 [00:39<00:00,  8.98batch/s]\n",
      "Epoch 297/884 Validation: 100%|██████████| 88/88 [00:09<00:00,  9.07batch/s]\n"
     ]
    },
    {
     "name": "stdout",
     "output_type": "stream",
     "text": [
      "Epoch 297/884, Train Loss: 0.0476, Train Acc: 89.25%, Valid Loss: 0.1218, Valid Acc: 89.05%\n"
     ]
    },
    {
     "name": "stderr",
     "output_type": "stream",
     "text": [
      "Epoch 298/884 Training: 100%|██████████| 351/351 [00:40<00:00,  8.65batch/s]\n",
      "Epoch 298/884 Validation: 100%|██████████| 88/88 [00:09<00:00,  9.49batch/s]\n"
     ]
    },
    {
     "name": "stdout",
     "output_type": "stream",
     "text": [
      "Epoch 298/884, Train Loss: 0.0449, Train Acc: 89.58%, Valid Loss: 0.1090, Valid Acc: 89.26%\n"
     ]
    },
    {
     "name": "stderr",
     "output_type": "stream",
     "text": [
      "Epoch 299/884 Training: 100%|██████████| 351/351 [00:40<00:00,  8.58batch/s]\n",
      "Epoch 299/884 Validation: 100%|██████████| 88/88 [00:09<00:00,  9.16batch/s]\n"
     ]
    },
    {
     "name": "stdout",
     "output_type": "stream",
     "text": [
      "Epoch 299/884, Train Loss: 0.0478, Train Acc: 89.11%, Valid Loss: 0.1137, Valid Acc: 87.98%\n"
     ]
    },
    {
     "name": "stderr",
     "output_type": "stream",
     "text": [
      "Epoch 300/884 Training: 100%|██████████| 351/351 [00:39<00:00,  8.94batch/s]\n",
      "Epoch 300/884 Validation: 100%|██████████| 88/88 [00:09<00:00,  9.24batch/s]\n"
     ]
    },
    {
     "name": "stdout",
     "output_type": "stream",
     "text": [
      "Epoch 300/884, Train Loss: 0.0447, Train Acc: 89.66%, Valid Loss: 0.1116, Valid Acc: 89.19%\n"
     ]
    },
    {
     "name": "stderr",
     "output_type": "stream",
     "text": [
      "Epoch 301/884 Training: 100%|██████████| 351/351 [00:41<00:00,  8.54batch/s]\n",
      "Epoch 301/884 Validation: 100%|██████████| 88/88 [00:09<00:00,  9.17batch/s]\n"
     ]
    },
    {
     "name": "stdout",
     "output_type": "stream",
     "text": [
      "Epoch 301/884, Train Loss: 0.0446, Train Acc: 90.06%, Valid Loss: 0.1093, Valid Acc: 88.34%\n"
     ]
    },
    {
     "name": "stderr",
     "output_type": "stream",
     "text": [
      "Epoch 302/884 Training: 100%|██████████| 351/351 [00:40<00:00,  8.72batch/s]\n",
      "Epoch 302/884 Validation: 100%|██████████| 88/88 [00:08<00:00, 10.41batch/s]\n"
     ]
    },
    {
     "name": "stdout",
     "output_type": "stream",
     "text": [
      "Epoch 302/884, Train Loss: 0.0459, Train Acc: 89.97%, Valid Loss: 0.1133, Valid Acc: 88.55%\n"
     ]
    },
    {
     "name": "stderr",
     "output_type": "stream",
     "text": [
      "Epoch 303/884 Training: 100%|██████████| 351/351 [00:41<00:00,  8.41batch/s]\n",
      "Epoch 303/884 Validation: 100%|██████████| 88/88 [00:08<00:00, 10.88batch/s]\n"
     ]
    },
    {
     "name": "stdout",
     "output_type": "stream",
     "text": [
      "Epoch 303/884, Train Loss: 0.0458, Train Acc: 89.47%, Valid Loss: 0.1124, Valid Acc: 88.12%\n"
     ]
    },
    {
     "name": "stderr",
     "output_type": "stream",
     "text": [
      "Epoch 304/884 Training: 100%|██████████| 351/351 [00:40<00:00,  8.75batch/s]\n",
      "Epoch 304/884 Validation: 100%|██████████| 88/88 [00:08<00:00, 10.71batch/s]\n"
     ]
    },
    {
     "name": "stdout",
     "output_type": "stream",
     "text": [
      "Epoch 304/884, Train Loss: 0.0457, Train Acc: 89.47%, Valid Loss: 0.1144, Valid Acc: 88.26%\n"
     ]
    },
    {
     "name": "stderr",
     "output_type": "stream",
     "text": [
      "Epoch 305/884 Training: 100%|██████████| 351/351 [00:39<00:00,  8.83batch/s]\n",
      "Epoch 305/884 Validation: 100%|██████████| 88/88 [00:08<00:00, 10.38batch/s]\n"
     ]
    },
    {
     "name": "stdout",
     "output_type": "stream",
     "text": [
      "Epoch 305/884, Train Loss: 0.0468, Train Acc: 89.41%, Valid Loss: 0.1149, Valid Acc: 87.98%\n"
     ]
    },
    {
     "name": "stderr",
     "output_type": "stream",
     "text": [
      "Epoch 306/884 Training: 100%|██████████| 351/351 [00:39<00:00,  8.78batch/s]\n",
      "Epoch 306/884 Validation: 100%|██████████| 88/88 [00:09<00:00,  9.63batch/s]\n"
     ]
    },
    {
     "name": "stdout",
     "output_type": "stream",
     "text": [
      "Epoch 306/884, Train Loss: 0.0469, Train Acc: 89.20%, Valid Loss: 0.1086, Valid Acc: 88.98%\n"
     ]
    },
    {
     "name": "stderr",
     "output_type": "stream",
     "text": [
      "Epoch 307/884 Training: 100%|██████████| 351/351 [00:39<00:00,  8.87batch/s]\n",
      "Epoch 307/884 Validation: 100%|██████████| 88/88 [00:09<00:00,  9.20batch/s]\n"
     ]
    },
    {
     "name": "stdout",
     "output_type": "stream",
     "text": [
      "Epoch 307/884, Train Loss: 0.0460, Train Acc: 89.97%, Valid Loss: 0.1146, Valid Acc: 88.69%\n"
     ]
    },
    {
     "name": "stderr",
     "output_type": "stream",
     "text": [
      "Epoch 308/884 Training: 100%|██████████| 351/351 [00:39<00:00,  8.81batch/s]\n",
      "Epoch 308/884 Validation: 100%|██████████| 88/88 [00:08<00:00, 10.30batch/s]\n"
     ]
    },
    {
     "name": "stdout",
     "output_type": "stream",
     "text": [
      "Epoch 308/884, Train Loss: 0.0469, Train Acc: 89.20%, Valid Loss: 0.1114, Valid Acc: 88.48%\n"
     ]
    },
    {
     "name": "stderr",
     "output_type": "stream",
     "text": [
      "Epoch 309/884 Training: 100%|██████████| 351/351 [00:39<00:00,  8.84batch/s]\n",
      "Epoch 309/884 Validation: 100%|██████████| 88/88 [00:08<00:00, 10.61batch/s]\n"
     ]
    },
    {
     "name": "stdout",
     "output_type": "stream",
     "text": [
      "Epoch 309/884, Train Loss: 0.0458, Train Acc: 89.38%, Valid Loss: 0.1111, Valid Acc: 89.05%\n"
     ]
    },
    {
     "name": "stderr",
     "output_type": "stream",
     "text": [
      "Epoch 310/884 Training: 100%|██████████| 351/351 [00:40<00:00,  8.63batch/s]\n",
      "Epoch 310/884 Validation: 100%|██████████| 88/88 [00:09<00:00,  9.19batch/s]\n"
     ]
    },
    {
     "name": "stdout",
     "output_type": "stream",
     "text": [
      "Epoch 310/884, Train Loss: 0.0452, Train Acc: 89.34%, Valid Loss: 0.1180, Valid Acc: 88.19%\n"
     ]
    },
    {
     "name": "stderr",
     "output_type": "stream",
     "text": [
      "Epoch 311/884 Training: 100%|██████████| 351/351 [00:40<00:00,  8.62batch/s]\n",
      "Epoch 311/884 Validation: 100%|██████████| 88/88 [00:08<00:00, 10.53batch/s]\n"
     ]
    },
    {
     "name": "stdout",
     "output_type": "stream",
     "text": [
      "Epoch 311/884, Train Loss: 0.0447, Train Acc: 89.70%, Valid Loss: 0.1096, Valid Acc: 88.90%\n"
     ]
    },
    {
     "name": "stderr",
     "output_type": "stream",
     "text": [
      "Epoch 312/884 Training: 100%|██████████| 351/351 [00:39<00:00,  8.82batch/s]\n",
      "Epoch 312/884 Validation: 100%|██████████| 88/88 [00:09<00:00,  9.14batch/s]\n"
     ]
    },
    {
     "name": "stdout",
     "output_type": "stream",
     "text": [
      "Epoch 312/884, Train Loss: 0.0459, Train Acc: 89.72%, Valid Loss: 0.1128, Valid Acc: 88.55%\n"
     ]
    },
    {
     "name": "stderr",
     "output_type": "stream",
     "text": [
      "Epoch 313/884 Training: 100%|██████████| 351/351 [00:40<00:00,  8.64batch/s]\n",
      "Epoch 313/884 Validation: 100%|██████████| 88/88 [00:09<00:00,  8.96batch/s]\n"
     ]
    },
    {
     "name": "stdout",
     "output_type": "stream",
     "text": [
      "Epoch 313/884, Train Loss: 0.0465, Train Acc: 88.97%, Valid Loss: 0.1079, Valid Acc: 88.76%\n"
     ]
    },
    {
     "name": "stderr",
     "output_type": "stream",
     "text": [
      "Epoch 314/884 Training: 100%|██████████| 351/351 [00:39<00:00,  8.79batch/s]\n",
      "Epoch 314/884 Validation: 100%|██████████| 88/88 [00:08<00:00, 10.42batch/s]\n"
     ]
    },
    {
     "name": "stdout",
     "output_type": "stream",
     "text": [
      "Epoch 314/884, Train Loss: 0.0486, Train Acc: 88.90%, Valid Loss: 0.1145, Valid Acc: 89.05%\n"
     ]
    },
    {
     "name": "stderr",
     "output_type": "stream",
     "text": [
      "Epoch 315/884 Training: 100%|██████████| 351/351 [00:39<00:00,  8.81batch/s]\n",
      "Epoch 315/884 Validation: 100%|██████████| 88/88 [00:08<00:00, 10.23batch/s]\n"
     ]
    },
    {
     "name": "stdout",
     "output_type": "stream",
     "text": [
      "Epoch 315/884, Train Loss: 0.0448, Train Acc: 89.41%, Valid Loss: 0.1091, Valid Acc: 89.62%\n"
     ]
    },
    {
     "name": "stderr",
     "output_type": "stream",
     "text": [
      "Epoch 316/884 Training: 100%|██████████| 351/351 [00:39<00:00,  8.85batch/s]\n",
      "Epoch 316/884 Validation: 100%|██████████| 88/88 [00:08<00:00, 10.15batch/s]\n"
     ]
    },
    {
     "name": "stdout",
     "output_type": "stream",
     "text": [
      "Epoch 316/884, Train Loss: 0.0456, Train Acc: 89.70%, Valid Loss: 0.1113, Valid Acc: 87.70%\n"
     ]
    },
    {
     "name": "stderr",
     "output_type": "stream",
     "text": [
      "Epoch 317/884 Training: 100%|██████████| 351/351 [00:39<00:00,  9.00batch/s]\n",
      "Epoch 317/884 Validation: 100%|██████████| 88/88 [00:09<00:00,  9.08batch/s]\n"
     ]
    },
    {
     "name": "stdout",
     "output_type": "stream",
     "text": [
      "Epoch 317/884, Train Loss: 0.0476, Train Acc: 89.18%, Valid Loss: 0.1163, Valid Acc: 88.26%\n"
     ]
    },
    {
     "name": "stderr",
     "output_type": "stream",
     "text": [
      "Epoch 318/884 Training: 100%|██████████| 351/351 [00:39<00:00,  8.88batch/s]\n",
      "Epoch 318/884 Validation: 100%|██████████| 88/88 [00:09<00:00,  9.28batch/s]\n"
     ]
    },
    {
     "name": "stdout",
     "output_type": "stream",
     "text": [
      "Epoch 318/884, Train Loss: 0.0456, Train Acc: 89.36%, Valid Loss: 0.1101, Valid Acc: 88.19%\n"
     ]
    },
    {
     "name": "stderr",
     "output_type": "stream",
     "text": [
      "Epoch 319/884 Training: 100%|██████████| 351/351 [00:40<00:00,  8.69batch/s]\n",
      "Epoch 319/884 Validation: 100%|██████████| 88/88 [00:09<00:00,  9.49batch/s]\n"
     ]
    },
    {
     "name": "stdout",
     "output_type": "stream",
     "text": [
      "Epoch 319/884, Train Loss: 0.0431, Train Acc: 90.02%, Valid Loss: 0.1110, Valid Acc: 89.05%\n"
     ]
    },
    {
     "name": "stderr",
     "output_type": "stream",
     "text": [
      "Epoch 320/884 Training: 100%|██████████| 351/351 [00:40<00:00,  8.68batch/s]\n",
      "Epoch 320/884 Validation: 100%|██████████| 88/88 [00:08<00:00, 10.43batch/s]\n"
     ]
    },
    {
     "name": "stdout",
     "output_type": "stream",
     "text": [
      "Epoch 320/884, Train Loss: 0.0439, Train Acc: 89.70%, Valid Loss: 0.1113, Valid Acc: 89.26%\n"
     ]
    },
    {
     "name": "stderr",
     "output_type": "stream",
     "text": [
      "Epoch 321/884 Training: 100%|██████████| 351/351 [00:41<00:00,  8.52batch/s]\n",
      "Epoch 321/884 Validation: 100%|██████████| 88/88 [00:08<00:00,  9.81batch/s]\n"
     ]
    },
    {
     "name": "stdout",
     "output_type": "stream",
     "text": [
      "Epoch 321/884, Train Loss: 0.0461, Train Acc: 89.61%, Valid Loss: 0.1126, Valid Acc: 88.05%\n"
     ]
    },
    {
     "name": "stderr",
     "output_type": "stream",
     "text": [
      "Epoch 322/884 Training: 100%|██████████| 351/351 [00:41<00:00,  8.49batch/s]\n",
      "Epoch 322/884 Validation: 100%|██████████| 88/88 [00:08<00:00, 10.51batch/s]\n"
     ]
    },
    {
     "name": "stdout",
     "output_type": "stream",
     "text": [
      "Epoch 322/884, Train Loss: 0.0461, Train Acc: 89.65%, Valid Loss: 0.1119, Valid Acc: 88.55%\n"
     ]
    },
    {
     "name": "stderr",
     "output_type": "stream",
     "text": [
      "Epoch 323/884 Training: 100%|██████████| 351/351 [00:38<00:00,  9.00batch/s]\n",
      "Epoch 323/884 Validation: 100%|██████████| 88/88 [00:08<00:00, 10.23batch/s]\n"
     ]
    },
    {
     "name": "stdout",
     "output_type": "stream",
     "text": [
      "Epoch 323/884, Train Loss: 0.0442, Train Acc: 90.52%, Valid Loss: 0.1115, Valid Acc: 89.05%\n"
     ]
    },
    {
     "name": "stderr",
     "output_type": "stream",
     "text": [
      "Epoch 324/884 Training: 100%|██████████| 351/351 [00:40<00:00,  8.76batch/s]\n",
      "Epoch 324/884 Validation: 100%|██████████| 88/88 [00:08<00:00, 10.18batch/s]\n"
     ]
    },
    {
     "name": "stdout",
     "output_type": "stream",
     "text": [
      "Epoch 324/884, Train Loss: 0.0445, Train Acc: 89.54%, Valid Loss: 0.1083, Valid Acc: 88.90%\n"
     ]
    },
    {
     "name": "stderr",
     "output_type": "stream",
     "text": [
      "Epoch 325/884 Training: 100%|██████████| 351/351 [00:40<00:00,  8.71batch/s]\n",
      "Epoch 325/884 Validation: 100%|██████████| 88/88 [00:08<00:00,  9.91batch/s]\n"
     ]
    },
    {
     "name": "stdout",
     "output_type": "stream",
     "text": [
      "Epoch 325/884, Train Loss: 0.0446, Train Acc: 89.22%, Valid Loss: 0.1132, Valid Acc: 89.40%\n"
     ]
    },
    {
     "name": "stderr",
     "output_type": "stream",
     "text": [
      "Epoch 326/884 Training: 100%|██████████| 351/351 [00:40<00:00,  8.73batch/s]\n",
      "Epoch 326/884 Validation: 100%|██████████| 88/88 [00:07<00:00, 11.42batch/s]\n"
     ]
    },
    {
     "name": "stdout",
     "output_type": "stream",
     "text": [
      "Epoch 326/884, Train Loss: 0.0476, Train Acc: 89.56%, Valid Loss: 0.1149, Valid Acc: 88.05%\n"
     ]
    },
    {
     "name": "stderr",
     "output_type": "stream",
     "text": [
      "Epoch 327/884 Training: 100%|██████████| 351/351 [00:39<00:00,  8.81batch/s]\n",
      "Epoch 327/884 Validation: 100%|██████████| 88/88 [00:08<00:00, 10.61batch/s]\n"
     ]
    },
    {
     "name": "stdout",
     "output_type": "stream",
     "text": [
      "Epoch 327/884, Train Loss: 0.0455, Train Acc: 89.91%, Valid Loss: 0.1108, Valid Acc: 88.62%\n"
     ]
    },
    {
     "name": "stderr",
     "output_type": "stream",
     "text": [
      "Epoch 328/884 Training: 100%|██████████| 351/351 [00:41<00:00,  8.41batch/s]\n",
      "Epoch 328/884 Validation: 100%|██████████| 88/88 [00:08<00:00, 10.17batch/s]\n"
     ]
    },
    {
     "name": "stdout",
     "output_type": "stream",
     "text": [
      "Epoch 328/884, Train Loss: 0.0461, Train Acc: 89.20%, Valid Loss: 0.1068, Valid Acc: 88.48%\n"
     ]
    },
    {
     "name": "stderr",
     "output_type": "stream",
     "text": [
      "Epoch 329/884 Training: 100%|██████████| 351/351 [00:40<00:00,  8.67batch/s]\n",
      "Epoch 329/884 Validation: 100%|██████████| 88/88 [00:09<00:00,  8.92batch/s]\n"
     ]
    },
    {
     "name": "stdout",
     "output_type": "stream",
     "text": [
      "Epoch 329/884, Train Loss: 0.0479, Train Acc: 88.77%, Valid Loss: 0.1172, Valid Acc: 88.41%\n"
     ]
    },
    {
     "name": "stderr",
     "output_type": "stream",
     "text": [
      "Epoch 330/884 Training: 100%|██████████| 351/351 [00:40<00:00,  8.66batch/s]\n",
      "Epoch 330/884 Validation: 100%|██████████| 88/88 [00:08<00:00, 10.94batch/s]\n"
     ]
    },
    {
     "name": "stdout",
     "output_type": "stream",
     "text": [
      "Epoch 330/884, Train Loss: 0.0451, Train Acc: 89.59%, Valid Loss: 0.1143, Valid Acc: 89.47%\n"
     ]
    },
    {
     "name": "stderr",
     "output_type": "stream",
     "text": [
      "Epoch 331/884 Training: 100%|██████████| 351/351 [00:40<00:00,  8.76batch/s]\n",
      "Epoch 331/884 Validation: 100%|██████████| 88/88 [00:09<00:00,  9.16batch/s]\n"
     ]
    },
    {
     "name": "stdout",
     "output_type": "stream",
     "text": [
      "Epoch 331/884, Train Loss: 0.0465, Train Acc: 89.84%, Valid Loss: 0.1107, Valid Acc: 88.62%\n"
     ]
    },
    {
     "name": "stderr",
     "output_type": "stream",
     "text": [
      "Epoch 332/884 Training: 100%|██████████| 351/351 [00:41<00:00,  8.53batch/s]\n",
      "Epoch 332/884 Validation: 100%|██████████| 88/88 [00:08<00:00, 10.30batch/s]\n"
     ]
    },
    {
     "name": "stdout",
     "output_type": "stream",
     "text": [
      "Epoch 332/884, Train Loss: 0.0439, Train Acc: 89.59%, Valid Loss: 0.1100, Valid Acc: 88.62%\n"
     ]
    },
    {
     "name": "stderr",
     "output_type": "stream",
     "text": [
      "Epoch 333/884 Training: 100%|██████████| 351/351 [00:40<00:00,  8.60batch/s]\n",
      "Epoch 333/884 Validation: 100%|██████████| 88/88 [00:08<00:00,  9.79batch/s]\n"
     ]
    },
    {
     "name": "stdout",
     "output_type": "stream",
     "text": [
      "Epoch 333/884, Train Loss: 0.0434, Train Acc: 89.59%, Valid Loss: 0.1320, Valid Acc: 88.19%\n"
     ]
    },
    {
     "name": "stderr",
     "output_type": "stream",
     "text": [
      "Epoch 334/884 Training: 100%|██████████| 351/351 [00:40<00:00,  8.71batch/s]\n",
      "Epoch 334/884 Validation: 100%|██████████| 88/88 [00:08<00:00,  9.97batch/s]\n"
     ]
    },
    {
     "name": "stdout",
     "output_type": "stream",
     "text": [
      "Epoch 334/884, Train Loss: 0.0470, Train Acc: 88.93%, Valid Loss: 0.1076, Valid Acc: 89.12%\n"
     ]
    },
    {
     "name": "stderr",
     "output_type": "stream",
     "text": [
      "Epoch 335/884 Training: 100%|██████████| 351/351 [00:40<00:00,  8.65batch/s]\n",
      "Epoch 335/884 Validation: 100%|██████████| 88/88 [00:09<00:00,  9.32batch/s]\n"
     ]
    },
    {
     "name": "stdout",
     "output_type": "stream",
     "text": [
      "Epoch 335/884, Train Loss: 0.0476, Train Acc: 89.40%, Valid Loss: 0.1143, Valid Acc: 88.76%\n"
     ]
    },
    {
     "name": "stderr",
     "output_type": "stream",
     "text": [
      "Epoch 336/884 Training: 100%|██████████| 351/351 [00:40<00:00,  8.71batch/s]\n",
      "Epoch 336/884 Validation: 100%|██████████| 88/88 [00:09<00:00,  9.42batch/s]\n"
     ]
    },
    {
     "name": "stdout",
     "output_type": "stream",
     "text": [
      "Epoch 336/884, Train Loss: 0.0450, Train Acc: 89.33%, Valid Loss: 0.1099, Valid Acc: 88.98%\n"
     ]
    },
    {
     "name": "stderr",
     "output_type": "stream",
     "text": [
      "Epoch 337/884 Training: 100%|██████████| 351/351 [00:40<00:00,  8.69batch/s]\n",
      "Epoch 337/884 Validation: 100%|██████████| 88/88 [00:09<00:00,  9.39batch/s]\n"
     ]
    },
    {
     "name": "stdout",
     "output_type": "stream",
     "text": [
      "Epoch 337/884, Train Loss: 0.0467, Train Acc: 89.66%, Valid Loss: 0.1192, Valid Acc: 88.55%\n"
     ]
    },
    {
     "name": "stderr",
     "output_type": "stream",
     "text": [
      "Epoch 338/884 Training: 100%|██████████| 351/351 [00:39<00:00,  8.81batch/s]\n",
      "Epoch 338/884 Validation: 100%|██████████| 88/88 [00:09<00:00,  9.57batch/s]\n"
     ]
    },
    {
     "name": "stdout",
     "output_type": "stream",
     "text": [
      "Epoch 338/884, Train Loss: 0.0481, Train Acc: 89.83%, Valid Loss: 0.1066, Valid Acc: 88.62%\n"
     ]
    },
    {
     "name": "stderr",
     "output_type": "stream",
     "text": [
      "Epoch 339/884 Training: 100%|██████████| 351/351 [00:40<00:00,  8.66batch/s]\n",
      "Epoch 339/884 Validation: 100%|██████████| 88/88 [00:09<00:00,  9.17batch/s]\n"
     ]
    },
    {
     "name": "stdout",
     "output_type": "stream",
     "text": [
      "Epoch 339/884, Train Loss: 0.0432, Train Acc: 89.79%, Valid Loss: 0.1151, Valid Acc: 88.55%\n"
     ]
    },
    {
     "name": "stderr",
     "output_type": "stream",
     "text": [
      "Epoch 340/884 Training: 100%|██████████| 351/351 [00:40<00:00,  8.71batch/s]\n",
      "Epoch 340/884 Validation: 100%|██████████| 88/88 [00:09<00:00,  9.42batch/s]\n"
     ]
    },
    {
     "name": "stdout",
     "output_type": "stream",
     "text": [
      "Epoch 340/884, Train Loss: 0.0443, Train Acc: 89.15%, Valid Loss: 0.1110, Valid Acc: 88.83%\n"
     ]
    },
    {
     "name": "stderr",
     "output_type": "stream",
     "text": [
      "Epoch 341/884 Training: 100%|██████████| 351/351 [00:40<00:00,  8.64batch/s]\n",
      "Epoch 341/884 Validation: 100%|██████████| 88/88 [00:09<00:00,  9.24batch/s]\n"
     ]
    },
    {
     "name": "stdout",
     "output_type": "stream",
     "text": [
      "Epoch 341/884, Train Loss: 0.0472, Train Acc: 88.88%, Valid Loss: 0.1122, Valid Acc: 89.33%\n"
     ]
    },
    {
     "name": "stderr",
     "output_type": "stream",
     "text": [
      "Epoch 342/884 Training: 100%|██████████| 351/351 [00:38<00:00,  9.03batch/s]\n",
      "Epoch 342/884 Validation: 100%|██████████| 88/88 [00:08<00:00, 10.36batch/s]\n"
     ]
    },
    {
     "name": "stdout",
     "output_type": "stream",
     "text": [
      "Epoch 342/884, Train Loss: 0.0436, Train Acc: 89.65%, Valid Loss: 0.1105, Valid Acc: 89.12%\n"
     ]
    },
    {
     "name": "stderr",
     "output_type": "stream",
     "text": [
      "Epoch 343/884 Training: 100%|██████████| 351/351 [00:39<00:00,  8.80batch/s]\n",
      "Epoch 343/884 Validation: 100%|██████████| 88/88 [00:08<00:00, 10.18batch/s]\n"
     ]
    },
    {
     "name": "stdout",
     "output_type": "stream",
     "text": [
      "Epoch 343/884, Train Loss: 0.0461, Train Acc: 89.95%, Valid Loss: 0.1196, Valid Acc: 88.26%\n"
     ]
    },
    {
     "name": "stderr",
     "output_type": "stream",
     "text": [
      "Epoch 344/884 Training: 100%|██████████| 351/351 [00:40<00:00,  8.65batch/s]\n",
      "Epoch 344/884 Validation: 100%|██████████| 88/88 [00:09<00:00,  9.52batch/s]\n"
     ]
    },
    {
     "name": "stdout",
     "output_type": "stream",
     "text": [
      "Epoch 344/884, Train Loss: 0.0469, Train Acc: 89.08%, Valid Loss: 0.1134, Valid Acc: 88.12%\n"
     ]
    },
    {
     "name": "stderr",
     "output_type": "stream",
     "text": [
      "Epoch 345/884 Training: 100%|██████████| 351/351 [00:40<00:00,  8.62batch/s]\n",
      "Epoch 345/884 Validation: 100%|██████████| 88/88 [00:09<00:00,  9.11batch/s]\n"
     ]
    },
    {
     "name": "stdout",
     "output_type": "stream",
     "text": [
      "Epoch 345/884, Train Loss: 0.0485, Train Acc: 89.25%, Valid Loss: 0.1181, Valid Acc: 87.77%\n"
     ]
    },
    {
     "name": "stderr",
     "output_type": "stream",
     "text": [
      "Epoch 346/884 Training: 100%|██████████| 351/351 [00:39<00:00,  8.99batch/s]\n",
      "Epoch 346/884 Validation: 100%|██████████| 88/88 [00:09<00:00,  9.41batch/s]\n"
     ]
    },
    {
     "name": "stdout",
     "output_type": "stream",
     "text": [
      "Epoch 346/884, Train Loss: 0.0449, Train Acc: 90.18%, Valid Loss: 0.1071, Valid Acc: 89.05%\n"
     ]
    },
    {
     "name": "stderr",
     "output_type": "stream",
     "text": [
      "Epoch 347/884 Training: 100%|██████████| 351/351 [00:40<00:00,  8.75batch/s]\n",
      "Epoch 347/884 Validation: 100%|██████████| 88/88 [00:08<00:00,  9.79batch/s]\n"
     ]
    },
    {
     "name": "stdout",
     "output_type": "stream",
     "text": [
      "Epoch 347/884, Train Loss: 0.0453, Train Acc: 89.31%, Valid Loss: 0.1108, Valid Acc: 88.41%\n"
     ]
    },
    {
     "name": "stderr",
     "output_type": "stream",
     "text": [
      "Epoch 348/884 Training: 100%|██████████| 351/351 [00:39<00:00,  8.86batch/s]\n",
      "Epoch 348/884 Validation: 100%|██████████| 88/88 [00:08<00:00, 10.45batch/s]\n"
     ]
    },
    {
     "name": "stdout",
     "output_type": "stream",
     "text": [
      "Epoch 348/884, Train Loss: 0.0451, Train Acc: 89.47%, Valid Loss: 0.1103, Valid Acc: 87.84%\n"
     ]
    },
    {
     "name": "stderr",
     "output_type": "stream",
     "text": [
      "Epoch 349/884 Training: 100%|██████████| 351/351 [00:40<00:00,  8.59batch/s]\n",
      "Epoch 349/884 Validation: 100%|██████████| 88/88 [00:08<00:00,  9.95batch/s]\n"
     ]
    },
    {
     "name": "stdout",
     "output_type": "stream",
     "text": [
      "Epoch 349/884, Train Loss: 0.0460, Train Acc: 89.04%, Valid Loss: 0.1105, Valid Acc: 88.76%\n"
     ]
    },
    {
     "name": "stderr",
     "output_type": "stream",
     "text": [
      "Epoch 350/884 Training: 100%|██████████| 351/351 [00:39<00:00,  8.83batch/s]\n",
      "Epoch 350/884 Validation: 100%|██████████| 88/88 [00:08<00:00,  9.81batch/s]\n"
     ]
    },
    {
     "name": "stdout",
     "output_type": "stream",
     "text": [
      "Epoch 350/884, Train Loss: 0.0473, Train Acc: 89.63%, Valid Loss: 0.1227, Valid Acc: 88.19%\n"
     ]
    },
    {
     "name": "stderr",
     "output_type": "stream",
     "text": [
      "Epoch 351/884 Training: 100%|██████████| 351/351 [00:40<00:00,  8.68batch/s]\n",
      "Epoch 351/884 Validation: 100%|██████████| 88/88 [00:09<00:00,  9.30batch/s]\n"
     ]
    },
    {
     "name": "stdout",
     "output_type": "stream",
     "text": [
      "Epoch 351/884, Train Loss: 0.0470, Train Acc: 89.43%, Valid Loss: 0.1092, Valid Acc: 89.05%\n"
     ]
    },
    {
     "name": "stderr",
     "output_type": "stream",
     "text": [
      "Epoch 352/884 Training: 100%|██████████| 351/351 [00:40<00:00,  8.63batch/s]\n",
      "Epoch 352/884 Validation: 100%|██████████| 88/88 [00:09<00:00,  9.27batch/s]\n"
     ]
    },
    {
     "name": "stdout",
     "output_type": "stream",
     "text": [
      "Epoch 352/884, Train Loss: 0.0458, Train Acc: 89.41%, Valid Loss: 0.1107, Valid Acc: 88.90%\n"
     ]
    },
    {
     "name": "stderr",
     "output_type": "stream",
     "text": [
      "Epoch 353/884 Training: 100%|██████████| 351/351 [00:40<00:00,  8.76batch/s]\n",
      "Epoch 353/884 Validation: 100%|██████████| 88/88 [00:09<00:00,  9.35batch/s]\n"
     ]
    },
    {
     "name": "stdout",
     "output_type": "stream",
     "text": [
      "Epoch 353/884, Train Loss: 0.0457, Train Acc: 89.68%, Valid Loss: 0.1102, Valid Acc: 89.26%\n"
     ]
    },
    {
     "name": "stderr",
     "output_type": "stream",
     "text": [
      "Epoch 354/884 Training: 100%|██████████| 351/351 [00:39<00:00,  8.86batch/s]\n",
      "Epoch 354/884 Validation: 100%|██████████| 88/88 [00:09<00:00,  9.38batch/s]\n"
     ]
    },
    {
     "name": "stdout",
     "output_type": "stream",
     "text": [
      "Epoch 354/884, Train Loss: 0.0461, Train Acc: 89.49%, Valid Loss: 0.1103, Valid Acc: 88.90%\n"
     ]
    },
    {
     "name": "stderr",
     "output_type": "stream",
     "text": [
      "Epoch 355/884 Training: 100%|██████████| 351/351 [00:40<00:00,  8.63batch/s]\n",
      "Epoch 355/884 Validation: 100%|██████████| 88/88 [00:09<00:00,  9.47batch/s]\n"
     ]
    },
    {
     "name": "stdout",
     "output_type": "stream",
     "text": [
      "Epoch 355/884, Train Loss: 0.0463, Train Acc: 89.40%, Valid Loss: 0.1074, Valid Acc: 88.62%\n"
     ]
    },
    {
     "name": "stderr",
     "output_type": "stream",
     "text": [
      "Epoch 356/884 Training: 100%|██████████| 351/351 [00:40<00:00,  8.70batch/s]\n",
      "Epoch 356/884 Validation: 100%|██████████| 88/88 [00:08<00:00,  9.95batch/s]\n"
     ]
    },
    {
     "name": "stdout",
     "output_type": "stream",
     "text": [
      "Epoch 356/884, Train Loss: 0.0432, Train Acc: 89.49%, Valid Loss: 0.1096, Valid Acc: 88.41%\n"
     ]
    },
    {
     "name": "stderr",
     "output_type": "stream",
     "text": [
      "Epoch 357/884 Training: 100%|██████████| 351/351 [00:40<00:00,  8.68batch/s]\n",
      "Epoch 357/884 Validation: 100%|██████████| 88/88 [00:09<00:00,  9.04batch/s]\n"
     ]
    },
    {
     "name": "stdout",
     "output_type": "stream",
     "text": [
      "Epoch 357/884, Train Loss: 0.0476, Train Acc: 89.33%, Valid Loss: 0.1168, Valid Acc: 88.62%\n"
     ]
    },
    {
     "name": "stderr",
     "output_type": "stream",
     "text": [
      "Epoch 358/884 Training: 100%|██████████| 351/351 [00:40<00:00,  8.59batch/s]\n",
      "Epoch 358/884 Validation: 100%|██████████| 88/88 [00:08<00:00, 10.30batch/s]\n"
     ]
    },
    {
     "name": "stdout",
     "output_type": "stream",
     "text": [
      "Epoch 358/884, Train Loss: 0.0426, Train Acc: 89.95%, Valid Loss: 0.1119, Valid Acc: 89.19%\n"
     ]
    },
    {
     "name": "stderr",
     "output_type": "stream",
     "text": [
      "Epoch 359/884 Training: 100%|██████████| 351/351 [00:39<00:00,  8.83batch/s]\n",
      "Epoch 359/884 Validation: 100%|██████████| 88/88 [00:09<00:00,  9.40batch/s]\n"
     ]
    },
    {
     "name": "stdout",
     "output_type": "stream",
     "text": [
      "Epoch 359/884, Train Loss: 0.0444, Train Acc: 89.58%, Valid Loss: 0.1107, Valid Acc: 89.33%\n"
     ]
    },
    {
     "name": "stderr",
     "output_type": "stream",
     "text": [
      "Epoch 360/884 Training: 100%|██████████| 351/351 [00:40<00:00,  8.65batch/s]\n",
      "Epoch 360/884 Validation: 100%|██████████| 88/88 [00:09<00:00,  9.50batch/s]\n"
     ]
    },
    {
     "name": "stdout",
     "output_type": "stream",
     "text": [
      "Epoch 360/884, Train Loss: 0.0456, Train Acc: 89.27%, Valid Loss: 0.1072, Valid Acc: 88.62%\n"
     ]
    },
    {
     "name": "stderr",
     "output_type": "stream",
     "text": [
      "Epoch 361/884 Training: 100%|██████████| 351/351 [00:39<00:00,  8.88batch/s]\n",
      "Epoch 361/884 Validation: 100%|██████████| 88/88 [00:09<00:00,  9.36batch/s]\n"
     ]
    },
    {
     "name": "stdout",
     "output_type": "stream",
     "text": [
      "Epoch 361/884, Train Loss: 0.0460, Train Acc: 88.91%, Valid Loss: 0.1098, Valid Acc: 89.26%\n"
     ]
    },
    {
     "name": "stderr",
     "output_type": "stream",
     "text": [
      "Epoch 362/884 Training: 100%|██████████| 351/351 [00:39<00:00,  8.92batch/s]\n",
      "Epoch 362/884 Validation: 100%|██████████| 88/88 [00:09<00:00,  9.38batch/s]\n"
     ]
    },
    {
     "name": "stdout",
     "output_type": "stream",
     "text": [
      "Epoch 362/884, Train Loss: 0.0455, Train Acc: 89.15%, Valid Loss: 0.1147, Valid Acc: 88.62%\n"
     ]
    },
    {
     "name": "stderr",
     "output_type": "stream",
     "text": [
      "Epoch 363/884 Training: 100%|██████████| 351/351 [00:40<00:00,  8.65batch/s]\n",
      "Epoch 363/884 Validation: 100%|██████████| 88/88 [00:09<00:00,  9.13batch/s]\n"
     ]
    },
    {
     "name": "stdout",
     "output_type": "stream",
     "text": [
      "Epoch 363/884, Train Loss: 0.0460, Train Acc: 89.65%, Valid Loss: 0.1091, Valid Acc: 88.55%\n"
     ]
    },
    {
     "name": "stderr",
     "output_type": "stream",
     "text": [
      "Epoch 364/884 Training: 100%|██████████| 351/351 [00:39<00:00,  8.81batch/s]\n",
      "Epoch 364/884 Validation: 100%|██████████| 88/88 [00:09<00:00,  9.31batch/s]\n"
     ]
    },
    {
     "name": "stdout",
     "output_type": "stream",
     "text": [
      "Epoch 364/884, Train Loss: 0.0455, Train Acc: 89.61%, Valid Loss: 0.1065, Valid Acc: 88.90%\n"
     ]
    },
    {
     "name": "stderr",
     "output_type": "stream",
     "text": [
      "Epoch 365/884 Training: 100%|██████████| 351/351 [00:40<00:00,  8.66batch/s]\n",
      "Epoch 365/884 Validation: 100%|██████████| 88/88 [00:09<00:00,  9.40batch/s]\n"
     ]
    },
    {
     "name": "stdout",
     "output_type": "stream",
     "text": [
      "Epoch 365/884, Train Loss: 0.0468, Train Acc: 89.41%, Valid Loss: 0.1132, Valid Acc: 88.41%\n"
     ]
    },
    {
     "name": "stderr",
     "output_type": "stream",
     "text": [
      "Epoch 366/884 Training: 100%|██████████| 351/351 [00:40<00:00,  8.67batch/s]\n",
      "Epoch 366/884 Validation: 100%|██████████| 88/88 [00:09<00:00,  9.53batch/s]\n"
     ]
    },
    {
     "name": "stdout",
     "output_type": "stream",
     "text": [
      "Epoch 366/884, Train Loss: 0.0446, Train Acc: 89.79%, Valid Loss: 0.1088, Valid Acc: 88.76%\n"
     ]
    },
    {
     "name": "stderr",
     "output_type": "stream",
     "text": [
      "Epoch 367/884 Training: 100%|██████████| 351/351 [00:39<00:00,  8.93batch/s]\n",
      "Epoch 367/884 Validation: 100%|██████████| 88/88 [00:09<00:00,  9.11batch/s]\n"
     ]
    },
    {
     "name": "stdout",
     "output_type": "stream",
     "text": [
      "Epoch 367/884, Train Loss: 0.0453, Train Acc: 89.74%, Valid Loss: 0.1138, Valid Acc: 89.12%\n"
     ]
    },
    {
     "name": "stderr",
     "output_type": "stream",
     "text": [
      "Epoch 368/884 Training: 100%|██████████| 351/351 [00:40<00:00,  8.77batch/s]\n",
      "Epoch 368/884 Validation: 100%|██████████| 88/88 [00:09<00:00,  9.68batch/s]\n"
     ]
    },
    {
     "name": "stdout",
     "output_type": "stream",
     "text": [
      "Epoch 368/884, Train Loss: 0.0482, Train Acc: 89.63%, Valid Loss: 0.1170, Valid Acc: 88.69%\n"
     ]
    },
    {
     "name": "stderr",
     "output_type": "stream",
     "text": [
      "Epoch 369/884 Training: 100%|██████████| 351/351 [00:40<00:00,  8.57batch/s]\n",
      "Epoch 369/884 Validation: 100%|██████████| 88/88 [00:09<00:00,  9.44batch/s]\n"
     ]
    },
    {
     "name": "stdout",
     "output_type": "stream",
     "text": [
      "Epoch 369/884, Train Loss: 0.0456, Train Acc: 89.56%, Valid Loss: 0.1095, Valid Acc: 88.69%\n"
     ]
    },
    {
     "name": "stderr",
     "output_type": "stream",
     "text": [
      "Epoch 370/884 Training: 100%|██████████| 351/351 [00:39<00:00,  8.93batch/s]\n",
      "Epoch 370/884 Validation: 100%|██████████| 88/88 [00:09<00:00,  9.38batch/s]\n"
     ]
    },
    {
     "name": "stdout",
     "output_type": "stream",
     "text": [
      "Epoch 370/884, Train Loss: 0.0462, Train Acc: 88.97%, Valid Loss: 0.1183, Valid Acc: 88.62%\n"
     ]
    },
    {
     "name": "stderr",
     "output_type": "stream",
     "text": [
      "Epoch 371/884 Training: 100%|██████████| 351/351 [00:40<00:00,  8.69batch/s]\n",
      "Epoch 371/884 Validation: 100%|██████████| 88/88 [00:08<00:00, 10.34batch/s]\n"
     ]
    },
    {
     "name": "stdout",
     "output_type": "stream",
     "text": [
      "Epoch 371/884, Train Loss: 0.0453, Train Acc: 89.47%, Valid Loss: 0.1069, Valid Acc: 88.98%\n"
     ]
    },
    {
     "name": "stderr",
     "output_type": "stream",
     "text": [
      "Epoch 372/884 Training: 100%|██████████| 351/351 [00:40<00:00,  8.68batch/s]\n",
      "Epoch 372/884 Validation: 100%|██████████| 88/88 [00:09<00:00,  9.22batch/s]\n"
     ]
    },
    {
     "name": "stdout",
     "output_type": "stream",
     "text": [
      "Epoch 372/884, Train Loss: 0.0449, Train Acc: 89.72%, Valid Loss: 0.1058, Valid Acc: 89.69%\n"
     ]
    },
    {
     "name": "stderr",
     "output_type": "stream",
     "text": [
      "Epoch 373/884 Training: 100%|██████████| 351/351 [00:39<00:00,  8.92batch/s]\n",
      "Epoch 373/884 Validation: 100%|██████████| 88/88 [00:09<00:00,  9.25batch/s]\n"
     ]
    },
    {
     "name": "stdout",
     "output_type": "stream",
     "text": [
      "Epoch 373/884, Train Loss: 0.0454, Train Acc: 89.74%, Valid Loss: 0.1133, Valid Acc: 89.19%\n"
     ]
    },
    {
     "name": "stderr",
     "output_type": "stream",
     "text": [
      "Epoch 374/884 Training: 100%|██████████| 351/351 [00:40<00:00,  8.69batch/s]\n",
      "Epoch 374/884 Validation: 100%|██████████| 88/88 [00:09<00:00,  9.39batch/s]\n"
     ]
    },
    {
     "name": "stdout",
     "output_type": "stream",
     "text": [
      "Epoch 374/884, Train Loss: 0.0460, Train Acc: 89.59%, Valid Loss: 0.1093, Valid Acc: 88.48%\n"
     ]
    },
    {
     "name": "stderr",
     "output_type": "stream",
     "text": [
      "Epoch 375/884 Training: 100%|██████████| 351/351 [00:40<00:00,  8.58batch/s]\n",
      "Epoch 375/884 Validation: 100%|██████████| 88/88 [00:09<00:00,  9.01batch/s]\n"
     ]
    },
    {
     "name": "stdout",
     "output_type": "stream",
     "text": [
      "Epoch 375/884, Train Loss: 0.0459, Train Acc: 89.47%, Valid Loss: 0.1066, Valid Acc: 88.62%\n"
     ]
    },
    {
     "name": "stderr",
     "output_type": "stream",
     "text": [
      "Epoch 376/884 Training: 100%|██████████| 351/351 [00:40<00:00,  8.69batch/s]\n",
      "Epoch 376/884 Validation: 100%|██████████| 88/88 [00:09<00:00,  9.23batch/s]\n"
     ]
    },
    {
     "name": "stdout",
     "output_type": "stream",
     "text": [
      "Epoch 376/884, Train Loss: 0.0449, Train Acc: 89.83%, Valid Loss: 0.1143, Valid Acc: 87.91%\n"
     ]
    },
    {
     "name": "stderr",
     "output_type": "stream",
     "text": [
      "Epoch 377/884 Training: 100%|██████████| 351/351 [00:40<00:00,  8.68batch/s]\n",
      "Epoch 377/884 Validation: 100%|██████████| 88/88 [00:09<00:00,  9.36batch/s]\n"
     ]
    },
    {
     "name": "stdout",
     "output_type": "stream",
     "text": [
      "Epoch 377/884, Train Loss: 0.0468, Train Acc: 89.06%, Valid Loss: 0.1112, Valid Acc: 88.41%\n"
     ]
    },
    {
     "name": "stderr",
     "output_type": "stream",
     "text": [
      "Epoch 378/884 Training: 100%|██████████| 351/351 [00:39<00:00,  8.84batch/s]\n",
      "Epoch 378/884 Validation: 100%|██████████| 88/88 [00:09<00:00,  9.41batch/s]\n"
     ]
    },
    {
     "name": "stdout",
     "output_type": "stream",
     "text": [
      "Epoch 378/884, Train Loss: 0.0484, Train Acc: 89.22%, Valid Loss: 0.1121, Valid Acc: 88.55%\n"
     ]
    },
    {
     "name": "stderr",
     "output_type": "stream",
     "text": [
      "Epoch 379/884 Training: 100%|██████████| 351/351 [00:40<00:00,  8.72batch/s]\n",
      "Epoch 379/884 Validation: 100%|██████████| 88/88 [00:09<00:00,  9.37batch/s]\n"
     ]
    },
    {
     "name": "stdout",
     "output_type": "stream",
     "text": [
      "Epoch 379/884, Train Loss: 0.0486, Train Acc: 89.43%, Valid Loss: 0.1107, Valid Acc: 89.47%\n"
     ]
    },
    {
     "name": "stderr",
     "output_type": "stream",
     "text": [
      "Epoch 380/884 Training: 100%|██████████| 351/351 [00:39<00:00,  8.78batch/s]\n",
      "Epoch 380/884 Validation: 100%|██████████| 88/88 [00:08<00:00, 10.48batch/s]\n"
     ]
    },
    {
     "name": "stdout",
     "output_type": "stream",
     "text": [
      "Epoch 380/884, Train Loss: 0.0443, Train Acc: 89.77%, Valid Loss: 0.1169, Valid Acc: 88.05%\n"
     ]
    },
    {
     "name": "stderr",
     "output_type": "stream",
     "text": [
      "Epoch 381/884 Training: 100%|██████████| 351/351 [00:39<00:00,  8.89batch/s]\n",
      "Epoch 381/884 Validation: 100%|██████████| 88/88 [00:09<00:00,  9.13batch/s]\n"
     ]
    },
    {
     "name": "stdout",
     "output_type": "stream",
     "text": [
      "Epoch 381/884, Train Loss: 0.0479, Train Acc: 89.09%, Valid Loss: 0.1122, Valid Acc: 88.83%\n"
     ]
    },
    {
     "name": "stderr",
     "output_type": "stream",
     "text": [
      "Epoch 382/884 Training: 100%|██████████| 351/351 [00:41<00:00,  8.54batch/s]\n",
      "Epoch 382/884 Validation: 100%|██████████| 88/88 [00:08<00:00,  9.89batch/s]\n"
     ]
    },
    {
     "name": "stdout",
     "output_type": "stream",
     "text": [
      "Epoch 382/884, Train Loss: 0.0469, Train Acc: 89.02%, Valid Loss: 0.1132, Valid Acc: 88.90%\n"
     ]
    },
    {
     "name": "stderr",
     "output_type": "stream",
     "text": [
      "Epoch 383/884 Training: 100%|██████████| 351/351 [00:40<00:00,  8.75batch/s]\n",
      "Epoch 383/884 Validation: 100%|██████████| 88/88 [00:09<00:00,  9.28batch/s]\n"
     ]
    },
    {
     "name": "stdout",
     "output_type": "stream",
     "text": [
      "Epoch 383/884, Train Loss: 0.0466, Train Acc: 89.84%, Valid Loss: 0.1103, Valid Acc: 88.55%\n"
     ]
    },
    {
     "name": "stderr",
     "output_type": "stream",
     "text": [
      "Epoch 384/884 Training: 100%|██████████| 351/351 [00:40<00:00,  8.59batch/s]\n",
      "Epoch 384/884 Validation: 100%|██████████| 88/88 [00:08<00:00, 10.31batch/s]\n"
     ]
    },
    {
     "name": "stdout",
     "output_type": "stream",
     "text": [
      "Epoch 384/884, Train Loss: 0.0442, Train Acc: 89.77%, Valid Loss: 0.1085, Valid Acc: 89.40%\n"
     ]
    },
    {
     "name": "stderr",
     "output_type": "stream",
     "text": [
      "Epoch 385/884 Training: 100%|██████████| 351/351 [00:40<00:00,  8.67batch/s]\n",
      "Epoch 385/884 Validation: 100%|██████████| 88/88 [00:09<00:00,  9.73batch/s]\n"
     ]
    },
    {
     "name": "stdout",
     "output_type": "stream",
     "text": [
      "Epoch 385/884, Train Loss: 0.0467, Train Acc: 89.72%, Valid Loss: 0.1154, Valid Acc: 88.62%\n"
     ]
    },
    {
     "name": "stderr",
     "output_type": "stream",
     "text": [
      "Epoch 386/884 Training: 100%|██████████| 351/351 [00:40<00:00,  8.60batch/s]\n",
      "Epoch 386/884 Validation: 100%|██████████| 88/88 [00:09<00:00,  9.39batch/s]\n"
     ]
    },
    {
     "name": "stdout",
     "output_type": "stream",
     "text": [
      "Epoch 386/884, Train Loss: 0.0478, Train Acc: 89.83%, Valid Loss: 0.1169, Valid Acc: 87.84%\n"
     ]
    },
    {
     "name": "stderr",
     "output_type": "stream",
     "text": [
      "Epoch 387/884 Training: 100%|██████████| 351/351 [00:39<00:00,  8.78batch/s]\n",
      "Epoch 387/884 Validation: 100%|██████████| 88/88 [00:09<00:00,  9.38batch/s]\n"
     ]
    },
    {
     "name": "stdout",
     "output_type": "stream",
     "text": [
      "Epoch 387/884, Train Loss: 0.0468, Train Acc: 88.83%, Valid Loss: 0.1087, Valid Acc: 89.12%\n"
     ]
    },
    {
     "name": "stderr",
     "output_type": "stream",
     "text": [
      "Epoch 388/884 Training: 100%|██████████| 351/351 [00:41<00:00,  8.56batch/s]\n",
      "Epoch 388/884 Validation: 100%|██████████| 88/88 [00:09<00:00,  9.15batch/s]\n"
     ]
    },
    {
     "name": "stdout",
     "output_type": "stream",
     "text": [
      "Epoch 388/884, Train Loss: 0.0458, Train Acc: 89.22%, Valid Loss: 0.1115, Valid Acc: 88.76%\n"
     ]
    },
    {
     "name": "stderr",
     "output_type": "stream",
     "text": [
      "Epoch 389/884 Training: 100%|██████████| 351/351 [00:40<00:00,  8.75batch/s]\n",
      "Epoch 389/884 Validation: 100%|██████████| 88/88 [00:09<00:00,  9.21batch/s]\n"
     ]
    },
    {
     "name": "stdout",
     "output_type": "stream",
     "text": [
      "Epoch 389/884, Train Loss: 0.0453, Train Acc: 89.77%, Valid Loss: 0.1114, Valid Acc: 88.62%\n"
     ]
    },
    {
     "name": "stderr",
     "output_type": "stream",
     "text": [
      "Epoch 390/884 Training: 100%|██████████| 351/351 [00:39<00:00,  8.80batch/s]\n",
      "Epoch 390/884 Validation: 100%|██████████| 88/88 [00:09<00:00,  9.76batch/s]\n"
     ]
    },
    {
     "name": "stdout",
     "output_type": "stream",
     "text": [
      "Epoch 390/884, Train Loss: 0.0431, Train Acc: 89.70%, Valid Loss: 0.1148, Valid Acc: 88.55%\n"
     ]
    },
    {
     "name": "stderr",
     "output_type": "stream",
     "text": [
      "Epoch 391/884 Training: 100%|██████████| 351/351 [00:41<00:00,  8.47batch/s]\n",
      "Epoch 391/884 Validation: 100%|██████████| 88/88 [00:09<00:00,  8.80batch/s]\n"
     ]
    },
    {
     "name": "stdout",
     "output_type": "stream",
     "text": [
      "Epoch 391/884, Train Loss: 0.0465, Train Acc: 89.09%, Valid Loss: 0.1102, Valid Acc: 89.26%\n"
     ]
    },
    {
     "name": "stderr",
     "output_type": "stream",
     "text": [
      "Epoch 392/884 Training: 100%|██████████| 351/351 [00:41<00:00,  8.38batch/s]\n",
      "Epoch 392/884 Validation: 100%|██████████| 88/88 [00:09<00:00,  9.59batch/s]\n"
     ]
    },
    {
     "name": "stdout",
     "output_type": "stream",
     "text": [
      "Epoch 392/884, Train Loss: 0.0449, Train Acc: 89.65%, Valid Loss: 0.1134, Valid Acc: 89.26%\n"
     ]
    },
    {
     "name": "stderr",
     "output_type": "stream",
     "text": [
      "Epoch 393/884 Training: 100%|██████████| 351/351 [00:40<00:00,  8.71batch/s]\n",
      "Epoch 393/884 Validation: 100%|██████████| 88/88 [00:09<00:00,  8.95batch/s]\n"
     ]
    },
    {
     "name": "stdout",
     "output_type": "stream",
     "text": [
      "Epoch 393/884, Train Loss: 0.0491, Train Acc: 89.52%, Valid Loss: 0.1162, Valid Acc: 88.41%\n"
     ]
    },
    {
     "name": "stderr",
     "output_type": "stream",
     "text": [
      "Epoch 394/884 Training: 100%|██████████| 351/351 [00:38<00:00,  9.10batch/s]\n",
      "Epoch 394/884 Validation: 100%|██████████| 88/88 [00:08<00:00, 10.47batch/s]\n"
     ]
    },
    {
     "name": "stdout",
     "output_type": "stream",
     "text": [
      "Epoch 394/884, Train Loss: 0.0441, Train Acc: 89.70%, Valid Loss: 0.1110, Valid Acc: 88.62%\n"
     ]
    },
    {
     "name": "stderr",
     "output_type": "stream",
     "text": [
      "Epoch 395/884 Training: 100%|██████████| 351/351 [00:39<00:00,  8.83batch/s]\n",
      "Epoch 395/884 Validation: 100%|██████████| 88/88 [00:09<00:00,  9.38batch/s]\n"
     ]
    },
    {
     "name": "stdout",
     "output_type": "stream",
     "text": [
      "Epoch 395/884, Train Loss: 0.0472, Train Acc: 89.36%, Valid Loss: 0.1068, Valid Acc: 88.62%\n"
     ]
    },
    {
     "name": "stderr",
     "output_type": "stream",
     "text": [
      "Epoch 396/884 Training: 100%|██████████| 351/351 [00:40<00:00,  8.77batch/s]\n",
      "Epoch 396/884 Validation: 100%|██████████| 88/88 [00:09<00:00,  9.35batch/s]\n"
     ]
    },
    {
     "name": "stdout",
     "output_type": "stream",
     "text": [
      "Epoch 396/884, Train Loss: 0.0439, Train Acc: 89.72%, Valid Loss: 0.1114, Valid Acc: 88.26%\n"
     ]
    },
    {
     "name": "stderr",
     "output_type": "stream",
     "text": [
      "Epoch 397/884 Training: 100%|██████████| 351/351 [00:39<00:00,  8.87batch/s]\n",
      "Epoch 397/884 Validation: 100%|██████████| 88/88 [00:08<00:00,  9.86batch/s]\n"
     ]
    },
    {
     "name": "stdout",
     "output_type": "stream",
     "text": [
      "Epoch 397/884, Train Loss: 0.0459, Train Acc: 89.58%, Valid Loss: 0.1127, Valid Acc: 88.34%\n"
     ]
    },
    {
     "name": "stderr",
     "output_type": "stream",
     "text": [
      "Epoch 398/884 Training: 100%|██████████| 351/351 [00:39<00:00,  8.81batch/s]\n",
      "Epoch 398/884 Validation: 100%|██████████| 88/88 [00:09<00:00,  9.45batch/s]\n"
     ]
    },
    {
     "name": "stdout",
     "output_type": "stream",
     "text": [
      "Epoch 398/884, Train Loss: 0.0471, Train Acc: 88.56%, Valid Loss: 0.1169, Valid Acc: 89.12%\n"
     ]
    },
    {
     "name": "stderr",
     "output_type": "stream",
     "text": [
      "Epoch 399/884 Training: 100%|██████████| 351/351 [00:40<00:00,  8.62batch/s]\n",
      "Epoch 399/884 Validation: 100%|██████████| 88/88 [00:09<00:00,  9.31batch/s]\n"
     ]
    },
    {
     "name": "stdout",
     "output_type": "stream",
     "text": [
      "Epoch 399/884, Train Loss: 0.0466, Train Acc: 89.15%, Valid Loss: 0.1087, Valid Acc: 89.33%\n"
     ]
    },
    {
     "name": "stderr",
     "output_type": "stream",
     "text": [
      "Epoch 400/884 Training: 100%|██████████| 351/351 [00:39<00:00,  8.83batch/s]\n",
      "Epoch 400/884 Validation: 100%|██████████| 88/88 [00:08<00:00,  9.78batch/s]\n"
     ]
    },
    {
     "name": "stdout",
     "output_type": "stream",
     "text": [
      "Epoch 400/884, Train Loss: 0.0424, Train Acc: 90.11%, Valid Loss: 0.1070, Valid Acc: 88.76%\n"
     ]
    },
    {
     "name": "stderr",
     "output_type": "stream",
     "text": [
      "Epoch 401/884 Training: 100%|██████████| 351/351 [00:39<00:00,  8.81batch/s]\n",
      "Epoch 401/884 Validation: 100%|██████████| 88/88 [00:09<00:00,  9.02batch/s]\n"
     ]
    },
    {
     "name": "stdout",
     "output_type": "stream",
     "text": [
      "Epoch 401/884, Train Loss: 0.0452, Train Acc: 90.29%, Valid Loss: 0.1113, Valid Acc: 89.19%\n"
     ]
    },
    {
     "name": "stderr",
     "output_type": "stream",
     "text": [
      "Epoch 402/884 Training: 100%|██████████| 351/351 [00:40<00:00,  8.74batch/s]\n",
      "Epoch 402/884 Validation: 100%|██████████| 88/88 [00:09<00:00,  9.57batch/s]\n"
     ]
    },
    {
     "name": "stdout",
     "output_type": "stream",
     "text": [
      "Epoch 402/884, Train Loss: 0.0455, Train Acc: 89.66%, Valid Loss: 0.1094, Valid Acc: 88.26%\n"
     ]
    },
    {
     "name": "stderr",
     "output_type": "stream",
     "text": [
      "Epoch 403/884 Training: 100%|██████████| 351/351 [00:39<00:00,  8.80batch/s]\n",
      "Epoch 403/884 Validation: 100%|██████████| 88/88 [00:08<00:00, 10.73batch/s]\n"
     ]
    },
    {
     "name": "stdout",
     "output_type": "stream",
     "text": [
      "Epoch 403/884, Train Loss: 0.0489, Train Acc: 89.59%, Valid Loss: 0.1117, Valid Acc: 88.69%\n"
     ]
    },
    {
     "name": "stderr",
     "output_type": "stream",
     "text": [
      "Epoch 404/884 Training: 100%|██████████| 351/351 [00:40<00:00,  8.65batch/s]\n",
      "Epoch 404/884 Validation: 100%|██████████| 88/88 [00:09<00:00,  9.31batch/s]\n"
     ]
    },
    {
     "name": "stdout",
     "output_type": "stream",
     "text": [
      "Epoch 404/884, Train Loss: 0.0475, Train Acc: 89.02%, Valid Loss: 0.1066, Valid Acc: 89.12%\n"
     ]
    },
    {
     "name": "stderr",
     "output_type": "stream",
     "text": [
      "Epoch 405/884 Training: 100%|██████████| 351/351 [00:40<00:00,  8.61batch/s]\n",
      "Epoch 405/884 Validation: 100%|██████████| 88/88 [00:08<00:00, 10.98batch/s]\n"
     ]
    },
    {
     "name": "stdout",
     "output_type": "stream",
     "text": [
      "Epoch 405/884, Train Loss: 0.0451, Train Acc: 90.15%, Valid Loss: 0.1120, Valid Acc: 89.33%\n"
     ]
    },
    {
     "name": "stderr",
     "output_type": "stream",
     "text": [
      "Epoch 406/884 Training: 100%|██████████| 351/351 [00:40<00:00,  8.63batch/s]\n",
      "Epoch 406/884 Validation: 100%|██████████| 88/88 [00:08<00:00, 10.67batch/s]\n"
     ]
    },
    {
     "name": "stdout",
     "output_type": "stream",
     "text": [
      "Epoch 406/884, Train Loss: 0.0459, Train Acc: 89.45%, Valid Loss: 0.1132, Valid Acc: 89.19%\n"
     ]
    },
    {
     "name": "stderr",
     "output_type": "stream",
     "text": [
      "Epoch 407/884 Training: 100%|██████████| 351/351 [00:39<00:00,  8.79batch/s]\n",
      "Epoch 407/884 Validation: 100%|██████████| 88/88 [00:09<00:00,  9.48batch/s]\n"
     ]
    },
    {
     "name": "stdout",
     "output_type": "stream",
     "text": [
      "Epoch 407/884, Train Loss: 0.0457, Train Acc: 88.90%, Valid Loss: 0.1163, Valid Acc: 87.48%\n"
     ]
    },
    {
     "name": "stderr",
     "output_type": "stream",
     "text": [
      "Epoch 408/884 Training: 100%|██████████| 351/351 [00:40<00:00,  8.69batch/s]\n",
      "Epoch 408/884 Validation: 100%|██████████| 88/88 [00:09<00:00,  9.24batch/s]\n"
     ]
    },
    {
     "name": "stdout",
     "output_type": "stream",
     "text": [
      "Epoch 408/884, Train Loss: 0.0443, Train Acc: 89.70%, Valid Loss: 0.1090, Valid Acc: 88.34%\n"
     ]
    },
    {
     "name": "stderr",
     "output_type": "stream",
     "text": [
      "Epoch 409/884 Training: 100%|██████████| 351/351 [00:40<00:00,  8.70batch/s]\n",
      "Epoch 409/884 Validation: 100%|██████████| 88/88 [00:09<00:00,  9.31batch/s]\n"
     ]
    },
    {
     "name": "stdout",
     "output_type": "stream",
     "text": [
      "Epoch 409/884, Train Loss: 0.0451, Train Acc: 89.58%, Valid Loss: 0.1093, Valid Acc: 88.83%\n"
     ]
    },
    {
     "name": "stderr",
     "output_type": "stream",
     "text": [
      "Epoch 410/884 Training: 100%|██████████| 351/351 [00:40<00:00,  8.67batch/s]\n",
      "Epoch 410/884 Validation: 100%|██████████| 88/88 [00:09<00:00,  9.68batch/s]\n"
     ]
    },
    {
     "name": "stdout",
     "output_type": "stream",
     "text": [
      "Epoch 410/884, Train Loss: 0.0456, Train Acc: 89.38%, Valid Loss: 0.1095, Valid Acc: 88.19%\n"
     ]
    },
    {
     "name": "stderr",
     "output_type": "stream",
     "text": [
      "Epoch 411/884 Training: 100%|██████████| 351/351 [00:41<00:00,  8.56batch/s]\n",
      "Epoch 411/884 Validation: 100%|██████████| 88/88 [00:09<00:00,  9.11batch/s]\n"
     ]
    },
    {
     "name": "stdout",
     "output_type": "stream",
     "text": [
      "Epoch 411/884, Train Loss: 0.0450, Train Acc: 89.97%, Valid Loss: 0.1143, Valid Acc: 89.05%\n"
     ]
    },
    {
     "name": "stderr",
     "output_type": "stream",
     "text": [
      "Epoch 412/884 Training: 100%|██████████| 351/351 [00:40<00:00,  8.63batch/s]\n",
      "Epoch 412/884 Validation: 100%|██████████| 88/88 [00:08<00:00, 10.59batch/s]\n"
     ]
    },
    {
     "name": "stdout",
     "output_type": "stream",
     "text": [
      "Epoch 412/884, Train Loss: 0.0463, Train Acc: 89.65%, Valid Loss: 0.1133, Valid Acc: 88.62%\n"
     ]
    },
    {
     "name": "stderr",
     "output_type": "stream",
     "text": [
      "Epoch 413/884 Training: 100%|██████████| 351/351 [00:40<00:00,  8.75batch/s]\n",
      "Epoch 413/884 Validation: 100%|██████████| 88/88 [00:09<00:00,  9.20batch/s]\n"
     ]
    },
    {
     "name": "stdout",
     "output_type": "stream",
     "text": [
      "Epoch 413/884, Train Loss: 0.0442, Train Acc: 89.38%, Valid Loss: 0.1100, Valid Acc: 89.19%\n"
     ]
    },
    {
     "name": "stderr",
     "output_type": "stream",
     "text": [
      "Epoch 414/884 Training: 100%|██████████| 351/351 [00:40<00:00,  8.64batch/s]\n",
      "Epoch 414/884 Validation: 100%|██████████| 88/88 [00:08<00:00, 10.02batch/s]\n"
     ]
    },
    {
     "name": "stdout",
     "output_type": "stream",
     "text": [
      "Epoch 414/884, Train Loss: 0.0475, Train Acc: 89.49%, Valid Loss: 0.1130, Valid Acc: 88.05%\n"
     ]
    },
    {
     "name": "stderr",
     "output_type": "stream",
     "text": [
      "Epoch 415/884 Training: 100%|██████████| 351/351 [00:40<00:00,  8.62batch/s]\n",
      "Epoch 415/884 Validation: 100%|██████████| 88/88 [00:09<00:00,  9.49batch/s]\n"
     ]
    },
    {
     "name": "stdout",
     "output_type": "stream",
     "text": [
      "Epoch 415/884, Train Loss: 0.0464, Train Acc: 88.86%, Valid Loss: 0.1107, Valid Acc: 88.34%\n"
     ]
    },
    {
     "name": "stderr",
     "output_type": "stream",
     "text": [
      "Epoch 416/884 Training: 100%|██████████| 351/351 [00:39<00:00,  8.84batch/s]\n",
      "Epoch 416/884 Validation: 100%|██████████| 88/88 [00:09<00:00,  9.31batch/s]\n"
     ]
    },
    {
     "name": "stdout",
     "output_type": "stream",
     "text": [
      "Epoch 416/884, Train Loss: 0.0468, Train Acc: 88.52%, Valid Loss: 0.1099, Valid Acc: 88.69%\n"
     ]
    },
    {
     "name": "stderr",
     "output_type": "stream",
     "text": [
      "Epoch 417/884 Training: 100%|██████████| 351/351 [00:40<00:00,  8.65batch/s]\n",
      "Epoch 417/884 Validation: 100%|██████████| 88/88 [00:09<00:00,  9.58batch/s]\n"
     ]
    },
    {
     "name": "stdout",
     "output_type": "stream",
     "text": [
      "Epoch 417/884, Train Loss: 0.0455, Train Acc: 89.75%, Valid Loss: 0.1125, Valid Acc: 88.41%\n"
     ]
    },
    {
     "name": "stderr",
     "output_type": "stream",
     "text": [
      "Epoch 418/884 Training: 100%|██████████| 351/351 [00:40<00:00,  8.65batch/s]\n",
      "Epoch 418/884 Validation: 100%|██████████| 88/88 [00:09<00:00,  9.62batch/s]\n"
     ]
    },
    {
     "name": "stdout",
     "output_type": "stream",
     "text": [
      "Epoch 418/884, Train Loss: 0.0449, Train Acc: 89.70%, Valid Loss: 0.1087, Valid Acc: 89.19%\n"
     ]
    },
    {
     "name": "stderr",
     "output_type": "stream",
     "text": [
      "Epoch 419/884 Training: 100%|██████████| 351/351 [00:38<00:00,  9.02batch/s]\n",
      "Epoch 419/884 Validation: 100%|██████████| 88/88 [00:08<00:00,  9.78batch/s]\n"
     ]
    },
    {
     "name": "stdout",
     "output_type": "stream",
     "text": [
      "Epoch 419/884, Train Loss: 0.0464, Train Acc: 89.13%, Valid Loss: 0.1084, Valid Acc: 88.55%\n"
     ]
    },
    {
     "name": "stderr",
     "output_type": "stream",
     "text": [
      "Epoch 420/884 Training: 100%|██████████| 351/351 [00:39<00:00,  8.88batch/s]\n",
      "Epoch 420/884 Validation: 100%|██████████| 88/88 [00:09<00:00,  9.38batch/s]\n"
     ]
    },
    {
     "name": "stdout",
     "output_type": "stream",
     "text": [
      "Epoch 420/884, Train Loss: 0.0458, Train Acc: 89.70%, Valid Loss: 0.1086, Valid Acc: 88.90%\n"
     ]
    },
    {
     "name": "stderr",
     "output_type": "stream",
     "text": [
      "Epoch 421/884 Training: 100%|██████████| 351/351 [00:40<00:00,  8.62batch/s]\n",
      "Epoch 421/884 Validation: 100%|██████████| 88/88 [00:09<00:00,  9.24batch/s]\n"
     ]
    },
    {
     "name": "stdout",
     "output_type": "stream",
     "text": [
      "Epoch 421/884, Train Loss: 0.0462, Train Acc: 88.95%, Valid Loss: 0.1110, Valid Acc: 88.26%\n"
     ]
    },
    {
     "name": "stderr",
     "output_type": "stream",
     "text": [
      "Epoch 422/884 Training: 100%|██████████| 351/351 [00:40<00:00,  8.71batch/s]\n",
      "Epoch 422/884 Validation: 100%|██████████| 88/88 [00:08<00:00,  9.93batch/s]\n"
     ]
    },
    {
     "name": "stdout",
     "output_type": "stream",
     "text": [
      "Epoch 422/884, Train Loss: 0.0432, Train Acc: 89.90%, Valid Loss: 0.1123, Valid Acc: 88.90%\n"
     ]
    },
    {
     "name": "stderr",
     "output_type": "stream",
     "text": [
      "Epoch 423/884 Training: 100%|██████████| 351/351 [00:39<00:00,  8.79batch/s]\n",
      "Epoch 423/884 Validation: 100%|██████████| 88/88 [00:09<00:00,  9.25batch/s]\n"
     ]
    },
    {
     "name": "stdout",
     "output_type": "stream",
     "text": [
      "Epoch 423/884, Train Loss: 0.0452, Train Acc: 89.70%, Valid Loss: 0.1107, Valid Acc: 88.76%\n"
     ]
    },
    {
     "name": "stderr",
     "output_type": "stream",
     "text": [
      "Epoch 424/884 Training: 100%|██████████| 351/351 [00:39<00:00,  8.84batch/s]\n",
      "Epoch 424/884 Validation: 100%|██████████| 88/88 [00:08<00:00, 10.84batch/s]\n"
     ]
    },
    {
     "name": "stdout",
     "output_type": "stream",
     "text": [
      "Epoch 424/884, Train Loss: 0.0464, Train Acc: 88.63%, Valid Loss: 0.1134, Valid Acc: 88.19%\n"
     ]
    },
    {
     "name": "stderr",
     "output_type": "stream",
     "text": [
      "Epoch 425/884 Training: 100%|██████████| 351/351 [00:40<00:00,  8.62batch/s]\n",
      "Epoch 425/884 Validation: 100%|██████████| 88/88 [00:08<00:00, 10.03batch/s]\n"
     ]
    },
    {
     "name": "stdout",
     "output_type": "stream",
     "text": [
      "Epoch 425/884, Train Loss: 0.0465, Train Acc: 89.13%, Valid Loss: 0.1250, Valid Acc: 87.84%\n"
     ]
    },
    {
     "name": "stderr",
     "output_type": "stream",
     "text": [
      "Epoch 426/884 Training: 100%|██████████| 351/351 [00:40<00:00,  8.70batch/s]\n",
      "Epoch 426/884 Validation: 100%|██████████| 88/88 [00:09<00:00,  9.43batch/s]\n"
     ]
    },
    {
     "name": "stdout",
     "output_type": "stream",
     "text": [
      "Epoch 426/884, Train Loss: 0.0465, Train Acc: 89.97%, Valid Loss: 0.1092, Valid Acc: 88.76%\n"
     ]
    },
    {
     "name": "stderr",
     "output_type": "stream",
     "text": [
      "Epoch 427/884 Training: 100%|██████████| 351/351 [00:40<00:00,  8.77batch/s]\n",
      "Epoch 427/884 Validation: 100%|██████████| 88/88 [00:09<00:00,  9.33batch/s]\n"
     ]
    },
    {
     "name": "stdout",
     "output_type": "stream",
     "text": [
      "Epoch 427/884, Train Loss: 0.0468, Train Acc: 89.84%, Valid Loss: 0.1193, Valid Acc: 88.12%\n"
     ]
    },
    {
     "name": "stderr",
     "output_type": "stream",
     "text": [
      "Epoch 428/884 Training: 100%|██████████| 351/351 [00:40<00:00,  8.63batch/s]\n",
      "Epoch 428/884 Validation: 100%|██████████| 88/88 [00:09<00:00,  9.22batch/s]\n"
     ]
    },
    {
     "name": "stdout",
     "output_type": "stream",
     "text": [
      "Epoch 428/884, Train Loss: 0.0457, Train Acc: 89.56%, Valid Loss: 0.1149, Valid Acc: 88.90%\n"
     ]
    },
    {
     "name": "stderr",
     "output_type": "stream",
     "text": [
      "Epoch 429/884 Training: 100%|██████████| 351/351 [00:40<00:00,  8.62batch/s]\n",
      "Epoch 429/884 Validation: 100%|██████████| 88/88 [00:09<00:00,  8.82batch/s]\n"
     ]
    },
    {
     "name": "stdout",
     "output_type": "stream",
     "text": [
      "Epoch 429/884, Train Loss: 0.0444, Train Acc: 89.56%, Valid Loss: 0.1126, Valid Acc: 88.83%\n"
     ]
    },
    {
     "name": "stderr",
     "output_type": "stream",
     "text": [
      "Epoch 430/884 Training: 100%|██████████| 351/351 [00:40<00:00,  8.65batch/s]\n",
      "Epoch 430/884 Validation: 100%|██████████| 88/88 [00:09<00:00,  9.29batch/s]\n"
     ]
    },
    {
     "name": "stdout",
     "output_type": "stream",
     "text": [
      "Epoch 430/884, Train Loss: 0.0447, Train Acc: 89.38%, Valid Loss: 0.1108, Valid Acc: 88.83%\n"
     ]
    },
    {
     "name": "stderr",
     "output_type": "stream",
     "text": [
      "Epoch 431/884 Training: 100%|██████████| 351/351 [00:40<00:00,  8.71batch/s]\n",
      "Epoch 431/884 Validation: 100%|██████████| 88/88 [00:09<00:00,  9.13batch/s]\n"
     ]
    },
    {
     "name": "stdout",
     "output_type": "stream",
     "text": [
      "Epoch 431/884, Train Loss: 0.0466, Train Acc: 89.65%, Valid Loss: 0.1104, Valid Acc: 89.19%\n"
     ]
    },
    {
     "name": "stderr",
     "output_type": "stream",
     "text": [
      "Epoch 432/884 Training: 100%|██████████| 351/351 [00:40<00:00,  8.72batch/s]\n",
      "Epoch 432/884 Validation: 100%|██████████| 88/88 [00:09<00:00,  9.19batch/s]\n"
     ]
    },
    {
     "name": "stdout",
     "output_type": "stream",
     "text": [
      "Epoch 432/884, Train Loss: 0.0486, Train Acc: 88.47%, Valid Loss: 0.1169, Valid Acc: 87.41%\n"
     ]
    },
    {
     "name": "stderr",
     "output_type": "stream",
     "text": [
      "Epoch 433/884 Training: 100%|██████████| 351/351 [00:40<00:00,  8.64batch/s]\n",
      "Epoch 433/884 Validation: 100%|██████████| 88/88 [00:09<00:00,  9.25batch/s]\n"
     ]
    },
    {
     "name": "stdout",
     "output_type": "stream",
     "text": [
      "Epoch 433/884, Train Loss: 0.0446, Train Acc: 90.00%, Valid Loss: 0.1112, Valid Acc: 88.34%\n"
     ]
    },
    {
     "name": "stderr",
     "output_type": "stream",
     "text": [
      "Epoch 434/884 Training: 100%|██████████| 351/351 [00:40<00:00,  8.73batch/s]\n",
      "Epoch 434/884 Validation: 100%|██████████| 88/88 [00:09<00:00,  8.96batch/s]\n"
     ]
    },
    {
     "name": "stdout",
     "output_type": "stream",
     "text": [
      "Epoch 434/884, Train Loss: 0.0463, Train Acc: 89.27%, Valid Loss: 0.1183, Valid Acc: 88.55%\n"
     ]
    },
    {
     "name": "stderr",
     "output_type": "stream",
     "text": [
      "Epoch 435/884 Training: 100%|██████████| 351/351 [00:39<00:00,  8.80batch/s]\n",
      "Epoch 435/884 Validation: 100%|██████████| 88/88 [00:09<00:00,  9.17batch/s]\n"
     ]
    },
    {
     "name": "stdout",
     "output_type": "stream",
     "text": [
      "Epoch 435/884, Train Loss: 0.0455, Train Acc: 89.06%, Valid Loss: 0.1089, Valid Acc: 88.76%\n"
     ]
    },
    {
     "name": "stderr",
     "output_type": "stream",
     "text": [
      "Epoch 436/884 Training: 100%|██████████| 351/351 [00:39<00:00,  8.86batch/s]\n",
      "Epoch 436/884 Validation: 100%|██████████| 88/88 [00:09<00:00,  9.22batch/s]\n"
     ]
    },
    {
     "name": "stdout",
     "output_type": "stream",
     "text": [
      "Epoch 436/884, Train Loss: 0.0471, Train Acc: 89.40%, Valid Loss: 0.1168, Valid Acc: 88.05%\n"
     ]
    },
    {
     "name": "stderr",
     "output_type": "stream",
     "text": [
      "Epoch 437/884 Training: 100%|██████████| 351/351 [00:40<00:00,  8.60batch/s]\n",
      "Epoch 437/884 Validation: 100%|██████████| 88/88 [00:09<00:00,  9.49batch/s]\n"
     ]
    },
    {
     "name": "stdout",
     "output_type": "stream",
     "text": [
      "Epoch 437/884, Train Loss: 0.0468, Train Acc: 89.83%, Valid Loss: 0.1079, Valid Acc: 88.98%\n"
     ]
    },
    {
     "name": "stderr",
     "output_type": "stream",
     "text": [
      "Epoch 438/884 Training: 100%|██████████| 351/351 [00:39<00:00,  8.92batch/s]\n",
      "Epoch 438/884 Validation: 100%|██████████| 88/88 [00:09<00:00,  9.21batch/s]\n"
     ]
    },
    {
     "name": "stdout",
     "output_type": "stream",
     "text": [
      "Epoch 438/884, Train Loss: 0.0436, Train Acc: 90.06%, Valid Loss: 0.1102, Valid Acc: 87.98%\n"
     ]
    },
    {
     "name": "stderr",
     "output_type": "stream",
     "text": [
      "Epoch 439/884 Training: 100%|██████████| 351/351 [00:40<00:00,  8.62batch/s]\n",
      "Epoch 439/884 Validation: 100%|██████████| 88/88 [00:08<00:00, 10.52batch/s]\n"
     ]
    },
    {
     "name": "stdout",
     "output_type": "stream",
     "text": [
      "Epoch 439/884, Train Loss: 0.0434, Train Acc: 89.86%, Valid Loss: 0.1105, Valid Acc: 88.90%\n"
     ]
    },
    {
     "name": "stderr",
     "output_type": "stream",
     "text": [
      "Epoch 440/884 Training: 100%|██████████| 351/351 [00:39<00:00,  8.83batch/s]\n",
      "Epoch 440/884 Validation: 100%|██████████| 88/88 [00:09<00:00,  9.30batch/s]\n"
     ]
    },
    {
     "name": "stdout",
     "output_type": "stream",
     "text": [
      "Epoch 440/884, Train Loss: 0.0472, Train Acc: 89.36%, Valid Loss: 0.1096, Valid Acc: 88.05%\n"
     ]
    },
    {
     "name": "stderr",
     "output_type": "stream",
     "text": [
      "Epoch 441/884 Training: 100%|██████████| 351/351 [00:40<00:00,  8.64batch/s]\n",
      "Epoch 441/884 Validation: 100%|██████████| 88/88 [00:09<00:00,  9.30batch/s]\n"
     ]
    },
    {
     "name": "stdout",
     "output_type": "stream",
     "text": [
      "Epoch 441/884, Train Loss: 0.0492, Train Acc: 89.61%, Valid Loss: 0.1163, Valid Acc: 88.62%\n"
     ]
    },
    {
     "name": "stderr",
     "output_type": "stream",
     "text": [
      "Epoch 442/884 Training: 100%|██████████| 351/351 [00:40<00:00,  8.68batch/s]\n",
      "Epoch 442/884 Validation: 100%|██████████| 88/88 [00:09<00:00,  9.26batch/s]\n"
     ]
    },
    {
     "name": "stdout",
     "output_type": "stream",
     "text": [
      "Epoch 442/884, Train Loss: 0.0452, Train Acc: 89.22%, Valid Loss: 0.1131, Valid Acc: 88.76%\n"
     ]
    },
    {
     "name": "stderr",
     "output_type": "stream",
     "text": [
      "Epoch 443/884 Training: 100%|██████████| 351/351 [00:40<00:00,  8.64batch/s]\n",
      "Epoch 443/884 Validation: 100%|██████████| 88/88 [00:08<00:00, 10.08batch/s]\n"
     ]
    },
    {
     "name": "stdout",
     "output_type": "stream",
     "text": [
      "Epoch 443/884, Train Loss: 0.0456, Train Acc: 89.99%, Valid Loss: 0.1106, Valid Acc: 89.05%\n"
     ]
    },
    {
     "name": "stderr",
     "output_type": "stream",
     "text": [
      "Epoch 444/884 Training: 100%|██████████| 351/351 [00:40<00:00,  8.67batch/s]\n",
      "Epoch 444/884 Validation: 100%|██████████| 88/88 [00:09<00:00,  9.09batch/s]\n"
     ]
    },
    {
     "name": "stdout",
     "output_type": "stream",
     "text": [
      "Epoch 444/884, Train Loss: 0.0457, Train Acc: 89.97%, Valid Loss: 0.1093, Valid Acc: 89.33%\n"
     ]
    },
    {
     "name": "stderr",
     "output_type": "stream",
     "text": [
      "Epoch 445/884 Training: 100%|██████████| 351/351 [00:40<00:00,  8.61batch/s]\n",
      "Epoch 445/884 Validation: 100%|██████████| 88/88 [00:09<00:00,  9.47batch/s]\n"
     ]
    },
    {
     "name": "stdout",
     "output_type": "stream",
     "text": [
      "Epoch 445/884, Train Loss: 0.0477, Train Acc: 89.31%, Valid Loss: 0.1117, Valid Acc: 88.62%\n"
     ]
    },
    {
     "name": "stderr",
     "output_type": "stream",
     "text": [
      "Epoch 446/884 Training: 100%|██████████| 351/351 [00:40<00:00,  8.75batch/s]\n",
      "Epoch 446/884 Validation: 100%|██████████| 88/88 [00:09<00:00,  9.28batch/s]\n"
     ]
    },
    {
     "name": "stdout",
     "output_type": "stream",
     "text": [
      "Epoch 446/884, Train Loss: 0.0471, Train Acc: 89.24%, Valid Loss: 0.1111, Valid Acc: 88.62%\n"
     ]
    },
    {
     "name": "stderr",
     "output_type": "stream",
     "text": [
      "Epoch 447/884 Training: 100%|██████████| 351/351 [00:39<00:00,  8.81batch/s]\n",
      "Epoch 447/884 Validation: 100%|██████████| 88/88 [00:09<00:00,  9.33batch/s]\n"
     ]
    },
    {
     "name": "stdout",
     "output_type": "stream",
     "text": [
      "Epoch 447/884, Train Loss: 0.0458, Train Acc: 89.75%, Valid Loss: 0.1065, Valid Acc: 89.69%\n"
     ]
    },
    {
     "name": "stderr",
     "output_type": "stream",
     "text": [
      "Epoch 448/884 Training: 100%|██████████| 351/351 [00:40<00:00,  8.61batch/s]\n",
      "Epoch 448/884 Validation: 100%|██████████| 88/88 [00:09<00:00,  9.05batch/s]\n"
     ]
    },
    {
     "name": "stdout",
     "output_type": "stream",
     "text": [
      "Epoch 448/884, Train Loss: 0.0439, Train Acc: 89.70%, Valid Loss: 0.1105, Valid Acc: 88.41%\n"
     ]
    },
    {
     "name": "stderr",
     "output_type": "stream",
     "text": [
      "Epoch 449/884 Training: 100%|██████████| 351/351 [00:39<00:00,  8.82batch/s]\n",
      "Epoch 449/884 Validation: 100%|██████████| 88/88 [00:09<00:00,  9.67batch/s]\n"
     ]
    },
    {
     "name": "stdout",
     "output_type": "stream",
     "text": [
      "Epoch 449/884, Train Loss: 0.0447, Train Acc: 90.11%, Valid Loss: 0.1177, Valid Acc: 88.12%\n"
     ]
    },
    {
     "name": "stderr",
     "output_type": "stream",
     "text": [
      "Epoch 450/884 Training: 100%|██████████| 351/351 [00:40<00:00,  8.59batch/s]\n",
      "Epoch 450/884 Validation: 100%|██████████| 88/88 [00:08<00:00, 10.18batch/s]\n"
     ]
    },
    {
     "name": "stdout",
     "output_type": "stream",
     "text": [
      "Epoch 450/884, Train Loss: 0.0445, Train Acc: 89.75%, Valid Loss: 0.1088, Valid Acc: 88.19%\n"
     ]
    },
    {
     "name": "stderr",
     "output_type": "stream",
     "text": [
      "Epoch 451/884 Training: 100%|██████████| 351/351 [00:40<00:00,  8.77batch/s]\n",
      "Epoch 451/884 Validation: 100%|██████████| 88/88 [00:09<00:00,  9.26batch/s]\n"
     ]
    },
    {
     "name": "stdout",
     "output_type": "stream",
     "text": [
      "Epoch 451/884, Train Loss: 0.0439, Train Acc: 90.22%, Valid Loss: 0.1104, Valid Acc: 88.69%\n"
     ]
    },
    {
     "name": "stderr",
     "output_type": "stream",
     "text": [
      "Epoch 452/884 Training: 100%|██████████| 351/351 [00:39<00:00,  8.97batch/s]\n",
      "Epoch 452/884 Validation: 100%|██████████| 88/88 [00:09<00:00,  9.17batch/s]\n"
     ]
    },
    {
     "name": "stdout",
     "output_type": "stream",
     "text": [
      "Epoch 452/884, Train Loss: 0.0444, Train Acc: 89.58%, Valid Loss: 0.1096, Valid Acc: 88.69%\n"
     ]
    },
    {
     "name": "stderr",
     "output_type": "stream",
     "text": [
      "Epoch 453/884 Training: 100%|██████████| 351/351 [00:39<00:00,  8.83batch/s]\n",
      "Epoch 453/884 Validation: 100%|██████████| 88/88 [00:09<00:00,  9.27batch/s]\n"
     ]
    },
    {
     "name": "stdout",
     "output_type": "stream",
     "text": [
      "Epoch 453/884, Train Loss: 0.0470, Train Acc: 89.56%, Valid Loss: 0.1086, Valid Acc: 88.90%\n"
     ]
    },
    {
     "name": "stderr",
     "output_type": "stream",
     "text": [
      "Epoch 454/884 Training: 100%|██████████| 351/351 [00:40<00:00,  8.68batch/s]\n",
      "Epoch 454/884 Validation: 100%|██████████| 88/88 [00:09<00:00,  9.25batch/s]\n"
     ]
    },
    {
     "name": "stdout",
     "output_type": "stream",
     "text": [
      "Epoch 454/884, Train Loss: 0.0460, Train Acc: 89.22%, Valid Loss: 0.1097, Valid Acc: 89.62%\n"
     ]
    },
    {
     "name": "stderr",
     "output_type": "stream",
     "text": [
      "Epoch 455/884 Training: 100%|██████████| 351/351 [00:40<00:00,  8.73batch/s]\n",
      "Epoch 455/884 Validation: 100%|██████████| 88/88 [00:08<00:00, 10.02batch/s]\n"
     ]
    },
    {
     "name": "stdout",
     "output_type": "stream",
     "text": [
      "Epoch 455/884, Train Loss: 0.0443, Train Acc: 89.59%, Valid Loss: 0.1117, Valid Acc: 88.76%\n"
     ]
    },
    {
     "name": "stderr",
     "output_type": "stream",
     "text": [
      "Epoch 456/884 Training: 100%|██████████| 351/351 [00:40<00:00,  8.61batch/s]\n",
      "Epoch 456/884 Validation: 100%|██████████| 88/88 [00:09<00:00,  9.13batch/s]\n"
     ]
    },
    {
     "name": "stdout",
     "output_type": "stream",
     "text": [
      "Epoch 456/884, Train Loss: 0.0444, Train Acc: 89.29%, Valid Loss: 0.1096, Valid Acc: 89.19%\n"
     ]
    },
    {
     "name": "stderr",
     "output_type": "stream",
     "text": [
      "Epoch 457/884 Training: 100%|██████████| 351/351 [00:40<00:00,  8.74batch/s]\n",
      "Epoch 457/884 Validation: 100%|██████████| 88/88 [00:09<00:00,  9.27batch/s]\n"
     ]
    },
    {
     "name": "stdout",
     "output_type": "stream",
     "text": [
      "Epoch 457/884, Train Loss: 0.0439, Train Acc: 89.61%, Valid Loss: 0.1128, Valid Acc: 89.33%\n"
     ]
    },
    {
     "name": "stderr",
     "output_type": "stream",
     "text": [
      "Epoch 458/884 Training: 100%|██████████| 351/351 [00:40<00:00,  8.75batch/s]\n",
      "Epoch 458/884 Validation: 100%|██████████| 88/88 [00:09<00:00,  9.36batch/s]\n"
     ]
    },
    {
     "name": "stdout",
     "output_type": "stream",
     "text": [
      "Epoch 458/884, Train Loss: 0.0457, Train Acc: 89.70%, Valid Loss: 0.1081, Valid Acc: 89.05%\n"
     ]
    },
    {
     "name": "stderr",
     "output_type": "stream",
     "text": [
      "Epoch 459/884 Training: 100%|██████████| 351/351 [00:40<00:00,  8.73batch/s]\n",
      "Epoch 459/884 Validation: 100%|██████████| 88/88 [00:09<00:00,  9.59batch/s]\n"
     ]
    },
    {
     "name": "stdout",
     "output_type": "stream",
     "text": [
      "Epoch 459/884, Train Loss: 0.0468, Train Acc: 88.90%, Valid Loss: 0.1105, Valid Acc: 89.26%\n"
     ]
    },
    {
     "name": "stderr",
     "output_type": "stream",
     "text": [
      "Epoch 460/884 Training: 100%|██████████| 351/351 [00:40<00:00,  8.59batch/s]\n",
      "Epoch 460/884 Validation: 100%|██████████| 88/88 [00:09<00:00,  9.35batch/s]\n"
     ]
    },
    {
     "name": "stdout",
     "output_type": "stream",
     "text": [
      "Epoch 460/884, Train Loss: 0.0463, Train Acc: 89.40%, Valid Loss: 0.1141, Valid Acc: 89.26%\n"
     ]
    },
    {
     "name": "stderr",
     "output_type": "stream",
     "text": [
      "Epoch 461/884 Training: 100%|██████████| 351/351 [00:40<00:00,  8.77batch/s]\n",
      "Epoch 461/884 Validation: 100%|██████████| 88/88 [00:09<00:00,  9.08batch/s]\n"
     ]
    },
    {
     "name": "stdout",
     "output_type": "stream",
     "text": [
      "Epoch 461/884, Train Loss: 0.0465, Train Acc: 89.41%, Valid Loss: 0.1071, Valid Acc: 87.91%\n"
     ]
    },
    {
     "name": "stderr",
     "output_type": "stream",
     "text": [
      "Epoch 462/884 Training: 100%|██████████| 351/351 [00:39<00:00,  8.88batch/s]\n",
      "Epoch 462/884 Validation: 100%|██████████| 88/88 [00:09<00:00,  9.42batch/s]\n"
     ]
    },
    {
     "name": "stdout",
     "output_type": "stream",
     "text": [
      "Epoch 462/884, Train Loss: 0.0442, Train Acc: 89.49%, Valid Loss: 0.1097, Valid Acc: 88.69%\n"
     ]
    },
    {
     "name": "stderr",
     "output_type": "stream",
     "text": [
      "Epoch 463/884 Training: 100%|██████████| 351/351 [00:41<00:00,  8.52batch/s]\n",
      "Epoch 463/884 Validation: 100%|██████████| 88/88 [00:09<00:00,  9.31batch/s]\n"
     ]
    },
    {
     "name": "stdout",
     "output_type": "stream",
     "text": [
      "Epoch 463/884, Train Loss: 0.0447, Train Acc: 89.81%, Valid Loss: 0.1123, Valid Acc: 88.26%\n"
     ]
    },
    {
     "name": "stderr",
     "output_type": "stream",
     "text": [
      "Epoch 464/884 Training: 100%|██████████| 351/351 [00:41<00:00,  8.52batch/s]\n",
      "Epoch 464/884 Validation: 100%|██████████| 88/88 [00:09<00:00,  9.26batch/s]\n"
     ]
    },
    {
     "name": "stdout",
     "output_type": "stream",
     "text": [
      "Epoch 464/884, Train Loss: 0.0451, Train Acc: 89.74%, Valid Loss: 0.1086, Valid Acc: 89.40%\n"
     ]
    },
    {
     "name": "stderr",
     "output_type": "stream",
     "text": [
      "Epoch 465/884 Training: 100%|██████████| 351/351 [00:42<00:00,  8.26batch/s]\n",
      "Epoch 465/884 Validation: 100%|██████████| 88/88 [00:09<00:00,  9.07batch/s]\n"
     ]
    },
    {
     "name": "stdout",
     "output_type": "stream",
     "text": [
      "Epoch 465/884, Train Loss: 0.0473, Train Acc: 89.20%, Valid Loss: 0.1106, Valid Acc: 88.83%\n"
     ]
    },
    {
     "name": "stderr",
     "output_type": "stream",
     "text": [
      "Epoch 466/884 Training: 100%|██████████| 351/351 [00:40<00:00,  8.59batch/s]\n",
      "Epoch 466/884 Validation: 100%|██████████| 88/88 [00:09<00:00,  9.29batch/s]\n"
     ]
    },
    {
     "name": "stdout",
     "output_type": "stream",
     "text": [
      "Epoch 466/884, Train Loss: 0.0459, Train Acc: 90.11%, Valid Loss: 0.1110, Valid Acc: 88.41%\n"
     ]
    },
    {
     "name": "stderr",
     "output_type": "stream",
     "text": [
      "Epoch 467/884 Training: 100%|██████████| 351/351 [00:41<00:00,  8.51batch/s]\n",
      "Epoch 467/884 Validation: 100%|██████████| 88/88 [00:09<00:00,  9.33batch/s]\n"
     ]
    },
    {
     "name": "stdout",
     "output_type": "stream",
     "text": [
      "Epoch 467/884, Train Loss: 0.0457, Train Acc: 89.20%, Valid Loss: 0.1064, Valid Acc: 89.12%\n"
     ]
    },
    {
     "name": "stderr",
     "output_type": "stream",
     "text": [
      "Epoch 468/884 Training: 100%|██████████| 351/351 [00:40<00:00,  8.57batch/s]\n",
      "Epoch 468/884 Validation: 100%|██████████| 88/88 [00:09<00:00,  9.23batch/s]\n"
     ]
    },
    {
     "name": "stdout",
     "output_type": "stream",
     "text": [
      "Epoch 468/884, Train Loss: 0.0467, Train Acc: 89.77%, Valid Loss: 0.1254, Valid Acc: 87.91%\n"
     ]
    },
    {
     "name": "stderr",
     "output_type": "stream",
     "text": [
      "Epoch 469/884 Training: 100%|██████████| 351/351 [00:39<00:00,  8.87batch/s]\n",
      "Epoch 469/884 Validation: 100%|██████████| 88/88 [00:09<00:00,  9.19batch/s]\n"
     ]
    },
    {
     "name": "stdout",
     "output_type": "stream",
     "text": [
      "Epoch 469/884, Train Loss: 0.0448, Train Acc: 89.38%, Valid Loss: 0.1116, Valid Acc: 88.62%\n"
     ]
    },
    {
     "name": "stderr",
     "output_type": "stream",
     "text": [
      "Epoch 470/884 Training: 100%|██████████| 351/351 [00:40<00:00,  8.65batch/s]\n",
      "Epoch 470/884 Validation: 100%|██████████| 88/88 [00:09<00:00,  9.05batch/s]\n"
     ]
    },
    {
     "name": "stdout",
     "output_type": "stream",
     "text": [
      "Epoch 470/884, Train Loss: 0.0459, Train Acc: 89.16%, Valid Loss: 0.1108, Valid Acc: 88.05%\n"
     ]
    },
    {
     "name": "stderr",
     "output_type": "stream",
     "text": [
      "Epoch 471/884 Training: 100%|██████████| 351/351 [00:40<00:00,  8.68batch/s]\n",
      "Epoch 471/884 Validation: 100%|██████████| 88/88 [00:09<00:00,  9.32batch/s]\n"
     ]
    },
    {
     "name": "stdout",
     "output_type": "stream",
     "text": [
      "Epoch 471/884, Train Loss: 0.0459, Train Acc: 89.74%, Valid Loss: 0.1172, Valid Acc: 88.19%\n"
     ]
    },
    {
     "name": "stderr",
     "output_type": "stream",
     "text": [
      "Epoch 472/884 Training: 100%|██████████| 351/351 [00:40<00:00,  8.61batch/s]\n",
      "Epoch 472/884 Validation: 100%|██████████| 88/88 [00:08<00:00,  9.92batch/s]\n"
     ]
    },
    {
     "name": "stdout",
     "output_type": "stream",
     "text": [
      "Epoch 472/884, Train Loss: 0.0481, Train Acc: 89.40%, Valid Loss: 0.1128, Valid Acc: 87.62%\n"
     ]
    },
    {
     "name": "stderr",
     "output_type": "stream",
     "text": [
      "Epoch 473/884 Training: 100%|██████████| 351/351 [00:40<00:00,  8.57batch/s]\n",
      "Epoch 473/884 Validation: 100%|██████████| 88/88 [00:09<00:00,  9.29batch/s]\n"
     ]
    },
    {
     "name": "stdout",
     "output_type": "stream",
     "text": [
      "Epoch 473/884, Train Loss: 0.0445, Train Acc: 89.99%, Valid Loss: 0.1137, Valid Acc: 88.55%\n"
     ]
    },
    {
     "name": "stderr",
     "output_type": "stream",
     "text": [
      "Epoch 474/884 Training: 100%|██████████| 351/351 [00:40<00:00,  8.73batch/s]\n",
      "Epoch 474/884 Validation: 100%|██████████| 88/88 [00:09<00:00,  8.93batch/s]\n"
     ]
    },
    {
     "name": "stdout",
     "output_type": "stream",
     "text": [
      "Epoch 474/884, Train Loss: 0.0455, Train Acc: 88.99%, Valid Loss: 0.1125, Valid Acc: 88.83%\n"
     ]
    },
    {
     "name": "stderr",
     "output_type": "stream",
     "text": [
      "Epoch 475/884 Training: 100%|██████████| 351/351 [00:39<00:00,  8.81batch/s]\n",
      "Epoch 475/884 Validation: 100%|██████████| 88/88 [00:09<00:00,  9.38batch/s]\n"
     ]
    },
    {
     "name": "stdout",
     "output_type": "stream",
     "text": [
      "Epoch 475/884, Train Loss: 0.0462, Train Acc: 89.02%, Valid Loss: 0.1109, Valid Acc: 87.84%\n"
     ]
    },
    {
     "name": "stderr",
     "output_type": "stream",
     "text": [
      "Epoch 476/884 Training: 100%|██████████| 351/351 [00:40<00:00,  8.58batch/s]\n",
      "Epoch 476/884 Validation: 100%|██████████| 88/88 [00:08<00:00, 10.36batch/s]\n"
     ]
    },
    {
     "name": "stdout",
     "output_type": "stream",
     "text": [
      "Epoch 476/884, Train Loss: 0.0449, Train Acc: 89.11%, Valid Loss: 0.1085, Valid Acc: 89.26%\n"
     ]
    },
    {
     "name": "stderr",
     "output_type": "stream",
     "text": [
      "Epoch 477/884 Training: 100%|██████████| 351/351 [00:40<00:00,  8.74batch/s]\n",
      "Epoch 477/884 Validation: 100%|██████████| 88/88 [00:09<00:00,  9.20batch/s]\n"
     ]
    },
    {
     "name": "stdout",
     "output_type": "stream",
     "text": [
      "Epoch 477/884, Train Loss: 0.0458, Train Acc: 89.50%, Valid Loss: 0.1090, Valid Acc: 89.26%\n"
     ]
    },
    {
     "name": "stderr",
     "output_type": "stream",
     "text": [
      "Epoch 478/884 Training: 100%|██████████| 351/351 [00:40<00:00,  8.63batch/s]\n",
      "Epoch 478/884 Validation: 100%|██████████| 88/88 [00:09<00:00,  9.19batch/s]\n"
     ]
    },
    {
     "name": "stdout",
     "output_type": "stream",
     "text": [
      "Epoch 478/884, Train Loss: 0.0483, Train Acc: 89.16%, Valid Loss: 0.1139, Valid Acc: 88.05%\n"
     ]
    },
    {
     "name": "stderr",
     "output_type": "stream",
     "text": [
      "Epoch 479/884 Training: 100%|██████████| 351/351 [00:40<00:00,  8.70batch/s]\n",
      "Epoch 479/884 Validation: 100%|██████████| 88/88 [00:09<00:00,  9.66batch/s]\n"
     ]
    },
    {
     "name": "stdout",
     "output_type": "stream",
     "text": [
      "Epoch 479/884, Train Loss: 0.0444, Train Acc: 89.40%, Valid Loss: 0.1086, Valid Acc: 88.83%\n"
     ]
    },
    {
     "name": "stderr",
     "output_type": "stream",
     "text": [
      "Epoch 480/884 Training: 100%|██████████| 351/351 [00:40<00:00,  8.65batch/s]\n",
      "Epoch 480/884 Validation: 100%|██████████| 88/88 [00:09<00:00,  9.69batch/s]\n"
     ]
    },
    {
     "name": "stdout",
     "output_type": "stream",
     "text": [
      "Epoch 480/884, Train Loss: 0.0461, Train Acc: 89.63%, Valid Loss: 0.1131, Valid Acc: 88.19%\n"
     ]
    },
    {
     "name": "stderr",
     "output_type": "stream",
     "text": [
      "Epoch 481/884 Training: 100%|██████████| 351/351 [00:40<00:00,  8.62batch/s]\n",
      "Epoch 481/884 Validation: 100%|██████████| 88/88 [00:09<00:00,  9.18batch/s]\n"
     ]
    },
    {
     "name": "stdout",
     "output_type": "stream",
     "text": [
      "Epoch 481/884, Train Loss: 0.0452, Train Acc: 89.45%, Valid Loss: 0.1097, Valid Acc: 88.34%\n"
     ]
    },
    {
     "name": "stderr",
     "output_type": "stream",
     "text": [
      "Epoch 482/884 Training: 100%|██████████| 351/351 [00:40<00:00,  8.68batch/s]\n",
      "Epoch 482/884 Validation: 100%|██████████| 88/88 [00:09<00:00,  9.29batch/s]\n"
     ]
    },
    {
     "name": "stdout",
     "output_type": "stream",
     "text": [
      "Epoch 482/884, Train Loss: 0.0453, Train Acc: 89.74%, Valid Loss: 0.1129, Valid Acc: 87.84%\n"
     ]
    },
    {
     "name": "stderr",
     "output_type": "stream",
     "text": [
      "Epoch 483/884 Training: 100%|██████████| 351/351 [00:39<00:00,  8.78batch/s]\n",
      "Epoch 483/884 Validation: 100%|██████████| 88/88 [00:09<00:00,  8.89batch/s]\n"
     ]
    },
    {
     "name": "stdout",
     "output_type": "stream",
     "text": [
      "Epoch 483/884, Train Loss: 0.0468, Train Acc: 89.08%, Valid Loss: 0.1089, Valid Acc: 88.62%\n"
     ]
    },
    {
     "name": "stderr",
     "output_type": "stream",
     "text": [
      "Epoch 484/884 Training: 100%|██████████| 351/351 [00:40<00:00,  8.56batch/s]\n",
      "Epoch 484/884 Validation: 100%|██████████| 88/88 [00:09<00:00,  9.27batch/s]\n"
     ]
    },
    {
     "name": "stdout",
     "output_type": "stream",
     "text": [
      "Epoch 484/884, Train Loss: 0.0467, Train Acc: 89.59%, Valid Loss: 0.1115, Valid Acc: 88.48%\n"
     ]
    },
    {
     "name": "stderr",
     "output_type": "stream",
     "text": [
      "Epoch 485/884 Training: 100%|██████████| 351/351 [00:40<00:00,  8.62batch/s]\n",
      "Epoch 485/884 Validation: 100%|██████████| 88/88 [00:09<00:00,  9.39batch/s]\n"
     ]
    },
    {
     "name": "stdout",
     "output_type": "stream",
     "text": [
      "Epoch 485/884, Train Loss: 0.0470, Train Acc: 89.97%, Valid Loss: 0.1134, Valid Acc: 88.41%\n"
     ]
    },
    {
     "name": "stderr",
     "output_type": "stream",
     "text": [
      "Epoch 486/884 Training: 100%|██████████| 351/351 [00:40<00:00,  8.68batch/s]\n",
      "Epoch 486/884 Validation: 100%|██████████| 88/88 [00:09<00:00,  9.23batch/s]\n"
     ]
    },
    {
     "name": "stdout",
     "output_type": "stream",
     "text": [
      "Epoch 486/884, Train Loss: 0.0465, Train Acc: 89.95%, Valid Loss: 0.1184, Valid Acc: 87.84%\n"
     ]
    },
    {
     "name": "stderr",
     "output_type": "stream",
     "text": [
      "Epoch 487/884 Training: 100%|██████████| 351/351 [00:40<00:00,  8.69batch/s]\n",
      "Epoch 487/884 Validation: 100%|██████████| 88/88 [00:09<00:00,  8.99batch/s]\n"
     ]
    },
    {
     "name": "stdout",
     "output_type": "stream",
     "text": [
      "Epoch 487/884, Train Loss: 0.0441, Train Acc: 89.79%, Valid Loss: 0.1138, Valid Acc: 89.12%\n"
     ]
    },
    {
     "name": "stderr",
     "output_type": "stream",
     "text": [
      "Epoch 488/884 Training: 100%|██████████| 351/351 [00:40<00:00,  8.75batch/s]\n",
      "Epoch 488/884 Validation: 100%|██████████| 88/88 [00:09<00:00,  9.58batch/s]\n"
     ]
    },
    {
     "name": "stdout",
     "output_type": "stream",
     "text": [
      "Epoch 488/884, Train Loss: 0.0451, Train Acc: 90.02%, Valid Loss: 0.1112, Valid Acc: 88.26%\n"
     ]
    },
    {
     "name": "stderr",
     "output_type": "stream",
     "text": [
      "Epoch 489/884 Training: 100%|██████████| 351/351 [00:40<00:00,  8.57batch/s]\n",
      "Epoch 489/884 Validation: 100%|██████████| 88/88 [00:08<00:00,  9.79batch/s]\n"
     ]
    },
    {
     "name": "stdout",
     "output_type": "stream",
     "text": [
      "Epoch 489/884, Train Loss: 0.0466, Train Acc: 89.72%, Valid Loss: 0.1171, Valid Acc: 88.62%\n"
     ]
    },
    {
     "name": "stderr",
     "output_type": "stream",
     "text": [
      "Epoch 490/884 Training: 100%|██████████| 351/351 [00:40<00:00,  8.72batch/s]\n",
      "Epoch 490/884 Validation: 100%|██████████| 88/88 [00:09<00:00,  9.41batch/s]\n"
     ]
    },
    {
     "name": "stdout",
     "output_type": "stream",
     "text": [
      "Epoch 490/884, Train Loss: 0.0453, Train Acc: 89.72%, Valid Loss: 0.1139, Valid Acc: 88.83%\n"
     ]
    },
    {
     "name": "stderr",
     "output_type": "stream",
     "text": [
      "Epoch 491/884 Training: 100%|██████████| 351/351 [00:40<00:00,  8.66batch/s]\n",
      "Epoch 491/884 Validation: 100%|██████████| 88/88 [00:09<00:00,  9.15batch/s]\n"
     ]
    },
    {
     "name": "stdout",
     "output_type": "stream",
     "text": [
      "Epoch 491/884, Train Loss: 0.0464, Train Acc: 89.25%, Valid Loss: 0.1108, Valid Acc: 88.55%\n"
     ]
    },
    {
     "name": "stderr",
     "output_type": "stream",
     "text": [
      "Epoch 492/884 Training: 100%|██████████| 351/351 [00:40<00:00,  8.61batch/s]\n",
      "Epoch 492/884 Validation: 100%|██████████| 88/88 [00:09<00:00,  9.26batch/s]\n"
     ]
    },
    {
     "name": "stdout",
     "output_type": "stream",
     "text": [
      "Epoch 492/884, Train Loss: 0.0457, Train Acc: 89.22%, Valid Loss: 0.1088, Valid Acc: 88.41%\n"
     ]
    },
    {
     "name": "stderr",
     "output_type": "stream",
     "text": [
      "Epoch 493/884 Training: 100%|██████████| 351/351 [00:40<00:00,  8.69batch/s]\n",
      "Epoch 493/884 Validation: 100%|██████████| 88/88 [00:09<00:00,  9.27batch/s]\n"
     ]
    },
    {
     "name": "stdout",
     "output_type": "stream",
     "text": [
      "Epoch 493/884, Train Loss: 0.0436, Train Acc: 89.31%, Valid Loss: 0.1083, Valid Acc: 88.26%\n"
     ]
    },
    {
     "name": "stderr",
     "output_type": "stream",
     "text": [
      "Epoch 494/884 Training: 100%|██████████| 351/351 [00:41<00:00,  8.54batch/s]\n",
      "Epoch 494/884 Validation: 100%|██████████| 88/88 [00:09<00:00,  9.48batch/s]\n"
     ]
    },
    {
     "name": "stdout",
     "output_type": "stream",
     "text": [
      "Epoch 494/884, Train Loss: 0.0471, Train Acc: 89.34%, Valid Loss: 0.1088, Valid Acc: 88.69%\n"
     ]
    },
    {
     "name": "stderr",
     "output_type": "stream",
     "text": [
      "Epoch 495/884 Training: 100%|██████████| 351/351 [00:40<00:00,  8.66batch/s]\n",
      "Epoch 495/884 Validation: 100%|██████████| 88/88 [00:09<00:00,  9.36batch/s]\n"
     ]
    },
    {
     "name": "stdout",
     "output_type": "stream",
     "text": [
      "Epoch 495/884, Train Loss: 0.0484, Train Acc: 88.90%, Valid Loss: 0.1123, Valid Acc: 88.19%\n"
     ]
    },
    {
     "name": "stderr",
     "output_type": "stream",
     "text": [
      "Epoch 496/884 Training: 100%|██████████| 351/351 [00:39<00:00,  8.78batch/s]\n",
      "Epoch 496/884 Validation: 100%|██████████| 88/88 [00:09<00:00,  9.56batch/s]\n"
     ]
    },
    {
     "name": "stdout",
     "output_type": "stream",
     "text": [
      "Epoch 496/884, Train Loss: 0.0468, Train Acc: 88.90%, Valid Loss: 0.1052, Valid Acc: 89.40%\n"
     ]
    },
    {
     "name": "stderr",
     "output_type": "stream",
     "text": [
      "Epoch 497/884 Training: 100%|██████████| 351/351 [00:40<00:00,  8.70batch/s]\n",
      "Epoch 497/884 Validation: 100%|██████████| 88/88 [00:07<00:00, 11.27batch/s]\n"
     ]
    },
    {
     "name": "stdout",
     "output_type": "stream",
     "text": [
      "Epoch 497/884, Train Loss: 0.0439, Train Acc: 89.54%, Valid Loss: 0.1099, Valid Acc: 88.41%\n"
     ]
    },
    {
     "name": "stderr",
     "output_type": "stream",
     "text": [
      "Epoch 498/884 Training: 100%|██████████| 351/351 [00:40<00:00,  8.61batch/s]\n",
      "Epoch 498/884 Validation: 100%|██████████| 88/88 [00:09<00:00,  9.09batch/s]\n"
     ]
    },
    {
     "name": "stdout",
     "output_type": "stream",
     "text": [
      "Epoch 498/884, Train Loss: 0.0455, Train Acc: 89.79%, Valid Loss: 0.1110, Valid Acc: 88.48%\n"
     ]
    },
    {
     "name": "stderr",
     "output_type": "stream",
     "text": [
      "Epoch 499/884 Training: 100%|██████████| 351/351 [00:39<00:00,  8.84batch/s]\n",
      "Epoch 499/884 Validation: 100%|██████████| 88/88 [00:09<00:00,  9.27batch/s]\n"
     ]
    },
    {
     "name": "stdout",
     "output_type": "stream",
     "text": [
      "Epoch 499/884, Train Loss: 0.0463, Train Acc: 89.45%, Valid Loss: 0.1160, Valid Acc: 88.34%\n"
     ]
    },
    {
     "name": "stderr",
     "output_type": "stream",
     "text": [
      "Epoch 500/884 Training: 100%|██████████| 351/351 [00:39<00:00,  8.82batch/s]\n",
      "Epoch 500/884 Validation: 100%|██████████| 88/88 [00:09<00:00,  9.15batch/s]\n"
     ]
    },
    {
     "name": "stdout",
     "output_type": "stream",
     "text": [
      "Epoch 500/884, Train Loss: 0.0456, Train Acc: 89.16%, Valid Loss: 0.1190, Valid Acc: 89.47%\n"
     ]
    },
    {
     "name": "stderr",
     "output_type": "stream",
     "text": [
      "Epoch 501/884 Training: 100%|██████████| 351/351 [00:41<00:00,  8.53batch/s]\n",
      "Epoch 501/884 Validation: 100%|██████████| 88/88 [00:09<00:00,  9.67batch/s]\n"
     ]
    },
    {
     "name": "stdout",
     "output_type": "stream",
     "text": [
      "Epoch 501/884, Train Loss: 0.0460, Train Acc: 89.65%, Valid Loss: 0.1150, Valid Acc: 88.69%\n"
     ]
    },
    {
     "name": "stderr",
     "output_type": "stream",
     "text": [
      "Epoch 502/884 Training: 100%|██████████| 351/351 [00:40<00:00,  8.64batch/s]\n",
      "Epoch 502/884 Validation: 100%|██████████| 88/88 [00:09<00:00,  9.39batch/s]\n"
     ]
    },
    {
     "name": "stdout",
     "output_type": "stream",
     "text": [
      "Epoch 502/884, Train Loss: 0.0451, Train Acc: 89.75%, Valid Loss: 0.1173, Valid Acc: 87.55%\n"
     ]
    },
    {
     "name": "stderr",
     "output_type": "stream",
     "text": [
      "Epoch 503/884 Training: 100%|██████████| 351/351 [00:41<00:00,  8.53batch/s]\n",
      "Epoch 503/884 Validation: 100%|██████████| 88/88 [00:09<00:00,  9.58batch/s]\n"
     ]
    },
    {
     "name": "stdout",
     "output_type": "stream",
     "text": [
      "Epoch 503/884, Train Loss: 0.0446, Train Acc: 89.50%, Valid Loss: 0.1074, Valid Acc: 88.90%\n"
     ]
    },
    {
     "name": "stderr",
     "output_type": "stream",
     "text": [
      "Epoch 504/884 Training: 100%|██████████| 351/351 [00:39<00:00,  8.81batch/s]\n",
      "Epoch 504/884 Validation: 100%|██████████| 88/88 [00:08<00:00, 10.52batch/s]\n"
     ]
    },
    {
     "name": "stdout",
     "output_type": "stream",
     "text": [
      "Epoch 504/884, Train Loss: 0.0465, Train Acc: 89.16%, Valid Loss: 0.1096, Valid Acc: 88.34%\n"
     ]
    },
    {
     "name": "stderr",
     "output_type": "stream",
     "text": [
      "Epoch 505/884 Training: 100%|██████████| 351/351 [00:40<00:00,  8.71batch/s]\n",
      "Epoch 505/884 Validation: 100%|██████████| 88/88 [00:09<00:00,  9.24batch/s]\n"
     ]
    },
    {
     "name": "stdout",
     "output_type": "stream",
     "text": [
      "Epoch 505/884, Train Loss: 0.0452, Train Acc: 89.77%, Valid Loss: 0.1120, Valid Acc: 88.41%\n"
     ]
    },
    {
     "name": "stderr",
     "output_type": "stream",
     "text": [
      "Epoch 506/884 Training: 100%|██████████| 351/351 [00:41<00:00,  8.48batch/s]\n",
      "Epoch 506/884 Validation: 100%|██████████| 88/88 [00:09<00:00,  9.05batch/s]\n"
     ]
    },
    {
     "name": "stdout",
     "output_type": "stream",
     "text": [
      "Epoch 506/884, Train Loss: 0.0459, Train Acc: 89.08%, Valid Loss: 0.1096, Valid Acc: 88.83%\n"
     ]
    },
    {
     "name": "stderr",
     "output_type": "stream",
     "text": [
      "Epoch 507/884 Training: 100%|██████████| 351/351 [00:40<00:00,  8.67batch/s]\n",
      "Epoch 507/884 Validation: 100%|██████████| 88/88 [00:09<00:00,  9.20batch/s]\n"
     ]
    },
    {
     "name": "stdout",
     "output_type": "stream",
     "text": [
      "Epoch 507/884, Train Loss: 0.0436, Train Acc: 89.86%, Valid Loss: 0.1198, Valid Acc: 88.12%\n"
     ]
    },
    {
     "name": "stderr",
     "output_type": "stream",
     "text": [
      "Epoch 508/884 Training: 100%|██████████| 351/351 [00:40<00:00,  8.72batch/s]\n",
      "Epoch 508/884 Validation: 100%|██████████| 88/88 [00:09<00:00,  9.34batch/s]\n"
     ]
    },
    {
     "name": "stdout",
     "output_type": "stream",
     "text": [
      "Epoch 508/884, Train Loss: 0.0428, Train Acc: 90.00%, Valid Loss: 0.1150, Valid Acc: 88.83%\n"
     ]
    },
    {
     "name": "stderr",
     "output_type": "stream",
     "text": [
      "Epoch 509/884 Training: 100%|██████████| 351/351 [00:40<00:00,  8.57batch/s]\n",
      "Epoch 509/884 Validation: 100%|██████████| 88/88 [00:09<00:00,  9.20batch/s]\n"
     ]
    },
    {
     "name": "stdout",
     "output_type": "stream",
     "text": [
      "Epoch 509/884, Train Loss: 0.0433, Train Acc: 89.93%, Valid Loss: 0.1099, Valid Acc: 88.69%\n"
     ]
    },
    {
     "name": "stderr",
     "output_type": "stream",
     "text": [
      "Epoch 510/884 Training: 100%|██████████| 351/351 [00:40<00:00,  8.57batch/s]\n",
      "Epoch 510/884 Validation: 100%|██████████| 88/88 [00:09<00:00,  9.19batch/s]\n"
     ]
    },
    {
     "name": "stdout",
     "output_type": "stream",
     "text": [
      "Epoch 510/884, Train Loss: 0.0458, Train Acc: 89.59%, Valid Loss: 0.1087, Valid Acc: 89.19%\n"
     ]
    },
    {
     "name": "stderr",
     "output_type": "stream",
     "text": [
      "Epoch 511/884 Training: 100%|██████████| 351/351 [00:40<00:00,  8.64batch/s]\n",
      "Epoch 511/884 Validation: 100%|██████████| 88/88 [00:09<00:00,  9.23batch/s]\n"
     ]
    },
    {
     "name": "stdout",
     "output_type": "stream",
     "text": [
      "Epoch 511/884, Train Loss: 0.0464, Train Acc: 89.74%, Valid Loss: 0.1104, Valid Acc: 88.41%\n"
     ]
    },
    {
     "name": "stderr",
     "output_type": "stream",
     "text": [
      "Epoch 512/884 Training: 100%|██████████| 351/351 [00:40<00:00,  8.60batch/s]\n",
      "Epoch 512/884 Validation: 100%|██████████| 88/88 [00:08<00:00, 10.12batch/s]\n"
     ]
    },
    {
     "name": "stdout",
     "output_type": "stream",
     "text": [
      "Epoch 512/884, Train Loss: 0.0458, Train Acc: 90.00%, Valid Loss: 0.1089, Valid Acc: 88.83%\n"
     ]
    },
    {
     "name": "stderr",
     "output_type": "stream",
     "text": [
      "Epoch 513/884 Training: 100%|██████████| 351/351 [00:40<00:00,  8.59batch/s]\n",
      "Epoch 513/884 Validation: 100%|██████████| 88/88 [00:09<00:00,  9.27batch/s]\n"
     ]
    },
    {
     "name": "stdout",
     "output_type": "stream",
     "text": [
      "Epoch 513/884, Train Loss: 0.0481, Train Acc: 88.72%, Valid Loss: 0.1131, Valid Acc: 88.98%\n"
     ]
    },
    {
     "name": "stderr",
     "output_type": "stream",
     "text": [
      "Epoch 514/884 Training: 100%|██████████| 351/351 [00:40<00:00,  8.65batch/s]\n",
      "Epoch 514/884 Validation: 100%|██████████| 88/88 [00:09<00:00,  9.17batch/s]\n"
     ]
    },
    {
     "name": "stdout",
     "output_type": "stream",
     "text": [
      "Epoch 514/884, Train Loss: 0.0471, Train Acc: 89.22%, Valid Loss: 0.1115, Valid Acc: 89.05%\n"
     ]
    },
    {
     "name": "stderr",
     "output_type": "stream",
     "text": [
      "Epoch 515/884 Training: 100%|██████████| 351/351 [00:41<00:00,  8.50batch/s]\n",
      "Epoch 515/884 Validation: 100%|██████████| 88/88 [00:09<00:00,  9.09batch/s]\n"
     ]
    },
    {
     "name": "stdout",
     "output_type": "stream",
     "text": [
      "Epoch 515/884, Train Loss: 0.0451, Train Acc: 89.70%, Valid Loss: 0.1141, Valid Acc: 87.62%\n"
     ]
    },
    {
     "name": "stderr",
     "output_type": "stream",
     "text": [
      "Epoch 516/884 Training: 100%|██████████| 351/351 [00:40<00:00,  8.64batch/s]\n",
      "Epoch 516/884 Validation: 100%|██████████| 88/88 [00:09<00:00,  9.77batch/s]\n"
     ]
    },
    {
     "name": "stdout",
     "output_type": "stream",
     "text": [
      "Epoch 516/884, Train Loss: 0.0438, Train Acc: 89.40%, Valid Loss: 0.1106, Valid Acc: 88.76%\n"
     ]
    },
    {
     "name": "stderr",
     "output_type": "stream",
     "text": [
      "Epoch 517/884 Training: 100%|██████████| 351/351 [00:39<00:00,  8.86batch/s]\n",
      "Epoch 517/884 Validation: 100%|██████████| 88/88 [00:09<00:00,  9.43batch/s]\n"
     ]
    },
    {
     "name": "stdout",
     "output_type": "stream",
     "text": [
      "Epoch 517/884, Train Loss: 0.0469, Train Acc: 89.38%, Valid Loss: 0.1162, Valid Acc: 88.83%\n"
     ]
    },
    {
     "name": "stderr",
     "output_type": "stream",
     "text": [
      "Epoch 518/884 Training: 100%|██████████| 351/351 [00:41<00:00,  8.52batch/s]\n",
      "Epoch 518/884 Validation: 100%|██████████| 88/88 [00:08<00:00, 10.17batch/s]\n"
     ]
    },
    {
     "name": "stdout",
     "output_type": "stream",
     "text": [
      "Epoch 518/884, Train Loss: 0.0439, Train Acc: 89.56%, Valid Loss: 0.1106, Valid Acc: 89.40%\n"
     ]
    },
    {
     "name": "stderr",
     "output_type": "stream",
     "text": [
      "Epoch 519/884 Training: 100%|██████████| 351/351 [00:40<00:00,  8.59batch/s]\n",
      "Epoch 519/884 Validation: 100%|██████████| 88/88 [00:09<00:00,  9.26batch/s]\n"
     ]
    },
    {
     "name": "stdout",
     "output_type": "stream",
     "text": [
      "Epoch 519/884, Train Loss: 0.0480, Train Acc: 89.02%, Valid Loss: 0.1094, Valid Acc: 88.26%\n"
     ]
    },
    {
     "name": "stderr",
     "output_type": "stream",
     "text": [
      "Epoch 520/884 Training: 100%|██████████| 351/351 [00:45<00:00,  7.80batch/s]\n",
      "Epoch 520/884 Validation: 100%|██████████| 88/88 [00:09<00:00,  8.89batch/s]\n"
     ]
    },
    {
     "name": "stdout",
     "output_type": "stream",
     "text": [
      "Epoch 520/884, Train Loss: 0.0451, Train Acc: 89.68%, Valid Loss: 0.1095, Valid Acc: 88.41%\n"
     ]
    },
    {
     "name": "stderr",
     "output_type": "stream",
     "text": [
      "Epoch 521/884 Training: 100%|██████████| 351/351 [00:45<00:00,  7.79batch/s]\n",
      "Epoch 521/884 Validation: 100%|██████████| 88/88 [00:12<00:00,  7.09batch/s]\n"
     ]
    },
    {
     "name": "stdout",
     "output_type": "stream",
     "text": [
      "Epoch 521/884, Train Loss: 0.0481, Train Acc: 89.24%, Valid Loss: 0.1092, Valid Acc: 88.69%\n"
     ]
    },
    {
     "name": "stderr",
     "output_type": "stream",
     "text": [
      "Epoch 522/884 Training: 100%|██████████| 351/351 [00:57<00:00,  6.09batch/s]\n",
      "Epoch 522/884 Validation: 100%|██████████| 88/88 [00:12<00:00,  6.95batch/s]\n"
     ]
    },
    {
     "name": "stdout",
     "output_type": "stream",
     "text": [
      "Epoch 522/884, Train Loss: 0.0458, Train Acc: 89.47%, Valid Loss: 0.1091, Valid Acc: 88.90%\n"
     ]
    },
    {
     "name": "stderr",
     "output_type": "stream",
     "text": [
      "Epoch 523/884 Training: 100%|██████████| 351/351 [00:45<00:00,  7.76batch/s]\n",
      "Epoch 523/884 Validation: 100%|██████████| 88/88 [00:10<00:00,  8.77batch/s]\n"
     ]
    },
    {
     "name": "stdout",
     "output_type": "stream",
     "text": [
      "Epoch 523/884, Train Loss: 0.0453, Train Acc: 89.91%, Valid Loss: 0.1107, Valid Acc: 88.48%\n"
     ]
    },
    {
     "name": "stderr",
     "output_type": "stream",
     "text": [
      "Epoch 524/884 Training: 100%|██████████| 351/351 [00:43<00:00,  8.04batch/s]\n",
      "Epoch 524/884 Validation: 100%|██████████| 88/88 [00:10<00:00,  8.60batch/s]\n"
     ]
    },
    {
     "name": "stdout",
     "output_type": "stream",
     "text": [
      "Epoch 524/884, Train Loss: 0.0462, Train Acc: 88.77%, Valid Loss: 0.1118, Valid Acc: 88.90%\n"
     ]
    },
    {
     "name": "stderr",
     "output_type": "stream",
     "text": [
      "Epoch 525/884 Training: 100%|██████████| 351/351 [00:43<00:00,  8.04batch/s]\n",
      "Epoch 525/884 Validation: 100%|██████████| 88/88 [00:10<00:00,  8.35batch/s]\n"
     ]
    },
    {
     "name": "stdout",
     "output_type": "stream",
     "text": [
      "Epoch 525/884, Train Loss: 0.0469, Train Acc: 89.25%, Valid Loss: 0.1089, Valid Acc: 88.76%\n"
     ]
    },
    {
     "name": "stderr",
     "output_type": "stream",
     "text": [
      "Epoch 526/884 Training: 100%|██████████| 351/351 [00:40<00:00,  8.72batch/s]\n",
      "Epoch 526/884 Validation: 100%|██████████| 88/88 [00:09<00:00,  9.24batch/s]\n"
     ]
    },
    {
     "name": "stdout",
     "output_type": "stream",
     "text": [
      "Epoch 526/884, Train Loss: 0.0465, Train Acc: 89.49%, Valid Loss: 0.1161, Valid Acc: 88.98%\n"
     ]
    },
    {
     "name": "stderr",
     "output_type": "stream",
     "text": [
      "Epoch 527/884 Training: 100%|██████████| 351/351 [00:41<00:00,  8.52batch/s]\n",
      "Epoch 527/884 Validation: 100%|██████████| 88/88 [00:09<00:00,  9.26batch/s]\n"
     ]
    },
    {
     "name": "stdout",
     "output_type": "stream",
     "text": [
      "Epoch 527/884, Train Loss: 0.0452, Train Acc: 89.81%, Valid Loss: 0.1092, Valid Acc: 89.76%\n"
     ]
    },
    {
     "name": "stderr",
     "output_type": "stream",
     "text": [
      "Epoch 528/884 Training: 100%|██████████| 351/351 [00:40<00:00,  8.70batch/s]\n",
      "Epoch 528/884 Validation: 100%|██████████| 88/88 [00:08<00:00, 10.39batch/s]\n"
     ]
    },
    {
     "name": "stdout",
     "output_type": "stream",
     "text": [
      "Epoch 528/884, Train Loss: 0.0426, Train Acc: 90.34%, Valid Loss: 0.1121, Valid Acc: 88.12%\n"
     ]
    },
    {
     "name": "stderr",
     "output_type": "stream",
     "text": [
      "Epoch 529/884 Training: 100%|██████████| 351/351 [00:40<00:00,  8.66batch/s]\n",
      "Epoch 529/884 Validation: 100%|██████████| 88/88 [00:09<00:00,  9.26batch/s]\n"
     ]
    },
    {
     "name": "stdout",
     "output_type": "stream",
     "text": [
      "Epoch 529/884, Train Loss: 0.0443, Train Acc: 89.74%, Valid Loss: 0.1104, Valid Acc: 88.62%\n"
     ]
    },
    {
     "name": "stderr",
     "output_type": "stream",
     "text": [
      "Epoch 530/884 Training: 100%|██████████| 351/351 [00:40<00:00,  8.64batch/s]\n",
      "Epoch 530/884 Validation: 100%|██████████| 88/88 [00:09<00:00,  9.19batch/s]\n"
     ]
    },
    {
     "name": "stdout",
     "output_type": "stream",
     "text": [
      "Epoch 530/884, Train Loss: 0.0472, Train Acc: 88.79%, Valid Loss: 0.1131, Valid Acc: 88.41%\n"
     ]
    },
    {
     "name": "stderr",
     "output_type": "stream",
     "text": [
      "Epoch 531/884 Training: 100%|██████████| 351/351 [00:41<00:00,  8.49batch/s]\n",
      "Epoch 531/884 Validation: 100%|██████████| 88/88 [00:09<00:00,  9.07batch/s]\n"
     ]
    },
    {
     "name": "stdout",
     "output_type": "stream",
     "text": [
      "Epoch 531/884, Train Loss: 0.0461, Train Acc: 89.38%, Valid Loss: 0.1118, Valid Acc: 89.26%\n"
     ]
    },
    {
     "name": "stderr",
     "output_type": "stream",
     "text": [
      "Epoch 532/884 Training: 100%|██████████| 351/351 [00:41<00:00,  8.53batch/s]\n",
      "Epoch 532/884 Validation: 100%|██████████| 88/88 [00:09<00:00,  9.52batch/s]\n"
     ]
    },
    {
     "name": "stdout",
     "output_type": "stream",
     "text": [
      "Epoch 532/884, Train Loss: 0.0442, Train Acc: 90.07%, Valid Loss: 0.1088, Valid Acc: 88.48%\n"
     ]
    },
    {
     "name": "stderr",
     "output_type": "stream",
     "text": [
      "Epoch 533/884 Training: 100%|██████████| 351/351 [00:40<00:00,  8.63batch/s]\n",
      "Epoch 533/884 Validation: 100%|██████████| 88/88 [00:09<00:00,  9.35batch/s]\n"
     ]
    },
    {
     "name": "stdout",
     "output_type": "stream",
     "text": [
      "Epoch 533/884, Train Loss: 0.0462, Train Acc: 89.52%, Valid Loss: 0.1112, Valid Acc: 88.41%\n"
     ]
    },
    {
     "name": "stderr",
     "output_type": "stream",
     "text": [
      "Epoch 534/884 Training: 100%|██████████| 351/351 [00:40<00:00,  8.64batch/s]\n",
      "Epoch 534/884 Validation: 100%|██████████| 88/88 [00:08<00:00, 10.42batch/s]\n"
     ]
    },
    {
     "name": "stdout",
     "output_type": "stream",
     "text": [
      "Epoch 534/884, Train Loss: 0.0457, Train Acc: 89.43%, Valid Loss: 0.1118, Valid Acc: 89.05%\n"
     ]
    },
    {
     "name": "stderr",
     "output_type": "stream",
     "text": [
      "Epoch 535/884 Training: 100%|██████████| 351/351 [00:42<00:00,  8.24batch/s]\n",
      "Epoch 535/884 Validation: 100%|██████████| 88/88 [00:09<00:00,  9.27batch/s]\n"
     ]
    },
    {
     "name": "stdout",
     "output_type": "stream",
     "text": [
      "Epoch 535/884, Train Loss: 0.0450, Train Acc: 89.24%, Valid Loss: 0.1115, Valid Acc: 88.12%\n"
     ]
    },
    {
     "name": "stderr",
     "output_type": "stream",
     "text": [
      "Epoch 536/884 Training: 100%|██████████| 351/351 [00:40<00:00,  8.62batch/s]\n",
      "Epoch 536/884 Validation: 100%|██████████| 88/88 [00:09<00:00,  9.22batch/s]\n"
     ]
    },
    {
     "name": "stdout",
     "output_type": "stream",
     "text": [
      "Epoch 536/884, Train Loss: 0.0437, Train Acc: 89.88%, Valid Loss: 0.1112, Valid Acc: 88.83%\n"
     ]
    },
    {
     "name": "stderr",
     "output_type": "stream",
     "text": [
      "Epoch 537/884 Training: 100%|██████████| 351/351 [00:41<00:00,  8.51batch/s]\n",
      "Epoch 537/884 Validation: 100%|██████████| 88/88 [00:09<00:00,  9.64batch/s]\n"
     ]
    },
    {
     "name": "stdout",
     "output_type": "stream",
     "text": [
      "Epoch 537/884, Train Loss: 0.0470, Train Acc: 88.88%, Valid Loss: 0.1122, Valid Acc: 88.55%\n"
     ]
    },
    {
     "name": "stderr",
     "output_type": "stream",
     "text": [
      "Epoch 538/884 Training: 100%|██████████| 351/351 [00:40<00:00,  8.61batch/s]\n",
      "Epoch 538/884 Validation: 100%|██████████| 88/88 [00:09<00:00,  9.20batch/s]\n"
     ]
    },
    {
     "name": "stdout",
     "output_type": "stream",
     "text": [
      "Epoch 538/884, Train Loss: 0.0472, Train Acc: 88.88%, Valid Loss: 0.1206, Valid Acc: 88.19%\n"
     ]
    },
    {
     "name": "stderr",
     "output_type": "stream",
     "text": [
      "Epoch 539/884 Training: 100%|██████████| 351/351 [00:40<00:00,  8.65batch/s]\n",
      "Epoch 539/884 Validation: 100%|██████████| 88/88 [00:09<00:00,  9.30batch/s]\n"
     ]
    },
    {
     "name": "stdout",
     "output_type": "stream",
     "text": [
      "Epoch 539/884, Train Loss: 0.0431, Train Acc: 89.33%, Valid Loss: 0.1142, Valid Acc: 88.62%\n"
     ]
    },
    {
     "name": "stderr",
     "output_type": "stream",
     "text": [
      "Epoch 540/884 Training: 100%|██████████| 351/351 [00:39<00:00,  8.88batch/s]\n",
      "Epoch 540/884 Validation: 100%|██████████| 88/88 [00:09<00:00,  9.27batch/s]\n"
     ]
    },
    {
     "name": "stdout",
     "output_type": "stream",
     "text": [
      "Epoch 540/884, Train Loss: 0.0451, Train Acc: 89.13%, Valid Loss: 0.1166, Valid Acc: 88.12%\n"
     ]
    },
    {
     "name": "stderr",
     "output_type": "stream",
     "text": [
      "Epoch 541/884 Training: 100%|██████████| 351/351 [00:40<00:00,  8.70batch/s]\n",
      "Epoch 541/884 Validation: 100%|██████████| 88/88 [00:09<00:00,  9.26batch/s]\n"
     ]
    },
    {
     "name": "stdout",
     "output_type": "stream",
     "text": [
      "Epoch 541/884, Train Loss: 0.0446, Train Acc: 89.95%, Valid Loss: 0.1098, Valid Acc: 88.83%\n"
     ]
    },
    {
     "name": "stderr",
     "output_type": "stream",
     "text": [
      "Epoch 542/884 Training: 100%|██████████| 351/351 [00:40<00:00,  8.66batch/s]\n",
      "Epoch 542/884 Validation: 100%|██████████| 88/88 [00:09<00:00,  9.47batch/s]\n"
     ]
    },
    {
     "name": "stdout",
     "output_type": "stream",
     "text": [
      "Epoch 542/884, Train Loss: 0.0465, Train Acc: 89.43%, Valid Loss: 0.1105, Valid Acc: 88.48%\n"
     ]
    },
    {
     "name": "stderr",
     "output_type": "stream",
     "text": [
      "Epoch 543/884 Training: 100%|██████████| 351/351 [00:40<00:00,  8.70batch/s]\n",
      "Epoch 543/884 Validation: 100%|██████████| 88/88 [00:09<00:00,  9.17batch/s]\n"
     ]
    },
    {
     "name": "stdout",
     "output_type": "stream",
     "text": [
      "Epoch 543/884, Train Loss: 0.0459, Train Acc: 89.65%, Valid Loss: 0.1143, Valid Acc: 88.41%\n"
     ]
    },
    {
     "name": "stderr",
     "output_type": "stream",
     "text": [
      "Epoch 544/884 Training: 100%|██████████| 351/351 [00:40<00:00,  8.63batch/s]\n",
      "Epoch 544/884 Validation: 100%|██████████| 88/88 [00:09<00:00,  9.23batch/s]\n"
     ]
    },
    {
     "name": "stdout",
     "output_type": "stream",
     "text": [
      "Epoch 544/884, Train Loss: 0.0453, Train Acc: 89.54%, Valid Loss: 0.1120, Valid Acc: 88.26%\n"
     ]
    },
    {
     "name": "stderr",
     "output_type": "stream",
     "text": [
      "Epoch 545/884 Training: 100%|██████████| 351/351 [00:40<00:00,  8.63batch/s]\n",
      "Epoch 545/884 Validation: 100%|██████████| 88/88 [00:07<00:00, 11.14batch/s]\n"
     ]
    },
    {
     "name": "stdout",
     "output_type": "stream",
     "text": [
      "Epoch 545/884, Train Loss: 0.0462, Train Acc: 89.49%, Valid Loss: 0.1116, Valid Acc: 88.05%\n"
     ]
    },
    {
     "name": "stderr",
     "output_type": "stream",
     "text": [
      "Epoch 546/884 Training: 100%|██████████| 351/351 [00:40<00:00,  8.58batch/s]\n",
      "Epoch 546/884 Validation: 100%|██████████| 88/88 [00:09<00:00,  9.55batch/s]\n"
     ]
    },
    {
     "name": "stdout",
     "output_type": "stream",
     "text": [
      "Epoch 546/884, Train Loss: 0.0463, Train Acc: 89.36%, Valid Loss: 0.1107, Valid Acc: 89.12%\n"
     ]
    },
    {
     "name": "stderr",
     "output_type": "stream",
     "text": [
      "Epoch 547/884 Training: 100%|██████████| 351/351 [00:39<00:00,  8.86batch/s]\n",
      "Epoch 547/884 Validation: 100%|██████████| 88/88 [00:09<00:00,  9.02batch/s]\n"
     ]
    },
    {
     "name": "stdout",
     "output_type": "stream",
     "text": [
      "Epoch 547/884, Train Loss: 0.0468, Train Acc: 89.16%, Valid Loss: 0.1158, Valid Acc: 89.05%\n"
     ]
    },
    {
     "name": "stderr",
     "output_type": "stream",
     "text": [
      "Epoch 548/884 Training: 100%|██████████| 351/351 [00:40<00:00,  8.65batch/s]\n",
      "Epoch 548/884 Validation: 100%|██████████| 88/88 [00:09<00:00,  9.25batch/s]\n"
     ]
    },
    {
     "name": "stdout",
     "output_type": "stream",
     "text": [
      "Epoch 548/884, Train Loss: 0.0449, Train Acc: 89.54%, Valid Loss: 0.1052, Valid Acc: 89.19%\n"
     ]
    },
    {
     "name": "stderr",
     "output_type": "stream",
     "text": [
      "Epoch 549/884 Training: 100%|██████████| 351/351 [00:41<00:00,  8.52batch/s]\n",
      "Epoch 549/884 Validation: 100%|██████████| 88/88 [00:09<00:00,  9.09batch/s]\n"
     ]
    },
    {
     "name": "stdout",
     "output_type": "stream",
     "text": [
      "Epoch 549/884, Train Loss: 0.0445, Train Acc: 89.74%, Valid Loss: 0.1145, Valid Acc: 88.12%\n"
     ]
    },
    {
     "name": "stderr",
     "output_type": "stream",
     "text": [
      "Epoch 550/884 Training: 100%|██████████| 351/351 [00:41<00:00,  8.55batch/s]\n",
      "Epoch 550/884 Validation: 100%|██████████| 88/88 [00:08<00:00, 10.55batch/s]\n"
     ]
    },
    {
     "name": "stdout",
     "output_type": "stream",
     "text": [
      "Epoch 550/884, Train Loss: 0.0443, Train Acc: 89.75%, Valid Loss: 0.1108, Valid Acc: 88.90%\n"
     ]
    },
    {
     "name": "stderr",
     "output_type": "stream",
     "text": [
      "Epoch 551/884 Training: 100%|██████████| 351/351 [00:40<00:00,  8.74batch/s]\n",
      "Epoch 551/884 Validation: 100%|██████████| 88/88 [00:09<00:00,  8.89batch/s]\n"
     ]
    },
    {
     "name": "stdout",
     "output_type": "stream",
     "text": [
      "Epoch 551/884, Train Loss: 0.0447, Train Acc: 89.86%, Valid Loss: 0.1111, Valid Acc: 88.62%\n"
     ]
    },
    {
     "name": "stderr",
     "output_type": "stream",
     "text": [
      "Epoch 552/884 Training: 100%|██████████| 351/351 [00:40<00:00,  8.65batch/s]\n",
      "Epoch 552/884 Validation: 100%|██████████| 88/88 [00:09<00:00,  9.47batch/s]\n"
     ]
    },
    {
     "name": "stdout",
     "output_type": "stream",
     "text": [
      "Epoch 552/884, Train Loss: 0.0471, Train Acc: 89.06%, Valid Loss: 0.1103, Valid Acc: 88.69%\n"
     ]
    },
    {
     "name": "stderr",
     "output_type": "stream",
     "text": [
      "Epoch 553/884 Training: 100%|██████████| 351/351 [00:41<00:00,  8.42batch/s]\n",
      "Epoch 553/884 Validation: 100%|██████████| 88/88 [00:09<00:00,  9.22batch/s]\n"
     ]
    },
    {
     "name": "stdout",
     "output_type": "stream",
     "text": [
      "Epoch 553/884, Train Loss: 0.0459, Train Acc: 89.63%, Valid Loss: 0.1068, Valid Acc: 88.83%\n"
     ]
    },
    {
     "name": "stderr",
     "output_type": "stream",
     "text": [
      "Epoch 554/884 Training: 100%|██████████| 351/351 [00:40<00:00,  8.73batch/s]\n",
      "Epoch 554/884 Validation: 100%|██████████| 88/88 [00:09<00:00,  9.23batch/s]\n"
     ]
    },
    {
     "name": "stdout",
     "output_type": "stream",
     "text": [
      "Epoch 554/884, Train Loss: 0.0446, Train Acc: 89.65%, Valid Loss: 0.1176, Valid Acc: 88.62%\n"
     ]
    },
    {
     "name": "stderr",
     "output_type": "stream",
     "text": [
      "Epoch 555/884 Training: 100%|██████████| 351/351 [00:39<00:00,  8.85batch/s]\n",
      "Epoch 555/884 Validation: 100%|██████████| 88/88 [00:09<00:00,  9.13batch/s]\n"
     ]
    },
    {
     "name": "stdout",
     "output_type": "stream",
     "text": [
      "Epoch 555/884, Train Loss: 0.0462, Train Acc: 89.58%, Valid Loss: 0.1058, Valid Acc: 88.90%\n"
     ]
    },
    {
     "name": "stderr",
     "output_type": "stream",
     "text": [
      "Epoch 556/884 Training: 100%|██████████| 351/351 [00:40<00:00,  8.67batch/s]\n",
      "Epoch 556/884 Validation: 100%|██████████| 88/88 [00:09<00:00,  9.34batch/s]\n"
     ]
    },
    {
     "name": "stdout",
     "output_type": "stream",
     "text": [
      "Epoch 556/884, Train Loss: 0.0450, Train Acc: 89.54%, Valid Loss: 0.1109, Valid Acc: 88.62%\n"
     ]
    },
    {
     "name": "stderr",
     "output_type": "stream",
     "text": [
      "Epoch 557/884 Training: 100%|██████████| 351/351 [00:40<00:00,  8.74batch/s]\n",
      "Epoch 557/884 Validation: 100%|██████████| 88/88 [00:09<00:00,  9.36batch/s]\n"
     ]
    },
    {
     "name": "stdout",
     "output_type": "stream",
     "text": [
      "Epoch 557/884, Train Loss: 0.0439, Train Acc: 90.00%, Valid Loss: 0.1119, Valid Acc: 89.19%\n"
     ]
    },
    {
     "name": "stderr",
     "output_type": "stream",
     "text": [
      "Epoch 558/884 Training: 100%|██████████| 351/351 [00:40<00:00,  8.72batch/s]\n",
      "Epoch 558/884 Validation: 100%|██████████| 88/88 [00:09<00:00,  9.54batch/s]\n"
     ]
    },
    {
     "name": "stdout",
     "output_type": "stream",
     "text": [
      "Epoch 558/884, Train Loss: 0.0459, Train Acc: 89.54%, Valid Loss: 0.1142, Valid Acc: 89.05%\n"
     ]
    },
    {
     "name": "stderr",
     "output_type": "stream",
     "text": [
      "Epoch 559/884 Training: 100%|██████████| 351/351 [00:40<00:00,  8.65batch/s]\n",
      "Epoch 559/884 Validation: 100%|██████████| 88/88 [00:08<00:00, 10.52batch/s]\n"
     ]
    },
    {
     "name": "stdout",
     "output_type": "stream",
     "text": [
      "Epoch 559/884, Train Loss: 0.0446, Train Acc: 89.09%, Valid Loss: 0.1103, Valid Acc: 88.05%\n"
     ]
    },
    {
     "name": "stderr",
     "output_type": "stream",
     "text": [
      "Epoch 560/884 Training: 100%|██████████| 351/351 [00:40<00:00,  8.69batch/s]\n",
      "Epoch 560/884 Validation: 100%|██████████| 88/88 [00:08<00:00,  9.83batch/s]\n"
     ]
    },
    {
     "name": "stdout",
     "output_type": "stream",
     "text": [
      "Epoch 560/884, Train Loss: 0.0459, Train Acc: 89.84%, Valid Loss: 0.1087, Valid Acc: 89.26%\n"
     ]
    },
    {
     "name": "stderr",
     "output_type": "stream",
     "text": [
      "Epoch 561/884 Training: 100%|██████████| 351/351 [00:40<00:00,  8.62batch/s]\n",
      "Epoch 561/884 Validation: 100%|██████████| 88/88 [00:09<00:00,  9.46batch/s]\n"
     ]
    },
    {
     "name": "stdout",
     "output_type": "stream",
     "text": [
      "Epoch 561/884, Train Loss: 0.0443, Train Acc: 89.74%, Valid Loss: 0.1111, Valid Acc: 88.55%\n"
     ]
    },
    {
     "name": "stderr",
     "output_type": "stream",
     "text": [
      "Epoch 562/884 Training: 100%|██████████| 351/351 [00:40<00:00,  8.67batch/s]\n",
      "Epoch 562/884 Validation: 100%|██████████| 88/88 [00:07<00:00, 11.10batch/s]\n"
     ]
    },
    {
     "name": "stdout",
     "output_type": "stream",
     "text": [
      "Epoch 562/884, Train Loss: 0.0473, Train Acc: 89.61%, Valid Loss: 0.1169, Valid Acc: 88.55%\n"
     ]
    },
    {
     "name": "stderr",
     "output_type": "stream",
     "text": [
      "Epoch 563/884 Training: 100%|██████████| 351/351 [00:39<00:00,  8.86batch/s]\n",
      "Epoch 563/884 Validation: 100%|██████████| 88/88 [00:09<00:00,  9.15batch/s]\n"
     ]
    },
    {
     "name": "stdout",
     "output_type": "stream",
     "text": [
      "Epoch 563/884, Train Loss: 0.0455, Train Acc: 89.33%, Valid Loss: 0.1083, Valid Acc: 88.48%\n"
     ]
    },
    {
     "name": "stderr",
     "output_type": "stream",
     "text": [
      "Epoch 564/884 Training: 100%|██████████| 351/351 [00:39<00:00,  8.78batch/s]\n",
      "Epoch 564/884 Validation: 100%|██████████| 88/88 [00:08<00:00, 10.05batch/s]\n"
     ]
    },
    {
     "name": "stdout",
     "output_type": "stream",
     "text": [
      "Epoch 564/884, Train Loss: 0.0475, Train Acc: 89.33%, Valid Loss: 0.1105, Valid Acc: 88.12%\n"
     ]
    },
    {
     "name": "stderr",
     "output_type": "stream",
     "text": [
      "Epoch 565/884 Training: 100%|██████████| 351/351 [00:40<00:00,  8.77batch/s]\n",
      "Epoch 565/884 Validation: 100%|██████████| 88/88 [00:09<00:00,  9.14batch/s]\n"
     ]
    },
    {
     "name": "stdout",
     "output_type": "stream",
     "text": [
      "Epoch 565/884, Train Loss: 0.0469, Train Acc: 89.25%, Valid Loss: 0.1185, Valid Acc: 87.48%\n"
     ]
    },
    {
     "name": "stderr",
     "output_type": "stream",
     "text": [
      "Epoch 566/884 Training: 100%|██████████| 351/351 [00:40<00:00,  8.61batch/s]\n",
      "Epoch 566/884 Validation: 100%|██████████| 88/88 [00:09<00:00,  9.61batch/s]\n"
     ]
    },
    {
     "name": "stdout",
     "output_type": "stream",
     "text": [
      "Epoch 566/884, Train Loss: 0.0482, Train Acc: 89.34%, Valid Loss: 0.1160, Valid Acc: 88.48%\n"
     ]
    },
    {
     "name": "stderr",
     "output_type": "stream",
     "text": [
      "Epoch 567/884 Training: 100%|██████████| 351/351 [00:41<00:00,  8.54batch/s]\n",
      "Epoch 567/884 Validation: 100%|██████████| 88/88 [00:09<00:00,  9.06batch/s]\n"
     ]
    },
    {
     "name": "stdout",
     "output_type": "stream",
     "text": [
      "Epoch 567/884, Train Loss: 0.0463, Train Acc: 89.61%, Valid Loss: 0.1218, Valid Acc: 88.26%\n"
     ]
    },
    {
     "name": "stderr",
     "output_type": "stream",
     "text": [
      "Epoch 568/884 Training: 100%|██████████| 351/351 [00:40<00:00,  8.57batch/s]\n",
      "Epoch 568/884 Validation: 100%|██████████| 88/88 [00:08<00:00, 10.52batch/s]\n"
     ]
    },
    {
     "name": "stdout",
     "output_type": "stream",
     "text": [
      "Epoch 568/884, Train Loss: 0.0442, Train Acc: 90.29%, Valid Loss: 0.1098, Valid Acc: 88.69%\n"
     ]
    },
    {
     "name": "stderr",
     "output_type": "stream",
     "text": [
      "Epoch 569/884 Training: 100%|██████████| 351/351 [00:40<00:00,  8.57batch/s]\n",
      "Epoch 569/884 Validation: 100%|██████████| 88/88 [00:09<00:00,  9.13batch/s]\n"
     ]
    },
    {
     "name": "stdout",
     "output_type": "stream",
     "text": [
      "Epoch 569/884, Train Loss: 0.0455, Train Acc: 89.29%, Valid Loss: 0.1113, Valid Acc: 88.76%\n"
     ]
    },
    {
     "name": "stderr",
     "output_type": "stream",
     "text": [
      "Epoch 570/884 Training: 100%|██████████| 351/351 [00:41<00:00,  8.37batch/s]\n",
      "Epoch 570/884 Validation: 100%|██████████| 88/88 [00:08<00:00,  9.88batch/s]\n"
     ]
    },
    {
     "name": "stdout",
     "output_type": "stream",
     "text": [
      "Epoch 570/884, Train Loss: 0.0462, Train Acc: 89.88%, Valid Loss: 0.1089, Valid Acc: 88.98%\n"
     ]
    },
    {
     "name": "stderr",
     "output_type": "stream",
     "text": [
      "Epoch 571/884 Training: 100%|██████████| 351/351 [00:41<00:00,  8.46batch/s]\n",
      "Epoch 571/884 Validation: 100%|██████████| 88/88 [00:09<00:00,  9.75batch/s]\n"
     ]
    },
    {
     "name": "stdout",
     "output_type": "stream",
     "text": [
      "Epoch 571/884, Train Loss: 0.0450, Train Acc: 90.16%, Valid Loss: 0.1150, Valid Acc: 88.55%\n"
     ]
    },
    {
     "name": "stderr",
     "output_type": "stream",
     "text": [
      "Epoch 572/884 Training: 100%|██████████| 351/351 [00:40<00:00,  8.61batch/s]\n",
      "Epoch 572/884 Validation: 100%|██████████| 88/88 [00:09<00:00,  9.20batch/s]\n"
     ]
    },
    {
     "name": "stdout",
     "output_type": "stream",
     "text": [
      "Epoch 572/884, Train Loss: 0.0464, Train Acc: 89.75%, Valid Loss: 0.1108, Valid Acc: 89.54%\n"
     ]
    },
    {
     "name": "stderr",
     "output_type": "stream",
     "text": [
      "Epoch 573/884 Training: 100%|██████████| 351/351 [00:41<00:00,  8.54batch/s]\n",
      "Epoch 573/884 Validation: 100%|██████████| 88/88 [00:08<00:00, 10.49batch/s]\n"
     ]
    },
    {
     "name": "stdout",
     "output_type": "stream",
     "text": [
      "Epoch 573/884, Train Loss: 0.0479, Train Acc: 88.97%, Valid Loss: 0.1123, Valid Acc: 87.77%\n"
     ]
    },
    {
     "name": "stderr",
     "output_type": "stream",
     "text": [
      "Epoch 574/884 Training: 100%|██████████| 351/351 [00:41<00:00,  8.54batch/s]\n",
      "Epoch 574/884 Validation: 100%|██████████| 88/88 [00:09<00:00,  9.21batch/s]\n"
     ]
    },
    {
     "name": "stdout",
     "output_type": "stream",
     "text": [
      "Epoch 574/884, Train Loss: 0.0464, Train Acc: 88.99%, Valid Loss: 0.1140, Valid Acc: 88.83%\n"
     ]
    },
    {
     "name": "stderr",
     "output_type": "stream",
     "text": [
      "Epoch 575/884 Training: 100%|██████████| 351/351 [00:40<00:00,  8.72batch/s]\n",
      "Epoch 575/884 Validation: 100%|██████████| 88/88 [00:09<00:00,  9.72batch/s]\n"
     ]
    },
    {
     "name": "stdout",
     "output_type": "stream",
     "text": [
      "Epoch 575/884, Train Loss: 0.0452, Train Acc: 89.83%, Valid Loss: 0.1230, Valid Acc: 88.19%\n"
     ]
    },
    {
     "name": "stderr",
     "output_type": "stream",
     "text": [
      "Epoch 576/884 Training: 100%|██████████| 351/351 [00:40<00:00,  8.56batch/s]\n",
      "Epoch 576/884 Validation: 100%|██████████| 88/88 [00:09<00:00,  9.51batch/s]\n"
     ]
    },
    {
     "name": "stdout",
     "output_type": "stream",
     "text": [
      "Epoch 576/884, Train Loss: 0.0472, Train Acc: 89.11%, Valid Loss: 0.1137, Valid Acc: 88.62%\n"
     ]
    },
    {
     "name": "stderr",
     "output_type": "stream",
     "text": [
      "Epoch 577/884 Training: 100%|██████████| 351/351 [00:40<00:00,  8.68batch/s]\n",
      "Epoch 577/884 Validation: 100%|██████████| 88/88 [00:09<00:00,  9.01batch/s]\n"
     ]
    },
    {
     "name": "stdout",
     "output_type": "stream",
     "text": [
      "Epoch 577/884, Train Loss: 0.0442, Train Acc: 90.00%, Valid Loss: 0.1141, Valid Acc: 88.62%\n"
     ]
    },
    {
     "name": "stderr",
     "output_type": "stream",
     "text": [
      "Epoch 578/884 Training: 100%|██████████| 351/351 [00:40<00:00,  8.62batch/s]\n",
      "Epoch 578/884 Validation: 100%|██████████| 88/88 [00:09<00:00,  9.18batch/s]\n"
     ]
    },
    {
     "name": "stdout",
     "output_type": "stream",
     "text": [
      "Epoch 578/884, Train Loss: 0.0470, Train Acc: 88.95%, Valid Loss: 0.1089, Valid Acc: 88.83%\n"
     ]
    },
    {
     "name": "stderr",
     "output_type": "stream",
     "text": [
      "Epoch 579/884 Training: 100%|██████████| 351/351 [00:40<00:00,  8.57batch/s]\n",
      "Epoch 579/884 Validation: 100%|██████████| 88/88 [00:09<00:00,  9.49batch/s]\n"
     ]
    },
    {
     "name": "stdout",
     "output_type": "stream",
     "text": [
      "Epoch 579/884, Train Loss: 0.0452, Train Acc: 89.56%, Valid Loss: 0.1149, Valid Acc: 88.98%\n"
     ]
    },
    {
     "name": "stderr",
     "output_type": "stream",
     "text": [
      "Epoch 580/884 Training: 100%|██████████| 351/351 [00:40<00:00,  8.56batch/s]\n",
      "Epoch 580/884 Validation: 100%|██████████| 88/88 [00:08<00:00, 10.72batch/s]\n"
     ]
    },
    {
     "name": "stdout",
     "output_type": "stream",
     "text": [
      "Epoch 580/884, Train Loss: 0.0443, Train Acc: 89.43%, Valid Loss: 0.1129, Valid Acc: 88.62%\n"
     ]
    },
    {
     "name": "stderr",
     "output_type": "stream",
     "text": [
      "Epoch 581/884 Training: 100%|██████████| 351/351 [00:40<00:00,  8.63batch/s]\n",
      "Epoch 581/884 Validation: 100%|██████████| 88/88 [00:09<00:00,  9.10batch/s]\n"
     ]
    },
    {
     "name": "stdout",
     "output_type": "stream",
     "text": [
      "Epoch 581/884, Train Loss: 0.0457, Train Acc: 89.25%, Valid Loss: 0.1088, Valid Acc: 88.90%\n"
     ]
    },
    {
     "name": "stderr",
     "output_type": "stream",
     "text": [
      "Epoch 582/884 Training: 100%|██████████| 351/351 [00:40<00:00,  8.69batch/s]\n",
      "Epoch 582/884 Validation: 100%|██████████| 88/88 [00:09<00:00,  9.53batch/s]\n"
     ]
    },
    {
     "name": "stdout",
     "output_type": "stream",
     "text": [
      "Epoch 582/884, Train Loss: 0.0465, Train Acc: 89.20%, Valid Loss: 0.1120, Valid Acc: 88.83%\n"
     ]
    },
    {
     "name": "stderr",
     "output_type": "stream",
     "text": [
      "Epoch 583/884 Training: 100%|██████████| 351/351 [00:40<00:00,  8.60batch/s]\n",
      "Epoch 583/884 Validation: 100%|██████████| 88/88 [00:09<00:00,  9.76batch/s]\n"
     ]
    },
    {
     "name": "stdout",
     "output_type": "stream",
     "text": [
      "Epoch 583/884, Train Loss: 0.0436, Train Acc: 89.58%, Valid Loss: 0.1089, Valid Acc: 88.98%\n"
     ]
    },
    {
     "name": "stderr",
     "output_type": "stream",
     "text": [
      "Epoch 584/884 Training: 100%|██████████| 351/351 [00:40<00:00,  8.57batch/s]\n",
      "Epoch 584/884 Validation: 100%|██████████| 88/88 [00:09<00:00,  9.63batch/s]\n"
     ]
    },
    {
     "name": "stdout",
     "output_type": "stream",
     "text": [
      "Epoch 584/884, Train Loss: 0.0483, Train Acc: 89.50%, Valid Loss: 0.1188, Valid Acc: 87.91%\n"
     ]
    },
    {
     "name": "stderr",
     "output_type": "stream",
     "text": [
      "Epoch 585/884 Training: 100%|██████████| 351/351 [00:41<00:00,  8.49batch/s]\n",
      "Epoch 585/884 Validation: 100%|██████████| 88/88 [00:08<00:00,  9.85batch/s]\n"
     ]
    },
    {
     "name": "stdout",
     "output_type": "stream",
     "text": [
      "Epoch 585/884, Train Loss: 0.0452, Train Acc: 89.41%, Valid Loss: 0.1044, Valid Acc: 88.76%\n"
     ]
    },
    {
     "name": "stderr",
     "output_type": "stream",
     "text": [
      "Epoch 586/884 Training: 100%|██████████| 351/351 [00:39<00:00,  8.79batch/s]\n",
      "Epoch 586/884 Validation: 100%|██████████| 88/88 [00:10<00:00,  8.63batch/s]\n"
     ]
    },
    {
     "name": "stdout",
     "output_type": "stream",
     "text": [
      "Epoch 586/884, Train Loss: 0.0444, Train Acc: 89.75%, Valid Loss: 0.1155, Valid Acc: 88.26%\n"
     ]
    },
    {
     "name": "stderr",
     "output_type": "stream",
     "text": [
      "Epoch 587/884 Training: 100%|██████████| 351/351 [00:40<00:00,  8.68batch/s]\n",
      "Epoch 587/884 Validation: 100%|██████████| 88/88 [00:09<00:00,  9.16batch/s]\n"
     ]
    },
    {
     "name": "stdout",
     "output_type": "stream",
     "text": [
      "Epoch 587/884, Train Loss: 0.0423, Train Acc: 90.00%, Valid Loss: 0.1062, Valid Acc: 88.41%\n"
     ]
    },
    {
     "name": "stderr",
     "output_type": "stream",
     "text": [
      "Epoch 588/884 Training: 100%|██████████| 351/351 [00:41<00:00,  8.52batch/s]\n",
      "Epoch 588/884 Validation: 100%|██████████| 88/88 [00:07<00:00, 11.10batch/s]\n"
     ]
    },
    {
     "name": "stdout",
     "output_type": "stream",
     "text": [
      "Epoch 588/884, Train Loss: 0.0456, Train Acc: 89.45%, Valid Loss: 0.1113, Valid Acc: 88.90%\n"
     ]
    },
    {
     "name": "stderr",
     "output_type": "stream",
     "text": [
      "Epoch 589/884 Training: 100%|██████████| 351/351 [00:40<00:00,  8.71batch/s]\n",
      "Epoch 589/884 Validation: 100%|██████████| 88/88 [00:09<00:00,  9.12batch/s]\n"
     ]
    },
    {
     "name": "stdout",
     "output_type": "stream",
     "text": [
      "Epoch 589/884, Train Loss: 0.0455, Train Acc: 90.22%, Valid Loss: 0.1102, Valid Acc: 88.12%\n"
     ]
    },
    {
     "name": "stderr",
     "output_type": "stream",
     "text": [
      "Epoch 590/884 Training: 100%|██████████| 351/351 [00:41<00:00,  8.56batch/s]\n",
      "Epoch 590/884 Validation: 100%|██████████| 88/88 [00:09<00:00,  9.06batch/s]\n"
     ]
    },
    {
     "name": "stdout",
     "output_type": "stream",
     "text": [
      "Epoch 590/884, Train Loss: 0.0457, Train Acc: 89.65%, Valid Loss: 0.1097, Valid Acc: 89.19%\n"
     ]
    },
    {
     "name": "stderr",
     "output_type": "stream",
     "text": [
      "Epoch 591/884 Training: 100%|██████████| 351/351 [00:40<00:00,  8.68batch/s]\n",
      "Epoch 591/884 Validation: 100%|██████████| 88/88 [00:09<00:00,  9.09batch/s]\n"
     ]
    },
    {
     "name": "stdout",
     "output_type": "stream",
     "text": [
      "Epoch 591/884, Train Loss: 0.0452, Train Acc: 89.56%, Valid Loss: 0.1096, Valid Acc: 89.05%\n"
     ]
    },
    {
     "name": "stderr",
     "output_type": "stream",
     "text": [
      "Epoch 592/884 Training: 100%|██████████| 351/351 [00:42<00:00,  8.34batch/s]\n",
      "Epoch 592/884 Validation: 100%|██████████| 88/88 [00:09<00:00,  9.21batch/s]\n"
     ]
    },
    {
     "name": "stdout",
     "output_type": "stream",
     "text": [
      "Epoch 592/884, Train Loss: 0.0439, Train Acc: 89.47%, Valid Loss: 0.1119, Valid Acc: 88.48%\n"
     ]
    },
    {
     "name": "stderr",
     "output_type": "stream",
     "text": [
      "Epoch 593/884 Training: 100%|██████████| 351/351 [00:40<00:00,  8.64batch/s]\n",
      "Epoch 593/884 Validation: 100%|██████████| 88/88 [00:09<00:00,  9.61batch/s]\n"
     ]
    },
    {
     "name": "stdout",
     "output_type": "stream",
     "text": [
      "Epoch 593/884, Train Loss: 0.0446, Train Acc: 89.59%, Valid Loss: 0.1118, Valid Acc: 88.55%\n"
     ]
    },
    {
     "name": "stderr",
     "output_type": "stream",
     "text": [
      "Epoch 594/884 Training: 100%|██████████| 351/351 [00:40<00:00,  8.62batch/s]\n",
      "Epoch 594/884 Validation: 100%|██████████| 88/88 [00:09<00:00,  9.17batch/s]\n"
     ]
    },
    {
     "name": "stdout",
     "output_type": "stream",
     "text": [
      "Epoch 594/884, Train Loss: 0.0454, Train Acc: 89.54%, Valid Loss: 0.1120, Valid Acc: 89.47%\n"
     ]
    },
    {
     "name": "stderr",
     "output_type": "stream",
     "text": [
      "Epoch 595/884 Training: 100%|██████████| 351/351 [00:40<00:00,  8.74batch/s]\n",
      "Epoch 595/884 Validation: 100%|██████████| 88/88 [00:09<00:00,  9.11batch/s]\n"
     ]
    },
    {
     "name": "stdout",
     "output_type": "stream",
     "text": [
      "Epoch 595/884, Train Loss: 0.0455, Train Acc: 89.65%, Valid Loss: 0.1083, Valid Acc: 88.98%\n"
     ]
    },
    {
     "name": "stderr",
     "output_type": "stream",
     "text": [
      "Epoch 596/884 Training: 100%|██████████| 351/351 [00:40<00:00,  8.77batch/s]\n",
      "Epoch 596/884 Validation: 100%|██████████| 88/88 [00:09<00:00,  9.14batch/s]\n"
     ]
    },
    {
     "name": "stdout",
     "output_type": "stream",
     "text": [
      "Epoch 596/884, Train Loss: 0.0451, Train Acc: 90.11%, Valid Loss: 0.1089, Valid Acc: 88.26%\n"
     ]
    },
    {
     "name": "stderr",
     "output_type": "stream",
     "text": [
      "Epoch 597/884 Training: 100%|██████████| 351/351 [00:40<00:00,  8.61batch/s]\n",
      "Epoch 597/884 Validation: 100%|██████████| 88/88 [00:08<00:00, 10.96batch/s]\n"
     ]
    },
    {
     "name": "stdout",
     "output_type": "stream",
     "text": [
      "Epoch 597/884, Train Loss: 0.0441, Train Acc: 89.50%, Valid Loss: 0.1167, Valid Acc: 87.06%\n"
     ]
    },
    {
     "name": "stderr",
     "output_type": "stream",
     "text": [
      "Epoch 598/884 Training: 100%|██████████| 351/351 [00:40<00:00,  8.60batch/s]\n",
      "Epoch 598/884 Validation: 100%|██████████| 88/88 [00:09<00:00,  9.08batch/s]\n"
     ]
    },
    {
     "name": "stdout",
     "output_type": "stream",
     "text": [
      "Epoch 598/884, Train Loss: 0.0448, Train Acc: 89.70%, Valid Loss: 0.1168, Valid Acc: 87.77%\n"
     ]
    },
    {
     "name": "stderr",
     "output_type": "stream",
     "text": [
      "Epoch 599/884 Training: 100%|██████████| 351/351 [00:40<00:00,  8.59batch/s]\n",
      "Epoch 599/884 Validation: 100%|██████████| 88/88 [00:09<00:00,  9.67batch/s]\n"
     ]
    },
    {
     "name": "stdout",
     "output_type": "stream",
     "text": [
      "Epoch 599/884, Train Loss: 0.0450, Train Acc: 89.61%, Valid Loss: 0.1094, Valid Acc: 88.62%\n"
     ]
    },
    {
     "name": "stderr",
     "output_type": "stream",
     "text": [
      "Epoch 600/884 Training: 100%|██████████| 351/351 [00:39<00:00,  8.94batch/s]\n",
      "Epoch 600/884 Validation: 100%|██████████| 88/88 [00:09<00:00,  9.20batch/s]\n"
     ]
    },
    {
     "name": "stdout",
     "output_type": "stream",
     "text": [
      "Epoch 600/884, Train Loss: 0.0447, Train Acc: 89.70%, Valid Loss: 0.1155, Valid Acc: 88.19%\n"
     ]
    },
    {
     "name": "stderr",
     "output_type": "stream",
     "text": [
      "Epoch 601/884 Training: 100%|██████████| 351/351 [00:41<00:00,  8.52batch/s]\n",
      "Epoch 601/884 Validation: 100%|██████████| 88/88 [00:09<00:00,  9.29batch/s]\n"
     ]
    },
    {
     "name": "stdout",
     "output_type": "stream",
     "text": [
      "Epoch 601/884, Train Loss: 0.0446, Train Acc: 89.33%, Valid Loss: 0.1081, Valid Acc: 88.90%\n"
     ]
    },
    {
     "name": "stderr",
     "output_type": "stream",
     "text": [
      "Epoch 602/884 Training: 100%|██████████| 351/351 [00:40<00:00,  8.73batch/s]\n",
      "Epoch 602/884 Validation: 100%|██████████| 88/88 [00:09<00:00,  9.13batch/s]\n"
     ]
    },
    {
     "name": "stdout",
     "output_type": "stream",
     "text": [
      "Epoch 602/884, Train Loss: 0.0492, Train Acc: 88.83%, Valid Loss: 0.1119, Valid Acc: 88.26%\n"
     ]
    },
    {
     "name": "stderr",
     "output_type": "stream",
     "text": [
      "Epoch 603/884 Training: 100%|██████████| 351/351 [00:40<00:00,  8.64batch/s]\n",
      "Epoch 603/884 Validation: 100%|██████████| 88/88 [00:09<00:00,  9.03batch/s]\n"
     ]
    },
    {
     "name": "stdout",
     "output_type": "stream",
     "text": [
      "Epoch 603/884, Train Loss: 0.0486, Train Acc: 89.11%, Valid Loss: 0.1126, Valid Acc: 87.98%\n"
     ]
    },
    {
     "name": "stderr",
     "output_type": "stream",
     "text": [
      "Epoch 604/884 Training: 100%|██████████| 351/351 [00:41<00:00,  8.54batch/s]\n",
      "Epoch 604/884 Validation: 100%|██████████| 88/88 [00:09<00:00,  9.05batch/s]\n"
     ]
    },
    {
     "name": "stdout",
     "output_type": "stream",
     "text": [
      "Epoch 604/884, Train Loss: 0.0461, Train Acc: 89.31%, Valid Loss: 0.1123, Valid Acc: 88.62%\n"
     ]
    },
    {
     "name": "stderr",
     "output_type": "stream",
     "text": [
      "Epoch 605/884 Training: 100%|██████████| 351/351 [00:41<00:00,  8.44batch/s]\n",
      "Epoch 605/884 Validation: 100%|██████████| 88/88 [00:09<00:00,  9.00batch/s]\n"
     ]
    },
    {
     "name": "stdout",
     "output_type": "stream",
     "text": [
      "Epoch 605/884, Train Loss: 0.0473, Train Acc: 89.06%, Valid Loss: 0.1166, Valid Acc: 87.77%\n"
     ]
    },
    {
     "name": "stderr",
     "output_type": "stream",
     "text": [
      "Epoch 606/884 Training: 100%|██████████| 351/351 [00:42<00:00,  8.25batch/s]\n",
      "Epoch 606/884 Validation: 100%|██████████| 88/88 [00:08<00:00, 10.87batch/s]\n"
     ]
    },
    {
     "name": "stdout",
     "output_type": "stream",
     "text": [
      "Epoch 606/884, Train Loss: 0.0463, Train Acc: 89.34%, Valid Loss: 0.1085, Valid Acc: 88.41%\n"
     ]
    },
    {
     "name": "stderr",
     "output_type": "stream",
     "text": [
      "Epoch 607/884 Training: 100%|██████████| 351/351 [00:41<00:00,  8.54batch/s]\n",
      "Epoch 607/884 Validation: 100%|██████████| 88/88 [00:09<00:00,  9.33batch/s]\n"
     ]
    },
    {
     "name": "stdout",
     "output_type": "stream",
     "text": [
      "Epoch 607/884, Train Loss: 0.0469, Train Acc: 88.70%, Valid Loss: 0.1113, Valid Acc: 88.55%\n"
     ]
    },
    {
     "name": "stderr",
     "output_type": "stream",
     "text": [
      "Epoch 608/884 Training: 100%|██████████| 351/351 [00:40<00:00,  8.73batch/s]\n",
      "Epoch 608/884 Validation: 100%|██████████| 88/88 [00:09<00:00,  9.18batch/s]\n"
     ]
    },
    {
     "name": "stdout",
     "output_type": "stream",
     "text": [
      "Epoch 608/884, Train Loss: 0.0434, Train Acc: 89.56%, Valid Loss: 0.1067, Valid Acc: 88.76%\n"
     ]
    },
    {
     "name": "stderr",
     "output_type": "stream",
     "text": [
      "Epoch 609/884 Training: 100%|██████████| 351/351 [00:41<00:00,  8.54batch/s]\n",
      "Epoch 609/884 Validation: 100%|██████████| 88/88 [00:09<00:00,  9.20batch/s]\n"
     ]
    },
    {
     "name": "stdout",
     "output_type": "stream",
     "text": [
      "Epoch 609/884, Train Loss: 0.0464, Train Acc: 89.16%, Valid Loss: 0.1114, Valid Acc: 87.91%\n"
     ]
    },
    {
     "name": "stderr",
     "output_type": "stream",
     "text": [
      "Epoch 610/884 Training: 100%|██████████| 351/351 [00:41<00:00,  8.55batch/s]\n",
      "Epoch 610/884 Validation: 100%|██████████| 88/88 [00:09<00:00,  9.11batch/s]\n"
     ]
    },
    {
     "name": "stdout",
     "output_type": "stream",
     "text": [
      "Epoch 610/884, Train Loss: 0.0444, Train Acc: 89.58%, Valid Loss: 0.1118, Valid Acc: 87.55%\n"
     ]
    },
    {
     "name": "stderr",
     "output_type": "stream",
     "text": [
      "Epoch 611/884 Training: 100%|██████████| 351/351 [00:40<00:00,  8.61batch/s]\n",
      "Epoch 611/884 Validation: 100%|██████████| 88/88 [00:09<00:00,  9.36batch/s]\n"
     ]
    },
    {
     "name": "stdout",
     "output_type": "stream",
     "text": [
      "Epoch 611/884, Train Loss: 0.0463, Train Acc: 89.65%, Valid Loss: 0.1208, Valid Acc: 88.19%\n"
     ]
    },
    {
     "name": "stderr",
     "output_type": "stream",
     "text": [
      "Epoch 612/884 Training: 100%|██████████| 351/351 [00:41<00:00,  8.56batch/s]\n",
      "Epoch 612/884 Validation: 100%|██████████| 88/88 [00:09<00:00,  8.95batch/s]\n"
     ]
    },
    {
     "name": "stdout",
     "output_type": "stream",
     "text": [
      "Epoch 612/884, Train Loss: 0.0462, Train Acc: 89.33%, Valid Loss: 0.1111, Valid Acc: 88.34%\n"
     ]
    },
    {
     "name": "stderr",
     "output_type": "stream",
     "text": [
      "Epoch 613/884 Training: 100%|██████████| 351/351 [00:40<00:00,  8.70batch/s]\n",
      "Epoch 613/884 Validation: 100%|██████████| 88/88 [00:09<00:00,  8.94batch/s]\n"
     ]
    },
    {
     "name": "stdout",
     "output_type": "stream",
     "text": [
      "Epoch 613/884, Train Loss: 0.0433, Train Acc: 90.50%, Valid Loss: 0.1239, Valid Acc: 87.34%\n"
     ]
    },
    {
     "name": "stderr",
     "output_type": "stream",
     "text": [
      "Epoch 614/884 Training: 100%|██████████| 351/351 [00:40<00:00,  8.60batch/s]\n",
      "Epoch 614/884 Validation: 100%|██████████| 88/88 [00:08<00:00, 10.28batch/s]\n"
     ]
    },
    {
     "name": "stdout",
     "output_type": "stream",
     "text": [
      "Epoch 614/884, Train Loss: 0.0463, Train Acc: 89.61%, Valid Loss: 0.1110, Valid Acc: 88.90%\n"
     ]
    },
    {
     "name": "stderr",
     "output_type": "stream",
     "text": [
      "Epoch 615/884 Training: 100%|██████████| 351/351 [00:41<00:00,  8.42batch/s]\n",
      "Epoch 615/884 Validation: 100%|██████████| 88/88 [00:09<00:00,  9.31batch/s]\n"
     ]
    },
    {
     "name": "stdout",
     "output_type": "stream",
     "text": [
      "Epoch 615/884, Train Loss: 0.0455, Train Acc: 89.95%, Valid Loss: 0.1091, Valid Acc: 89.12%\n"
     ]
    },
    {
     "name": "stderr",
     "output_type": "stream",
     "text": [
      "Epoch 616/884 Training: 100%|██████████| 351/351 [00:40<00:00,  8.64batch/s]\n",
      "Epoch 616/884 Validation: 100%|██████████| 88/88 [00:09<00:00,  9.22batch/s]\n"
     ]
    },
    {
     "name": "stdout",
     "output_type": "stream",
     "text": [
      "Epoch 616/884, Train Loss: 0.0453, Train Acc: 89.74%, Valid Loss: 0.1062, Valid Acc: 88.41%\n"
     ]
    },
    {
     "name": "stderr",
     "output_type": "stream",
     "text": [
      "Epoch 617/884 Training: 100%|██████████| 351/351 [00:40<00:00,  8.58batch/s]\n",
      "Epoch 617/884 Validation: 100%|██████████| 88/88 [00:09<00:00,  8.85batch/s]\n"
     ]
    },
    {
     "name": "stdout",
     "output_type": "stream",
     "text": [
      "Epoch 617/884, Train Loss: 0.0485, Train Acc: 89.04%, Valid Loss: 0.1145, Valid Acc: 88.26%\n"
     ]
    },
    {
     "name": "stderr",
     "output_type": "stream",
     "text": [
      "Epoch 618/884 Training: 100%|██████████| 351/351 [00:41<00:00,  8.43batch/s]\n",
      "Epoch 618/884 Validation: 100%|██████████| 88/88 [00:09<00:00,  9.45batch/s]\n"
     ]
    },
    {
     "name": "stdout",
     "output_type": "stream",
     "text": [
      "Epoch 618/884, Train Loss: 0.0457, Train Acc: 89.58%, Valid Loss: 0.1090, Valid Acc: 89.05%\n"
     ]
    },
    {
     "name": "stderr",
     "output_type": "stream",
     "text": [
      "Epoch 619/884 Training: 100%|██████████| 351/351 [00:41<00:00,  8.51batch/s]\n",
      "Epoch 619/884 Validation: 100%|██████████| 88/88 [00:09<00:00,  9.04batch/s]\n"
     ]
    },
    {
     "name": "stdout",
     "output_type": "stream",
     "text": [
      "Epoch 619/884, Train Loss: 0.0428, Train Acc: 90.11%, Valid Loss: 0.1045, Valid Acc: 89.47%\n"
     ]
    },
    {
     "name": "stderr",
     "output_type": "stream",
     "text": [
      "Epoch 620/884 Training: 100%|██████████| 351/351 [00:39<00:00,  8.92batch/s]\n",
      "Epoch 620/884 Validation: 100%|██████████| 88/88 [00:09<00:00,  9.29batch/s]\n"
     ]
    },
    {
     "name": "stdout",
     "output_type": "stream",
     "text": [
      "Epoch 620/884, Train Loss: 0.0475, Train Acc: 89.29%, Valid Loss: 0.1162, Valid Acc: 88.48%\n"
     ]
    },
    {
     "name": "stderr",
     "output_type": "stream",
     "text": [
      "Epoch 621/884 Training: 100%|██████████| 351/351 [00:40<00:00,  8.61batch/s]\n",
      "Epoch 621/884 Validation: 100%|██████████| 88/88 [00:09<00:00,  9.22batch/s]\n"
     ]
    },
    {
     "name": "stdout",
     "output_type": "stream",
     "text": [
      "Epoch 621/884, Train Loss: 0.0457, Train Acc: 89.24%, Valid Loss: 0.1089, Valid Acc: 89.47%\n"
     ]
    },
    {
     "name": "stderr",
     "output_type": "stream",
     "text": [
      "Epoch 622/884 Training: 100%|██████████| 351/351 [00:41<00:00,  8.51batch/s]\n",
      "Epoch 622/884 Validation: 100%|██████████| 88/88 [00:09<00:00,  8.96batch/s]\n"
     ]
    },
    {
     "name": "stdout",
     "output_type": "stream",
     "text": [
      "Epoch 622/884, Train Loss: 0.0452, Train Acc: 89.38%, Valid Loss: 0.1077, Valid Acc: 88.83%\n"
     ]
    },
    {
     "name": "stderr",
     "output_type": "stream",
     "text": [
      "Epoch 623/884 Training: 100%|██████████| 351/351 [00:41<00:00,  8.39batch/s]\n",
      "Epoch 623/884 Validation: 100%|██████████| 88/88 [00:08<00:00, 10.42batch/s]\n"
     ]
    },
    {
     "name": "stdout",
     "output_type": "stream",
     "text": [
      "Epoch 623/884, Train Loss: 0.0441, Train Acc: 90.09%, Valid Loss: 0.1101, Valid Acc: 89.05%\n"
     ]
    },
    {
     "name": "stderr",
     "output_type": "stream",
     "text": [
      "Epoch 624/884 Training: 100%|██████████| 351/351 [00:41<00:00,  8.51batch/s]\n",
      "Epoch 624/884 Validation: 100%|██████████| 88/88 [00:09<00:00,  9.21batch/s]\n"
     ]
    },
    {
     "name": "stdout",
     "output_type": "stream",
     "text": [
      "Epoch 624/884, Train Loss: 0.0458, Train Acc: 89.41%, Valid Loss: 0.1155, Valid Acc: 89.12%\n"
     ]
    },
    {
     "name": "stderr",
     "output_type": "stream",
     "text": [
      "Epoch 625/884 Training: 100%|██████████| 351/351 [00:40<00:00,  8.62batch/s]\n",
      "Epoch 625/884 Validation: 100%|██████████| 88/88 [00:09<00:00,  9.19batch/s]\n"
     ]
    },
    {
     "name": "stdout",
     "output_type": "stream",
     "text": [
      "Epoch 625/884, Train Loss: 0.0433, Train Acc: 89.83%, Valid Loss: 0.1121, Valid Acc: 87.77%\n"
     ]
    },
    {
     "name": "stderr",
     "output_type": "stream",
     "text": [
      "Epoch 626/884 Training: 100%|██████████| 351/351 [00:40<00:00,  8.61batch/s]\n",
      "Epoch 626/884 Validation: 100%|██████████| 88/88 [00:10<00:00,  8.73batch/s]\n"
     ]
    },
    {
     "name": "stdout",
     "output_type": "stream",
     "text": [
      "Epoch 626/884, Train Loss: 0.0470, Train Acc: 89.31%, Valid Loss: 0.1161, Valid Acc: 88.26%\n"
     ]
    },
    {
     "name": "stderr",
     "output_type": "stream",
     "text": [
      "Epoch 627/884 Training: 100%|██████████| 351/351 [00:41<00:00,  8.56batch/s]\n",
      "Epoch 627/884 Validation: 100%|██████████| 88/88 [00:09<00:00,  9.21batch/s]\n"
     ]
    },
    {
     "name": "stdout",
     "output_type": "stream",
     "text": [
      "Epoch 627/884, Train Loss: 0.0452, Train Acc: 89.45%, Valid Loss: 0.1108, Valid Acc: 89.26%\n"
     ]
    },
    {
     "name": "stderr",
     "output_type": "stream",
     "text": [
      "Epoch 628/884 Training: 100%|██████████| 351/351 [00:41<00:00,  8.56batch/s]\n",
      "Epoch 628/884 Validation: 100%|██████████| 88/88 [00:09<00:00,  9.04batch/s]\n"
     ]
    },
    {
     "name": "stdout",
     "output_type": "stream",
     "text": [
      "Epoch 628/884, Train Loss: 0.0457, Train Acc: 89.29%, Valid Loss: 0.1129, Valid Acc: 88.62%\n"
     ]
    },
    {
     "name": "stderr",
     "output_type": "stream",
     "text": [
      "Epoch 629/884 Training: 100%|██████████| 351/351 [00:40<00:00,  8.76batch/s]\n",
      "Epoch 629/884 Validation: 100%|██████████| 88/88 [00:09<00:00,  9.13batch/s]\n"
     ]
    },
    {
     "name": "stdout",
     "output_type": "stream",
     "text": [
      "Epoch 629/884, Train Loss: 0.0478, Train Acc: 89.56%, Valid Loss: 0.1171, Valid Acc: 88.34%\n"
     ]
    },
    {
     "name": "stderr",
     "output_type": "stream",
     "text": [
      "Epoch 630/884 Training: 100%|██████████| 351/351 [00:41<00:00,  8.53batch/s]\n",
      "Epoch 630/884 Validation: 100%|██████████| 88/88 [00:09<00:00,  9.14batch/s]\n"
     ]
    },
    {
     "name": "stdout",
     "output_type": "stream",
     "text": [
      "Epoch 630/884, Train Loss: 0.0473, Train Acc: 89.24%, Valid Loss: 0.1107, Valid Acc: 88.48%\n"
     ]
    },
    {
     "name": "stderr",
     "output_type": "stream",
     "text": [
      "Epoch 631/884 Training: 100%|██████████| 351/351 [00:40<00:00,  8.73batch/s]\n",
      "Epoch 631/884 Validation: 100%|██████████| 88/88 [00:09<00:00,  9.38batch/s]\n"
     ]
    },
    {
     "name": "stdout",
     "output_type": "stream",
     "text": [
      "Epoch 631/884, Train Loss: 0.0444, Train Acc: 90.22%, Valid Loss: 0.1110, Valid Acc: 88.34%\n"
     ]
    },
    {
     "name": "stderr",
     "output_type": "stream",
     "text": [
      "Epoch 632/884 Training: 100%|██████████| 351/351 [00:41<00:00,  8.43batch/s]\n",
      "Epoch 632/884 Validation: 100%|██████████| 88/88 [00:09<00:00,  9.46batch/s]\n"
     ]
    },
    {
     "name": "stdout",
     "output_type": "stream",
     "text": [
      "Epoch 632/884, Train Loss: 0.0478, Train Acc: 89.29%, Valid Loss: 0.1110, Valid Acc: 88.90%\n"
     ]
    },
    {
     "name": "stderr",
     "output_type": "stream",
     "text": [
      "Epoch 633/884 Training: 100%|██████████| 351/351 [00:41<00:00,  8.38batch/s]\n",
      "Epoch 633/884 Validation: 100%|██████████| 88/88 [00:09<00:00,  9.16batch/s]\n"
     ]
    },
    {
     "name": "stdout",
     "output_type": "stream",
     "text": [
      "Epoch 633/884, Train Loss: 0.0446, Train Acc: 90.09%, Valid Loss: 0.1227, Valid Acc: 88.41%\n"
     ]
    },
    {
     "name": "stderr",
     "output_type": "stream",
     "text": [
      "Epoch 634/884 Training: 100%|██████████| 351/351 [00:41<00:00,  8.54batch/s]\n",
      "Epoch 634/884 Validation: 100%|██████████| 88/88 [00:08<00:00, 10.58batch/s]\n"
     ]
    },
    {
     "name": "stdout",
     "output_type": "stream",
     "text": [
      "Epoch 634/884, Train Loss: 0.0431, Train Acc: 90.11%, Valid Loss: 0.1121, Valid Acc: 88.62%\n"
     ]
    },
    {
     "name": "stderr",
     "output_type": "stream",
     "text": [
      "Epoch 635/884 Training: 100%|██████████| 351/351 [00:40<00:00,  8.76batch/s]\n",
      "Epoch 635/884 Validation: 100%|██████████| 88/88 [00:08<00:00, 10.49batch/s]\n"
     ]
    },
    {
     "name": "stdout",
     "output_type": "stream",
     "text": [
      "Epoch 635/884, Train Loss: 0.0460, Train Acc: 89.06%, Valid Loss: 0.1103, Valid Acc: 88.62%\n"
     ]
    },
    {
     "name": "stderr",
     "output_type": "stream",
     "text": [
      "Epoch 636/884 Training: 100%|██████████| 351/351 [00:40<00:00,  8.63batch/s]\n",
      "Epoch 636/884 Validation: 100%|██████████| 88/88 [00:09<00:00,  9.40batch/s]\n"
     ]
    },
    {
     "name": "stdout",
     "output_type": "stream",
     "text": [
      "Epoch 636/884, Train Loss: 0.0521, Train Acc: 88.97%, Valid Loss: 0.1095, Valid Acc: 88.90%\n"
     ]
    },
    {
     "name": "stderr",
     "output_type": "stream",
     "text": [
      "Epoch 637/884 Training: 100%|██████████| 351/351 [00:40<00:00,  8.71batch/s]\n",
      "Epoch 637/884 Validation: 100%|██████████| 88/88 [00:08<00:00, 10.53batch/s]\n"
     ]
    },
    {
     "name": "stdout",
     "output_type": "stream",
     "text": [
      "Epoch 637/884, Train Loss: 0.0463, Train Acc: 89.15%, Valid Loss: 0.1109, Valid Acc: 88.19%\n"
     ]
    },
    {
     "name": "stderr",
     "output_type": "stream",
     "text": [
      "Epoch 638/884 Training: 100%|██████████| 351/351 [00:41<00:00,  8.42batch/s]\n",
      "Epoch 638/884 Validation: 100%|██████████| 88/88 [00:09<00:00,  9.18batch/s]\n"
     ]
    },
    {
     "name": "stdout",
     "output_type": "stream",
     "text": [
      "Epoch 638/884, Train Loss: 0.0440, Train Acc: 89.65%, Valid Loss: 0.1067, Valid Acc: 88.90%\n"
     ]
    },
    {
     "name": "stderr",
     "output_type": "stream",
     "text": [
      "Epoch 639/884 Training: 100%|██████████| 351/351 [00:41<00:00,  8.54batch/s]\n",
      "Epoch 639/884 Validation: 100%|██████████| 88/88 [00:09<00:00,  9.13batch/s]\n"
     ]
    },
    {
     "name": "stdout",
     "output_type": "stream",
     "text": [
      "Epoch 639/884, Train Loss: 0.0473, Train Acc: 89.61%, Valid Loss: 0.1199, Valid Acc: 88.12%\n"
     ]
    },
    {
     "name": "stderr",
     "output_type": "stream",
     "text": [
      "Epoch 640/884 Training: 100%|██████████| 351/351 [00:39<00:00,  8.86batch/s]\n",
      "Epoch 640/884 Validation: 100%|██████████| 88/88 [00:09<00:00,  9.43batch/s]\n"
     ]
    },
    {
     "name": "stdout",
     "output_type": "stream",
     "text": [
      "Epoch 640/884, Train Loss: 0.0468, Train Acc: 89.27%, Valid Loss: 0.1094, Valid Acc: 88.98%\n"
     ]
    },
    {
     "name": "stderr",
     "output_type": "stream",
     "text": [
      "Epoch 641/884 Training: 100%|██████████| 351/351 [00:41<00:00,  8.47batch/s]\n",
      "Epoch 641/884 Validation: 100%|██████████| 88/88 [00:09<00:00,  9.13batch/s]\n"
     ]
    },
    {
     "name": "stdout",
     "output_type": "stream",
     "text": [
      "Epoch 641/884, Train Loss: 0.0500, Train Acc: 89.25%, Valid Loss: 0.1208, Valid Acc: 88.62%\n"
     ]
    },
    {
     "name": "stderr",
     "output_type": "stream",
     "text": [
      "Epoch 642/884 Training: 100%|██████████| 351/351 [00:41<00:00,  8.37batch/s]\n",
      "Epoch 642/884 Validation: 100%|██████████| 88/88 [00:09<00:00,  9.21batch/s]\n"
     ]
    },
    {
     "name": "stdout",
     "output_type": "stream",
     "text": [
      "Epoch 642/884, Train Loss: 0.0443, Train Acc: 89.59%, Valid Loss: 0.1114, Valid Acc: 88.12%\n"
     ]
    },
    {
     "name": "stderr",
     "output_type": "stream",
     "text": [
      "Epoch 643/884 Training: 100%|██████████| 351/351 [00:41<00:00,  8.52batch/s]\n",
      "Epoch 643/884 Validation: 100%|██████████| 88/88 [00:09<00:00,  9.13batch/s]\n"
     ]
    },
    {
     "name": "stdout",
     "output_type": "stream",
     "text": [
      "Epoch 643/884, Train Loss: 0.0462, Train Acc: 89.91%, Valid Loss: 0.1100, Valid Acc: 88.41%\n"
     ]
    },
    {
     "name": "stderr",
     "output_type": "stream",
     "text": [
      "Epoch 644/884 Training: 100%|██████████| 351/351 [00:39<00:00,  8.80batch/s]\n",
      "Epoch 644/884 Validation: 100%|██████████| 88/88 [00:08<00:00, 10.25batch/s]\n"
     ]
    },
    {
     "name": "stdout",
     "output_type": "stream",
     "text": [
      "Epoch 644/884, Train Loss: 0.0476, Train Acc: 89.15%, Valid Loss: 0.1134, Valid Acc: 88.55%\n"
     ]
    },
    {
     "name": "stderr",
     "output_type": "stream",
     "text": [
      "Epoch 645/884 Training: 100%|██████████| 351/351 [00:39<00:00,  8.84batch/s]\n",
      "Epoch 645/884 Validation: 100%|██████████| 88/88 [00:09<00:00,  9.27batch/s]\n"
     ]
    },
    {
     "name": "stdout",
     "output_type": "stream",
     "text": [
      "Epoch 645/884, Train Loss: 0.0451, Train Acc: 89.56%, Valid Loss: 0.1214, Valid Acc: 88.34%\n"
     ]
    },
    {
     "name": "stderr",
     "output_type": "stream",
     "text": [
      "Epoch 646/884 Training: 100%|██████████| 351/351 [00:41<00:00,  8.54batch/s]\n",
      "Epoch 646/884 Validation: 100%|██████████| 88/88 [00:09<00:00,  9.30batch/s]\n"
     ]
    },
    {
     "name": "stdout",
     "output_type": "stream",
     "text": [
      "Epoch 646/884, Train Loss: 0.0439, Train Acc: 89.40%, Valid Loss: 0.1078, Valid Acc: 88.48%\n"
     ]
    },
    {
     "name": "stderr",
     "output_type": "stream",
     "text": [
      "Epoch 647/884 Training: 100%|██████████| 351/351 [00:41<00:00,  8.55batch/s]\n",
      "Epoch 647/884 Validation: 100%|██████████| 88/88 [00:09<00:00,  9.03batch/s]\n"
     ]
    },
    {
     "name": "stdout",
     "output_type": "stream",
     "text": [
      "Epoch 647/884, Train Loss: 0.0441, Train Acc: 89.65%, Valid Loss: 0.1108, Valid Acc: 88.05%\n"
     ]
    },
    {
     "name": "stderr",
     "output_type": "stream",
     "text": [
      "Epoch 648/884 Training: 100%|██████████| 351/351 [00:41<00:00,  8.45batch/s]\n",
      "Epoch 648/884 Validation: 100%|██████████| 88/88 [00:09<00:00,  9.07batch/s]\n"
     ]
    },
    {
     "name": "stdout",
     "output_type": "stream",
     "text": [
      "Epoch 648/884, Train Loss: 0.0448, Train Acc: 90.04%, Valid Loss: 0.1148, Valid Acc: 89.54%\n"
     ]
    },
    {
     "name": "stderr",
     "output_type": "stream",
     "text": [
      "Epoch 649/884 Training: 100%|██████████| 351/351 [00:41<00:00,  8.54batch/s]\n",
      "Epoch 649/884 Validation: 100%|██████████| 88/88 [00:09<00:00,  9.03batch/s]\n"
     ]
    },
    {
     "name": "stdout",
     "output_type": "stream",
     "text": [
      "Epoch 649/884, Train Loss: 0.0440, Train Acc: 89.58%, Valid Loss: 0.1077, Valid Acc: 89.12%\n"
     ]
    },
    {
     "name": "stderr",
     "output_type": "stream",
     "text": [
      "Epoch 650/884 Training: 100%|██████████| 351/351 [00:42<00:00,  8.33batch/s]\n",
      "Epoch 650/884 Validation: 100%|██████████| 88/88 [00:09<00:00,  9.28batch/s]\n"
     ]
    },
    {
     "name": "stdout",
     "output_type": "stream",
     "text": [
      "Epoch 650/884, Train Loss: 0.0452, Train Acc: 90.20%, Valid Loss: 0.1120, Valid Acc: 88.90%\n"
     ]
    },
    {
     "name": "stderr",
     "output_type": "stream",
     "text": [
      "Epoch 651/884 Training: 100%|██████████| 351/351 [00:41<00:00,  8.51batch/s]\n",
      "Epoch 651/884 Validation: 100%|██████████| 88/88 [00:09<00:00,  9.14batch/s]\n"
     ]
    },
    {
     "name": "stdout",
     "output_type": "stream",
     "text": [
      "Epoch 651/884, Train Loss: 0.0474, Train Acc: 88.97%, Valid Loss: 0.1248, Valid Acc: 88.26%\n"
     ]
    },
    {
     "name": "stderr",
     "output_type": "stream",
     "text": [
      "Epoch 652/884 Training: 100%|██████████| 351/351 [00:40<00:00,  8.60batch/s]\n",
      "Epoch 652/884 Validation: 100%|██████████| 88/88 [00:09<00:00,  9.44batch/s]\n"
     ]
    },
    {
     "name": "stdout",
     "output_type": "stream",
     "text": [
      "Epoch 652/884, Train Loss: 0.0472, Train Acc: 89.29%, Valid Loss: 0.1111, Valid Acc: 88.69%\n"
     ]
    },
    {
     "name": "stderr",
     "output_type": "stream",
     "text": [
      "Epoch 653/884 Training: 100%|██████████| 351/351 [00:41<00:00,  8.44batch/s]\n",
      "Epoch 653/884 Validation: 100%|██████████| 88/88 [00:10<00:00,  8.77batch/s]\n"
     ]
    },
    {
     "name": "stdout",
     "output_type": "stream",
     "text": [
      "Epoch 653/884, Train Loss: 0.0428, Train Acc: 89.93%, Valid Loss: 0.1072, Valid Acc: 88.98%\n"
     ]
    },
    {
     "name": "stderr",
     "output_type": "stream",
     "text": [
      "Epoch 654/884 Training: 100%|██████████| 351/351 [00:41<00:00,  8.52batch/s]\n",
      "Epoch 654/884 Validation: 100%|██████████| 88/88 [00:09<00:00,  9.51batch/s]\n"
     ]
    },
    {
     "name": "stdout",
     "output_type": "stream",
     "text": [
      "Epoch 654/884, Train Loss: 0.0453, Train Acc: 89.16%, Valid Loss: 0.1141, Valid Acc: 88.90%\n"
     ]
    },
    {
     "name": "stderr",
     "output_type": "stream",
     "text": [
      "Epoch 655/884 Training: 100%|██████████| 351/351 [00:40<00:00,  8.64batch/s]\n",
      "Epoch 655/884 Validation: 100%|██████████| 88/88 [00:09<00:00,  9.14batch/s]\n"
     ]
    },
    {
     "name": "stdout",
     "output_type": "stream",
     "text": [
      "Epoch 655/884, Train Loss: 0.0459, Train Acc: 89.27%, Valid Loss: 0.1090, Valid Acc: 88.05%\n"
     ]
    },
    {
     "name": "stderr",
     "output_type": "stream",
     "text": [
      "Epoch 656/884 Training: 100%|██████████| 351/351 [00:44<00:00,  7.88batch/s]\n",
      "Epoch 656/884 Validation: 100%|██████████| 88/88 [00:09<00:00,  9.21batch/s]\n"
     ]
    },
    {
     "name": "stdout",
     "output_type": "stream",
     "text": [
      "Epoch 656/884, Train Loss: 0.0452, Train Acc: 89.09%, Valid Loss: 0.1161, Valid Acc: 88.41%\n"
     ]
    },
    {
     "name": "stderr",
     "output_type": "stream",
     "text": [
      "Epoch 657/884 Training: 100%|██████████| 351/351 [00:42<00:00,  8.30batch/s]\n",
      "Epoch 657/884 Validation: 100%|██████████| 88/88 [00:10<00:00,  8.25batch/s]\n"
     ]
    },
    {
     "name": "stdout",
     "output_type": "stream",
     "text": [
      "Epoch 657/884, Train Loss: 0.0442, Train Acc: 90.02%, Valid Loss: 0.1133, Valid Acc: 88.69%\n"
     ]
    },
    {
     "name": "stderr",
     "output_type": "stream",
     "text": [
      "Epoch 658/884 Training: 100%|██████████| 351/351 [00:42<00:00,  8.31batch/s]\n",
      "Epoch 658/884 Validation: 100%|██████████| 88/88 [00:10<00:00,  8.70batch/s]\n"
     ]
    },
    {
     "name": "stdout",
     "output_type": "stream",
     "text": [
      "Epoch 658/884, Train Loss: 0.0467, Train Acc: 88.77%, Valid Loss: 0.1103, Valid Acc: 89.26%\n"
     ]
    },
    {
     "name": "stderr",
     "output_type": "stream",
     "text": [
      "Epoch 659/884 Training: 100%|██████████| 351/351 [00:40<00:00,  8.73batch/s]\n",
      "Epoch 659/884 Validation: 100%|██████████| 88/88 [00:09<00:00,  9.20batch/s]\n"
     ]
    },
    {
     "name": "stdout",
     "output_type": "stream",
     "text": [
      "Epoch 659/884, Train Loss: 0.0472, Train Acc: 89.31%, Valid Loss: 0.1161, Valid Acc: 88.05%\n"
     ]
    },
    {
     "name": "stderr",
     "output_type": "stream",
     "text": [
      "Epoch 660/884 Training: 100%|██████████| 351/351 [00:40<00:00,  8.58batch/s]\n",
      "Epoch 660/884 Validation: 100%|██████████| 88/88 [00:09<00:00,  9.01batch/s]\n"
     ]
    },
    {
     "name": "stdout",
     "output_type": "stream",
     "text": [
      "Epoch 660/884, Train Loss: 0.0434, Train Acc: 89.45%, Valid Loss: 0.1190, Valid Acc: 88.34%\n"
     ]
    },
    {
     "name": "stderr",
     "output_type": "stream",
     "text": [
      "Epoch 661/884 Training: 100%|██████████| 351/351 [00:40<00:00,  8.70batch/s]\n",
      "Epoch 661/884 Validation: 100%|██████████| 88/88 [00:09<00:00,  9.13batch/s]\n"
     ]
    },
    {
     "name": "stdout",
     "output_type": "stream",
     "text": [
      "Epoch 661/884, Train Loss: 0.0479, Train Acc: 89.31%, Valid Loss: 0.1154, Valid Acc: 88.19%\n"
     ]
    },
    {
     "name": "stderr",
     "output_type": "stream",
     "text": [
      "Epoch 662/884 Training: 100%|██████████| 351/351 [00:40<00:00,  8.71batch/s]\n",
      "Epoch 662/884 Validation: 100%|██████████| 88/88 [00:09<00:00,  9.15batch/s]\n"
     ]
    },
    {
     "name": "stdout",
     "output_type": "stream",
     "text": [
      "Epoch 662/884, Train Loss: 0.0444, Train Acc: 89.91%, Valid Loss: 0.1112, Valid Acc: 88.55%\n"
     ]
    },
    {
     "name": "stderr",
     "output_type": "stream",
     "text": [
      "Epoch 663/884 Training: 100%|██████████| 351/351 [00:40<00:00,  8.60batch/s]\n",
      "Epoch 663/884 Validation: 100%|██████████| 88/88 [00:08<00:00, 10.08batch/s]\n"
     ]
    },
    {
     "name": "stdout",
     "output_type": "stream",
     "text": [
      "Epoch 663/884, Train Loss: 0.0470, Train Acc: 89.38%, Valid Loss: 0.1058, Valid Acc: 89.33%\n"
     ]
    },
    {
     "name": "stderr",
     "output_type": "stream",
     "text": [
      "Epoch 664/884 Training: 100%|██████████| 351/351 [00:38<00:00,  9.04batch/s]\n",
      "Epoch 664/884 Validation: 100%|██████████| 88/88 [00:08<00:00, 10.82batch/s]\n"
     ]
    },
    {
     "name": "stdout",
     "output_type": "stream",
     "text": [
      "Epoch 664/884, Train Loss: 0.0445, Train Acc: 89.88%, Valid Loss: 0.1134, Valid Acc: 88.69%\n"
     ]
    },
    {
     "name": "stderr",
     "output_type": "stream",
     "text": [
      "Epoch 665/884 Training: 100%|██████████| 351/351 [00:40<00:00,  8.67batch/s]\n",
      "Epoch 665/884 Validation: 100%|██████████| 88/88 [00:09<00:00,  8.86batch/s]\n"
     ]
    },
    {
     "name": "stdout",
     "output_type": "stream",
     "text": [
      "Epoch 665/884, Train Loss: 0.0446, Train Acc: 89.97%, Valid Loss: 0.1102, Valid Acc: 88.55%\n"
     ]
    },
    {
     "name": "stderr",
     "output_type": "stream",
     "text": [
      "Epoch 666/884 Training: 100%|██████████| 351/351 [00:41<00:00,  8.46batch/s]\n",
      "Epoch 666/884 Validation: 100%|██████████| 88/88 [00:09<00:00,  9.08batch/s]\n"
     ]
    },
    {
     "name": "stdout",
     "output_type": "stream",
     "text": [
      "Epoch 666/884, Train Loss: 0.0471, Train Acc: 88.93%, Valid Loss: 0.1159, Valid Acc: 88.55%\n"
     ]
    },
    {
     "name": "stderr",
     "output_type": "stream",
     "text": [
      "Epoch 667/884 Training: 100%|██████████| 351/351 [00:41<00:00,  8.37batch/s]\n",
      "Epoch 667/884 Validation: 100%|██████████| 88/88 [00:09<00:00,  9.11batch/s]\n"
     ]
    },
    {
     "name": "stdout",
     "output_type": "stream",
     "text": [
      "Epoch 667/884, Train Loss: 0.0447, Train Acc: 89.74%, Valid Loss: 0.1106, Valid Acc: 88.69%\n"
     ]
    },
    {
     "name": "stderr",
     "output_type": "stream",
     "text": [
      "Epoch 668/884 Training: 100%|██████████| 351/351 [00:40<00:00,  8.63batch/s]\n",
      "Epoch 668/884 Validation: 100%|██████████| 88/88 [00:09<00:00,  9.10batch/s]\n"
     ]
    },
    {
     "name": "stdout",
     "output_type": "stream",
     "text": [
      "Epoch 668/884, Train Loss: 0.0430, Train Acc: 89.86%, Valid Loss: 0.1108, Valid Acc: 89.26%\n"
     ]
    },
    {
     "name": "stderr",
     "output_type": "stream",
     "text": [
      "Epoch 669/884 Training: 100%|██████████| 351/351 [00:46<00:00,  7.56batch/s]\n",
      "Epoch 669/884 Validation: 100%|██████████| 88/88 [00:09<00:00,  9.30batch/s]\n"
     ]
    },
    {
     "name": "stdout",
     "output_type": "stream",
     "text": [
      "Epoch 669/884, Train Loss: 0.0426, Train Acc: 89.65%, Valid Loss: 0.1138, Valid Acc: 88.55%\n"
     ]
    },
    {
     "name": "stderr",
     "output_type": "stream",
     "text": [
      "Epoch 670/884 Training: 100%|██████████| 351/351 [00:42<00:00,  8.35batch/s]\n",
      "Epoch 670/884 Validation: 100%|██████████| 88/88 [00:09<00:00,  9.14batch/s]\n"
     ]
    },
    {
     "name": "stdout",
     "output_type": "stream",
     "text": [
      "Epoch 670/884, Train Loss: 0.0454, Train Acc: 89.11%, Valid Loss: 0.1094, Valid Acc: 88.12%\n"
     ]
    },
    {
     "name": "stderr",
     "output_type": "stream",
     "text": [
      "Epoch 671/884 Training: 100%|██████████| 351/351 [00:42<00:00,  8.27batch/s]\n",
      "Epoch 671/884 Validation: 100%|██████████| 88/88 [00:09<00:00,  9.08batch/s]\n"
     ]
    },
    {
     "name": "stdout",
     "output_type": "stream",
     "text": [
      "Epoch 671/884, Train Loss: 0.0471, Train Acc: 89.31%, Valid Loss: 0.1117, Valid Acc: 89.26%\n"
     ]
    },
    {
     "name": "stderr",
     "output_type": "stream",
     "text": [
      "Epoch 672/884 Training: 100%|██████████| 351/351 [00:42<00:00,  8.31batch/s]\n",
      "Epoch 672/884 Validation: 100%|██████████| 88/88 [00:10<00:00,  8.79batch/s]\n"
     ]
    },
    {
     "name": "stdout",
     "output_type": "stream",
     "text": [
      "Epoch 672/884, Train Loss: 0.0447, Train Acc: 90.38%, Valid Loss: 0.1073, Valid Acc: 88.62%\n"
     ]
    },
    {
     "name": "stderr",
     "output_type": "stream",
     "text": [
      "Epoch 673/884 Training: 100%|██████████| 351/351 [00:43<00:00,  8.10batch/s]\n",
      "Epoch 673/884 Validation: 100%|██████████| 88/88 [00:09<00:00,  9.58batch/s]\n"
     ]
    },
    {
     "name": "stdout",
     "output_type": "stream",
     "text": [
      "Epoch 673/884, Train Loss: 0.0449, Train Acc: 89.45%, Valid Loss: 0.1099, Valid Acc: 88.34%\n"
     ]
    },
    {
     "name": "stderr",
     "output_type": "stream",
     "text": [
      "Epoch 674/884 Training: 100%|██████████| 351/351 [00:42<00:00,  8.18batch/s]\n",
      "Epoch 674/884 Validation: 100%|██████████| 88/88 [00:09<00:00,  9.30batch/s]\n"
     ]
    },
    {
     "name": "stdout",
     "output_type": "stream",
     "text": [
      "Epoch 674/884, Train Loss: 0.0470, Train Acc: 89.40%, Valid Loss: 0.1099, Valid Acc: 89.19%\n"
     ]
    },
    {
     "name": "stderr",
     "output_type": "stream",
     "text": [
      "Epoch 675/884 Training: 100%|██████████| 351/351 [00:41<00:00,  8.50batch/s]\n",
      "Epoch 675/884 Validation: 100%|██████████| 88/88 [00:09<00:00,  9.25batch/s]\n"
     ]
    },
    {
     "name": "stdout",
     "output_type": "stream",
     "text": [
      "Epoch 675/884, Train Loss: 0.0451, Train Acc: 89.09%, Valid Loss: 0.1190, Valid Acc: 87.62%\n"
     ]
    },
    {
     "name": "stderr",
     "output_type": "stream",
     "text": [
      "Epoch 676/884 Training: 100%|██████████| 351/351 [00:41<00:00,  8.44batch/s]\n",
      "Epoch 676/884 Validation: 100%|██████████| 88/88 [00:08<00:00,  9.82batch/s]\n"
     ]
    },
    {
     "name": "stdout",
     "output_type": "stream",
     "text": [
      "Epoch 676/884, Train Loss: 0.0495, Train Acc: 88.93%, Valid Loss: 0.1161, Valid Acc: 88.48%\n"
     ]
    },
    {
     "name": "stderr",
     "output_type": "stream",
     "text": [
      "Epoch 677/884 Training: 100%|██████████| 351/351 [00:41<00:00,  8.50batch/s]\n",
      "Epoch 677/884 Validation: 100%|██████████| 88/88 [00:09<00:00,  9.00batch/s]\n"
     ]
    },
    {
     "name": "stdout",
     "output_type": "stream",
     "text": [
      "Epoch 677/884, Train Loss: 0.0465, Train Acc: 89.41%, Valid Loss: 0.1143, Valid Acc: 88.05%\n"
     ]
    },
    {
     "name": "stderr",
     "output_type": "stream",
     "text": [
      "Epoch 678/884 Training: 100%|██████████| 351/351 [00:41<00:00,  8.49batch/s]\n",
      "Epoch 678/884 Validation: 100%|██████████| 88/88 [00:09<00:00,  9.31batch/s]\n"
     ]
    },
    {
     "name": "stdout",
     "output_type": "stream",
     "text": [
      "Epoch 678/884, Train Loss: 0.0460, Train Acc: 89.81%, Valid Loss: 0.1203, Valid Acc: 88.26%\n"
     ]
    },
    {
     "name": "stderr",
     "output_type": "stream",
     "text": [
      "Epoch 679/884 Training: 100%|██████████| 351/351 [00:41<00:00,  8.39batch/s]\n",
      "Epoch 679/884 Validation: 100%|██████████| 88/88 [00:09<00:00,  9.75batch/s]\n"
     ]
    },
    {
     "name": "stdout",
     "output_type": "stream",
     "text": [
      "Epoch 679/884, Train Loss: 0.0490, Train Acc: 89.25%, Valid Loss: 0.1187, Valid Acc: 88.48%\n"
     ]
    },
    {
     "name": "stderr",
     "output_type": "stream",
     "text": [
      "Epoch 680/884 Training: 100%|██████████| 351/351 [00:41<00:00,  8.40batch/s]\n",
      "Epoch 680/884 Validation: 100%|██████████| 88/88 [00:09<00:00,  9.14batch/s]\n"
     ]
    },
    {
     "name": "stdout",
     "output_type": "stream",
     "text": [
      "Epoch 680/884, Train Loss: 0.0455, Train Acc: 89.15%, Valid Loss: 0.1129, Valid Acc: 88.26%\n"
     ]
    },
    {
     "name": "stderr",
     "output_type": "stream",
     "text": [
      "Epoch 681/884 Training: 100%|██████████| 351/351 [00:41<00:00,  8.50batch/s]\n",
      "Epoch 681/884 Validation: 100%|██████████| 88/88 [00:09<00:00,  9.71batch/s]\n"
     ]
    },
    {
     "name": "stdout",
     "output_type": "stream",
     "text": [
      "Epoch 681/884, Train Loss: 0.0474, Train Acc: 89.43%, Valid Loss: 0.1140, Valid Acc: 88.83%\n"
     ]
    },
    {
     "name": "stderr",
     "output_type": "stream",
     "text": [
      "Epoch 682/884 Training: 100%|██████████| 351/351 [00:41<00:00,  8.53batch/s]\n",
      "Epoch 682/884 Validation: 100%|██████████| 88/88 [00:09<00:00,  9.33batch/s]\n"
     ]
    },
    {
     "name": "stdout",
     "output_type": "stream",
     "text": [
      "Epoch 682/884, Train Loss: 0.0473, Train Acc: 88.74%, Valid Loss: 0.1088, Valid Acc: 88.12%\n"
     ]
    },
    {
     "name": "stderr",
     "output_type": "stream",
     "text": [
      "Epoch 683/884 Training: 100%|██████████| 351/351 [00:40<00:00,  8.62batch/s]\n",
      "Epoch 683/884 Validation: 100%|██████████| 88/88 [00:09<00:00,  9.27batch/s]\n"
     ]
    },
    {
     "name": "stdout",
     "output_type": "stream",
     "text": [
      "Epoch 683/884, Train Loss: 0.0464, Train Acc: 89.24%, Valid Loss: 0.1111, Valid Acc: 88.55%\n"
     ]
    },
    {
     "name": "stderr",
     "output_type": "stream",
     "text": [
      "Epoch 684/884 Training: 100%|██████████| 351/351 [00:41<00:00,  8.42batch/s]\n",
      "Epoch 684/884 Validation: 100%|██████████| 88/88 [00:09<00:00,  9.42batch/s]\n"
     ]
    },
    {
     "name": "stdout",
     "output_type": "stream",
     "text": [
      "Epoch 684/884, Train Loss: 0.0458, Train Acc: 89.31%, Valid Loss: 0.1111, Valid Acc: 88.83%\n"
     ]
    },
    {
     "name": "stderr",
     "output_type": "stream",
     "text": [
      "Epoch 685/884 Training: 100%|██████████| 351/351 [00:41<00:00,  8.47batch/s]\n",
      "Epoch 685/884 Validation: 100%|██████████| 88/88 [00:09<00:00,  9.62batch/s]\n"
     ]
    },
    {
     "name": "stdout",
     "output_type": "stream",
     "text": [
      "Epoch 685/884, Train Loss: 0.0443, Train Acc: 90.11%, Valid Loss: 0.1098, Valid Acc: 88.83%\n"
     ]
    },
    {
     "name": "stderr",
     "output_type": "stream",
     "text": [
      "Epoch 686/884 Training: 100%|██████████| 351/351 [00:39<00:00,  8.91batch/s]\n",
      "Epoch 686/884 Validation: 100%|██████████| 88/88 [00:09<00:00,  9.18batch/s]\n"
     ]
    },
    {
     "name": "stdout",
     "output_type": "stream",
     "text": [
      "Epoch 686/884, Train Loss: 0.0438, Train Acc: 89.77%, Valid Loss: 0.1308, Valid Acc: 87.98%\n"
     ]
    },
    {
     "name": "stderr",
     "output_type": "stream",
     "text": [
      "Epoch 687/884 Training: 100%|██████████| 351/351 [00:41<00:00,  8.50batch/s]\n",
      "Epoch 687/884 Validation: 100%|██████████| 88/88 [00:09<00:00,  9.67batch/s]\n"
     ]
    },
    {
     "name": "stdout",
     "output_type": "stream",
     "text": [
      "Epoch 687/884, Train Loss: 0.0432, Train Acc: 90.07%, Valid Loss: 0.1180, Valid Acc: 87.27%\n"
     ]
    },
    {
     "name": "stderr",
     "output_type": "stream",
     "text": [
      "Epoch 688/884 Training: 100%|██████████| 351/351 [00:40<00:00,  8.61batch/s]\n",
      "Epoch 688/884 Validation: 100%|██████████| 88/88 [00:09<00:00,  9.13batch/s]\n"
     ]
    },
    {
     "name": "stdout",
     "output_type": "stream",
     "text": [
      "Epoch 688/884, Train Loss: 0.0469, Train Acc: 89.40%, Valid Loss: 0.1117, Valid Acc: 88.98%\n"
     ]
    },
    {
     "name": "stderr",
     "output_type": "stream",
     "text": [
      "Epoch 689/884 Training: 100%|██████████| 351/351 [00:41<00:00,  8.52batch/s]\n",
      "Epoch 689/884 Validation: 100%|██████████| 88/88 [00:09<00:00,  9.34batch/s]\n"
     ]
    },
    {
     "name": "stdout",
     "output_type": "stream",
     "text": [
      "Epoch 689/884, Train Loss: 0.0460, Train Acc: 89.52%, Valid Loss: 0.1105, Valid Acc: 88.83%\n"
     ]
    },
    {
     "name": "stderr",
     "output_type": "stream",
     "text": [
      "Epoch 690/884 Training: 100%|██████████| 351/351 [00:41<00:00,  8.36batch/s]\n",
      "Epoch 690/884 Validation: 100%|██████████| 88/88 [00:09<00:00,  9.41batch/s]\n"
     ]
    },
    {
     "name": "stdout",
     "output_type": "stream",
     "text": [
      "Epoch 690/884, Train Loss: 0.0480, Train Acc: 88.50%, Valid Loss: 0.1097, Valid Acc: 88.98%\n"
     ]
    },
    {
     "name": "stderr",
     "output_type": "stream",
     "text": [
      "Epoch 691/884 Training: 100%|██████████| 351/351 [00:41<00:00,  8.44batch/s]\n",
      "Epoch 691/884 Validation: 100%|██████████| 88/88 [00:09<00:00,  9.02batch/s]\n"
     ]
    },
    {
     "name": "stdout",
     "output_type": "stream",
     "text": [
      "Epoch 691/884, Train Loss: 0.0458, Train Acc: 89.31%, Valid Loss: 0.1169, Valid Acc: 88.76%\n"
     ]
    },
    {
     "name": "stderr",
     "output_type": "stream",
     "text": [
      "Epoch 692/884 Training: 100%|██████████| 351/351 [00:40<00:00,  8.71batch/s]\n",
      "Epoch 692/884 Validation: 100%|██████████| 88/88 [00:09<00:00,  9.10batch/s]\n"
     ]
    },
    {
     "name": "stdout",
     "output_type": "stream",
     "text": [
      "Epoch 692/884, Train Loss: 0.0493, Train Acc: 89.11%, Valid Loss: 0.1132, Valid Acc: 88.62%\n"
     ]
    },
    {
     "name": "stderr",
     "output_type": "stream",
     "text": [
      "Epoch 693/884 Training: 100%|██████████| 351/351 [00:42<00:00,  8.27batch/s]\n",
      "Epoch 693/884 Validation: 100%|██████████| 88/88 [00:09<00:00,  9.13batch/s]\n"
     ]
    },
    {
     "name": "stdout",
     "output_type": "stream",
     "text": [
      "Epoch 693/884, Train Loss: 0.0435, Train Acc: 89.74%, Valid Loss: 0.1107, Valid Acc: 88.90%\n"
     ]
    },
    {
     "name": "stderr",
     "output_type": "stream",
     "text": [
      "Epoch 694/884 Training: 100%|██████████| 351/351 [00:41<00:00,  8.37batch/s]\n",
      "Epoch 694/884 Validation: 100%|██████████| 88/88 [00:09<00:00,  9.41batch/s]\n"
     ]
    },
    {
     "name": "stdout",
     "output_type": "stream",
     "text": [
      "Epoch 694/884, Train Loss: 0.0459, Train Acc: 89.43%, Valid Loss: 0.1119, Valid Acc: 88.83%\n"
     ]
    },
    {
     "name": "stderr",
     "output_type": "stream",
     "text": [
      "Epoch 695/884 Training: 100%|██████████| 351/351 [00:40<00:00,  8.73batch/s]\n",
      "Epoch 695/884 Validation: 100%|██████████| 88/88 [00:09<00:00,  9.28batch/s]\n"
     ]
    },
    {
     "name": "stdout",
     "output_type": "stream",
     "text": [
      "Epoch 695/884, Train Loss: 0.0467, Train Acc: 89.20%, Valid Loss: 0.1184, Valid Acc: 88.62%\n"
     ]
    },
    {
     "name": "stderr",
     "output_type": "stream",
     "text": [
      "Epoch 696/884 Training: 100%|██████████| 351/351 [00:41<00:00,  8.42batch/s]\n",
      "Epoch 696/884 Validation: 100%|██████████| 88/88 [00:09<00:00,  9.36batch/s]\n"
     ]
    },
    {
     "name": "stdout",
     "output_type": "stream",
     "text": [
      "Epoch 696/884, Train Loss: 0.0449, Train Acc: 89.66%, Valid Loss: 0.1122, Valid Acc: 88.98%\n"
     ]
    },
    {
     "name": "stderr",
     "output_type": "stream",
     "text": [
      "Epoch 697/884 Training: 100%|██████████| 351/351 [00:41<00:00,  8.44batch/s]\n",
      "Epoch 697/884 Validation: 100%|██████████| 88/88 [00:09<00:00,  9.42batch/s]\n"
     ]
    },
    {
     "name": "stdout",
     "output_type": "stream",
     "text": [
      "Epoch 697/884, Train Loss: 0.0441, Train Acc: 90.09%, Valid Loss: 0.1111, Valid Acc: 88.41%\n"
     ]
    },
    {
     "name": "stderr",
     "output_type": "stream",
     "text": [
      "Epoch 698/884 Training: 100%|██████████| 351/351 [00:42<00:00,  8.30batch/s]\n",
      "Epoch 698/884 Validation: 100%|██████████| 88/88 [00:09<00:00,  9.31batch/s]\n"
     ]
    },
    {
     "name": "stdout",
     "output_type": "stream",
     "text": [
      "Epoch 698/884, Train Loss: 0.0496, Train Acc: 88.90%, Valid Loss: 0.1116, Valid Acc: 88.34%\n"
     ]
    },
    {
     "name": "stderr",
     "output_type": "stream",
     "text": [
      "Epoch 699/884 Training: 100%|██████████| 351/351 [00:40<00:00,  8.56batch/s]\n",
      "Epoch 699/884 Validation: 100%|██████████| 88/88 [00:09<00:00,  9.15batch/s]\n"
     ]
    },
    {
     "name": "stdout",
     "output_type": "stream",
     "text": [
      "Epoch 699/884, Train Loss: 0.0448, Train Acc: 89.43%, Valid Loss: 0.1093, Valid Acc: 88.62%\n"
     ]
    },
    {
     "name": "stderr",
     "output_type": "stream",
     "text": [
      "Epoch 700/884 Training: 100%|██████████| 351/351 [00:41<00:00,  8.40batch/s]\n",
      "Epoch 700/884 Validation: 100%|██████████| 88/88 [00:09<00:00,  9.47batch/s]\n"
     ]
    },
    {
     "name": "stdout",
     "output_type": "stream",
     "text": [
      "Epoch 700/884, Train Loss: 0.0473, Train Acc: 89.52%, Valid Loss: 0.1145, Valid Acc: 88.62%\n"
     ]
    },
    {
     "name": "stderr",
     "output_type": "stream",
     "text": [
      "Epoch 701/884 Training: 100%|██████████| 351/351 [00:40<00:00,  8.60batch/s]\n",
      "Epoch 701/884 Validation: 100%|██████████| 88/88 [00:09<00:00,  9.70batch/s]\n"
     ]
    },
    {
     "name": "stdout",
     "output_type": "stream",
     "text": [
      "Epoch 701/884, Train Loss: 0.0481, Train Acc: 89.63%, Valid Loss: 0.1101, Valid Acc: 88.76%\n"
     ]
    },
    {
     "name": "stderr",
     "output_type": "stream",
     "text": [
      "Epoch 702/884 Training: 100%|██████████| 351/351 [00:41<00:00,  8.48batch/s]\n",
      "Epoch 702/884 Validation: 100%|██████████| 88/88 [00:09<00:00,  9.26batch/s]\n"
     ]
    },
    {
     "name": "stdout",
     "output_type": "stream",
     "text": [
      "Epoch 702/884, Train Loss: 0.0439, Train Acc: 89.27%, Valid Loss: 0.1114, Valid Acc: 88.98%\n"
     ]
    },
    {
     "name": "stderr",
     "output_type": "stream",
     "text": [
      "Epoch 703/884 Training: 100%|██████████| 351/351 [00:41<00:00,  8.56batch/s]\n",
      "Epoch 703/884 Validation: 100%|██████████| 88/88 [00:09<00:00,  9.27batch/s]\n"
     ]
    },
    {
     "name": "stdout",
     "output_type": "stream",
     "text": [
      "Epoch 703/884, Train Loss: 0.0435, Train Acc: 89.66%, Valid Loss: 0.1214, Valid Acc: 87.77%\n"
     ]
    },
    {
     "name": "stderr",
     "output_type": "stream",
     "text": [
      "Epoch 704/884 Training: 100%|██████████| 351/351 [00:41<00:00,  8.55batch/s]\n",
      "Epoch 704/884 Validation: 100%|██████████| 88/88 [00:09<00:00,  9.36batch/s]\n"
     ]
    },
    {
     "name": "stdout",
     "output_type": "stream",
     "text": [
      "Epoch 704/884, Train Loss: 0.0500, Train Acc: 89.02%, Valid Loss: 0.1118, Valid Acc: 88.98%\n"
     ]
    },
    {
     "name": "stderr",
     "output_type": "stream",
     "text": [
      "Epoch 705/884 Training: 100%|██████████| 351/351 [00:40<00:00,  8.63batch/s]\n",
      "Epoch 705/884 Validation: 100%|██████████| 88/88 [00:09<00:00,  9.08batch/s]\n"
     ]
    },
    {
     "name": "stdout",
     "output_type": "stream",
     "text": [
      "Epoch 705/884, Train Loss: 0.0475, Train Acc: 88.99%, Valid Loss: 0.1119, Valid Acc: 88.19%\n"
     ]
    },
    {
     "name": "stderr",
     "output_type": "stream",
     "text": [
      "Epoch 706/884 Training: 100%|██████████| 351/351 [00:41<00:00,  8.51batch/s]\n",
      "Epoch 706/884 Validation: 100%|██████████| 88/88 [00:09<00:00,  9.36batch/s]\n"
     ]
    },
    {
     "name": "stdout",
     "output_type": "stream",
     "text": [
      "Epoch 706/884, Train Loss: 0.0474, Train Acc: 89.90%, Valid Loss: 0.1137, Valid Acc: 88.98%\n"
     ]
    },
    {
     "name": "stderr",
     "output_type": "stream",
     "text": [
      "Epoch 707/884 Training: 100%|██████████| 351/351 [00:41<00:00,  8.51batch/s]\n",
      "Epoch 707/884 Validation: 100%|██████████| 88/88 [00:09<00:00,  9.34batch/s]\n"
     ]
    },
    {
     "name": "stdout",
     "output_type": "stream",
     "text": [
      "Epoch 707/884, Train Loss: 0.0475, Train Acc: 89.31%, Valid Loss: 0.1117, Valid Acc: 89.12%\n"
     ]
    },
    {
     "name": "stderr",
     "output_type": "stream",
     "text": [
      "Epoch 708/884 Training: 100%|██████████| 351/351 [00:40<00:00,  8.60batch/s]\n",
      "Epoch 708/884 Validation: 100%|██████████| 88/88 [00:09<00:00,  9.52batch/s]\n"
     ]
    },
    {
     "name": "stdout",
     "output_type": "stream",
     "text": [
      "Epoch 708/884, Train Loss: 0.0453, Train Acc: 89.41%, Valid Loss: 0.1076, Valid Acc: 88.62%\n"
     ]
    },
    {
     "name": "stderr",
     "output_type": "stream",
     "text": [
      "Epoch 709/884 Training: 100%|██████████| 351/351 [00:41<00:00,  8.48batch/s]\n",
      "Epoch 709/884 Validation: 100%|██████████| 88/88 [00:08<00:00,  9.79batch/s]\n"
     ]
    },
    {
     "name": "stdout",
     "output_type": "stream",
     "text": [
      "Epoch 709/884, Train Loss: 0.0457, Train Acc: 89.49%, Valid Loss: 0.1091, Valid Acc: 88.12%\n"
     ]
    },
    {
     "name": "stderr",
     "output_type": "stream",
     "text": [
      "Epoch 710/884 Training: 100%|██████████| 351/351 [00:41<00:00,  8.43batch/s]\n",
      "Epoch 710/884 Validation: 100%|██████████| 88/88 [00:09<00:00,  9.02batch/s]\n"
     ]
    },
    {
     "name": "stdout",
     "output_type": "stream",
     "text": [
      "Epoch 710/884, Train Loss: 0.0448, Train Acc: 89.86%, Valid Loss: 0.1107, Valid Acc: 88.48%\n"
     ]
    },
    {
     "name": "stderr",
     "output_type": "stream",
     "text": [
      "Epoch 711/884 Training: 100%|██████████| 351/351 [00:41<00:00,  8.41batch/s]\n",
      "Epoch 711/884 Validation: 100%|██████████| 88/88 [00:09<00:00,  9.32batch/s]\n"
     ]
    },
    {
     "name": "stdout",
     "output_type": "stream",
     "text": [
      "Epoch 711/884, Train Loss: 0.0467, Train Acc: 89.09%, Valid Loss: 0.1194, Valid Acc: 88.62%\n"
     ]
    },
    {
     "name": "stderr",
     "output_type": "stream",
     "text": [
      "Epoch 712/884 Training: 100%|██████████| 351/351 [00:41<00:00,  8.37batch/s]\n",
      "Epoch 712/884 Validation: 100%|██████████| 88/88 [00:09<00:00,  9.29batch/s]\n"
     ]
    },
    {
     "name": "stdout",
     "output_type": "stream",
     "text": [
      "Epoch 712/884, Train Loss: 0.0455, Train Acc: 89.40%, Valid Loss: 0.1160, Valid Acc: 88.69%\n"
     ]
    },
    {
     "name": "stderr",
     "output_type": "stream",
     "text": [
      "Epoch 713/884 Training: 100%|██████████| 351/351 [00:41<00:00,  8.50batch/s]\n",
      "Epoch 713/884 Validation: 100%|██████████| 88/88 [00:09<00:00,  9.29batch/s]\n"
     ]
    },
    {
     "name": "stdout",
     "output_type": "stream",
     "text": [
      "Epoch 713/884, Train Loss: 0.0469, Train Acc: 88.74%, Valid Loss: 0.1107, Valid Acc: 88.90%\n"
     ]
    },
    {
     "name": "stderr",
     "output_type": "stream",
     "text": [
      "Epoch 714/884 Training: 100%|██████████| 351/351 [00:41<00:00,  8.42batch/s]\n",
      "Epoch 714/884 Validation: 100%|██████████| 88/88 [00:09<00:00,  9.40batch/s]\n"
     ]
    },
    {
     "name": "stdout",
     "output_type": "stream",
     "text": [
      "Epoch 714/884, Train Loss: 0.0454, Train Acc: 89.47%, Valid Loss: 0.1133, Valid Acc: 88.62%\n"
     ]
    },
    {
     "name": "stderr",
     "output_type": "stream",
     "text": [
      "Epoch 715/884 Training: 100%|██████████| 351/351 [00:41<00:00,  8.45batch/s]\n",
      "Epoch 715/884 Validation: 100%|██████████| 88/88 [00:09<00:00,  9.51batch/s]\n"
     ]
    },
    {
     "name": "stdout",
     "output_type": "stream",
     "text": [
      "Epoch 715/884, Train Loss: 0.0463, Train Acc: 89.33%, Valid Loss: 0.1085, Valid Acc: 89.47%\n"
     ]
    },
    {
     "name": "stderr",
     "output_type": "stream",
     "text": [
      "Epoch 716/884 Training: 100%|██████████| 351/351 [00:41<00:00,  8.41batch/s]\n",
      "Epoch 716/884 Validation: 100%|██████████| 88/88 [00:09<00:00,  9.37batch/s]\n"
     ]
    },
    {
     "name": "stdout",
     "output_type": "stream",
     "text": [
      "Epoch 716/884, Train Loss: 0.0457, Train Acc: 89.79%, Valid Loss: 0.1095, Valid Acc: 88.55%\n"
     ]
    },
    {
     "name": "stderr",
     "output_type": "stream",
     "text": [
      "Epoch 717/884 Training: 100%|██████████| 351/351 [00:41<00:00,  8.40batch/s]\n",
      "Epoch 717/884 Validation: 100%|██████████| 88/88 [00:09<00:00,  9.15batch/s]\n"
     ]
    },
    {
     "name": "stdout",
     "output_type": "stream",
     "text": [
      "Epoch 717/884, Train Loss: 0.0440, Train Acc: 89.75%, Valid Loss: 0.1114, Valid Acc: 87.77%\n"
     ]
    },
    {
     "name": "stderr",
     "output_type": "stream",
     "text": [
      "Epoch 718/884 Training: 100%|██████████| 351/351 [00:41<00:00,  8.40batch/s]\n",
      "Epoch 718/884 Validation: 100%|██████████| 88/88 [00:09<00:00,  9.77batch/s]\n"
     ]
    },
    {
     "name": "stdout",
     "output_type": "stream",
     "text": [
      "Epoch 718/884, Train Loss: 0.0436, Train Acc: 89.93%, Valid Loss: 0.1174, Valid Acc: 88.05%\n"
     ]
    },
    {
     "name": "stderr",
     "output_type": "stream",
     "text": [
      "Epoch 719/884 Training: 100%|██████████| 351/351 [00:42<00:00,  8.31batch/s]\n",
      "Epoch 719/884 Validation: 100%|██████████| 88/88 [00:09<00:00,  9.69batch/s]\n"
     ]
    },
    {
     "name": "stdout",
     "output_type": "stream",
     "text": [
      "Epoch 719/884, Train Loss: 0.0489, Train Acc: 88.86%, Valid Loss: 0.1076, Valid Acc: 88.83%\n"
     ]
    },
    {
     "name": "stderr",
     "output_type": "stream",
     "text": [
      "Epoch 720/884 Training: 100%|██████████| 351/351 [00:42<00:00,  8.36batch/s]\n",
      "Epoch 720/884 Validation: 100%|██████████| 88/88 [00:09<00:00,  9.16batch/s]\n"
     ]
    },
    {
     "name": "stdout",
     "output_type": "stream",
     "text": [
      "Epoch 720/884, Train Loss: 0.0475, Train Acc: 89.38%, Valid Loss: 0.1141, Valid Acc: 88.83%\n"
     ]
    },
    {
     "name": "stderr",
     "output_type": "stream",
     "text": [
      "Epoch 721/884 Training: 100%|██████████| 351/351 [00:41<00:00,  8.36batch/s]\n",
      "Epoch 721/884 Validation: 100%|██████████| 88/88 [00:09<00:00,  9.42batch/s]\n"
     ]
    },
    {
     "name": "stdout",
     "output_type": "stream",
     "text": [
      "Epoch 721/884, Train Loss: 0.0432, Train Acc: 89.59%, Valid Loss: 0.1088, Valid Acc: 88.34%\n"
     ]
    },
    {
     "name": "stderr",
     "output_type": "stream",
     "text": [
      "Epoch 722/884 Training: 100%|██████████| 351/351 [00:42<00:00,  8.33batch/s]\n",
      "Epoch 722/884 Validation: 100%|██████████| 88/88 [00:09<00:00,  9.45batch/s]\n"
     ]
    },
    {
     "name": "stdout",
     "output_type": "stream",
     "text": [
      "Epoch 722/884, Train Loss: 0.0459, Train Acc: 89.70%, Valid Loss: 0.1079, Valid Acc: 88.69%\n"
     ]
    },
    {
     "name": "stderr",
     "output_type": "stream",
     "text": [
      "Epoch 723/884 Training: 100%|██████████| 351/351 [00:41<00:00,  8.42batch/s]\n",
      "Epoch 723/884 Validation: 100%|██████████| 88/88 [00:09<00:00,  9.24batch/s]\n"
     ]
    },
    {
     "name": "stdout",
     "output_type": "stream",
     "text": [
      "Epoch 723/884, Train Loss: 0.0447, Train Acc: 89.20%, Valid Loss: 0.1120, Valid Acc: 88.62%\n"
     ]
    },
    {
     "name": "stderr",
     "output_type": "stream",
     "text": [
      "Epoch 724/884 Training: 100%|██████████| 351/351 [00:41<00:00,  8.41batch/s]\n",
      "Epoch 724/884 Validation: 100%|██████████| 88/88 [00:09<00:00,  9.30batch/s]\n"
     ]
    },
    {
     "name": "stdout",
     "output_type": "stream",
     "text": [
      "Epoch 724/884, Train Loss: 0.0462, Train Acc: 89.38%, Valid Loss: 0.1102, Valid Acc: 88.76%\n"
     ]
    },
    {
     "name": "stderr",
     "output_type": "stream",
     "text": [
      "Epoch 725/884 Training: 100%|██████████| 351/351 [00:42<00:00,  8.29batch/s]\n",
      "Epoch 725/884 Validation: 100%|██████████| 88/88 [00:09<00:00,  9.15batch/s]\n"
     ]
    },
    {
     "name": "stdout",
     "output_type": "stream",
     "text": [
      "Epoch 725/884, Train Loss: 0.0483, Train Acc: 89.25%, Valid Loss: 0.1091, Valid Acc: 88.19%\n"
     ]
    },
    {
     "name": "stderr",
     "output_type": "stream",
     "text": [
      "Epoch 726/884 Training: 100%|██████████| 351/351 [00:41<00:00,  8.39batch/s]\n",
      "Epoch 726/884 Validation: 100%|██████████| 88/88 [00:09<00:00,  9.30batch/s]\n"
     ]
    },
    {
     "name": "stdout",
     "output_type": "stream",
     "text": [
      "Epoch 726/884, Train Loss: 0.0430, Train Acc: 89.91%, Valid Loss: 0.1153, Valid Acc: 88.19%\n"
     ]
    },
    {
     "name": "stderr",
     "output_type": "stream",
     "text": [
      "Epoch 727/884 Training: 100%|██████████| 351/351 [00:41<00:00,  8.41batch/s]\n",
      "Epoch 727/884 Validation: 100%|██████████| 88/88 [00:09<00:00,  9.53batch/s]\n"
     ]
    },
    {
     "name": "stdout",
     "output_type": "stream",
     "text": [
      "Epoch 727/884, Train Loss: 0.0457, Train Acc: 89.04%, Valid Loss: 0.1093, Valid Acc: 88.69%\n"
     ]
    },
    {
     "name": "stderr",
     "output_type": "stream",
     "text": [
      "Epoch 728/884 Training: 100%|██████████| 351/351 [00:41<00:00,  8.38batch/s]\n",
      "Epoch 728/884 Validation: 100%|██████████| 88/88 [00:09<00:00,  9.56batch/s]\n"
     ]
    },
    {
     "name": "stdout",
     "output_type": "stream",
     "text": [
      "Epoch 728/884, Train Loss: 0.0473, Train Acc: 88.93%, Valid Loss: 0.1123, Valid Acc: 88.55%\n"
     ]
    },
    {
     "name": "stderr",
     "output_type": "stream",
     "text": [
      "Epoch 729/884 Training: 100%|██████████| 351/351 [00:40<00:00,  8.58batch/s]\n",
      "Epoch 729/884 Validation: 100%|██████████| 88/88 [00:09<00:00,  9.34batch/s]\n"
     ]
    },
    {
     "name": "stdout",
     "output_type": "stream",
     "text": [
      "Epoch 729/884, Train Loss: 0.0449, Train Acc: 89.86%, Valid Loss: 0.1078, Valid Acc: 88.69%\n"
     ]
    },
    {
     "name": "stderr",
     "output_type": "stream",
     "text": [
      "Epoch 730/884 Training: 100%|██████████| 351/351 [00:41<00:00,  8.55batch/s]\n",
      "Epoch 730/884 Validation: 100%|██████████| 88/88 [00:09<00:00,  9.30batch/s]\n"
     ]
    },
    {
     "name": "stdout",
     "output_type": "stream",
     "text": [
      "Epoch 730/884, Train Loss: 0.0469, Train Acc: 89.54%, Valid Loss: 0.1122, Valid Acc: 87.98%\n"
     ]
    },
    {
     "name": "stderr",
     "output_type": "stream",
     "text": [
      "Epoch 731/884 Training: 100%|██████████| 351/351 [00:42<00:00,  8.35batch/s]\n",
      "Epoch 731/884 Validation: 100%|██████████| 88/88 [00:09<00:00,  9.27batch/s]\n"
     ]
    },
    {
     "name": "stdout",
     "output_type": "stream",
     "text": [
      "Epoch 731/884, Train Loss: 0.0461, Train Acc: 89.40%, Valid Loss: 0.1097, Valid Acc: 88.83%\n"
     ]
    },
    {
     "name": "stderr",
     "output_type": "stream",
     "text": [
      "Epoch 732/884 Training: 100%|██████████| 351/351 [00:42<00:00,  8.35batch/s]\n",
      "Epoch 732/884 Validation: 100%|██████████| 88/88 [00:09<00:00,  9.03batch/s]\n"
     ]
    },
    {
     "name": "stdout",
     "output_type": "stream",
     "text": [
      "Epoch 732/884, Train Loss: 0.0434, Train Acc: 90.04%, Valid Loss: 0.1113, Valid Acc: 89.19%\n"
     ]
    },
    {
     "name": "stderr",
     "output_type": "stream",
     "text": [
      "Epoch 733/884 Training: 100%|██████████| 351/351 [00:40<00:00,  8.63batch/s]\n",
      "Epoch 733/884 Validation: 100%|██████████| 88/88 [00:09<00:00,  9.41batch/s]\n"
     ]
    },
    {
     "name": "stdout",
     "output_type": "stream",
     "text": [
      "Epoch 733/884, Train Loss: 0.0486, Train Acc: 89.06%, Valid Loss: 0.1119, Valid Acc: 88.83%\n"
     ]
    },
    {
     "name": "stderr",
     "output_type": "stream",
     "text": [
      "Epoch 734/884 Training: 100%|██████████| 351/351 [00:42<00:00,  8.28batch/s]\n",
      "Epoch 734/884 Validation: 100%|██████████| 88/88 [00:09<00:00,  9.22batch/s]\n"
     ]
    },
    {
     "name": "stdout",
     "output_type": "stream",
     "text": [
      "Epoch 734/884, Train Loss: 0.0449, Train Acc: 89.61%, Valid Loss: 0.1185, Valid Acc: 88.62%\n"
     ]
    },
    {
     "name": "stderr",
     "output_type": "stream",
     "text": [
      "Epoch 735/884 Training: 100%|██████████| 351/351 [00:41<00:00,  8.38batch/s]\n",
      "Epoch 735/884 Validation: 100%|██████████| 88/88 [00:09<00:00,  9.50batch/s]\n"
     ]
    },
    {
     "name": "stdout",
     "output_type": "stream",
     "text": [
      "Epoch 735/884, Train Loss: 0.0454, Train Acc: 89.54%, Valid Loss: 0.1145, Valid Acc: 88.98%\n"
     ]
    },
    {
     "name": "stderr",
     "output_type": "stream",
     "text": [
      "Epoch 736/884 Training: 100%|██████████| 351/351 [00:41<00:00,  8.44batch/s]\n",
      "Epoch 736/884 Validation: 100%|██████████| 88/88 [00:09<00:00,  9.57batch/s]\n"
     ]
    },
    {
     "name": "stdout",
     "output_type": "stream",
     "text": [
      "Epoch 736/884, Train Loss: 0.0461, Train Acc: 89.22%, Valid Loss: 0.1141, Valid Acc: 88.69%\n"
     ]
    },
    {
     "name": "stderr",
     "output_type": "stream",
     "text": [
      "Epoch 737/884 Training: 100%|██████████| 351/351 [00:42<00:00,  8.35batch/s]\n",
      "Epoch 737/884 Validation: 100%|██████████| 88/88 [00:09<00:00,  9.41batch/s]\n"
     ]
    },
    {
     "name": "stdout",
     "output_type": "stream",
     "text": [
      "Epoch 737/884, Train Loss: 0.0452, Train Acc: 89.04%, Valid Loss: 0.1104, Valid Acc: 89.19%\n"
     ]
    },
    {
     "name": "stderr",
     "output_type": "stream",
     "text": [
      "Epoch 738/884 Training: 100%|██████████| 351/351 [00:41<00:00,  8.37batch/s]\n",
      "Epoch 738/884 Validation: 100%|██████████| 88/88 [00:09<00:00,  9.07batch/s]\n"
     ]
    },
    {
     "name": "stdout",
     "output_type": "stream",
     "text": [
      "Epoch 738/884, Train Loss: 0.0498, Train Acc: 88.99%, Valid Loss: 0.1095, Valid Acc: 89.19%\n"
     ]
    },
    {
     "name": "stderr",
     "output_type": "stream",
     "text": [
      "Epoch 739/884 Training: 100%|██████████| 351/351 [00:42<00:00,  8.34batch/s]\n",
      "Epoch 739/884 Validation: 100%|██████████| 88/88 [00:09<00:00,  9.26batch/s]\n"
     ]
    },
    {
     "name": "stdout",
     "output_type": "stream",
     "text": [
      "Epoch 739/884, Train Loss: 0.0432, Train Acc: 90.09%, Valid Loss: 0.1110, Valid Acc: 88.62%\n"
     ]
    },
    {
     "name": "stderr",
     "output_type": "stream",
     "text": [
      "Epoch 740/884 Training: 100%|██████████| 351/351 [00:41<00:00,  8.45batch/s]\n",
      "Epoch 740/884 Validation: 100%|██████████| 88/88 [00:09<00:00,  9.07batch/s]\n"
     ]
    },
    {
     "name": "stdout",
     "output_type": "stream",
     "text": [
      "Epoch 740/884, Train Loss: 0.0477, Train Acc: 89.43%, Valid Loss: 0.1137, Valid Acc: 88.05%\n"
     ]
    },
    {
     "name": "stderr",
     "output_type": "stream",
     "text": [
      "Epoch 741/884 Training: 100%|██████████| 351/351 [00:41<00:00,  8.41batch/s]\n",
      "Epoch 741/884 Validation: 100%|██████████| 88/88 [00:09<00:00,  9.17batch/s]\n"
     ]
    },
    {
     "name": "stdout",
     "output_type": "stream",
     "text": [
      "Epoch 741/884, Train Loss: 0.0472, Train Acc: 89.22%, Valid Loss: 0.1085, Valid Acc: 88.62%\n"
     ]
    },
    {
     "name": "stderr",
     "output_type": "stream",
     "text": [
      "Epoch 742/884 Training: 100%|██████████| 351/351 [00:42<00:00,  8.29batch/s]\n",
      "Epoch 742/884 Validation: 100%|██████████| 88/88 [00:09<00:00,  9.45batch/s]\n"
     ]
    },
    {
     "name": "stdout",
     "output_type": "stream",
     "text": [
      "Epoch 742/884, Train Loss: 0.0490, Train Acc: 88.93%, Valid Loss: 0.1122, Valid Acc: 88.12%\n"
     ]
    },
    {
     "name": "stderr",
     "output_type": "stream",
     "text": [
      "Epoch 743/884 Training: 100%|██████████| 351/351 [00:41<00:00,  8.52batch/s]\n",
      "Epoch 743/884 Validation: 100%|██████████| 88/88 [00:09<00:00,  9.49batch/s]\n"
     ]
    },
    {
     "name": "stdout",
     "output_type": "stream",
     "text": [
      "Epoch 743/884, Train Loss: 0.0425, Train Acc: 90.34%, Valid Loss: 0.1071, Valid Acc: 88.48%\n"
     ]
    },
    {
     "name": "stderr",
     "output_type": "stream",
     "text": [
      "Epoch 744/884 Training: 100%|██████████| 351/351 [00:46<00:00,  7.61batch/s]\n",
      "Epoch 744/884 Validation: 100%|██████████| 88/88 [00:09<00:00,  9.47batch/s]\n"
     ]
    },
    {
     "name": "stdout",
     "output_type": "stream",
     "text": [
      "Epoch 744/884, Train Loss: 0.0441, Train Acc: 90.04%, Valid Loss: 0.1091, Valid Acc: 89.05%\n"
     ]
    },
    {
     "name": "stderr",
     "output_type": "stream",
     "text": [
      "Epoch 745/884 Training: 100%|██████████| 351/351 [00:47<00:00,  7.45batch/s]\n",
      "Epoch 745/884 Validation: 100%|██████████| 88/88 [00:11<00:00,  7.68batch/s]\n"
     ]
    },
    {
     "name": "stdout",
     "output_type": "stream",
     "text": [
      "Epoch 745/884, Train Loss: 0.0425, Train Acc: 90.36%, Valid Loss: 0.1136, Valid Acc: 88.69%\n"
     ]
    },
    {
     "name": "stderr",
     "output_type": "stream",
     "text": [
      "Epoch 746/884 Training: 100%|██████████| 351/351 [00:46<00:00,  7.48batch/s]\n",
      "Epoch 746/884 Validation: 100%|██████████| 88/88 [00:10<00:00,  8.37batch/s]\n"
     ]
    },
    {
     "name": "stdout",
     "output_type": "stream",
     "text": [
      "Epoch 746/884, Train Loss: 0.0440, Train Acc: 90.18%, Valid Loss: 0.1122, Valid Acc: 88.26%\n"
     ]
    },
    {
     "name": "stderr",
     "output_type": "stream",
     "text": [
      "Epoch 747/884 Training: 100%|██████████| 351/351 [00:45<00:00,  7.76batch/s]\n",
      "Epoch 747/884 Validation: 100%|██████████| 88/88 [00:11<00:00,  7.90batch/s]\n"
     ]
    },
    {
     "name": "stdout",
     "output_type": "stream",
     "text": [
      "Epoch 747/884, Train Loss: 0.0440, Train Acc: 89.63%, Valid Loss: 0.1141, Valid Acc: 88.83%\n"
     ]
    },
    {
     "name": "stderr",
     "output_type": "stream",
     "text": [
      "Epoch 748/884 Training: 100%|██████████| 351/351 [00:46<00:00,  7.49batch/s]\n",
      "Epoch 748/884 Validation: 100%|██████████| 88/88 [00:11<00:00,  7.72batch/s]\n"
     ]
    },
    {
     "name": "stdout",
     "output_type": "stream",
     "text": [
      "Epoch 748/884, Train Loss: 0.0446, Train Acc: 89.83%, Valid Loss: 0.1120, Valid Acc: 87.48%\n"
     ]
    },
    {
     "name": "stderr",
     "output_type": "stream",
     "text": [
      "Epoch 749/884 Training: 100%|██████████| 351/351 [00:45<00:00,  7.77batch/s]\n",
      "Epoch 749/884 Validation: 100%|██████████| 88/88 [00:10<00:00,  8.30batch/s]\n"
     ]
    },
    {
     "name": "stdout",
     "output_type": "stream",
     "text": [
      "Epoch 749/884, Train Loss: 0.0427, Train Acc: 90.24%, Valid Loss: 0.1063, Valid Acc: 89.62%\n"
     ]
    },
    {
     "name": "stderr",
     "output_type": "stream",
     "text": [
      "Epoch 750/884 Training: 100%|██████████| 351/351 [00:43<00:00,  8.03batch/s]\n",
      "Epoch 750/884 Validation: 100%|██████████| 88/88 [00:11<00:00,  7.57batch/s]\n"
     ]
    },
    {
     "name": "stdout",
     "output_type": "stream",
     "text": [
      "Epoch 750/884, Train Loss: 0.0443, Train Acc: 89.90%, Valid Loss: 0.1155, Valid Acc: 88.12%\n"
     ]
    },
    {
     "name": "stderr",
     "output_type": "stream",
     "text": [
      "Epoch 751/884 Training: 100%|██████████| 351/351 [00:42<00:00,  8.30batch/s]\n",
      "Epoch 751/884 Validation: 100%|██████████| 88/88 [00:09<00:00,  9.50batch/s]\n"
     ]
    },
    {
     "name": "stdout",
     "output_type": "stream",
     "text": [
      "Epoch 751/884, Train Loss: 0.0448, Train Acc: 89.11%, Valid Loss: 0.1103, Valid Acc: 88.76%\n"
     ]
    },
    {
     "name": "stderr",
     "output_type": "stream",
     "text": [
      "Epoch 752/884 Training: 100%|██████████| 351/351 [00:42<00:00,  8.23batch/s]\n",
      "Epoch 752/884 Validation: 100%|██████████| 88/88 [00:10<00:00,  8.54batch/s]\n"
     ]
    },
    {
     "name": "stdout",
     "output_type": "stream",
     "text": [
      "Epoch 752/884, Train Loss: 0.0467, Train Acc: 89.27%, Valid Loss: 0.1116, Valid Acc: 87.62%\n"
     ]
    },
    {
     "name": "stderr",
     "output_type": "stream",
     "text": [
      "Epoch 753/884 Training: 100%|██████████| 351/351 [00:44<00:00,  7.92batch/s]\n",
      "Epoch 753/884 Validation: 100%|██████████| 88/88 [00:09<00:00,  9.04batch/s]\n"
     ]
    },
    {
     "name": "stdout",
     "output_type": "stream",
     "text": [
      "Epoch 753/884, Train Loss: 0.0461, Train Acc: 89.50%, Valid Loss: 0.1251, Valid Acc: 88.34%\n"
     ]
    },
    {
     "name": "stderr",
     "output_type": "stream",
     "text": [
      "Epoch 754/884 Training: 100%|██████████| 351/351 [00:45<00:00,  7.74batch/s]\n",
      "Epoch 754/884 Validation: 100%|██████████| 88/88 [00:10<00:00,  8.72batch/s]\n"
     ]
    },
    {
     "name": "stdout",
     "output_type": "stream",
     "text": [
      "Epoch 754/884, Train Loss: 0.0457, Train Acc: 89.36%, Valid Loss: 0.1099, Valid Acc: 88.90%\n"
     ]
    },
    {
     "name": "stderr",
     "output_type": "stream",
     "text": [
      "Epoch 755/884 Training: 100%|██████████| 351/351 [00:44<00:00,  7.93batch/s]\n",
      "Epoch 755/884 Validation: 100%|██████████| 88/88 [00:10<00:00,  8.19batch/s]\n"
     ]
    },
    {
     "name": "stdout",
     "output_type": "stream",
     "text": [
      "Epoch 755/884, Train Loss: 0.0443, Train Acc: 89.84%, Valid Loss: 0.1146, Valid Acc: 88.41%\n"
     ]
    },
    {
     "name": "stderr",
     "output_type": "stream",
     "text": [
      "Epoch 756/884 Training: 100%|██████████| 351/351 [00:43<00:00,  8.11batch/s]\n",
      "Epoch 756/884 Validation: 100%|██████████| 88/88 [00:11<00:00,  7.54batch/s]\n"
     ]
    },
    {
     "name": "stdout",
     "output_type": "stream",
     "text": [
      "Epoch 756/884, Train Loss: 0.0471, Train Acc: 89.61%, Valid Loss: 0.1079, Valid Acc: 88.62%\n"
     ]
    },
    {
     "name": "stderr",
     "output_type": "stream",
     "text": [
      "Epoch 757/884 Training: 100%|██████████| 351/351 [00:45<00:00,  7.77batch/s]\n",
      "Epoch 757/884 Validation: 100%|██████████| 88/88 [00:10<00:00,  8.55batch/s]\n"
     ]
    },
    {
     "name": "stdout",
     "output_type": "stream",
     "text": [
      "Epoch 757/884, Train Loss: 0.0455, Train Acc: 89.36%, Valid Loss: 0.1077, Valid Acc: 89.19%\n"
     ]
    },
    {
     "name": "stderr",
     "output_type": "stream",
     "text": [
      "Epoch 758/884 Training: 100%|██████████| 351/351 [00:45<00:00,  7.80batch/s]\n",
      "Epoch 758/884 Validation: 100%|██████████| 88/88 [00:10<00:00,  8.33batch/s]\n"
     ]
    },
    {
     "name": "stdout",
     "output_type": "stream",
     "text": [
      "Epoch 758/884, Train Loss: 0.0481, Train Acc: 89.38%, Valid Loss: 0.1159, Valid Acc: 87.98%\n"
     ]
    },
    {
     "name": "stderr",
     "output_type": "stream",
     "text": [
      "Epoch 759/884 Training:  57%|█████▋    | 201/351 [00:25<00:19,  7.79batch/s]\n"
     ]
    },
    {
     "ename": "KeyboardInterrupt",
     "evalue": "",
     "output_type": "error",
     "traceback": [
      "\u001b[1;31m---------------------------------------------------------------------------\u001b[0m",
      "\u001b[1;31mKeyboardInterrupt\u001b[0m                         Traceback (most recent call last)",
      "Cell \u001b[1;32mIn[100], line 9\u001b[0m\n\u001b[0;32m      6\u001b[0m valid_acc \u001b[39m=\u001b[39m \u001b[39m0.0\u001b[39m\n\u001b[0;32m      8\u001b[0m model\u001b[39m.\u001b[39mtrain()\n\u001b[1;32m----> 9\u001b[0m \u001b[39mfor\u001b[39;00m i, (inputs, labels) \u001b[39min\u001b[39;00m \u001b[39menumerate\u001b[39m(tqdm(train_loader, total\u001b[39m=\u001b[39m\u001b[39mlen\u001b[39m(train_loader), unit\u001b[39m=\u001b[39m\u001b[39m'\u001b[39m\u001b[39mbatch\u001b[39m\u001b[39m'\u001b[39m, desc\u001b[39m=\u001b[39m\u001b[39mf\u001b[39m\u001b[39m\"\u001b[39m\u001b[39mEpoch \u001b[39m\u001b[39m{\u001b[39;00mepoch\u001b[39m+\u001b[39m\u001b[39m1\u001b[39m\u001b[39m}\u001b[39;00m\u001b[39m/\u001b[39m\u001b[39m{\u001b[39;00mn_epochs\u001b[39m}\u001b[39;00m\u001b[39m Training\u001b[39m\u001b[39m\"\u001b[39m)):\n\u001b[0;32m     10\u001b[0m     inputs \u001b[39m=\u001b[39m inputs\u001b[39m.\u001b[39mto(device)\n\u001b[0;32m     11\u001b[0m     labels \u001b[39m=\u001b[39m labels\u001b[39m.\u001b[39mto(device)\n",
      "File \u001b[1;32mc:\\Work\\Final Project\\HeartsOnFire\\.venv\\lib\\site-packages\\tqdm\\std.py:1178\u001b[0m, in \u001b[0;36mtqdm.__iter__\u001b[1;34m(self)\u001b[0m\n\u001b[0;32m   1175\u001b[0m time \u001b[39m=\u001b[39m \u001b[39mself\u001b[39m\u001b[39m.\u001b[39m_time\n\u001b[0;32m   1177\u001b[0m \u001b[39mtry\u001b[39;00m:\n\u001b[1;32m-> 1178\u001b[0m     \u001b[39mfor\u001b[39;00m obj \u001b[39min\u001b[39;00m iterable:\n\u001b[0;32m   1179\u001b[0m         \u001b[39myield\u001b[39;00m obj\n\u001b[0;32m   1180\u001b[0m         \u001b[39m# Update and possibly print the progressbar.\u001b[39;00m\n\u001b[0;32m   1181\u001b[0m         \u001b[39m# Note: does not call self.update(1) for speed optimisation.\u001b[39;00m\n",
      "File \u001b[1;32mc:\\Work\\Final Project\\HeartsOnFire\\.venv\\lib\\site-packages\\torch\\utils\\data\\dataloader.py:634\u001b[0m, in \u001b[0;36m_BaseDataLoaderIter.__next__\u001b[1;34m(self)\u001b[0m\n\u001b[0;32m    631\u001b[0m \u001b[39mif\u001b[39;00m \u001b[39mself\u001b[39m\u001b[39m.\u001b[39m_sampler_iter \u001b[39mis\u001b[39;00m \u001b[39mNone\u001b[39;00m:\n\u001b[0;32m    632\u001b[0m     \u001b[39m# TODO(https://github.com/pytorch/pytorch/issues/76750)\u001b[39;00m\n\u001b[0;32m    633\u001b[0m     \u001b[39mself\u001b[39m\u001b[39m.\u001b[39m_reset()  \u001b[39m# type: ignore[call-arg]\u001b[39;00m\n\u001b[1;32m--> 634\u001b[0m data \u001b[39m=\u001b[39m \u001b[39mself\u001b[39;49m\u001b[39m.\u001b[39;49m_next_data()\n\u001b[0;32m    635\u001b[0m \u001b[39mself\u001b[39m\u001b[39m.\u001b[39m_num_yielded \u001b[39m+\u001b[39m\u001b[39m=\u001b[39m \u001b[39m1\u001b[39m\n\u001b[0;32m    636\u001b[0m \u001b[39mif\u001b[39;00m \u001b[39mself\u001b[39m\u001b[39m.\u001b[39m_dataset_kind \u001b[39m==\u001b[39m _DatasetKind\u001b[39m.\u001b[39mIterable \u001b[39mand\u001b[39;00m \\\n\u001b[0;32m    637\u001b[0m         \u001b[39mself\u001b[39m\u001b[39m.\u001b[39m_IterableDataset_len_called \u001b[39mis\u001b[39;00m \u001b[39mnot\u001b[39;00m \u001b[39mNone\u001b[39;00m \u001b[39mand\u001b[39;00m \\\n\u001b[0;32m    638\u001b[0m         \u001b[39mself\u001b[39m\u001b[39m.\u001b[39m_num_yielded \u001b[39m>\u001b[39m \u001b[39mself\u001b[39m\u001b[39m.\u001b[39m_IterableDataset_len_called:\n",
      "File \u001b[1;32mc:\\Work\\Final Project\\HeartsOnFire\\.venv\\lib\\site-packages\\torch\\utils\\data\\dataloader.py:678\u001b[0m, in \u001b[0;36m_SingleProcessDataLoaderIter._next_data\u001b[1;34m(self)\u001b[0m\n\u001b[0;32m    676\u001b[0m \u001b[39mdef\u001b[39;00m \u001b[39m_next_data\u001b[39m(\u001b[39mself\u001b[39m):\n\u001b[0;32m    677\u001b[0m     index \u001b[39m=\u001b[39m \u001b[39mself\u001b[39m\u001b[39m.\u001b[39m_next_index()  \u001b[39m# may raise StopIteration\u001b[39;00m\n\u001b[1;32m--> 678\u001b[0m     data \u001b[39m=\u001b[39m \u001b[39mself\u001b[39;49m\u001b[39m.\u001b[39;49m_dataset_fetcher\u001b[39m.\u001b[39;49mfetch(index)  \u001b[39m# may raise StopIteration\u001b[39;00m\n\u001b[0;32m    679\u001b[0m     \u001b[39mif\u001b[39;00m \u001b[39mself\u001b[39m\u001b[39m.\u001b[39m_pin_memory:\n\u001b[0;32m    680\u001b[0m         data \u001b[39m=\u001b[39m _utils\u001b[39m.\u001b[39mpin_memory\u001b[39m.\u001b[39mpin_memory(data, \u001b[39mself\u001b[39m\u001b[39m.\u001b[39m_pin_memory_device)\n",
      "File \u001b[1;32mc:\\Work\\Final Project\\HeartsOnFire\\.venv\\lib\\site-packages\\torch\\utils\\data\\_utils\\fetch.py:51\u001b[0m, in \u001b[0;36m_MapDatasetFetcher.fetch\u001b[1;34m(self, possibly_batched_index)\u001b[0m\n\u001b[0;32m     49\u001b[0m         data \u001b[39m=\u001b[39m \u001b[39mself\u001b[39m\u001b[39m.\u001b[39mdataset\u001b[39m.\u001b[39m__getitems__(possibly_batched_index)\n\u001b[0;32m     50\u001b[0m     \u001b[39melse\u001b[39;00m:\n\u001b[1;32m---> 51\u001b[0m         data \u001b[39m=\u001b[39m [\u001b[39mself\u001b[39m\u001b[39m.\u001b[39mdataset[idx] \u001b[39mfor\u001b[39;00m idx \u001b[39min\u001b[39;00m possibly_batched_index]\n\u001b[0;32m     52\u001b[0m \u001b[39melse\u001b[39;00m:\n\u001b[0;32m     53\u001b[0m     data \u001b[39m=\u001b[39m \u001b[39mself\u001b[39m\u001b[39m.\u001b[39mdataset[possibly_batched_index]\n",
      "File \u001b[1;32mc:\\Work\\Final Project\\HeartsOnFire\\.venv\\lib\\site-packages\\torch\\utils\\data\\_utils\\fetch.py:51\u001b[0m, in \u001b[0;36m<listcomp>\u001b[1;34m(.0)\u001b[0m\n\u001b[0;32m     49\u001b[0m         data \u001b[39m=\u001b[39m \u001b[39mself\u001b[39m\u001b[39m.\u001b[39mdataset\u001b[39m.\u001b[39m__getitems__(possibly_batched_index)\n\u001b[0;32m     50\u001b[0m     \u001b[39melse\u001b[39;00m:\n\u001b[1;32m---> 51\u001b[0m         data \u001b[39m=\u001b[39m [\u001b[39mself\u001b[39;49m\u001b[39m.\u001b[39;49mdataset[idx] \u001b[39mfor\u001b[39;00m idx \u001b[39min\u001b[39;00m possibly_batched_index]\n\u001b[0;32m     52\u001b[0m \u001b[39melse\u001b[39;00m:\n\u001b[0;32m     53\u001b[0m     data \u001b[39m=\u001b[39m \u001b[39mself\u001b[39m\u001b[39m.\u001b[39mdataset[possibly_batched_index]\n",
      "Cell \u001b[1;32mIn[80], line 26\u001b[0m, in \u001b[0;36mDrumDataset.__getitem__\u001b[1;34m(self, idx)\u001b[0m\n\u001b[0;32m     24\u001b[0m onset_time \u001b[39m=\u001b[39m row[\u001b[39m'\u001b[39m\u001b[39monset_time\u001b[39m\u001b[39m'\u001b[39m]\n\u001b[0;32m     25\u001b[0m labels \u001b[39m=\u001b[39m row[drum_labels]\u001b[39m.\u001b[39mastype(\u001b[39mint\u001b[39m)\u001b[39m.\u001b[39mvalues\u001b[39m.\u001b[39mflatten()\n\u001b[1;32m---> 26\u001b[0m labels \u001b[39m=\u001b[39m torch\u001b[39m.\u001b[39;49mtensor(labels)\u001b[39m.\u001b[39mfloat()\n\u001b[0;32m     27\u001b[0m track_name \u001b[39m=\u001b[39m row[\u001b[39m'\u001b[39m\u001b[39mname\u001b[39m\u001b[39m'\u001b[39m]\n\u001b[0;32m     28\u001b[0m \u001b[39m#print(track_name, onset_time)\u001b[39;00m\n",
      "\u001b[1;31mKeyboardInterrupt\u001b[0m: "
     ]
    }
   ],
   "source": [
    "max_acc = 89.47\n",
    "\n",
    "for epoch in range(start_epoch, n_epochs):\n",
    "    train_loss = 0.0\n",
    "    train_acc = 0.0\n",
    "    valid_acc = 0.0\n",
    "\n",
    "    model.train()\n",
    "    for i, (inputs, labels) in enumerate(tqdm(train_loader, total=len(train_loader), unit='batch', desc=f\"Epoch {epoch+1}/{n_epochs} Training\")):\n",
    "        inputs = inputs.to(device)\n",
    "        labels = labels.to(device)\n",
    "        optimizer.zero_grad()\n",
    "        outputs = model(inputs)\n",
    "        loss = criterion(outputs, labels)\n",
    "        loss.backward()\n",
    "        optimizer.step()\n",
    "        train_loss += loss.item() * inputs.size(0)\n",
    "        train_acc += accuracy(outputs, labels) * inputs.size(0)\n",
    "    train_loss /= len(train_loader.dataset)\n",
    "    train_acc /= len(train_loader.dataset)\n",
    "    # Evaluate the model on the validation set\n",
    "    true_labels = []\n",
    "    predicted_labels = []\n",
    "    model.eval()\n",
    "    with torch.no_grad():\n",
    "        for i, (inputs, labels) in enumerate(tqdm(valid_loader, total=len(valid_loader), unit='batch', desc=f\"Epoch {epoch+1}/{n_epochs} Validation\")):\n",
    "            inputs = inputs.to(device)\n",
    "            labels = labels.to(device).float()\n",
    "            outputs = model(inputs)\n",
    "            loss = criterion(outputs, labels)\n",
    "            valid_loss += loss.item() * inputs.size(0)\n",
    "            valid_acc += accuracy(outputs, labels) * inputs.size(0)\n",
    "            true_labels.extend(labels.cpu().numpy().tolist())\n",
    "            predicted_labels.extend((outputs.cpu() > 0.0).float().numpy().tolist())\n",
    "        valid_loss /= len(valid_loader.dataset)\n",
    "        valid_acc /= len(valid_loader.dataset)\n",
    "\n",
    "        cm = multilabel_confusion_matrix(true_labels, predicted_labels)\n",
    "        f, axes = plt.subplots(1, 6, figsize=(25, 6))\n",
    "        axes = axes.ravel()\n",
    "        for i in range(len(drum_labels)):\n",
    "            disp = ConfusionMatrixDisplay(cm[i], display_labels=[0, 1])\n",
    "            disp.plot(ax=axes[i], values_format='.4g')\n",
    "            disp.ax_.set_title(drum_labels[i])\n",
    "            disp.im_.colorbar.remove()\n",
    "\n",
    "        plt.subplots_adjust(wspace=0.10, hspace=0.1)\n",
    "        f.colorbar(disp.im_, ax=axes)\n",
    "        plt.savefig(f'cm_e{epoch+1}.png')\n",
    "        plt.close()\n",
    "    \n",
    "    # Update the learning rate based on the validation loss\n",
    "    scheduler.step(valid_loss)\n",
    "    \n",
    "    # Print the training and validation loss and accuracy\n",
    "    tqdm.write(f'Epoch {epoch+1}/{n_epochs}, Train Loss: {train_loss:.4f}, Train Acc: {train_acc:.2f}%, Valid Loss: {valid_loss:.4f}, Valid Acc: {valid_acc:.2f}%')\n",
    "\n",
    "    if valid_acc > max_acc:\n",
    "        checkpoint = {\n",
    "            'model': model.state_dict(),\n",
    "            'optimizer': optimizer.state_dict(),\n",
    "            'scheduler': scheduler.state_dict(),\n",
    "            'epoch': epoch\n",
    "        }\n",
    "        max_acc = valid_acc\n",
    "        torch.save(checkpoint, f'models/{dataset_name}_nfft1024_nomfcc_{valid_acc:.2f}.pth')"
   ]
  },
  {
   "attachments": {},
   "cell_type": "markdown",
   "metadata": {},
   "source": [
    "### Saving the model"
   ]
  },
  {
   "cell_type": "code",
   "execution_count": 92,
   "metadata": {},
   "outputs": [],
   "source": [
    "checkpoint = {\n",
    "    'model': model.state_dict(),\n",
    "    'optimizer': optimizer.state_dict(),\n",
    "    'scheduler': scheduler.state_dict(),\n",
    "    'epoch': epoch\n",
    "}\n",
    "torch.save(checkpoint, f'models/{dataset_name}_nfft1024_nomfcc_{valid_acc:.2f}.pth')"
   ]
  },
  {
   "attachments": {},
   "cell_type": "markdown",
   "metadata": {},
   "source": [
    "## Labeling a dataset song with the model"
   ]
  },
  {
   "attachments": {},
   "cell_type": "markdown",
   "metadata": {},
   "source": [
    "I use this section to iteratively improve my dataset and model."
   ]
  },
  {
   "attachments": {},
   "cell_type": "markdown",
   "metadata": {},
   "source": [
    "### Get onset times from dataset"
   ]
  },
  {
   "cell_type": "code",
   "execution_count": 20,
   "metadata": {},
   "outputs": [
    {
     "data": {
      "text/html": [
       "<div>\n",
       "<style scoped>\n",
       "    .dataframe tbody tr th:only-of-type {\n",
       "        vertical-align: middle;\n",
       "    }\n",
       "\n",
       "    .dataframe tbody tr th {\n",
       "        vertical-align: top;\n",
       "    }\n",
       "\n",
       "    .dataframe thead th {\n",
       "        text-align: right;\n",
       "    }\n",
       "</style>\n",
       "<table border=\"1\" class=\"dataframe\">\n",
       "  <thead>\n",
       "    <tr style=\"text-align: right;\">\n",
       "      <th></th>\n",
       "      <th>onset_time</th>\n",
       "      <th>kick</th>\n",
       "      <th>snare</th>\n",
       "      <th>hihat</th>\n",
       "      <th>tom</th>\n",
       "      <th>crash</th>\n",
       "      <th>ride</th>\n",
       "      <th>other</th>\n",
       "      <th>name</th>\n",
       "    </tr>\n",
       "  </thead>\n",
       "  <tbody>\n",
       "    <tr>\n",
       "      <th>0</th>\n",
       "      <td>0.568889</td>\n",
       "      <td>False</td>\n",
       "      <td>False</td>\n",
       "      <td>False</td>\n",
       "      <td>False</td>\n",
       "      <td>False</td>\n",
       "      <td>False</td>\n",
       "      <td>False</td>\n",
       "      <td>Shoji Meguro - Long Way</td>\n",
       "    </tr>\n",
       "    <tr>\n",
       "      <th>1</th>\n",
       "      <td>0.708209</td>\n",
       "      <td>False</td>\n",
       "      <td>False</td>\n",
       "      <td>False</td>\n",
       "      <td>False</td>\n",
       "      <td>False</td>\n",
       "      <td>False</td>\n",
       "      <td>False</td>\n",
       "      <td>Shoji Meguro - Long Way</td>\n",
       "    </tr>\n",
       "    <tr>\n",
       "      <th>2</th>\n",
       "      <td>0.812698</td>\n",
       "      <td>False</td>\n",
       "      <td>False</td>\n",
       "      <td>False</td>\n",
       "      <td>False</td>\n",
       "      <td>False</td>\n",
       "      <td>False</td>\n",
       "      <td>False</td>\n",
       "      <td>Shoji Meguro - Long Way</td>\n",
       "    </tr>\n",
       "    <tr>\n",
       "      <th>3</th>\n",
       "      <td>1.044898</td>\n",
       "      <td>False</td>\n",
       "      <td>False</td>\n",
       "      <td>False</td>\n",
       "      <td>False</td>\n",
       "      <td>False</td>\n",
       "      <td>False</td>\n",
       "      <td>False</td>\n",
       "      <td>Shoji Meguro - Long Way</td>\n",
       "    </tr>\n",
       "    <tr>\n",
       "      <th>4</th>\n",
       "      <td>1.184218</td>\n",
       "      <td>False</td>\n",
       "      <td>False</td>\n",
       "      <td>False</td>\n",
       "      <td>False</td>\n",
       "      <td>False</td>\n",
       "      <td>False</td>\n",
       "      <td>False</td>\n",
       "      <td>Shoji Meguro - Long Way</td>\n",
       "    </tr>\n",
       "    <tr>\n",
       "      <th>...</th>\n",
       "      <td>...</td>\n",
       "      <td>...</td>\n",
       "      <td>...</td>\n",
       "      <td>...</td>\n",
       "      <td>...</td>\n",
       "      <td>...</td>\n",
       "      <td>...</td>\n",
       "      <td>...</td>\n",
       "      <td>...</td>\n",
       "    </tr>\n",
       "    <tr>\n",
       "      <th>950</th>\n",
       "      <td>139.226848</td>\n",
       "      <td>False</td>\n",
       "      <td>False</td>\n",
       "      <td>False</td>\n",
       "      <td>False</td>\n",
       "      <td>False</td>\n",
       "      <td>False</td>\n",
       "      <td>False</td>\n",
       "      <td>Shoji Meguro - Long Way</td>\n",
       "    </tr>\n",
       "    <tr>\n",
       "      <th>951</th>\n",
       "      <td>139.331338</td>\n",
       "      <td>False</td>\n",
       "      <td>False</td>\n",
       "      <td>False</td>\n",
       "      <td>False</td>\n",
       "      <td>False</td>\n",
       "      <td>False</td>\n",
       "      <td>False</td>\n",
       "      <td>Shoji Meguro - Long Way</td>\n",
       "    </tr>\n",
       "    <tr>\n",
       "      <th>952</th>\n",
       "      <td>139.563537</td>\n",
       "      <td>False</td>\n",
       "      <td>False</td>\n",
       "      <td>False</td>\n",
       "      <td>False</td>\n",
       "      <td>False</td>\n",
       "      <td>False</td>\n",
       "      <td>False</td>\n",
       "      <td>Shoji Meguro - Long Way</td>\n",
       "    </tr>\n",
       "    <tr>\n",
       "      <th>953</th>\n",
       "      <td>139.795737</td>\n",
       "      <td>False</td>\n",
       "      <td>False</td>\n",
       "      <td>False</td>\n",
       "      <td>False</td>\n",
       "      <td>False</td>\n",
       "      <td>False</td>\n",
       "      <td>False</td>\n",
       "      <td>Shoji Meguro - Long Way</td>\n",
       "    </tr>\n",
       "    <tr>\n",
       "      <th>954</th>\n",
       "      <td>140.271746</td>\n",
       "      <td>False</td>\n",
       "      <td>False</td>\n",
       "      <td>False</td>\n",
       "      <td>False</td>\n",
       "      <td>False</td>\n",
       "      <td>False</td>\n",
       "      <td>False</td>\n",
       "      <td>Shoji Meguro - Long Way</td>\n",
       "    </tr>\n",
       "  </tbody>\n",
       "</table>\n",
       "<p>955 rows × 9 columns</p>\n",
       "</div>"
      ],
      "text/plain": [
       "     onset_time   kick  snare  hihat    tom  crash   ride  other  \\\n",
       "0      0.568889  False  False  False  False  False  False  False   \n",
       "1      0.708209  False  False  False  False  False  False  False   \n",
       "2      0.812698  False  False  False  False  False  False  False   \n",
       "3      1.044898  False  False  False  False  False  False  False   \n",
       "4      1.184218  False  False  False  False  False  False  False   \n",
       "..          ...    ...    ...    ...    ...    ...    ...    ...   \n",
       "950  139.226848  False  False  False  False  False  False  False   \n",
       "951  139.331338  False  False  False  False  False  False  False   \n",
       "952  139.563537  False  False  False  False  False  False  False   \n",
       "953  139.795737  False  False  False  False  False  False  False   \n",
       "954  140.271746  False  False  False  False  False  False  False   \n",
       "\n",
       "                        name  \n",
       "0    Shoji Meguro - Long Way  \n",
       "1    Shoji Meguro - Long Way  \n",
       "2    Shoji Meguro - Long Way  \n",
       "3    Shoji Meguro - Long Way  \n",
       "4    Shoji Meguro - Long Way  \n",
       "..                       ...  \n",
       "950  Shoji Meguro - Long Way  \n",
       "951  Shoji Meguro - Long Way  \n",
       "952  Shoji Meguro - Long Way  \n",
       "953  Shoji Meguro - Long Way  \n",
       "954  Shoji Meguro - Long Way  \n",
       "\n",
       "[955 rows x 9 columns]"
      ]
     },
     "execution_count": 20,
     "metadata": {},
     "output_type": "execute_result"
    }
   ],
   "source": [
    "name = \"Shoji Meguro - Long Way\"\n",
    "label_onset_path = f\"{dataset_name}/{name}/onsets.csv\"\n",
    "label_df = pd.read_csv(label_onset_path)\n",
    "label_df[\"name\"] = name\n",
    "label_df"
   ]
  },
  {
   "attachments": {},
   "cell_type": "markdown",
   "metadata": {},
   "source": [
    "### Load model checkpoint"
   ]
  },
  {
   "cell_type": "code",
   "execution_count": 16,
   "metadata": {},
   "outputs": [
    {
     "data": {
      "text/plain": [
       "<All keys matched successfully>"
      ]
     },
     "execution_count": 16,
     "metadata": {},
     "output_type": "execute_result"
    }
   ],
   "source": [
    "checkpoint = torch.load('models/HeartsOnFire-v.1.0.3_nfft1024_89.12.pth')\n",
    "model = DrumCNN().to(device)\n",
    "model.load_state_dict(checkpoint['model'])"
   ]
  },
  {
   "attachments": {},
   "cell_type": "markdown",
   "metadata": {},
   "source": [
    "### Load the onset times and label them with the model"
   ]
  },
  {
   "cell_type": "code",
   "execution_count": 21,
   "metadata": {},
   "outputs": [
    {
     "name": "stderr",
     "output_type": "stream",
     "text": [
      "Labeling: 100%|██████████| 60/60 [00:10<00:00,  5.69batch/s]\n"
     ]
    }
   ],
   "source": [
    "labeling_dataset = DrumDataset(label_df, f\"{dataset_name}/master.csv\", fast_transform)\n",
    "labeling_loader = DataLoader(labeling_dataset, batch_size=16, shuffle=False)\n",
    "\n",
    "model.eval()\n",
    "predicted_labels=[]\n",
    "with torch.no_grad():\n",
    "    for i, (inputs, labels) in enumerate(tqdm(labeling_loader, total=len(labeling_loader), unit='batch', desc=f\"Labeling\")):\n",
    "        inputs = inputs.to(device)\n",
    "        outputs = model(inputs)\n",
    "        predicted_labels.extend((outputs>0.0).cpu().numpy().tolist())"
   ]
  },
  {
   "cell_type": "code",
   "execution_count": 22,
   "metadata": {},
   "outputs": [
    {
     "data": {
      "text/html": [
       "<div>\n",
       "<style scoped>\n",
       "    .dataframe tbody tr th:only-of-type {\n",
       "        vertical-align: middle;\n",
       "    }\n",
       "\n",
       "    .dataframe tbody tr th {\n",
       "        vertical-align: top;\n",
       "    }\n",
       "\n",
       "    .dataframe thead th {\n",
       "        text-align: right;\n",
       "    }\n",
       "</style>\n",
       "<table border=\"1\" class=\"dataframe\">\n",
       "  <thead>\n",
       "    <tr style=\"text-align: right;\">\n",
       "      <th></th>\n",
       "      <th>onset_time</th>\n",
       "      <th>kick</th>\n",
       "      <th>snare</th>\n",
       "      <th>hihat</th>\n",
       "      <th>tom</th>\n",
       "      <th>crash</th>\n",
       "      <th>ride</th>\n",
       "      <th>other</th>\n",
       "      <th>name</th>\n",
       "    </tr>\n",
       "  </thead>\n",
       "  <tbody>\n",
       "    <tr>\n",
       "      <th>0</th>\n",
       "      <td>0.568889</td>\n",
       "      <td>True</td>\n",
       "      <td>False</td>\n",
       "      <td>False</td>\n",
       "      <td>False</td>\n",
       "      <td>False</td>\n",
       "      <td>False</td>\n",
       "      <td>False</td>\n",
       "      <td>Shoji Meguro - Long Way</td>\n",
       "    </tr>\n",
       "    <tr>\n",
       "      <th>1</th>\n",
       "      <td>0.708209</td>\n",
       "      <td>True</td>\n",
       "      <td>False</td>\n",
       "      <td>False</td>\n",
       "      <td>False</td>\n",
       "      <td>False</td>\n",
       "      <td>False</td>\n",
       "      <td>False</td>\n",
       "      <td>Shoji Meguro - Long Way</td>\n",
       "    </tr>\n",
       "    <tr>\n",
       "      <th>2</th>\n",
       "      <td>0.812698</td>\n",
       "      <td>False</td>\n",
       "      <td>False</td>\n",
       "      <td>True</td>\n",
       "      <td>False</td>\n",
       "      <td>False</td>\n",
       "      <td>False</td>\n",
       "      <td>False</td>\n",
       "      <td>Shoji Meguro - Long Way</td>\n",
       "    </tr>\n",
       "    <tr>\n",
       "      <th>3</th>\n",
       "      <td>1.044898</td>\n",
       "      <td>True</td>\n",
       "      <td>False</td>\n",
       "      <td>False</td>\n",
       "      <td>False</td>\n",
       "      <td>False</td>\n",
       "      <td>False</td>\n",
       "      <td>False</td>\n",
       "      <td>Shoji Meguro - Long Way</td>\n",
       "    </tr>\n",
       "    <tr>\n",
       "      <th>4</th>\n",
       "      <td>1.184218</td>\n",
       "      <td>False</td>\n",
       "      <td>False</td>\n",
       "      <td>False</td>\n",
       "      <td>False</td>\n",
       "      <td>False</td>\n",
       "      <td>False</td>\n",
       "      <td>False</td>\n",
       "      <td>Shoji Meguro - Long Way</td>\n",
       "    </tr>\n",
       "    <tr>\n",
       "      <th>...</th>\n",
       "      <td>...</td>\n",
       "      <td>...</td>\n",
       "      <td>...</td>\n",
       "      <td>...</td>\n",
       "      <td>...</td>\n",
       "      <td>...</td>\n",
       "      <td>...</td>\n",
       "      <td>...</td>\n",
       "      <td>...</td>\n",
       "    </tr>\n",
       "    <tr>\n",
       "      <th>950</th>\n",
       "      <td>139.226848</td>\n",
       "      <td>False</td>\n",
       "      <td>False</td>\n",
       "      <td>False</td>\n",
       "      <td>False</td>\n",
       "      <td>False</td>\n",
       "      <td>False</td>\n",
       "      <td>False</td>\n",
       "      <td>Shoji Meguro - Long Way</td>\n",
       "    </tr>\n",
       "    <tr>\n",
       "      <th>951</th>\n",
       "      <td>139.331338</td>\n",
       "      <td>True</td>\n",
       "      <td>False</td>\n",
       "      <td>False</td>\n",
       "      <td>False</td>\n",
       "      <td>False</td>\n",
       "      <td>False</td>\n",
       "      <td>False</td>\n",
       "      <td>Shoji Meguro - Long Way</td>\n",
       "    </tr>\n",
       "    <tr>\n",
       "      <th>952</th>\n",
       "      <td>139.563537</td>\n",
       "      <td>False</td>\n",
       "      <td>False</td>\n",
       "      <td>True</td>\n",
       "      <td>False</td>\n",
       "      <td>False</td>\n",
       "      <td>False</td>\n",
       "      <td>False</td>\n",
       "      <td>Shoji Meguro - Long Way</td>\n",
       "    </tr>\n",
       "    <tr>\n",
       "      <th>953</th>\n",
       "      <td>139.795737</td>\n",
       "      <td>True</td>\n",
       "      <td>False</td>\n",
       "      <td>False</td>\n",
       "      <td>False</td>\n",
       "      <td>False</td>\n",
       "      <td>False</td>\n",
       "      <td>False</td>\n",
       "      <td>Shoji Meguro - Long Way</td>\n",
       "    </tr>\n",
       "    <tr>\n",
       "      <th>954</th>\n",
       "      <td>140.271746</td>\n",
       "      <td>True</td>\n",
       "      <td>False</td>\n",
       "      <td>False</td>\n",
       "      <td>False</td>\n",
       "      <td>False</td>\n",
       "      <td>False</td>\n",
       "      <td>False</td>\n",
       "      <td>Shoji Meguro - Long Way</td>\n",
       "    </tr>\n",
       "  </tbody>\n",
       "</table>\n",
       "<p>955 rows × 9 columns</p>\n",
       "</div>"
      ],
      "text/plain": [
       "     onset_time   kick  snare  hihat    tom  crash   ride  other  \\\n",
       "0      0.568889   True  False  False  False  False  False  False   \n",
       "1      0.708209   True  False  False  False  False  False  False   \n",
       "2      0.812698  False  False   True  False  False  False  False   \n",
       "3      1.044898   True  False  False  False  False  False  False   \n",
       "4      1.184218  False  False  False  False  False  False  False   \n",
       "..          ...    ...    ...    ...    ...    ...    ...    ...   \n",
       "950  139.226848  False  False  False  False  False  False  False   \n",
       "951  139.331338   True  False  False  False  False  False  False   \n",
       "952  139.563537  False  False   True  False  False  False  False   \n",
       "953  139.795737   True  False  False  False  False  False  False   \n",
       "954  140.271746   True  False  False  False  False  False  False   \n",
       "\n",
       "                        name  \n",
       "0    Shoji Meguro - Long Way  \n",
       "1    Shoji Meguro - Long Way  \n",
       "2    Shoji Meguro - Long Way  \n",
       "3    Shoji Meguro - Long Way  \n",
       "4    Shoji Meguro - Long Way  \n",
       "..                       ...  \n",
       "950  Shoji Meguro - Long Way  \n",
       "951  Shoji Meguro - Long Way  \n",
       "952  Shoji Meguro - Long Way  \n",
       "953  Shoji Meguro - Long Way  \n",
       "954  Shoji Meguro - Long Way  \n",
       "\n",
       "[955 rows x 9 columns]"
      ]
     },
     "execution_count": 22,
     "metadata": {},
     "output_type": "execute_result"
    }
   ],
   "source": [
    "label_df[drum_labels] = predicted_labels\n",
    "label_df"
   ]
  },
  {
   "attachments": {},
   "cell_type": "markdown",
   "metadata": {},
   "source": [
    "### Save the final result as an updated .csv file"
   ]
  },
  {
   "attachments": {},
   "cell_type": "markdown",
   "metadata": {},
   "source": [
    "The more the model improves, the less labeling I have to do. The minor corrections I DO have to perform, will be picked up on in the next iterations of the model."
   ]
  },
  {
   "cell_type": "code",
   "execution_count": 23,
   "metadata": {},
   "outputs": [],
   "source": [
    "label_df.to_csv(label_onset_path, index=False)"
   ]
  }
 ],
 "metadata": {
  "kernelspec": {
   "display_name": ".venv",
   "language": "python",
   "name": "python3"
  },
  "language_info": {
   "codemirror_mode": {
    "name": "ipython",
    "version": 3
   },
   "file_extension": ".py",
   "mimetype": "text/x-python",
   "name": "python",
   "nbconvert_exporter": "python",
   "pygments_lexer": "ipython3",
   "version": "3.10.4"
  },
  "orig_nbformat": 4
 },
 "nbformat": 4,
 "nbformat_minor": 2
}
