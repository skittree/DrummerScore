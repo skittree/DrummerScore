{
 "cells": [
  {
   "cell_type": "code",
   "execution_count": 4,
   "metadata": {},
   "outputs": [
    {
     "data": {
      "text/html": [
       "<div>\n",
       "<style scoped>\n",
       "    .dataframe tbody tr th:only-of-type {\n",
       "        vertical-align: middle;\n",
       "    }\n",
       "\n",
       "    .dataframe tbody tr th {\n",
       "        vertical-align: top;\n",
       "    }\n",
       "\n",
       "    .dataframe thead th {\n",
       "        text-align: right;\n",
       "    }\n",
       "</style>\n",
       "<table border=\"1\" class=\"dataframe\">\n",
       "  <thead>\n",
       "    <tr style=\"text-align: right;\">\n",
       "      <th></th>\n",
       "      <th>pitches</th>\n",
       "      <th>velocities</th>\n",
       "      <th>start_time</th>\n",
       "      <th>end_time</th>\n",
       "      <th>audio_filename</th>\n",
       "    </tr>\n",
       "  </thead>\n",
       "  <tbody>\n",
       "    <tr>\n",
       "      <th>0</th>\n",
       "      <td>38</td>\n",
       "      <td>7</td>\n",
       "      <td>2.115625</td>\n",
       "      <td>2.176563</td>\n",
       "      <td>drummer1/session1/1_funk_80_beat_4-4_1.wav</td>\n",
       "    </tr>\n",
       "    <tr>\n",
       "      <th>1</th>\n",
       "      <td>38</td>\n",
       "      <td>10</td>\n",
       "      <td>2.176563</td>\n",
       "      <td>2.215625</td>\n",
       "      <td>drummer1/session1/1_funk_80_beat_4-4_1.wav</td>\n",
       "    </tr>\n",
       "    <tr>\n",
       "      <th>2</th>\n",
       "      <td>38</td>\n",
       "      <td>56</td>\n",
       "      <td>2.454688</td>\n",
       "      <td>2.556250</td>\n",
       "      <td>drummer1/session1/1_funk_80_beat_4-4_1.wav</td>\n",
       "    </tr>\n",
       "    <tr>\n",
       "      <th>3</th>\n",
       "      <td>44</td>\n",
       "      <td>65</td>\n",
       "      <td>2.614063</td>\n",
       "      <td>2.715625</td>\n",
       "      <td>drummer1/session1/1_funk_80_beat_4-4_1.wav</td>\n",
       "    </tr>\n",
       "    <tr>\n",
       "      <th>4</th>\n",
       "      <td>38</td>\n",
       "      <td>48</td>\n",
       "      <td>2.628125</td>\n",
       "      <td>2.728125</td>\n",
       "      <td>drummer1/session1/1_funk_80_beat_4-4_1.wav</td>\n",
       "    </tr>\n",
       "    <tr>\n",
       "      <th>...</th>\n",
       "      <td>...</td>\n",
       "      <td>...</td>\n",
       "      <td>...</td>\n",
       "      <td>...</td>\n",
       "      <td>...</td>\n",
       "    </tr>\n",
       "    <tr>\n",
       "      <th>8579843</th>\n",
       "      <td>36</td>\n",
       "      <td>55</td>\n",
       "      <td>8.191250</td>\n",
       "      <td>8.291250</td>\n",
       "      <td>drummer9/session1/9_rock_100_beat_4-4_8.wav</td>\n",
       "    </tr>\n",
       "    <tr>\n",
       "      <th>8579844</th>\n",
       "      <td>36</td>\n",
       "      <td>43</td>\n",
       "      <td>8.311250</td>\n",
       "      <td>8.412500</td>\n",
       "      <td>drummer9/session1/9_rock_100_beat_4-4_8.wav</td>\n",
       "    </tr>\n",
       "    <tr>\n",
       "      <th>8579845</th>\n",
       "      <td>40</td>\n",
       "      <td>127</td>\n",
       "      <td>8.383750</td>\n",
       "      <td>8.483750</td>\n",
       "      <td>drummer9/session1/9_rock_100_beat_4-4_8.wav</td>\n",
       "    </tr>\n",
       "    <tr>\n",
       "      <th>8579846</th>\n",
       "      <td>36</td>\n",
       "      <td>65</td>\n",
       "      <td>8.660000</td>\n",
       "      <td>8.761250</td>\n",
       "      <td>drummer9/session1/9_rock_100_beat_4-4_8.wav</td>\n",
       "    </tr>\n",
       "    <tr>\n",
       "      <th>8579847</th>\n",
       "      <td>55 36</td>\n",
       "      <td>68 70</td>\n",
       "      <td>8.967500</td>\n",
       "      <td>9.071250</td>\n",
       "      <td>drummer9/session1/9_rock_100_beat_4-4_8.wav</td>\n",
       "    </tr>\n",
       "  </tbody>\n",
       "</table>\n",
       "<p>8579848 rows × 5 columns</p>\n",
       "</div>"
      ],
      "text/plain": [
       "        pitches velocities  start_time  end_time  \\\n",
       "0            38          7    2.115625  2.176563   \n",
       "1            38         10    2.176563  2.215625   \n",
       "2            38         56    2.454688  2.556250   \n",
       "3            44         65    2.614063  2.715625   \n",
       "4            38         48    2.628125  2.728125   \n",
       "...         ...        ...         ...       ...   \n",
       "8579843      36         55    8.191250  8.291250   \n",
       "8579844      36         43    8.311250  8.412500   \n",
       "8579845      40        127    8.383750  8.483750   \n",
       "8579846      36         65    8.660000  8.761250   \n",
       "8579847   55 36      68 70    8.967500  9.071250   \n",
       "\n",
       "                                      audio_filename  \n",
       "0         drummer1/session1/1_funk_80_beat_4-4_1.wav  \n",
       "1         drummer1/session1/1_funk_80_beat_4-4_1.wav  \n",
       "2         drummer1/session1/1_funk_80_beat_4-4_1.wav  \n",
       "3         drummer1/session1/1_funk_80_beat_4-4_1.wav  \n",
       "4         drummer1/session1/1_funk_80_beat_4-4_1.wav  \n",
       "...                                              ...  \n",
       "8579843  drummer9/session1/9_rock_100_beat_4-4_8.wav  \n",
       "8579844  drummer9/session1/9_rock_100_beat_4-4_8.wav  \n",
       "8579845  drummer9/session1/9_rock_100_beat_4-4_8.wav  \n",
       "8579846  drummer9/session1/9_rock_100_beat_4-4_8.wav  \n",
       "8579847  drummer9/session1/9_rock_100_beat_4-4_8.wav  \n",
       "\n",
       "[8579848 rows x 5 columns]"
      ]
     },
     "execution_count": 4,
     "metadata": {},
     "output_type": "execute_result"
    }
   ],
   "source": [
    "import torch\n",
    "import librosa\n",
    "import os\n",
    "import matplotlib.pyplot as plt\n",
    "import csv\n",
    "import pandas as pd\n",
    "\n",
    "dataset_name = \"e-gmd-v1.0.0\"\n",
    "\n",
    "df = pd.read_csv(os.path.join(dataset_name, \"e-gmd-v1.0.0-clean.csv\"))\n",
    "\n",
    "train_dfs = []\n",
    "valid_dfs = []\n",
    "\n",
    "def process_row(row):\n",
    "    onsets_path = row['csv_filename']\n",
    "    onsets_df = pd.read_csv(os.path.join(dataset_name, onsets_path))\n",
    "    onsets_df['audio_filename'] = row['audio_filename']\n",
    "    split = row['split']\n",
    "    if split == 'train':\n",
    "        train_dfs.append(onsets_df)\n",
    "    elif split == 'validation':\n",
    "        valid_dfs.append(onsets_df)\n",
    "\n",
    "df.apply(process_row, axis=1)\n",
    "\n",
    "train_df = pd.concat(train_dfs, ignore_index=True)\n",
    "valid_df = pd.concat(valid_dfs, ignore_index=True)\n",
    "\n",
    "train_df"
   ]
  },
  {
   "cell_type": "code",
   "execution_count": 5,
   "metadata": {},
   "outputs": [],
   "source": [
    "drum_mapping ={\n",
    "        36: \"kick\",\n",
    "        37: \"snare_xstick\",\n",
    "        38: \"snare\",\n",
    "        39: \"clap\",\n",
    "        40: \"snare_rimshot\",\n",
    "\n",
    "        48: \"tom1\",\n",
    "        50: \"tom1_rim\",\n",
    "        45: \"tom2\",\n",
    "        47: \"tom2_rim\",\n",
    "        43: \"tom3\",\n",
    "        58: \"tom3_rim\",\n",
    "\n",
    "        46: \"hhopen_bow\",\n",
    "        #26: \"hhopen_edge\",\n",
    "        42: \"hhclosed_bow\",\n",
    "        #22: \"hhclosed_edge\",\n",
    "        44: \"hhpedal\",\n",
    "        54: \"tambourine\",\n",
    "          \n",
    "        49: \"crash1_bow\",\n",
    "        55: \"crash1_edge\",\n",
    "        57: \"crash2_bow\",\n",
    "        52: \"crash2_edge\",\n",
    "\n",
    "        51: \"ride_bow\",\n",
    "        59: \"ride_edge\",\n",
    "          \n",
    "        53: \"ride_bell\",\n",
    "        56: \"cowbell\",\n",
    "}"
   ]
  },
  {
   "cell_type": "code",
   "execution_count": 41,
   "metadata": {},
   "outputs": [],
   "source": [
    "import random\n",
    "import torch\n",
    "import torch.nn as nn\n",
    "import torch.optim as optim\n",
    "import torchaudio\n",
    "from torch.utils.data import DataLoader\n",
    "from torch.utils.data.dataset import Dataset\n",
    "from torchvision import transforms\n",
    "import numpy as np\n",
    "from IPython.display import Audio\n",
    "import time\n",
    "\n",
    "# Define the dataset class\n",
    "class DrumDataset(Dataset):\n",
    "    def __init__(self, df, transform, sr=44100, window_size=8192):\n",
    "        self.df = df\n",
    "        self.window_size = window_size\n",
    "        self.transform = transform\n",
    "        self.sr = sr\n",
    "        \n",
    "    def __len__(self):\n",
    "        return len(self.df)\n",
    "    \n",
    "    def __getitem__(self, idx):\n",
    "        # Load the onset time, label, and track name for the given index\n",
    "        row = self.df.iloc[idx]\n",
    "        #onset_time = (row['start_time']+row['end_time'])/2 # middle of note variant\n",
    "        onset_time = row['start_time'] # start of note variant\n",
    "        track_filename = row['audio_filename']\n",
    "        audio, sr = torchaudio.load(os.path.join(dataset_name, track_filename), frame_offset=int(onset_time*self.sr)-self.window_size//2, num_frames=self.window_size)\n",
    "        onset_window = audio\n",
    "        if onset_window.shape[0] == 2:\n",
    "            onset_window = torch.mean(onset_window, dim=0, keepdim=True)\n",
    "        padding_size = max(0, self.window_size - onset_window.size(-1))\n",
    "\n",
    "        if padding_size > 0:\n",
    "            padding = (padding_size // 2, padding_size - padding_size // 2)  # divide the padding equally before and after the window\n",
    "            onset_window = torch.nn.functional.pad(onset_window, padding, \"constant\", 0)\n",
    "\n",
    "        # Create binary mask for overlapping drum notes\n",
    "        drum_tensor = torch.zeros(len(drum_mapping))\n",
    "        if isinstance(row['pitches'], str):\n",
    "            for pitch in row['pitches'].split(\" \"):\n",
    "                index = list(drum_mapping.keys()).index(int(pitch))\n",
    "                drum_tensor[index] = 1\n",
    "        else:\n",
    "            index = list(drum_mapping.keys()).index(int(row['pitches']))\n",
    "            drum_tensor[index] = 1\n",
    "        spec = self.transform(onset_window[0])\n",
    "        return spec, drum_tensor, Audio(onset_window, rate=self.sr)\n",
    "\n",
    "transform = transforms.Compose([\n",
    "    transforms.Lambda(lambda x: x.to(\"cuda\")),\n",
    "    # transforms.RandomApply([\n",
    "    #     torchaudio.transforms.PitchShift(sample_rate=44100, n_steps=random.uniform(-1, 1)),\n",
    "    #     torchaudio.transforms.TimeStretch(hop_length=64, fixed_rate=random.uniform(0.8, 1.2)),\n",
    "    # ], p=0.5),\n",
    "    transforms.Lambda(lambda x: torch.stack([\n",
    "            torchaudio.transforms.MelSpectrogram(\n",
    "                n_fft=2048,\n",
    "                hop_length=64,\n",
    "                n_mels=128\n",
    "            ).to(\"cuda\")(x),\n",
    "    torchaudio.transforms.MFCC(\n",
    "                n_mfcc=128,\n",
    "                melkwargs={'n_fft': 2048, 'hop_length': 64, 'n_mels': 128}).to(\"cuda\")(x)\n",
    "            ], dim=0).to(\"cuda\")),\n",
    "    transforms.Lambda(lambda x: torch.stack([\n",
    "            torchaudio.transforms.AmplitudeToDB().to(\"cuda\")(x[0]),\n",
    "            x[0],\n",
    "            x[1]\n",
    "        ], dim=0).to(\"cuda\")),\n",
    "    transforms.Lambda(lambda x: x.to(\"cpu\"))\n",
    "])\n",
    "\n",
    "valid_dataset = DrumDataset(valid_df, transform)\n",
    "train_dataset = DrumDataset(train_df, transform)"
   ]
  },
  {
   "cell_type": "code",
   "execution_count": 89,
   "metadata": {},
   "outputs": [
    {
     "name": "stdout",
     "output_type": "stream",
     "text": [
      "6419732 44\n"
     ]
    },
    {
     "data": {
      "text/html": [
       "\n",
       "                <audio  controls=\"controls\" >\n",
       "                    <source src=\"data:audio/wav;base64,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\" type=\"audio/wav\" />\n",
       "                    Your browser does not support the audio element.\n",
       "                </audio>\n",
       "              "
      ],
      "text/plain": [
       "<IPython.lib.display.Audio object>"
      ]
     },
     "execution_count": 89,
     "metadata": {},
     "output_type": "execute_result"
    }
   ],
   "source": [
    "rand = random.randint(1, len(train_df))\n",
    "row = train_dataset.df.iloc[4451457]\n",
    "window_size = 8192\n",
    "audio, sr = librosa.load(os.path.join(dataset_name, row['audio_filename']))\n",
    "onset_time = row['start_time']\n",
    "onset_window = audio[int(onset_time*sr)-window_size//2:int(onset_time*sr)+window_size//2]\n",
    "onset_env = librosa.onset.onset_strength(y=audio, sr=sr)\n",
    "onset_frames = librosa.onset.onset_detect(onset_envelope=onset_env, sr=sr)\n",
    "onset_times = librosa.frames_to_time(onset_frames, sr=sr)\n",
    "clicks = librosa.clicks(frames=onset_frames, sr=sr, length=len(audio))\n",
    "print(rand, row['pitches'])\n",
    "Audio((audio+clicks)[int(onset_time*sr)-window_size//2:int(onset_time*sr)+window_size//2], rate=sr)"
   ]
  },
  {
   "cell_type": "code",
   "execution_count": 107,
   "metadata": {},
   "outputs": [
    {
     "name": "stdout",
     "output_type": "stream",
     "text": [
      "5081928 ['hhpedal']\n"
     ]
    },
    {
     "data": {
      "image/png": "[encoded data removed]",
      "text/plain": [
       "<Figure size 1000x400 with 2 Axes>"
      ]
     },
     "metadata": {},
     "output_type": "display_data"
    },
    {
     "data": {
      "text/html": [
       "\n",
       "                <audio  controls=\"controls\" >\n",
       "                    <source src=\"data:audio/wav;base64,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\" type=\"audio/wav\" />\n",
       "                    Your browser does not support the audio element.\n",
       "                </audio>\n",
       "              "
      ],
      "text/plain": [
       "<IPython.lib.display.Audio object>"
      ]
     },
     "execution_count": 107,
     "metadata": {},
     "output_type": "execute_result"
    }
   ],
   "source": [
    "rand = random.randint(1, len(train_df))\n",
    "a, x, audio = train_dataset.__getitem__(rand)\n",
    "drum_notes = []\n",
    "for i, val in enumerate(x):\n",
    "    if val == 1:\n",
    "        drum_note = list(drum_mapping.values())[i]\n",
    "        if drum_note:\n",
    "            drum_notes.append(drum_note)\n",
    "specgram = a[0].squeeze(0).numpy()\n",
    "print(rand, drum_notes)\n",
    "\n",
    "# Display the spectrogram using matplotlib\n",
    "plt.figure(figsize=(10, 4))\n",
    "plt.imshow(specgram, cmap='Spectral_r', origin='lower')\n",
    "plt.xlabel('Time')\n",
    "plt.ylabel('Frequency')\n",
    "plt.colorbar()\n",
    "plt.show()\n",
    "audio\n",
    "#drummer7/session3/39_rock-indie_63_beat_4-4_12.wav\n",
    "#7874786, 4065736"
   ]
  },
  {
   "cell_type": "code",
   "execution_count": 14,
   "metadata": {},
   "outputs": [
    {
     "name": "stderr",
     "output_type": "stream",
     "text": [
      "Epoch 1/200 Training: 100%|██████████| 17/17 [01:38<00:00,  5.80s/batch]\n",
      "Epoch 1/200 Validation: 100%|██████████| 3/3 [00:15<00:00,  5.09s/batch]\n"
     ]
    },
    {
     "name": "stdout",
     "output_type": "stream",
     "text": [
      "Train Loss: 3.3845, Train Acc: 26.18%, Valid Loss: 3.2179, Valid Acc: 40.24%\n",
      "\r"
     ]
    },
    {
     "name": "stderr",
     "output_type": "stream",
     "text": [
      "Epoch 2/200 Training: 100%|██████████| 17/17 [01:36<00:00,  5.69s/batch]\n",
      "Epoch 2/200 Validation: 100%|██████████| 3/3 [00:15<00:00,  5.13s/batch]\n"
     ]
    },
    {
     "name": "stdout",
     "output_type": "stream",
     "text": [
      "Train Loss: 3.1675, Train Acc: 44.15%, Valid Loss: 3.2123, Valid Acc: 40.01%\n",
      "\r"
     ]
    },
    {
     "name": "stderr",
     "output_type": "stream",
     "text": [
      "Epoch 3/200 Training: 100%|██████████| 17/17 [01:36<00:00,  5.67s/batch]\n",
      "Epoch 3/200 Validation: 100%|██████████| 3/3 [00:15<00:00,  5.15s/batch]\n"
     ]
    },
    {
     "name": "stdout",
     "output_type": "stream",
     "text": [
      "Train Loss: 3.1511, Train Acc: 45.73%, Valid Loss: 3.1337, Valid Acc: 44.84%\n",
      "\r"
     ]
    },
    {
     "name": "stderr",
     "output_type": "stream",
     "text": [
      "Epoch 4/200 Training: 100%|██████████| 17/17 [01:38<00:00,  5.78s/batch]\n",
      "Epoch 4/200 Validation: 100%|██████████| 3/3 [00:15<00:00,  5.09s/batch]\n"
     ]
    },
    {
     "name": "stdout",
     "output_type": "stream",
     "text": [
      "Train Loss: 3.1755, Train Acc: 45.80%, Valid Loss: 3.1133, Valid Acc: 49.89%\n",
      "\r"
     ]
    },
    {
     "name": "stderr",
     "output_type": "stream",
     "text": [
      "Epoch 5/200 Training: 100%|██████████| 17/17 [01:37<00:00,  5.72s/batch]\n",
      "Epoch 5/200 Validation: 100%|██████████| 3/3 [00:15<00:00,  5.03s/batch]\n"
     ]
    },
    {
     "name": "stdout",
     "output_type": "stream",
     "text": [
      "Train Loss: 3.1619, Train Acc: 46.49%, Valid Loss: 3.1330, Valid Acc: 46.77%\n",
      "\r"
     ]
    },
    {
     "name": "stderr",
     "output_type": "stream",
     "text": [
      "Epoch 6/200 Training: 100%|██████████| 17/17 [01:48<00:00,  6.41s/batch]\n",
      "Epoch 6/200 Validation: 100%|██████████| 3/3 [00:15<00:00,  5.17s/batch]\n"
     ]
    },
    {
     "name": "stdout",
     "output_type": "stream",
     "text": [
      "Train Loss: 3.1403, Train Acc: 47.38%, Valid Loss: 3.1386, Valid Acc: 46.92%\n",
      "\r"
     ]
    },
    {
     "name": "stderr",
     "output_type": "stream",
     "text": [
      "Epoch 7/200 Training: 100%|██████████| 17/17 [01:36<00:00,  5.66s/batch]\n",
      "Epoch 7/200 Validation: 100%|██████████| 3/3 [00:14<00:00,  4.82s/batch]\n"
     ]
    },
    {
     "name": "stdout",
     "output_type": "stream",
     "text": [
      "Train Loss: 3.1472, Train Acc: 47.97%, Valid Loss: 3.0471, Valid Acc: 50.26%\n",
      "\r"
     ]
    },
    {
     "name": "stderr",
     "output_type": "stream",
     "text": [
      "Epoch 8/200 Training: 100%|██████████| 17/17 [01:31<00:00,  5.37s/batch]\n",
      "Epoch 8/200 Validation: 100%|██████████| 3/3 [00:13<00:00,  4.49s/batch]\n"
     ]
    },
    {
     "name": "stdout",
     "output_type": "stream",
     "text": [
      "Train Loss: 3.1685, Train Acc: 47.36%, Valid Loss: 3.0629, Valid Acc: 48.78%\n",
      "\r"
     ]
    },
    {
     "name": "stderr",
     "output_type": "stream",
     "text": [
      "Epoch 9/200 Training: 100%|██████████| 17/17 [01:41<00:00,  5.97s/batch]\n",
      "Epoch 9/200 Validation: 100%|██████████| 3/3 [00:16<00:00,  5.38s/batch]\n"
     ]
    },
    {
     "name": "stdout",
     "output_type": "stream",
     "text": [
      "Train Loss: 3.1453, Train Acc: 48.16%, Valid Loss: 3.0507, Valid Acc: 51.82%\n",
      "\r"
     ]
    },
    {
     "name": "stderr",
     "output_type": "stream",
     "text": [
      "Epoch 10/200 Training: 100%|██████████| 17/17 [01:37<00:00,  5.71s/batch]\n",
      "Epoch 10/200 Validation: 100%|██████████| 3/3 [00:15<00:00,  5.07s/batch]\n"
     ]
    },
    {
     "name": "stdout",
     "output_type": "stream",
     "text": [
      "Train Loss: 3.1118, Train Acc: 49.36%, Valid Loss: 3.0944, Valid Acc: 48.48%\n",
      "\r"
     ]
    },
    {
     "name": "stderr",
     "output_type": "stream",
     "text": [
      "Epoch 11/200 Training: 100%|██████████| 17/17 [01:36<00:00,  5.67s/batch]\n",
      "Epoch 11/200 Validation: 100%|██████████| 3/3 [00:15<00:00,  5.22s/batch]\n"
     ]
    },
    {
     "name": "stdout",
     "output_type": "stream",
     "text": [
      "Train Loss: 3.1098, Train Acc: 49.63%, Valid Loss: 3.0627, Valid Acc: 50.71%\n",
      "\r"
     ]
    },
    {
     "name": "stderr",
     "output_type": "stream",
     "text": [
      "Epoch 12/200 Training: 100%|██████████| 17/17 [01:36<00:00,  5.70s/batch]\n",
      "Epoch 12/200 Validation: 100%|██████████| 3/3 [00:15<00:00,  5.17s/batch]\n"
     ]
    },
    {
     "name": "stdout",
     "output_type": "stream",
     "text": [
      "Train Loss: 3.1203, Train Acc: 50.38%, Valid Loss: 3.0737, Valid Acc: 50.85%\n",
      "\r"
     ]
    },
    {
     "name": "stderr",
     "output_type": "stream",
     "text": [
      "Epoch 13/200 Training: 100%|██████████| 17/17 [01:35<00:00,  5.62s/batch]\n",
      "Epoch 13/200 Validation: 100%|██████████| 3/3 [00:15<00:00,  5.11s/batch]\n"
     ]
    },
    {
     "name": "stdout",
     "output_type": "stream",
     "text": [
      "Train Loss: 3.1094, Train Acc: 50.71%, Valid Loss: 3.0962, Valid Acc: 50.33%\n",
      "\r"
     ]
    },
    {
     "name": "stderr",
     "output_type": "stream",
     "text": [
      "Epoch 14/200 Training: 100%|██████████| 17/17 [01:35<00:00,  5.62s/batch]\n",
      "Epoch 14/200 Validation: 100%|██████████| 3/3 [00:15<00:00,  5.06s/batch]\n"
     ]
    },
    {
     "name": "stdout",
     "output_type": "stream",
     "text": [
      "Train Loss: 3.0994, Train Acc: 52.44%, Valid Loss: 3.1103, Valid Acc: 50.04%\n",
      "\r"
     ]
    },
    {
     "name": "stderr",
     "output_type": "stream",
     "text": [
      "Epoch 15/200 Training: 100%|██████████| 17/17 [01:37<00:00,  5.76s/batch]\n",
      "Epoch 15/200 Validation: 100%|██████████| 3/3 [00:15<00:00,  5.22s/batch]\n"
     ]
    },
    {
     "name": "stdout",
     "output_type": "stream",
     "text": [
      "Train Loss: 3.0936, Train Acc: 51.72%, Valid Loss: 3.0825, Valid Acc: 50.71%\n",
      "\r"
     ]
    },
    {
     "name": "stderr",
     "output_type": "stream",
     "text": [
      "Epoch 16/200 Training: 100%|██████████| 17/17 [01:40<00:00,  5.93s/batch]\n",
      "Epoch 16/200 Validation: 100%|██████████| 3/3 [00:15<00:00,  5.01s/batch]\n"
     ]
    },
    {
     "name": "stdout",
     "output_type": "stream",
     "text": [
      "Train Loss: 3.1193, Train Acc: 52.07%, Valid Loss: 3.0486, Valid Acc: 52.26%\n",
      "\r"
     ]
    },
    {
     "name": "stderr",
     "output_type": "stream",
     "text": [
      "Epoch 17/200 Training: 100%|██████████| 17/17 [01:41<00:00,  5.96s/batch]\n",
      "Epoch 17/200 Validation: 100%|██████████| 3/3 [00:15<00:00,  5.09s/batch]\n"
     ]
    },
    {
     "name": "stdout",
     "output_type": "stream",
     "text": [
      "Train Loss: 3.1146, Train Acc: 50.87%, Valid Loss: 3.0743, Valid Acc: 51.22%\n",
      "\r"
     ]
    },
    {
     "name": "stderr",
     "output_type": "stream",
     "text": [
      "Epoch 18/200 Training:  47%|████▋     | 8/17 [01:00<01:07,  7.50s/batch]\n"
     ]
    },
    {
     "ename": "KeyboardInterrupt",
     "evalue": "",
     "output_type": "error",
     "traceback": [
      "\u001b[1;31m---------------------------------------------------------------------------\u001b[0m",
      "\u001b[1;31mKeyboardInterrupt\u001b[0m                         Traceback (most recent call last)",
      "Cell \u001b[1;32mIn[14], line 149\u001b[0m\n\u001b[0;32m    147\u001b[0m     loss\u001b[39m.\u001b[39mbackward()\n\u001b[0;32m    148\u001b[0m     optimizer\u001b[39m.\u001b[39mstep()\n\u001b[1;32m--> 149\u001b[0m     train_loss \u001b[39m+\u001b[39m\u001b[39m=\u001b[39m loss\u001b[39m.\u001b[39mitem() \u001b[39m*\u001b[39m inputs\u001b[39m.\u001b[39;49msize(\u001b[39m0\u001b[39;49m)\n\u001b[0;32m    150\u001b[0m     train_acc \u001b[39m+\u001b[39m\u001b[39m=\u001b[39m accuracy(outputs, labels) \u001b[39m*\u001b[39m inputs\u001b[39m.\u001b[39msize(\u001b[39m0\u001b[39m)\n\u001b[0;32m    151\u001b[0m train_loss \u001b[39m/\u001b[39m\u001b[39m=\u001b[39m \u001b[39mint\u001b[39m(fraction \u001b[39m*\u001b[39m \u001b[39mlen\u001b[39m(train_loader\u001b[39m.\u001b[39mdataset))\n",
      "\u001b[1;31mKeyboardInterrupt\u001b[0m: "
     ]
    }
   ],
   "source": [
    "# Define the neural network architecture\n",
    "import torch.nn as nn\n",
    "from tqdm import tqdm\n",
    "from sklearn.metrics import ConfusionMatrixDisplay, multilabel_confusion_matrix\n",
    "\n",
    "# Hyperparameters\n",
    "fraction = 0.001\n",
    "n_epochs = 200\n",
    "learning_rate = 0.001\n",
    "batch_size = 512\n",
    "\n",
    "class DrumCNN(nn.Module):\n",
    "    def __init__(self):\n",
    "        super(DrumCNN, self).__init__()\n",
    "        \n",
    "        # Convolutional Layers\n",
    "        self.conv1 = nn.Conv2d(3, 16, kernel_size=3, stride=1, padding=1)\n",
    "        self.bn1 = nn.BatchNorm2d(16)\n",
    "        self.relu1 = nn.ReLU()\n",
    "        self.pool1 = nn.MaxPool2d(kernel_size=2, stride=2)\n",
    "        \n",
    "        self.conv2 = nn.Conv2d(16, 32, kernel_size=3, stride=1, padding=1)\n",
    "        self.bn2 = nn.BatchNorm2d(32)\n",
    "        self.relu2 = nn.ReLU()\n",
    "        self.pool2 = nn.MaxPool2d(kernel_size=2, stride=2)\n",
    "        \n",
    "        self.conv3 = nn.Conv2d(32, 64, kernel_size=3, stride=1, padding=1)\n",
    "        self.bn3 = nn.BatchNorm2d(64)\n",
    "        self.relu3 = nn.ReLU()\n",
    "        self.pool3 = nn.MaxPool2d(kernel_size=2, stride=2)\n",
    "        \n",
    "        self.conv4 = nn.Conv2d(64, 128, kernel_size=3, stride=1, padding=1)\n",
    "        self.bn4 = nn.BatchNorm2d(128)\n",
    "        self.relu4 = nn.ReLU()\n",
    "        self.pool4 = nn.MaxPool2d(kernel_size=2, stride=2)\n",
    "\n",
    "        # Fully Connected Layers\n",
    "        self.fc1 = nn.Linear(128 * 8 * 8, 512)\n",
    "        self.bn5 = nn.BatchNorm1d(512)\n",
    "        self.relu5 = nn.ReLU()\n",
    "        self.dropout1 = nn.Dropout(p=0.5)\n",
    "        \n",
    "        self.fc2 = nn.Linear(512, 256)\n",
    "        self.bn6 = nn.BatchNorm1d(256)\n",
    "        self.relu6 = nn.ReLU()\n",
    "        self.dropout2 = nn.Dropout(p=0.4)\n",
    "        \n",
    "        self.fc3 = nn.Linear(256, len(drum_mapping))\n",
    "        self.softmax = nn.Softmax(dim=1)\n",
    "    \n",
    "    def forward(self, x):\n",
    "        # Convolutional Layers\n",
    "        x = self.conv1(x)\n",
    "        x = self.bn1(x)\n",
    "        x = self.relu1(x)\n",
    "        x = self.pool1(x)\n",
    "        \n",
    "        x = self.conv2(x)\n",
    "        x = self.bn2(x)\n",
    "        x = self.relu2(x)\n",
    "        x = self.pool2(x)\n",
    "        \n",
    "        x = self.conv3(x)\n",
    "        x = self.bn3(x)\n",
    "        x = self.relu3(x)\n",
    "        x = self.pool3(x)\n",
    "        \n",
    "        x = self.conv4(x)\n",
    "        x = self.bn4(x)\n",
    "        x = self.relu4(x)\n",
    "        x = self.pool4(x)\n",
    "        \n",
    "        # Flatten\n",
    "        x = x.view(x.size(0), -1)\n",
    "        \n",
    "        # Fully Connected Layers\n",
    "        x = self.fc1(x)\n",
    "        x = self.bn5(x)\n",
    "        x = self.relu5(x)\n",
    "        x = self.dropout1(x)\n",
    "        \n",
    "        x = self.fc2(x)\n",
    "        x = self.bn6(x)\n",
    "        x = self.relu6(x)\n",
    "        x = self.dropout2(x)\n",
    "        \n",
    "        x = self.fc3(x)\n",
    "        x = self.softmax(x)\n",
    "        \n",
    "        return x\n",
    "\n",
    "class DynamicSubsetRandomSampler(torch.utils.data.Sampler):\n",
    "    def __init__(self, data_source, fraction):\n",
    "        self.data_source = data_source\n",
    "        self.fraction = fraction\n",
    "\n",
    "    def __iter__(self):\n",
    "        indices = list(range(len(self.data_source)))\n",
    "        np.random.shuffle(indices)\n",
    "        subset_indices = indices[:int(self.fraction * len(indices))]\n",
    "        return iter(subset_indices)\n",
    "\n",
    "    def __len__(self):\n",
    "        return int(self.fraction * len(self.data_source))\n",
    "\n",
    "x = x.view(x.size(0), -1)\n",
    "\n",
    "def accuracy(outputs, labels, threshold=0.5):\n",
    "    with torch.no_grad():\n",
    "        preds = (outputs > threshold).float()\n",
    "        correct = (preds == labels).sum(dim=1).eq(labels.shape[1]).sum().item()\n",
    "        total = labels.shape[0]\n",
    "        return 100 * correct / total\n",
    "\n",
    "\n",
    "\n",
    "# Initialize the neural network and optimizer\n",
    "device = torch.device('cuda')\n",
    "model = DrumCNN().to(device)\n",
    "#model.load_state_dict(torch.load('model_checkpoint.pth'))\n",
    "optimizer = optim.Adam(model.parameters(), lr=learning_rate)\n",
    "scheduler = optim.lr_scheduler.ReduceLROnPlateau(optimizer, mode='min', patience=2, factor=0.1)\n",
    "\n",
    "# Define the loss function\n",
    "criterion = nn.CrossEntropyLoss().cuda()\n",
    "\n",
    "# Train the model\n",
    "for epoch in range(n_epochs):\n",
    "    # Create random data loaders for training and validation sets\n",
    "    train_subset_sampler = DynamicSubsetRandomSampler(train_dataset, fraction)\n",
    "    train_loader = DataLoader(train_dataset, batch_size=batch_size, sampler=train_subset_sampler)\n",
    "    valid_subset_sampler = DynamicSubsetRandomSampler(valid_dataset, fraction)\n",
    "    valid_loader = DataLoader(valid_dataset, batch_size=batch_size, sampler=valid_subset_sampler)\n",
    "\n",
    "    train_loss = 0.0\n",
    "    train_acc = 0.0\n",
    "    valid_loss = 0.0\n",
    "    valid_acc = 0.0\n",
    "\n",
    "    model.train()\n",
    "    for i, (inputs, labels) in enumerate(tqdm(train_loader, total=len(train_loader), unit='batch', desc=f\"Epoch {epoch+1}/{n_epochs} Training\")):\n",
    "        inputs = inputs.to(device)\n",
    "        labels = labels.to(device)\n",
    "        optimizer.zero_grad()\n",
    "        outputs = model(inputs)\n",
    "        loss = criterion(outputs, labels)\n",
    "        loss.backward()\n",
    "        optimizer.step()\n",
    "        train_loss += loss.item() * inputs.size(0)\n",
    "        train_acc += accuracy(outputs, labels) * inputs.size(0)\n",
    "    train_loss /= int(fraction * len(train_loader.dataset))\n",
    "    train_acc /= int(fraction * len(train_loader.dataset))\n",
    "    \n",
    "    # Evaluate the model on the validation set\n",
    "    true_labels = []\n",
    "    predicted_labels = []\n",
    "    model.eval()\n",
    "    with torch.no_grad():\n",
    "        for i, (inputs, labels) in enumerate(tqdm(valid_loader, total=len(valid_loader), unit='batch', desc=f\"Epoch {epoch+1}/{n_epochs} Validation\")):\n",
    "            inputs = inputs.to(device)\n",
    "            labels = labels.to(device).float()\n",
    "            outputs = model(inputs)\n",
    "            loss = criterion(outputs, labels)\n",
    "            valid_loss += loss.item() * inputs.size(0)\n",
    "            valid_acc += accuracy(outputs, labels) * inputs.size(0)\n",
    "            true_labels.extend(labels.cpu().numpy().tolist())\n",
    "            predicted_labels.extend((outputs.cpu() > 0.5).float().numpy().tolist())\n",
    "        valid_loss /= int(fraction * len(valid_loader.dataset))\n",
    "        valid_acc /= int(fraction * len(valid_loader.dataset))\n",
    "        cm = multilabel_confusion_matrix(true_labels, predicted_labels)\n",
    "        f, axes = plt.subplots(5, 5, figsize=(25, 25))\n",
    "        axes = axes.ravel()\n",
    "        for i in range(23):\n",
    "            disp = ConfusionMatrixDisplay(cm[i], display_labels=[0, 1])\n",
    "            disp.plot(ax=axes[i], values_format='.4g')\n",
    "            disp.ax_.set_title(list(drum_mapping.values())[i])\n",
    "            if i<10:\n",
    "                disp.ax_.set_xlabel('pred')\n",
    "            if i%5!=0:\n",
    "                disp.ax_.set_ylabel('true')\n",
    "            disp.im_.colorbar.remove()\n",
    "\n",
    "        plt.subplots_adjust(wspace=0.10, hspace=0.1)\n",
    "        f.colorbar(disp.im_, ax=axes)\n",
    "        plt.savefig(f'cm_e{epoch+1}.png')\n",
    "        plt.close()\n",
    "    \n",
    "    # Update the learning rate based on the validation loss\n",
    "    scheduler.step(valid_loss)\n",
    "    \n",
    "    # Print the training and validation loss and accuracy\n",
    "    tqdm.write(f'Train Loss: {train_loss:.4f}, Train Acc: {train_acc:.2f}%, Valid Loss: {valid_loss:.4f}, Valid Acc: {valid_acc:.2f}%\\n', end='\\r')"
   ]
  },
  {
   "cell_type": "code",
   "execution_count": 296,
   "metadata": {},
   "outputs": [],
   "source": [
    "torch.save(model.state_dict(), f'{dataset_name}_{fraction}_{valid_acc}.pth')"
   ]
  }
 ],
 "metadata": {
  "kernelspec": {
   "display_name": ".venv",
   "language": "python",
   "name": "python3"
  },
  "language_info": {
   "codemirror_mode": {
    "name": "ipython",
    "version": 3
   },
   "file_extension": ".py",
   "mimetype": "text/x-python",
   "name": "python",
   "nbconvert_exporter": "python",
   "pygments_lexer": "ipython3",
   "version": "3.10.4"
  },
  "orig_nbformat": 4
 },
 "nbformat": 4,
 "nbformat_minor": 2
}
