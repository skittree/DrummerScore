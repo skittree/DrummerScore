{
 "cells": [
  {
   "cell_type": "markdown",
   "id": "3dd85750",
   "metadata": {},
   "source": [
    "# Moving Forward: Generating Our Own Dataset"
   ]
  },
  {
   "cell_type": "markdown",
   "id": "58d8585a",
   "metadata": {},
   "source": [
    "## Mistakes were made"
   ]
  },
  {
   "cell_type": "markdown",
   "id": "2778f2b1",
   "metadata": {},
   "source": [
    "The available dataset was a disastrous failure. There are multiple reasons why using a ready dataset was not good for our task:\n",
    "1. **Cleanliness:** The audio provided by datasets is way too perfect and clean. It does not match the prediction data at all, where the prediction data could be the full track, or a source-separated drum-track courtesy of another neural net. I am planning on using demucs v4, which yields the best results for separation quality currently.\n",
    "2. **Class imbalance:** The dataset had a *horrendous* imbalance coefficient of 49 (meaning that there were 49 times as many snare drums as there were crash cymbals) $$Imbalance\\ Coefficient = \\frac{N_{\\text{majority}}}{N_{\\text{minority}}} =\\frac{N_{\\text{snare}}}{N_{\\text{crash}}}=\\frac{125049}{2552}\\approx 49.01$$\n",
    "3. **MIDI mismatch:** After listening to some stitched audio recordings of crash cymbals I acquired after processing the dataset, I have noticed that some onsets that were given by the MIDI were incredibly wrong. After setting a cutoff value of `50` for velocity, it helped with weeding out \"ghost\" crash cymbals that were very quiet, but reduced the duration of **ALL** available crash cymbals to a mere 7 seconds. It led me to also notice that the velocity value does not accurately represent the volume in the waveform, meaning that there could be loud crashes with a low velocity. Thus, there is an irreperable difference between the .wav and .midi files, which I assumed to be perfectly in line with one another.\n",
    "\n",
    "All of this leads to one solution which I dreaded of even thinking about: **labeling my own dataset.** As scary as it sounds, it might not be as bad as you think. Here is the general outline I will follow to generate my own drumming dataset:\n",
    "1. Select an audio source separating algorithm.\n",
    "2. Install CUDA compatible with the latest PyTorch (currently it is CUDA 11.7)\n",
    "3. Gather several fully instrumented audio files representative of different genres, tempos and styles.\n",
    "4. Separate the drum tracks from the audio files and save them for the future dataset.\n",
    "5. Record all drum track *file paths* in a `master.csv` file to be accessed later.\n",
    "6. Accessing the .csv, use an onset detection algorithm to find instances of drum notes in each the drum tracks. I will be using the `librosa` package for this task.\n",
    "7. Save the onsets as a .csv and register their name in the `master.csv` file.\n",
    "8. Concatenate the entire list of onsets and verify if you have enough to label.\n",
    "9. Start the labeling process by using the `pigeon` package to quickly and iteratively go through every onset and give them all a label.\n",
    "\n",
    "I was able to get this idea of labeling my own data from Medium user [YoshiMan](https://yoshi-man.medium.com), who did a similar task a month ago and published their results in TowardsAI.\n",
    "\n",
    "* It took them 5 hours to manually label **4,513** drum notes, which equates to roughly 900 labels per hour.\n",
    "* The small dataset I used had **400,000** drum notes, and it was **6GB** of audio in size. \n",
    "* The large dataset I intended to use is **130GB** in size and has a colossal drum count of **13.1 million**.\n",
    "\n",
    "In the case of MIR (music information retrieval) tasks, the nature of the prediction data is vastly different from the audio provided by ready datasets. Thus, it is imperative to use training data that closely resembles the prediction data. In this case, using a drum track obtained through a source separation algorithm provides a much more accurate representation of the prediction data, ensuring that the trained model will perform well on real-world tasks. Although the quantity of data may suffer significantly, the quality of the data will be worth the sacrifice, as it ensures that the trained model will perform well on real-world tasks, providing a more robust and reliable solution for the given task."
   ]
  },
  {
   "cell_type": "markdown",
   "id": "3eaa6f4b",
   "metadata": {},
   "source": [
    "## Making The Perfect Playlist for My Model"
   ]
  },
  {
   "cell_type": "markdown",
   "id": "4df45fbc",
   "metadata": {},
   "source": [
    "To ensure that my efforts to label my own dataset are not wasted, I need to choose various tracks spanning multiple genres, tempos and styles. There are several genres that come to my mind:\n",
    "\n",
    "1. **Punk Rock.** One of the very first issues I came across using a ready-made dataset was that it was incredibly imbalanced. One of the least occurent classes was the Crash Cymbal, making up a measly `0.64%` of the dataset. Punk Rock has a lot of aggressive style that utilizes a variety of crashes that should remedy my issue.\n",
    "2. **Power Metal.** A sort of evolution of the Punk Rock style, this can help us gather good data for the genre's infamously cheesy blastbeat-laden fills and choruses. This will be a good source for gathering kick drum data.\n",
    "3. **Progressive Metal.** A genre I selected due to its complex time-signatures, drum patterns and tempo relations. On top of that, has a rather varied accompaniment that can help bring extra data augmentation into the mix.\n",
    "4. **Rock and Country.** Very average genres in terms of drumming patterns, helps with the more traditional and predictable drumming.\n",
    "5. **Hip-hop.** Known for its complex drum rhythms, this will be crucial for training the model to recognize more intricate drumming."
   ]
  },
  {
   "cell_type": "markdown",
   "id": "3c7cef60",
   "metadata": {},
   "source": [
    "## Creating the Dataset"
   ]
  },
  {
   "cell_type": "markdown",
   "id": "fe5d2fff",
   "metadata": {},
   "source": [
    "### Getting Drum Onsets"
   ]
  },
  {
   "cell_type": "code",
   "execution_count": 1,
   "id": "3ab4d2dc",
   "metadata": {},
   "outputs": [],
   "source": [
    "import subprocess as sp\n",
    "import torch\n",
    "import librosa\n",
    "import os\n",
    "from IPython.display import Audio, display, Image\n",
    "from ipywidgets import widgets\n",
    "import matplotlib.pyplot as plt\n",
    "import csv\n",
    "import pandas as pd\n",
    "\n",
    "output_path = \"separated\\htdemucs\"\n",
    "dataset_name = \"HeartsOnFire-v.1.0.0\"\n",
    "labels = ['kick', 'snare', 'hihat', 'tom', 'crash', 'ride', 'other']"
   ]
  },
  {
   "cell_type": "markdown",
   "id": "33265c56",
   "metadata": {},
   "source": [
    "This code searches for all mp3 files in the `dataset_name` folder and adds them to the dataset accordingly: splitting the drums, getting the onsets and saving csv data."
   ]
  },
  {
   "cell_type": "code",
   "execution_count": 5,
   "id": "3c8dc73c",
   "metadata": {},
   "outputs": [
    {
     "name": "stdout",
     "output_type": "stream",
     "text": [
      "Generating splits for \"ONE OK ROCK - Vandalize\" with GPU...\n",
      "Generating onsets...\n",
      "Done!\n",
      "Generating splits for \"RENREN - Hungarian Rhapsody No. 2\" with GPU...\n",
      "Generating onsets...\n",
      "Done!\n",
      "Generating splits for \"Toehider - To Hide Her\" with GPU...\n",
      "Generating onsets...\n",
      "Done!\n"
     ]
    }
   ],
   "source": [
    "files = os.listdir(dataset_name)\n",
    "mp3_files = [os.path.splitext(f)[0] for f in files if f.endswith('.mp3')]\n",
    "\n",
    "def generate_onsets(folder_path):\n",
    "    drum_path = os.path.join(folder_path, \"drums.mp3\")\n",
    "    y, sr = librosa.load(drum_path, sr=44100)\n",
    "\n",
    "    onset_env = librosa.onset.onset_strength(y=y, sr=sr)\n",
    "    onset_frames = librosa.onset.onset_detect(onset_envelope=onset_env, sr=sr)\n",
    "    onset_times = librosa.frames_to_time(onset_frames, sr=sr)\n",
    "    return onset_times\n",
    "\n",
    "for filename in mp3_files:\n",
    "    folder_path = os.path.join(dataset_name, filename)\n",
    "    src_path = os.path.join(dataset_name, filename+\".mp3\")\n",
    "\n",
    "    #step 1: split\n",
    "    command = [\"demucs\", \"--mp3\", \"--mp3-bitrate\", \"320\", \"--two-stems=drums\", src_path]\n",
    "    if torch.cuda.is_available():\n",
    "        print(\"Generating splits for \\\"\"+filename+\"\\\" with GPU...\")\n",
    "        sp.run(command)\n",
    "\n",
    "    #step 2: move everything\n",
    "    dest_path = os.path.join(folder_path, \"audio.mp3\")\n",
    "    os.makedirs(os.path.dirname(dest_path), exist_ok=True)\n",
    "    os.rename(src_path, dest_path)\n",
    "\n",
    "    src_path = os.path.join(\"separated/htdemucs\", filename, \"drums.mp3\")\n",
    "    dest_path = os.path.join(\"HeartsOnFire-v.1.0.0\", filename, \"drums.mp3\")\n",
    "    os.makedirs(os.path.dirname(dest_path), exist_ok=True)\n",
    "    os.rename(src_path, dest_path)\n",
    "\n",
    "    src_path = os.path.join(\"separated/htdemucs\", filename, \"no_drums.mp3\")\n",
    "    dest_path = os.path.join(\"HeartsOnFire-v.1.0.0\", filename, \"no_drums.mp3\")\n",
    "    os.rename(src_path, dest_path)\n",
    "    demucs_path = os.path.join(\"separated/htdemucs\", filename)\n",
    "\n",
    "    if os.path.exists(demucs_path) and os.path.isdir(demucs_path) and not os.listdir(demucs_path):\n",
    "        os.rmdir(demucs_path)\n",
    "    print(\"Generating onsets...\")\n",
    "\n",
    "    #step 3: generate onsets\n",
    "    onset_times = generate_onsets(folder_path)\n",
    "    \n",
    "    #step 4: save onsets\n",
    "    csv_file = os.path.join(folder_path, \"onsets.csv\")\n",
    "    with open(csv_file, 'w', newline='') as file:\n",
    "        writer = csv.writer(file)\n",
    "        writer.writerow([\"onset_time\"]+labels)\n",
    "        for onset_time in onset_times:\n",
    "            writer.writerow([onset_time]+[False]*len(labels))\n",
    "    print(\"Done!\")\n",
    "\n",
    "\n",
    "#step 5: update the master csv\n",
    "audio_info = []\n",
    "\n",
    "for root, dirs, files in os.walk(dataset_name):\n",
    "    for dir in dirs:\n",
    "        processed_folder = os.path.join(root, dir)\n",
    "        \n",
    "        if os.path.isdir(processed_folder):\n",
    "            audio_path = os.path.join(processed_folder, \"audio.mp3\")\n",
    "            drums_path = os.path.join(processed_folder, \"drums.mp3\")\n",
    "            no_drums_path = os.path.join(processed_folder, \"no_drums.mp3\")\n",
    "            onsets_path = os.path.join(processed_folder, \"onsets.csv\")\n",
    "            \n",
    "            if os.path.isfile(audio_path) and os.path.isfile(drums_path) and \\\n",
    "                os.path.isfile(no_drums_path) and os.path.isfile(onsets_path):\n",
    "                audio_info.append((dir, audio_path, drums_path, no_drums_path, onsets_path))\n",
    "\n",
    "# write the audio information to a CSV file\n",
    "with open(os.path.join(dataset_name, \"master.csv\"), \"w\", newline='') as csvfile:\n",
    "    writer = csv.writer(csvfile)\n",
    "    writer.writerow([\"name\", \"audio\", \"drums\", \"no_drums\", \"onsets\"])\n",
    "    writer.writerows(audio_info)"
   ]
  },
  {
   "cell_type": "markdown",
   "id": "91bf09e7",
   "metadata": {},
   "source": [
    "We can check an audio file for onsets:"
   ]
  },
  {
   "cell_type": "code",
   "execution_count": 3,
   "id": "524570af",
   "metadata": {},
   "outputs": [
    {
     "name": "stderr",
     "output_type": "stream",
     "text": [
      "C:\\Work\\Final Project\\HeartsOnFire\\.venv\\lib\\site-packages\\librosa\\util\\decorators.py:88: UserWarning: PySoundFile failed. Trying audioread instead.\n",
      "  return f(*args, **kwargs)\n"
     ]
    },
    {
     "ename": "FileNotFoundError",
     "evalue": "[Errno 2] No such file or directory: 'HeartsOnFire-v.1.0.0\\\\Toehider - Daddy Issues/drums.mp3'",
     "output_type": "error",
     "traceback": [
      "\u001b[1;31m---------------------------------------------------------------------------\u001b[0m",
      "\u001b[1;31mLibsndfileError\u001b[0m                           Traceback (most recent call last)",
      "File \u001b[1;32mC:\\Work\\Final Project\\HeartsOnFire\\.venv\\lib\\site-packages\\librosa\\core\\audio.py:164\u001b[0m, in \u001b[0;36mload\u001b[1;34m(path, sr, mono, offset, duration, dtype, res_type)\u001b[0m\n\u001b[0;32m    163\u001b[0m \u001b[38;5;28;01mtry\u001b[39;00m:\n\u001b[1;32m--> 164\u001b[0m     y, sr_native \u001b[38;5;241m=\u001b[39m \u001b[43m__soundfile_load\u001b[49m\u001b[43m(\u001b[49m\u001b[43mpath\u001b[49m\u001b[43m,\u001b[49m\u001b[43m \u001b[49m\u001b[43moffset\u001b[49m\u001b[43m,\u001b[49m\u001b[43m \u001b[49m\u001b[43mduration\u001b[49m\u001b[43m,\u001b[49m\u001b[43m \u001b[49m\u001b[43mdtype\u001b[49m\u001b[43m)\u001b[49m\n\u001b[0;32m    166\u001b[0m \u001b[38;5;28;01mexcept\u001b[39;00m \u001b[38;5;167;01mRuntimeError\u001b[39;00m \u001b[38;5;28;01mas\u001b[39;00m exc:\n\u001b[0;32m    167\u001b[0m     \u001b[38;5;66;03m# If soundfile failed, try audioread instead\u001b[39;00m\n",
      "File \u001b[1;32mC:\\Work\\Final Project\\HeartsOnFire\\.venv\\lib\\site-packages\\librosa\\core\\audio.py:195\u001b[0m, in \u001b[0;36m__soundfile_load\u001b[1;34m(path, offset, duration, dtype)\u001b[0m\n\u001b[0;32m    193\u001b[0m \u001b[38;5;28;01melse\u001b[39;00m:\n\u001b[0;32m    194\u001b[0m     \u001b[38;5;66;03m# Otherwise, create the soundfile object\u001b[39;00m\n\u001b[1;32m--> 195\u001b[0m     context \u001b[38;5;241m=\u001b[39m \u001b[43msf\u001b[49m\u001b[38;5;241;43m.\u001b[39;49m\u001b[43mSoundFile\u001b[49m\u001b[43m(\u001b[49m\u001b[43mpath\u001b[49m\u001b[43m)\u001b[49m\n\u001b[0;32m    197\u001b[0m \u001b[38;5;28;01mwith\u001b[39;00m context \u001b[38;5;28;01mas\u001b[39;00m sf_desc:\n",
      "File \u001b[1;32mC:\\Work\\Final Project\\HeartsOnFire\\.venv\\lib\\site-packages\\soundfile.py:658\u001b[0m, in \u001b[0;36mSoundFile.__init__\u001b[1;34m(self, file, mode, samplerate, channels, subtype, endian, format, closefd)\u001b[0m\n\u001b[0;32m    656\u001b[0m \u001b[38;5;28mself\u001b[39m\u001b[38;5;241m.\u001b[39m_info \u001b[38;5;241m=\u001b[39m _create_info_struct(file, mode, samplerate, channels,\n\u001b[0;32m    657\u001b[0m                                  \u001b[38;5;28mformat\u001b[39m, subtype, endian)\n\u001b[1;32m--> 658\u001b[0m \u001b[38;5;28mself\u001b[39m\u001b[38;5;241m.\u001b[39m_file \u001b[38;5;241m=\u001b[39m \u001b[38;5;28;43mself\u001b[39;49m\u001b[38;5;241;43m.\u001b[39;49m\u001b[43m_open\u001b[49m\u001b[43m(\u001b[49m\u001b[43mfile\u001b[49m\u001b[43m,\u001b[49m\u001b[43m \u001b[49m\u001b[43mmode_int\u001b[49m\u001b[43m,\u001b[49m\u001b[43m \u001b[49m\u001b[43mclosefd\u001b[49m\u001b[43m)\u001b[49m\n\u001b[0;32m    659\u001b[0m \u001b[38;5;28;01mif\u001b[39;00m \u001b[38;5;28mset\u001b[39m(mode)\u001b[38;5;241m.\u001b[39missuperset(\u001b[38;5;124m'\u001b[39m\u001b[38;5;124mr+\u001b[39m\u001b[38;5;124m'\u001b[39m) \u001b[38;5;129;01mand\u001b[39;00m \u001b[38;5;28mself\u001b[39m\u001b[38;5;241m.\u001b[39mseekable():\n\u001b[0;32m    660\u001b[0m     \u001b[38;5;66;03m# Move write position to 0 (like in Python file objects)\u001b[39;00m\n",
      "File \u001b[1;32mC:\\Work\\Final Project\\HeartsOnFire\\.venv\\lib\\site-packages\\soundfile.py:1216\u001b[0m, in \u001b[0;36mSoundFile._open\u001b[1;34m(self, file, mode_int, closefd)\u001b[0m\n\u001b[0;32m   1215\u001b[0m     err \u001b[38;5;241m=\u001b[39m _snd\u001b[38;5;241m.\u001b[39msf_error(file_ptr)\n\u001b[1;32m-> 1216\u001b[0m     \u001b[38;5;28;01mraise\u001b[39;00m LibsndfileError(err, prefix\u001b[38;5;241m=\u001b[39m\u001b[38;5;124m\"\u001b[39m\u001b[38;5;124mError opening \u001b[39m\u001b[38;5;132;01m{0!r}\u001b[39;00m\u001b[38;5;124m: \u001b[39m\u001b[38;5;124m\"\u001b[39m\u001b[38;5;241m.\u001b[39mformat(\u001b[38;5;28mself\u001b[39m\u001b[38;5;241m.\u001b[39mname))\n\u001b[0;32m   1217\u001b[0m \u001b[38;5;28;01mif\u001b[39;00m mode_int \u001b[38;5;241m==\u001b[39m _snd\u001b[38;5;241m.\u001b[39mSFM_WRITE:\n\u001b[0;32m   1218\u001b[0m     \u001b[38;5;66;03m# Due to a bug in libsndfile version <= 1.0.25, frames != 0\u001b[39;00m\n\u001b[0;32m   1219\u001b[0m     \u001b[38;5;66;03m# when opening a named pipe in SFM_WRITE mode.\u001b[39;00m\n\u001b[0;32m   1220\u001b[0m     \u001b[38;5;66;03m# See http://github.com/erikd/libsndfile/issues/77.\u001b[39;00m\n",
      "\u001b[1;31mLibsndfileError\u001b[0m: Error opening 'HeartsOnFire-v.1.0.0\\\\Toehider - Daddy Issues/drums.mp3': System error.",
      "\nDuring handling of the above exception, another exception occurred:\n",
      "\u001b[1;31mFileNotFoundError\u001b[0m                         Traceback (most recent call last)",
      "Cell \u001b[1;32mIn[3], line 5\u001b[0m\n\u001b[0;32m      2\u001b[0m no_drum_path \u001b[38;5;241m=\u001b[39m os\u001b[38;5;241m.\u001b[39mpath\u001b[38;5;241m.\u001b[39mjoin(dataset_name, \u001b[38;5;124m\"\u001b[39m\u001b[38;5;124mToehider - Daddy Issues/no_drums.mp3\u001b[39m\u001b[38;5;124m\"\u001b[39m)\n\u001b[0;32m      3\u001b[0m audio_path \u001b[38;5;241m=\u001b[39m os\u001b[38;5;241m.\u001b[39mpath\u001b[38;5;241m.\u001b[39mjoin(dataset_name, \u001b[38;5;124m\"\u001b[39m\u001b[38;5;124mToehider - Daddy Issues/audio.mp3\u001b[39m\u001b[38;5;124m\"\u001b[39m)\n\u001b[1;32m----> 5\u001b[0m y, sr \u001b[38;5;241m=\u001b[39m \u001b[43mlibrosa\u001b[49m\u001b[38;5;241;43m.\u001b[39;49m\u001b[43mload\u001b[49m\u001b[43m(\u001b[49m\u001b[43mdrum_path\u001b[49m\u001b[43m,\u001b[49m\u001b[43m \u001b[49m\u001b[43msr\u001b[49m\u001b[38;5;241;43m=\u001b[39;49m\u001b[38;5;241;43m44100\u001b[39;49m\u001b[43m)\u001b[49m\n\u001b[0;32m      6\u001b[0m y2, sr \u001b[38;5;241m=\u001b[39m librosa\u001b[38;5;241m.\u001b[39mload(audio_path, sr\u001b[38;5;241m=\u001b[39m\u001b[38;5;241m44100\u001b[39m)\n\u001b[0;32m      7\u001b[0m y_h, y_p \u001b[38;5;241m=\u001b[39m librosa\u001b[38;5;241m.\u001b[39meffects\u001b[38;5;241m.\u001b[39mhpss(y2)\n",
      "File \u001b[1;32mC:\\Work\\Final Project\\HeartsOnFire\\.venv\\lib\\site-packages\\librosa\\util\\decorators.py:88\u001b[0m, in \u001b[0;36mdeprecate_positional_args.<locals>._inner_deprecate_positional_args.<locals>.inner_f\u001b[1;34m(*args, **kwargs)\u001b[0m\n\u001b[0;32m     86\u001b[0m extra_args \u001b[38;5;241m=\u001b[39m \u001b[38;5;28mlen\u001b[39m(args) \u001b[38;5;241m-\u001b[39m \u001b[38;5;28mlen\u001b[39m(all_args)\n\u001b[0;32m     87\u001b[0m \u001b[38;5;28;01mif\u001b[39;00m extra_args \u001b[38;5;241m<\u001b[39m\u001b[38;5;241m=\u001b[39m \u001b[38;5;241m0\u001b[39m:\n\u001b[1;32m---> 88\u001b[0m     \u001b[38;5;28;01mreturn\u001b[39;00m f(\u001b[38;5;241m*\u001b[39margs, \u001b[38;5;241m*\u001b[39m\u001b[38;5;241m*\u001b[39mkwargs)\n\u001b[0;32m     90\u001b[0m \u001b[38;5;66;03m# extra_args > 0\u001b[39;00m\n\u001b[0;32m     91\u001b[0m args_msg \u001b[38;5;241m=\u001b[39m [\n\u001b[0;32m     92\u001b[0m     \u001b[38;5;124m\"\u001b[39m\u001b[38;5;132;01m{}\u001b[39;00m\u001b[38;5;124m=\u001b[39m\u001b[38;5;132;01m{}\u001b[39;00m\u001b[38;5;124m\"\u001b[39m\u001b[38;5;241m.\u001b[39mformat(name, arg)\n\u001b[0;32m     93\u001b[0m     \u001b[38;5;28;01mfor\u001b[39;00m name, arg \u001b[38;5;129;01min\u001b[39;00m \u001b[38;5;28mzip\u001b[39m(kwonly_args[:extra_args], args[\u001b[38;5;241m-\u001b[39mextra_args:])\n\u001b[0;32m     94\u001b[0m ]\n",
      "File \u001b[1;32mC:\\Work\\Final Project\\HeartsOnFire\\.venv\\lib\\site-packages\\librosa\\core\\audio.py:170\u001b[0m, in \u001b[0;36mload\u001b[1;34m(path, sr, mono, offset, duration, dtype, res_type)\u001b[0m\n\u001b[0;32m    168\u001b[0m \u001b[38;5;28;01mif\u001b[39;00m \u001b[38;5;28misinstance\u001b[39m(path, (\u001b[38;5;28mstr\u001b[39m, pathlib\u001b[38;5;241m.\u001b[39mPurePath)):\n\u001b[0;32m    169\u001b[0m     warnings\u001b[38;5;241m.\u001b[39mwarn(\u001b[38;5;124m\"\u001b[39m\u001b[38;5;124mPySoundFile failed. Trying audioread instead.\u001b[39m\u001b[38;5;124m\"\u001b[39m, stacklevel\u001b[38;5;241m=\u001b[39m\u001b[38;5;241m2\u001b[39m)\n\u001b[1;32m--> 170\u001b[0m     y, sr_native \u001b[38;5;241m=\u001b[39m \u001b[43m__audioread_load\u001b[49m\u001b[43m(\u001b[49m\u001b[43mpath\u001b[49m\u001b[43m,\u001b[49m\u001b[43m \u001b[49m\u001b[43moffset\u001b[49m\u001b[43m,\u001b[49m\u001b[43m \u001b[49m\u001b[43mduration\u001b[49m\u001b[43m,\u001b[49m\u001b[43m \u001b[49m\u001b[43mdtype\u001b[49m\u001b[43m)\u001b[49m\n\u001b[0;32m    171\u001b[0m \u001b[38;5;28;01melse\u001b[39;00m:\n\u001b[0;32m    172\u001b[0m     \u001b[38;5;28;01mraise\u001b[39;00m exc\n",
      "File \u001b[1;32mC:\\Work\\Final Project\\HeartsOnFire\\.venv\\lib\\site-packages\\librosa\\core\\audio.py:226\u001b[0m, in \u001b[0;36m__audioread_load\u001b[1;34m(path, offset, duration, dtype)\u001b[0m\n\u001b[0;32m    223\u001b[0m     reader \u001b[38;5;241m=\u001b[39m path\n\u001b[0;32m    224\u001b[0m \u001b[38;5;28;01melse\u001b[39;00m:\n\u001b[0;32m    225\u001b[0m     \u001b[38;5;66;03m# If the input was not an audioread object, try to open it\u001b[39;00m\n\u001b[1;32m--> 226\u001b[0m     reader \u001b[38;5;241m=\u001b[39m \u001b[43maudioread\u001b[49m\u001b[38;5;241;43m.\u001b[39;49m\u001b[43maudio_open\u001b[49m\u001b[43m(\u001b[49m\u001b[43mpath\u001b[49m\u001b[43m)\u001b[49m\n\u001b[0;32m    228\u001b[0m \u001b[38;5;28;01mwith\u001b[39;00m reader \u001b[38;5;28;01mas\u001b[39;00m input_file:\n\u001b[0;32m    229\u001b[0m     sr_native \u001b[38;5;241m=\u001b[39m input_file\u001b[38;5;241m.\u001b[39msamplerate\n",
      "File \u001b[1;32mC:\\Work\\Final Project\\HeartsOnFire\\.venv\\lib\\site-packages\\audioread\\__init__.py:127\u001b[0m, in \u001b[0;36maudio_open\u001b[1;34m(path, backends)\u001b[0m\n\u001b[0;32m    125\u001b[0m \u001b[38;5;28;01mfor\u001b[39;00m BackendClass \u001b[38;5;129;01min\u001b[39;00m backends:\n\u001b[0;32m    126\u001b[0m     \u001b[38;5;28;01mtry\u001b[39;00m:\n\u001b[1;32m--> 127\u001b[0m         \u001b[38;5;28;01mreturn\u001b[39;00m \u001b[43mBackendClass\u001b[49m\u001b[43m(\u001b[49m\u001b[43mpath\u001b[49m\u001b[43m)\u001b[49m\n\u001b[0;32m    128\u001b[0m     \u001b[38;5;28;01mexcept\u001b[39;00m DecodeError:\n\u001b[0;32m    129\u001b[0m         \u001b[38;5;28;01mpass\u001b[39;00m\n",
      "File \u001b[1;32mC:\\Work\\Final Project\\HeartsOnFire\\.venv\\lib\\site-packages\\audioread\\rawread.py:59\u001b[0m, in \u001b[0;36mRawAudioFile.__init__\u001b[1;34m(self, filename)\u001b[0m\n\u001b[0;32m     58\u001b[0m \u001b[38;5;28;01mdef\u001b[39;00m \u001b[38;5;21m__init__\u001b[39m(\u001b[38;5;28mself\u001b[39m, filename):\n\u001b[1;32m---> 59\u001b[0m     \u001b[38;5;28mself\u001b[39m\u001b[38;5;241m.\u001b[39m_fh \u001b[38;5;241m=\u001b[39m \u001b[38;5;28;43mopen\u001b[39;49m\u001b[43m(\u001b[49m\u001b[43mfilename\u001b[49m\u001b[43m,\u001b[49m\u001b[43m \u001b[49m\u001b[38;5;124;43m'\u001b[39;49m\u001b[38;5;124;43mrb\u001b[39;49m\u001b[38;5;124;43m'\u001b[39;49m\u001b[43m)\u001b[49m\n\u001b[0;32m     61\u001b[0m     \u001b[38;5;28;01mtry\u001b[39;00m:\n\u001b[0;32m     62\u001b[0m         \u001b[38;5;28mself\u001b[39m\u001b[38;5;241m.\u001b[39m_file \u001b[38;5;241m=\u001b[39m aifc\u001b[38;5;241m.\u001b[39mopen(\u001b[38;5;28mself\u001b[39m\u001b[38;5;241m.\u001b[39m_fh)\n",
      "\u001b[1;31mFileNotFoundError\u001b[0m: [Errno 2] No such file or directory: 'HeartsOnFire-v.1.0.0\\\\Toehider - Daddy Issues/drums.mp3'"
     ]
    }
   ],
   "source": [
    "drum_path = os.path.join(dataset_name, \"Toehider - Daddy Issues/drums.mp3\")\n",
    "no_drum_path = os.path.join(dataset_name, \"Toehider - Daddy Issues/no_drums.mp3\")\n",
    "audio_path = os.path.join(dataset_name, \"Toehider - Daddy Issues/audio.mp3\")\n",
    "\n",
    "y, sr = librosa.load(drum_path, sr=44100)\n",
    "y2, sr = librosa.load(audio_path, sr=44100)\n",
    "y_h, y_p = librosa.effects.hpss(y2)\n",
    "onset_env = librosa.onset.onset_strength(y=y, sr=sr)\n",
    "onset_frames = librosa.onset.onset_detect(onset_envelope=onset_env, sr=sr)\n",
    "onset_times = librosa.frames_to_time(onset_frames, sr=sr)\n",
    "clicks = librosa.clicks(frames=onset_frames, sr=sr, length=len(y))\n",
    "\n",
    "# Create a time vector\n",
    "t = librosa.times_like(onset_env, sr=sr)\n",
    "\n",
    "# Plot the onset strength envelope and onsets\n",
    "plt.figure(figsize=(8, 4))\n",
    "plt.plot(t, onset_env, label='Onset strength envelope')\n",
    "plt.vlines(onset_times, 0, onset_env.max(), color='r', linestyle='--', linewidth=2.0, label='Onsets')\n",
    "plt.xlabel('Time (s)')\n",
    "plt.ylabel('Onset strength')\n",
    "plt.title('Onsets detected in audio file')\n",
    "plt.legend()\n",
    "plt.show()"
   ]
  },
  {
   "cell_type": "markdown",
   "id": "3ee412a6",
   "metadata": {},
   "source": [
    "We can listen where `librosa` placed onsets by adding clicks to our audio files:"
   ]
  },
  {
   "cell_type": "code",
   "execution_count": 4,
   "id": "70cbd937",
   "metadata": {},
   "outputs": [
    {
     "ename": "NameError",
     "evalue": "name 'sr' is not defined",
     "output_type": "error",
     "traceback": [
      "\u001b[1;31m---------------------------------------------------------------------------\u001b[0m",
      "\u001b[1;31mNameError\u001b[0m                                 Traceback (most recent call last)",
      "Cell \u001b[1;32mIn[4], line 1\u001b[0m\n\u001b[1;32m----> 1\u001b[0m y2, sr2 \u001b[38;5;241m=\u001b[39m librosa\u001b[38;5;241m.\u001b[39mload(no_drum_path, sr\u001b[38;5;241m=\u001b[39m\u001b[43msr\u001b[49m)\n\u001b[0;32m      2\u001b[0m display(Audio((y2 \u001b[38;5;241m+\u001b[39m y \u001b[38;5;241m+\u001b[39m clicks), rate\u001b[38;5;241m=\u001b[39msr))\n",
      "\u001b[1;31mNameError\u001b[0m: name 'sr' is not defined"
     ]
    }
   ],
   "source": [
    "y2, sr2 = librosa.load(no_drum_path, sr=sr)\n",
    "display(Audio((y2 + y + clicks), rate=sr))"
   ]
  },
  {
   "cell_type": "code",
   "execution_count": 14,
   "id": "ec34ea46",
   "metadata": {},
   "outputs": [],
   "source": [
    "# #step 3: generate onsets\n",
    "# onset_times = generate_onsets(\"HeartsOnFire-v.1.0.0\\Toehider - I Have Little To No Memory of These Memories\")\n",
    "\n",
    "# #step 4: save onsets\n",
    "# csv_file = os.path.join(\"HeartsOnFire-v.1.0.0\\Toehider - I Have Little To No Memory of These Memories\", \"onsets.csv\")\n",
    "# with open(csv_file, 'w', newline='') as file:\n",
    "#     writer = csv.writer(file)\n",
    "#     writer.writerow([\"onset_time\"]+labels)\n",
    "#     for onset_time in onset_times:\n",
    "#         writer.writerow([onset_time]+[False]*len(labels))"
   ]
  },
  {
   "cell_type": "markdown",
   "id": "8c0be006",
   "metadata": {},
   "source": [
    "### Reading the Dataset"
   ]
  },
  {
   "cell_type": "markdown",
   "id": "9d63d3e5",
   "metadata": {},
   "source": [
    "And now we can read all info with pandas:"
   ]
  },
  {
   "cell_type": "code",
   "execution_count": 2,
   "id": "3b9ffe28",
   "metadata": {},
   "outputs": [
    {
     "data": {
      "text/html": [
       "<div>\n",
       "<style scoped>\n",
       "    .dataframe tbody tr th:only-of-type {\n",
       "        vertical-align: middle;\n",
       "    }\n",
       "\n",
       "    .dataframe tbody tr th {\n",
       "        vertical-align: top;\n",
       "    }\n",
       "\n",
       "    .dataframe thead th {\n",
       "        text-align: right;\n",
       "    }\n",
       "</style>\n",
       "<table border=\"1\" class=\"dataframe\">\n",
       "  <thead>\n",
       "    <tr style=\"text-align: right;\">\n",
       "      <th></th>\n",
       "      <th>name</th>\n",
       "      <th>audio</th>\n",
       "      <th>drums</th>\n",
       "      <th>no_drums</th>\n",
       "      <th>onsets</th>\n",
       "    </tr>\n",
       "  </thead>\n",
       "  <tbody>\n",
       "    <tr>\n",
       "      <th>0</th>\n",
       "      <td>NanowaR of Steel - Disco Metal</td>\n",
       "      <td>HeartsOnFire-v.1.0.0\\NanowaR of Steel - Disco ...</td>\n",
       "      <td>HeartsOnFire-v.1.0.0\\NanowaR of Steel - Disco ...</td>\n",
       "      <td>HeartsOnFire-v.1.0.0\\NanowaR of Steel - Disco ...</td>\n",
       "      <td>HeartsOnFire-v.1.0.0\\NanowaR of Steel - Disco ...</td>\n",
       "    </tr>\n",
       "    <tr>\n",
       "      <th>1</th>\n",
       "      <td>Pantera - Walk</td>\n",
       "      <td>HeartsOnFire-v.1.0.0\\Pantera - Walk\\audio.mp3</td>\n",
       "      <td>HeartsOnFire-v.1.0.0\\Pantera - Walk\\drums.mp3</td>\n",
       "      <td>HeartsOnFire-v.1.0.0\\Pantera - Walk\\no_drums.mp3</td>\n",
       "      <td>HeartsOnFire-v.1.0.0\\Pantera - Walk\\onsets.csv</td>\n",
       "    </tr>\n",
       "    <tr>\n",
       "      <th>2</th>\n",
       "      <td>Power Quest - Glorious</td>\n",
       "      <td>HeartsOnFire-v.1.0.0\\Power Quest - Glorious\\au...</td>\n",
       "      <td>HeartsOnFire-v.1.0.0\\Power Quest - Glorious\\dr...</td>\n",
       "      <td>HeartsOnFire-v.1.0.0\\Power Quest - Glorious\\no...</td>\n",
       "      <td>HeartsOnFire-v.1.0.0\\Power Quest - Glorious\\on...</td>\n",
       "    </tr>\n",
       "    <tr>\n",
       "      <th>3</th>\n",
       "      <td>RENREN - Hungarian Rhapsody No. 2</td>\n",
       "      <td>HeartsOnFire-v.1.0.0\\RENREN - Hungarian Rhapso...</td>\n",
       "      <td>HeartsOnFire-v.1.0.0\\RENREN - Hungarian Rhapso...</td>\n",
       "      <td>HeartsOnFire-v.1.0.0\\RENREN - Hungarian Rhapso...</td>\n",
       "      <td>HeartsOnFire-v.1.0.0\\RENREN - Hungarian Rhapso...</td>\n",
       "    </tr>\n",
       "    <tr>\n",
       "      <th>4</th>\n",
       "      <td>Toehider - I Have Little To No Memory of These...</td>\n",
       "      <td>HeartsOnFire-v.1.0.0\\Toehider - I Have Little ...</td>\n",
       "      <td>HeartsOnFire-v.1.0.0\\Toehider - I Have Little ...</td>\n",
       "      <td>HeartsOnFire-v.1.0.0\\Toehider - I Have Little ...</td>\n",
       "      <td>HeartsOnFire-v.1.0.0\\Toehider - I Have Little ...</td>\n",
       "    </tr>\n",
       "    <tr>\n",
       "      <th>5</th>\n",
       "      <td>Toehider - To Hide Her</td>\n",
       "      <td>HeartsOnFire-v.1.0.0\\Toehider - To Hide Her\\au...</td>\n",
       "      <td>HeartsOnFire-v.1.0.0\\Toehider - To Hide Her\\dr...</td>\n",
       "      <td>HeartsOnFire-v.1.0.0\\Toehider - To Hide Her\\no...</td>\n",
       "      <td>HeartsOnFire-v.1.0.0\\Toehider - To Hide Her\\on...</td>\n",
       "    </tr>\n",
       "  </tbody>\n",
       "</table>\n",
       "</div>"
      ],
      "text/plain": [
       "                                                name  \\\n",
       "0                     NanowaR of Steel - Disco Metal   \n",
       "1                                     Pantera - Walk   \n",
       "2                             Power Quest - Glorious   \n",
       "3                  RENREN - Hungarian Rhapsody No. 2   \n",
       "4  Toehider - I Have Little To No Memory of These...   \n",
       "5                             Toehider - To Hide Her   \n",
       "\n",
       "                                               audio  \\\n",
       "0  HeartsOnFire-v.1.0.0\\NanowaR of Steel - Disco ...   \n",
       "1      HeartsOnFire-v.1.0.0\\Pantera - Walk\\audio.mp3   \n",
       "2  HeartsOnFire-v.1.0.0\\Power Quest - Glorious\\au...   \n",
       "3  HeartsOnFire-v.1.0.0\\RENREN - Hungarian Rhapso...   \n",
       "4  HeartsOnFire-v.1.0.0\\Toehider - I Have Little ...   \n",
       "5  HeartsOnFire-v.1.0.0\\Toehider - To Hide Her\\au...   \n",
       "\n",
       "                                               drums  \\\n",
       "0  HeartsOnFire-v.1.0.0\\NanowaR of Steel - Disco ...   \n",
       "1      HeartsOnFire-v.1.0.0\\Pantera - Walk\\drums.mp3   \n",
       "2  HeartsOnFire-v.1.0.0\\Power Quest - Glorious\\dr...   \n",
       "3  HeartsOnFire-v.1.0.0\\RENREN - Hungarian Rhapso...   \n",
       "4  HeartsOnFire-v.1.0.0\\Toehider - I Have Little ...   \n",
       "5  HeartsOnFire-v.1.0.0\\Toehider - To Hide Her\\dr...   \n",
       "\n",
       "                                            no_drums  \\\n",
       "0  HeartsOnFire-v.1.0.0\\NanowaR of Steel - Disco ...   \n",
       "1   HeartsOnFire-v.1.0.0\\Pantera - Walk\\no_drums.mp3   \n",
       "2  HeartsOnFire-v.1.0.0\\Power Quest - Glorious\\no...   \n",
       "3  HeartsOnFire-v.1.0.0\\RENREN - Hungarian Rhapso...   \n",
       "4  HeartsOnFire-v.1.0.0\\Toehider - I Have Little ...   \n",
       "5  HeartsOnFire-v.1.0.0\\Toehider - To Hide Her\\no...   \n",
       "\n",
       "                                              onsets  \n",
       "0  HeartsOnFire-v.1.0.0\\NanowaR of Steel - Disco ...  \n",
       "1     HeartsOnFire-v.1.0.0\\Pantera - Walk\\onsets.csv  \n",
       "2  HeartsOnFire-v.1.0.0\\Power Quest - Glorious\\on...  \n",
       "3  HeartsOnFire-v.1.0.0\\RENREN - Hungarian Rhapso...  \n",
       "4  HeartsOnFire-v.1.0.0\\Toehider - I Have Little ...  \n",
       "5  HeartsOnFire-v.1.0.0\\Toehider - To Hide Her\\on...  "
      ]
     },
     "execution_count": 2,
     "metadata": {},
     "output_type": "execute_result"
    }
   ],
   "source": [
    "df = pd.read_csv(os.path.join(dataset_name, \"master.csv\"))\n",
    "df"
   ]
  },
  {
   "cell_type": "markdown",
   "id": "4ed82752",
   "metadata": {},
   "source": [
    "## Labeling the Onsets"
   ]
  },
  {
   "cell_type": "markdown",
   "id": "75b9949f",
   "metadata": {},
   "source": [
    "Now that we have a dataset with all onsets, we need to go through every single one and label them. \n",
    "\n",
    "We need to install `pigeonXT` for its **multi-label classification functionality**, as well as its Audio playback feature. We will load an audiofile and get snippets of it at the onset to classify that onset."
   ]
  },
  {
   "cell_type": "code",
   "execution_count": 10,
   "id": "6aa52904",
   "metadata": {},
   "outputs": [],
   "source": [
    "filtered_df = df[df['name'] == \"NanowaR of Steel - Disco Metal\"]\n",
    "selected_row = filtered_df.iloc[0]"
   ]
  },
  {
   "cell_type": "code",
   "execution_count": 11,
   "id": "a5d88e90",
   "metadata": {
    "scrolled": false
   },
   "outputs": [
    {
     "data": {
      "application/vnd.jupyter.widget-view+json": {
       "model_id": "22b386e20e3a487dae6867aefb15f369",
       "version_major": 2,
       "version_minor": 0
      },
      "text/plain": [
       "HTML(value='0 of 1294 Examples annotated, Current Position: 0 ')"
      ]
     },
     "metadata": {},
     "output_type": "display_data"
    },
    {
     "data": {
      "application/vnd.jupyter.widget-view+json": {
       "model_id": "d7565fca721e475598c4209cd4daf0dc",
       "version_major": 2,
       "version_minor": 0
      },
      "text/plain": [
       "VBox(children=(HBox(children=(ToggleButton(value=False, description='kick'), ToggleButton(value=False, descrip…"
      ]
     },
     "metadata": {},
     "output_type": "display_data"
    },
    {
     "data": {
      "application/vnd.jupyter.widget-view+json": {
       "model_id": "212f0188f9424cada2d43018fbad1b41",
       "version_major": 2,
       "version_minor": 0
      },
      "text/plain": [
       "Output()"
      ]
     },
     "metadata": {},
     "output_type": "display_data"
    }
   ],
   "source": [
    "from pigeonXT import annotate\n",
    "import re\n",
    "import librosa.display\n",
    "import numpy as np\n",
    "\n",
    "onsets_df = pd.read_csv(selected_row['onsets'])\n",
    "onsets_df = onsets_df.rename(columns={'onset_time': 'example'})\n",
    "onsets_df['name'] = selected_row['name']\n",
    "\n",
    "drum_file, sr = librosa.load(selected_row['drums'], sr=44100)\n",
    "#display(Audio(drum_file, rate=sr, autoplay=False))\n",
    "\n",
    "def display_fn(html):\n",
    "    value = html.value\n",
    "    match = re.search(r'\\d+\\.\\d+', value)\n",
    "\n",
    "    if match:\n",
    "        number_str = match.group(0)\n",
    "        onset_time = float(number_str)\n",
    "    else:\n",
    "        print('lol')\n",
    "        return html\n",
    "\n",
    "    start_sample = int(onset_time * sr)\n",
    "    \n",
    "    plt.close('all')\n",
    "    mel = librosa.feature.melspectrogram(y=drum_file[start_sample-4096:start_sample+4096], sr=sr, n_fft=2048, hop_length=64, n_mels=128)\n",
    "    meldb = librosa.power_to_db(mel, ref=np.max)\n",
    "    fig, ax = plt.subplots()\n",
    "    img = librosa.display.specshow(meldb, x_axis='time',\n",
    "                             y_axis='mel', sr=sr, ax=ax)\n",
    "    fig.colorbar(img, ax=ax, format='%+2.0f dB')\n",
    "    ax.set(title='Mel-frequency spectrogram')\n",
    "    plt.show()\n",
    "    \n",
    "    end_sample = start_sample + sr//8\n",
    "    end_sample2 = start_sample + 2*sr\n",
    "    display(Audio(drum_file[start_sample:end_sample], rate=sr, autoplay=True), Audio(drum_file[start_sample:end_sample2], rate=sr))\n",
    "\n",
    "annotations = annotate(\n",
    "    onsets_df,\n",
    "    options=labels,\n",
    "    task_type='multilabel-classification',\n",
    "    display_fn=lambda filename: display_fn(filename)\n",
    ")"
   ]
  },
  {
   "cell_type": "markdown",
   "id": "9d92a0d0",
   "metadata": {},
   "source": [
    "**Save labeling progress by running cell below:**"
   ]
  },
  {
   "cell_type": "code",
   "execution_count": 13,
   "id": "a7d433e2",
   "metadata": {},
   "outputs": [
    {
     "data": {
      "text/html": [
       "<div>\n",
       "<style scoped>\n",
       "    .dataframe tbody tr th:only-of-type {\n",
       "        vertical-align: middle;\n",
       "    }\n",
       "\n",
       "    .dataframe tbody tr th {\n",
       "        vertical-align: top;\n",
       "    }\n",
       "\n",
       "    .dataframe thead th {\n",
       "        text-align: right;\n",
       "    }\n",
       "</style>\n",
       "<table border=\"1\" class=\"dataframe\">\n",
       "  <thead>\n",
       "    <tr style=\"text-align: right;\">\n",
       "      <th></th>\n",
       "      <th>Unnamed: 0</th>\n",
       "      <th>onset_time</th>\n",
       "      <th>changed</th>\n",
       "      <th>kick</th>\n",
       "      <th>snare</th>\n",
       "      <th>hihat</th>\n",
       "      <th>tom</th>\n",
       "      <th>crash</th>\n",
       "      <th>ride</th>\n",
       "      <th>other</th>\n",
       "      <th>name</th>\n",
       "      <th>split</th>\n",
       "    </tr>\n",
       "  </thead>\n",
       "  <tbody>\n",
       "    <tr>\n",
       "      <th>0</th>\n",
       "      <td>0</td>\n",
       "      <td>8.161814</td>\n",
       "      <td>True</td>\n",
       "      <td>True</td>\n",
       "      <td>False</td>\n",
       "      <td>False</td>\n",
       "      <td>False</td>\n",
       "      <td>True</td>\n",
       "      <td>False</td>\n",
       "      <td>False</td>\n",
       "      <td>NanowaR of Steel - Disco Metal</td>\n",
       "      <td>training</td>\n",
       "    </tr>\n",
       "    <tr>\n",
       "      <th>1</th>\n",
       "      <td>1</td>\n",
       "      <td>8.568163</td>\n",
       "      <td>True</td>\n",
       "      <td>True</td>\n",
       "      <td>False</td>\n",
       "      <td>False</td>\n",
       "      <td>False</td>\n",
       "      <td>False</td>\n",
       "      <td>False</td>\n",
       "      <td>False</td>\n",
       "      <td>NanowaR of Steel - Disco Metal</td>\n",
       "      <td>validation</td>\n",
       "    </tr>\n",
       "    <tr>\n",
       "      <th>2</th>\n",
       "      <td>2</td>\n",
       "      <td>8.974512</td>\n",
       "      <td>True</td>\n",
       "      <td>True</td>\n",
       "      <td>False</td>\n",
       "      <td>False</td>\n",
       "      <td>False</td>\n",
       "      <td>False</td>\n",
       "      <td>False</td>\n",
       "      <td>False</td>\n",
       "      <td>NanowaR of Steel - Disco Metal</td>\n",
       "      <td>training</td>\n",
       "    </tr>\n",
       "    <tr>\n",
       "      <th>3</th>\n",
       "      <td>3</td>\n",
       "      <td>9.369252</td>\n",
       "      <td>True</td>\n",
       "      <td>True</td>\n",
       "      <td>False</td>\n",
       "      <td>False</td>\n",
       "      <td>False</td>\n",
       "      <td>False</td>\n",
       "      <td>False</td>\n",
       "      <td>False</td>\n",
       "      <td>NanowaR of Steel - Disco Metal</td>\n",
       "      <td>training</td>\n",
       "    </tr>\n",
       "    <tr>\n",
       "      <th>4</th>\n",
       "      <td>4</td>\n",
       "      <td>9.589841</td>\n",
       "      <td>True</td>\n",
       "      <td>False</td>\n",
       "      <td>False</td>\n",
       "      <td>False</td>\n",
       "      <td>False</td>\n",
       "      <td>False</td>\n",
       "      <td>False</td>\n",
       "      <td>False</td>\n",
       "      <td>NanowaR of Steel - Disco Metal</td>\n",
       "      <td>training</td>\n",
       "    </tr>\n",
       "    <tr>\n",
       "      <th>...</th>\n",
       "      <td>...</td>\n",
       "      <td>...</td>\n",
       "      <td>...</td>\n",
       "      <td>...</td>\n",
       "      <td>...</td>\n",
       "      <td>...</td>\n",
       "      <td>...</td>\n",
       "      <td>...</td>\n",
       "      <td>...</td>\n",
       "      <td>...</td>\n",
       "      <td>...</td>\n",
       "      <td>...</td>\n",
       "    </tr>\n",
       "    <tr>\n",
       "      <th>1289</th>\n",
       "      <td>1289</td>\n",
       "      <td>265.380862</td>\n",
       "      <td>False</td>\n",
       "      <td>True</td>\n",
       "      <td>True</td>\n",
       "      <td>False</td>\n",
       "      <td>False</td>\n",
       "      <td>False</td>\n",
       "      <td>False</td>\n",
       "      <td>False</td>\n",
       "      <td>NanowaR of Steel - Disco Metal</td>\n",
       "      <td>validation</td>\n",
       "    </tr>\n",
       "    <tr>\n",
       "      <th>1290</th>\n",
       "      <td>1290</td>\n",
       "      <td>265.578231</td>\n",
       "      <td>False</td>\n",
       "      <td>True</td>\n",
       "      <td>False</td>\n",
       "      <td>False</td>\n",
       "      <td>False</td>\n",
       "      <td>False</td>\n",
       "      <td>False</td>\n",
       "      <td>False</td>\n",
       "      <td>NanowaR of Steel - Disco Metal</td>\n",
       "      <td>training</td>\n",
       "    </tr>\n",
       "    <tr>\n",
       "      <th>1291</th>\n",
       "      <td>1291</td>\n",
       "      <td>265.775601</td>\n",
       "      <td>False</td>\n",
       "      <td>True</td>\n",
       "      <td>False</td>\n",
       "      <td>False</td>\n",
       "      <td>False</td>\n",
       "      <td>False</td>\n",
       "      <td>False</td>\n",
       "      <td>False</td>\n",
       "      <td>NanowaR of Steel - Disco Metal</td>\n",
       "      <td>training</td>\n",
       "    </tr>\n",
       "    <tr>\n",
       "      <th>1292</th>\n",
       "      <td>1292</td>\n",
       "      <td>266.077460</td>\n",
       "      <td>False</td>\n",
       "      <td>True</td>\n",
       "      <td>False</td>\n",
       "      <td>False</td>\n",
       "      <td>False</td>\n",
       "      <td>False</td>\n",
       "      <td>False</td>\n",
       "      <td>False</td>\n",
       "      <td>NanowaR of Steel - Disco Metal</td>\n",
       "      <td>training</td>\n",
       "    </tr>\n",
       "    <tr>\n",
       "      <th>1293</th>\n",
       "      <td>1293</td>\n",
       "      <td>266.379320</td>\n",
       "      <td>False</td>\n",
       "      <td>True</td>\n",
       "      <td>False</td>\n",
       "      <td>False</td>\n",
       "      <td>False</td>\n",
       "      <td>False</td>\n",
       "      <td>False</td>\n",
       "      <td>False</td>\n",
       "      <td>NanowaR of Steel - Disco Metal</td>\n",
       "      <td>training</td>\n",
       "    </tr>\n",
       "  </tbody>\n",
       "</table>\n",
       "<p>1294 rows × 12 columns</p>\n",
       "</div>"
      ],
      "text/plain": [
       "      Unnamed: 0  onset_time  changed   kick  snare  hihat    tom  crash  \\\n",
       "0              0    8.161814     True   True  False  False  False   True   \n",
       "1              1    8.568163     True   True  False  False  False  False   \n",
       "2              2    8.974512     True   True  False  False  False  False   \n",
       "3              3    9.369252     True   True  False  False  False  False   \n",
       "4              4    9.589841     True  False  False  False  False  False   \n",
       "...          ...         ...      ...    ...    ...    ...    ...    ...   \n",
       "1289        1289  265.380862    False   True   True  False  False  False   \n",
       "1290        1290  265.578231    False   True  False  False  False  False   \n",
       "1291        1291  265.775601    False   True  False  False  False  False   \n",
       "1292        1292  266.077460    False   True  False  False  False  False   \n",
       "1293        1293  266.379320    False   True  False  False  False  False   \n",
       "\n",
       "       ride  other                            name       split  \n",
       "0     False  False  NanowaR of Steel - Disco Metal    training  \n",
       "1     False  False  NanowaR of Steel - Disco Metal  validation  \n",
       "2     False  False  NanowaR of Steel - Disco Metal    training  \n",
       "3     False  False  NanowaR of Steel - Disco Metal    training  \n",
       "4     False  False  NanowaR of Steel - Disco Metal    training  \n",
       "...     ...    ...                             ...         ...  \n",
       "1289  False  False  NanowaR of Steel - Disco Metal  validation  \n",
       "1290  False  False  NanowaR of Steel - Disco Metal    training  \n",
       "1291  False  False  NanowaR of Steel - Disco Metal    training  \n",
       "1292  False  False  NanowaR of Steel - Disco Metal    training  \n",
       "1293  False  False  NanowaR of Steel - Disco Metal    training  \n",
       "\n",
       "[1294 rows x 12 columns]"
      ]
     },
     "execution_count": 13,
     "metadata": {},
     "output_type": "execute_result"
    }
   ],
   "source": [
    "output = annotations.rename(columns={'example': 'onset_time'})\n",
    "output.to_csv(selected_row['onsets'], index=False)\n",
    "output"
   ]
  },
  {
   "cell_type": "code",
   "execution_count": 8,
   "id": "24739a9b",
   "metadata": {},
   "outputs": [
    {
     "data": {
      "text/plain": [
       "changed    4154\n",
       "kick       1931\n",
       "snare      1321\n",
       "hihat      1175\n",
       "tom         340\n",
       "crash       395\n",
       "ride        150\n",
       "other       209\n",
       "dtype: int64"
      ]
     },
     "execution_count": 8,
     "metadata": {},
     "output_type": "execute_result"
    }
   ],
   "source": [
    "onsets_df = pd.concat([pd.read_csv(row) for row in df['onsets']])\n",
    "counts = onsets_df.select_dtypes(include=bool).sum(axis=0)\n",
    "counts"
   ]
  },
  {
   "cell_type": "markdown",
   "id": "8e4b1d94",
   "metadata": {},
   "source": [
    "Now we can filter out any unlabeled classes and split them into validation/training sets for training our first model"
   ]
  },
  {
   "cell_type": "code",
   "execution_count": 9,
   "id": "5ea07719",
   "metadata": {},
   "outputs": [],
   "source": [
    "for idx, row in df.iterrows():\n",
    "    onsets_path = row['onsets']\n",
    "    onsets_df = pd.read_csv(onsets_path)\n",
    "    # Shuffle the dataframe\n",
    "    onsets_df = onsets_df.sample(frac=1).reset_index(drop=True)\n",
    "    \n",
    "    # Assign 80% of onsets to training set, and 20% to validation set\n",
    "    n = len(onsets_df)\n",
    "    train_n = int(0.8 * n)\n",
    "    onsets_df['split'] = 'training'\n",
    "    onsets_df.loc[train_n:, 'split'] = 'validation'\n",
    "    \n",
    "    # Sort the dataframe by onset_time column\n",
    "    onsets_df = onsets_df.sort_values(by='onset_time')\n",
    "    \n",
    "    # Write the updated onsets dataframe back to the CSV file\n",
    "    onsets_df.to_csv(onsets_path, index=False)"
   ]
  },
  {
   "cell_type": "code",
   "execution_count": null,
   "id": "201dbf6d",
   "metadata": {},
   "outputs": [],
   "source": []
  }
 ],
 "metadata": {
  "kernelspec": {
   "display_name": "env_kernel",
   "language": "python",
   "name": "env_kernel"
  },
  "language_info": {
   "codemirror_mode": {
    "name": "ipython",
    "version": 3
   },
   "file_extension": ".py",
   "mimetype": "text/x-python",
   "name": "python",
   "nbconvert_exporter": "python",
   "pygments_lexer": "ipython3",
   "version": "3.10.4"
  }
 },
 "nbformat": 4,
 "nbformat_minor": 5
}
